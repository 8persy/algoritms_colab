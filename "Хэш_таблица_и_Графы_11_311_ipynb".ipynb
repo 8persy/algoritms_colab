{
  "nbformat": 4,
  "nbformat_minor": 0,
  "metadata": {
    "colab": {
      "provenance": [],
      "toc_visible": true,
      "include_colab_link": true
    },
    "kernelspec": {
      "name": "python3",
      "display_name": "Python 3"
    },
    "language_info": {
      "name": "python"
    }
  },
  "cells": [
    {
      "cell_type": "markdown",
      "metadata": {
        "id": "view-in-github",
        "colab_type": "text"
      },
      "source": [
        "<a href=\"https://colab.research.google.com/github/8persy/algoritms_colab/blob/main/%22%D0%A5%D1%8D%D1%88_%D1%82%D0%B0%D0%B1%D0%BB%D0%B8%D1%86%D0%B0_%D0%B8_%D0%93%D1%80%D0%B0%D1%84%D1%8B_11_311_ipynb%22.ipynb\" target=\"_parent\"><img src=\"https://colab.research.google.com/assets/colab-badge.svg\" alt=\"Open In Colab\"/></a>"
      ]
    },
    {
      "cell_type": "markdown",
      "source": [
        "# Хэш-таблицы\n"
      ],
      "metadata": {
        "id": "kcQyXMTaUJBN"
      }
    },
    {
      "cell_type": "markdown",
      "source": [
        "**Хэш-таблицы** - это структура данных, которая используется для обеспечения быстрого доступа к элементам по ключу."
      ],
      "metadata": {
        "id": "8A6x6N2RUPDD"
      }
    },
    {
      "cell_type": "markdown",
      "source": [
        "Иногда хэш-таблицу называют \"словарь\""
      ],
      "metadata": {
        "id": "p3ss7DJjUXfK"
      }
    },
    {
      "cell_type": "markdown",
      "source": [
        "<img src=\"https://upload.wikimedia.org/wikipedia/commons/thumb/9/90/HASHTB12.svg/1200px-HASHTB12.svg.png\" width=\"1000\"/>"
      ],
      "metadata": {
        "id": "1civPBLjUcf1"
      }
    },
    {
      "cell_type": "code",
      "source": [
        "class Hash_Table:\n",
        "    def __init__(self, size):\n",
        "        self.size = size\n",
        "        self.count = 0\n",
        "        self.table = [[] for _ in range(size)] # создает список self.table, содержащий size пустых списков"
      ],
      "metadata": {
        "id": "1BM1XWT7CeLG"
      },
      "execution_count": null,
      "outputs": []
    },
    {
      "cell_type": "markdown",
      "source": [
        "## Вычисление хэша ключа и подходящего индекса"
      ],
      "metadata": {
        "id": "ovhn8rdGIQWr"
      }
    },
    {
      "cell_type": "markdown",
      "source": [
        "1. Находим хэш ключа с помощью метода hash\n",
        "2. Индекс - остаток деления хэша на размер хэш-таблицы"
      ],
      "metadata": {
        "id": "kPKLwgfgIZE4"
      }
    },
    {
      "cell_type": "markdown",
      "source": [
        "## Добавление элементов"
      ],
      "metadata": {
        "id": "axIrbfKSA-i5"
      }
    },
    {
      "cell_type": "markdown",
      "source": [
        "1. Вычисляем хэш ключа\n",
        "2. Вычисляем индекс по хэшу ключа\n",
        "3. Если в хэш-таблице нет ни одной пары на найденном индексе, записываем новый элемент в этот индекс\n",
        "    *   Прибавляем количество элементов в хэш-таблице\n",
        "    *   Если количество элементов в таблице равно size, увеличиваем таблицу вдвое и пересчитываем все элементы\n",
        "4. Если в хэш-таблице нет данного ключа, мы добавляем новый элемент (key, value) в конец списка в self.table[index]\n",
        "    *   Прибавляем количество элементов в хэш-таблице\n",
        "    *   Если количество элементов в таблице равно size, увеличиваем таблицу вдвое и пересчитываем все элементы\n",
        "5. Если в хэш-таблцие есть такой ключ, мы перезаписываем его значение на новое значение (key, value)\n",
        "\n"
      ],
      "metadata": {
        "id": "WjQpx9MbBM2L"
      }
    },
    {
      "cell_type": "markdown",
      "source": [
        "## Удаление элементов"
      ],
      "metadata": {
        "id": "-CfBLPUuHTOT"
      }
    },
    {
      "cell_type": "markdown",
      "source": [
        "1. Находим хэш ключа и его индекс\n",
        "2. Проходимся по списку индексов\n",
        "    *   Ищем подходящий ключ\n",
        "    *   Удаляем с помощью del данную пару (key, value)\n",
        "    *   Уменьшаем количество элементов в таблице на 1\n",
        "\n",
        "\n",
        "\n",
        "\n"
      ],
      "metadata": {
        "id": "Bv5v8Q-wHhFs"
      }
    },
    {
      "cell_type": "markdown",
      "source": [
        "## Увеличение хэш-таблицы\n"
      ],
      "metadata": {
        "id": "JKR3UAecIw8n"
      }
    },
    {
      "cell_type": "markdown",
      "source": [
        "1. Увеличиваем таблицу двое\n",
        "2. Проходимся по старой таблице и пересчитываем индексы всех пар (key, value)"
      ],
      "metadata": {
        "id": "ipmitwZoI2oA"
      }
    },
    {
      "cell_type": "markdown",
      "source": [
        "## Чекпоинт №1 (Реализуйте все методы класса HashTable)\n"
      ],
      "metadata": {
        "id": "GxmSSdV8JzLq"
      }
    },
    {
      "cell_type": "code",
      "source": [
        "class HashTable:\n",
        "    def __init__(self, size):\n",
        "        self.size = size\n",
        "        self.count = 0\n",
        "        self.table = [[] for _ in range(size)]\n",
        "\n",
        "    def hash_function(self, key):\n",
        "        return hash(key) % self.size\n",
        "\n",
        "    def insert(self, key, value):\n",
        "        idx = self.hash_function(key)\n",
        "        arr = self.table[idx]\n",
        "        for i in range(len(arr)):\n",
        "          k, v = arr[i]\n",
        "          if k == key:\n",
        "            arr[i] = (key, value)\n",
        "            break\n",
        "        else:\n",
        "          arr.append((key, value))\n",
        "          self.count += 1\n",
        "          if self.count == self.size: self.rehash()\n",
        "\n",
        "    def search(self, key):\n",
        "        idx = self.hash_function(key)\n",
        "        arr = self.table[idx]\n",
        "        for k, v in arr:\n",
        "          if k == key: return v\n",
        "        return None\n",
        "\n",
        "    def delete(self, key):\n",
        "        idx = self.hash_function(key)\n",
        "        arr = self.table[idx]\n",
        "        for i in range(len(arr)):\n",
        "          k, v = arr[i]\n",
        "          if k == key:\n",
        "            del arr[i]\n",
        "            self.count -= 1\n",
        "            return v\n",
        "\n",
        "    def rehash(self):\n",
        "        old_table = self.table\n",
        "        self.size *= 2\n",
        "        self.table = [[] for _ in range(self.size)]\n",
        "        self.count = 0\n",
        "        for arr in old_table:\n",
        "          for k, v in arr:\n",
        "            self.insert(k, v)\n"
      ],
      "metadata": {
        "id": "O-e3VFKoJ-mc"
      },
      "execution_count": null,
      "outputs": []
    },
    {
      "cell_type": "code",
      "source": [
        "ht = HashTable(5)"
      ],
      "metadata": {
        "id": "7yU8XxN4Kule"
      },
      "execution_count": null,
      "outputs": []
    },
    {
      "cell_type": "code",
      "source": [
        "ht.insert('Masha', 23)"
      ],
      "metadata": {
        "id": "JsxDyXBBKw9-"
      },
      "execution_count": null,
      "outputs": []
    },
    {
      "cell_type": "code",
      "source": [
        "ht.insert('Sasha', 30)"
      ],
      "metadata": {
        "id": "Q4NUuFGRKyif"
      },
      "execution_count": null,
      "outputs": []
    },
    {
      "cell_type": "code",
      "source": [
        "ht.insert('Vadim', 5)"
      ],
      "metadata": {
        "id": "4QVsRui_LMcu"
      },
      "execution_count": null,
      "outputs": []
    },
    {
      "cell_type": "code",
      "source": [
        "ht.insert('Andrey', 50)"
      ],
      "metadata": {
        "id": "4hikwOKhLPSG"
      },
      "execution_count": null,
      "outputs": []
    },
    {
      "cell_type": "code",
      "source": [
        "ht.insert('Gleb', 8)"
      ],
      "metadata": {
        "id": "ZUxc_169LQ35"
      },
      "execution_count": null,
      "outputs": []
    },
    {
      "cell_type": "code",
      "source": [
        "print(ht.table)"
      ],
      "metadata": {
        "colab": {
          "base_uri": "https://localhost:8080/"
        },
        "id": "3Arx57JpLSXr",
        "outputId": "110b84cf-f822-4485-cc9e-2731fff4f1ff"
      },
      "execution_count": null,
      "outputs": [
        {
          "output_type": "stream",
          "name": "stdout",
          "text": [
            "[[('Masha', 23)], [('Gleb', 8)], [], [('Sasha', 30)], [], [], [], [('Vadim', 5)], [('Andrey', 50)], []]\n"
          ]
        }
      ]
    },
    {
      "cell_type": "markdown",
      "source": [
        "## Чекпоинт 2 (Решите задачу)"
      ],
      "metadata": {
        "id": "27nHgh54KqAA"
      }
    },
    {
      "cell_type": "markdown",
      "source": [
        "Разработайте класс LogCache, который будет использовать хэш-таблицу для кэширования результатов анализа логов. Логи имеют вид строк, каждая из которых представляет собой разделённые пробелами значения. Например, \"2023-03-15 12:00:00 ERROR An error occurred in the system\".\n",
        "\n",
        "Класс должен иметь следующие функциональности:\n",
        "\n",
        "add_log(log): добавление нового лога. Каждый лог должен быть проанализирован, и ключевая информация (например, тип события как \"ERROR\", \"WARNING\", \"INFO\" и т.д.) будет использоваться как ключ в хэш-таблице для кэширования.\n",
        "\n",
        "get_info(type): возвращает все логи определенного типа (например, все \"ERROR\" логи). Если данные уже кэшированы, метод должен их возвращать без повторного сканирования всех логов.\n",
        "\n",
        "get_recent_errors(n): возвращает N последних ошибок из логов.\n",
        "\n"
      ],
      "metadata": {
        "id": "YBoKR0gNLjWK"
      }
    },
    {
      "cell_type": "code",
      "source": [
        "class LogCache:\n",
        "    def __init__(self):\n",
        "        self.cache = HashTable(10)\n",
        "\n",
        "    def add_log(self, log):\n",
        "      slog = log.split()\n",
        "      logtype = slog[2]\n",
        "      if not self.cache.search(logtype):\n",
        "        self.cache.insert(logtype, [log])\n",
        "      else:\n",
        "        logs = self.cache.search(logtype)\n",
        "        logs.append(log)\n",
        "        self.cache.insert(logtype, logs)\n",
        "\n",
        "    def get_info(self, log_type):\n",
        "        return self.cache.search(log_type)\n",
        "\n",
        "    def get_recent_errors(self, n):\n",
        "        errors = self.cache.search('ERROR')\n",
        "        return errors[-n:]"
      ],
      "metadata": {
        "id": "pW8GzascMyzg"
      },
      "execution_count": null,
      "outputs": []
    },
    {
      "cell_type": "code",
      "source": [
        "log_cache = LogCache()\n",
        "\n",
        "# Добавляем логи разных типов\n",
        "log_cache.add_log(\"2023-03-15 12:00:00 ERROR An error occurred in the system\")\n",
        "log_cache.add_log(\"2023-03-15 12:05:00 INFO System is running smoothly\")\n",
        "log_cache.add_log(\"2023-03-15 12:10:00 ERROR Another error happened\")\n",
        "log_cache.add_log(\"2023-03-15 12:15:00 WARNING System running out of disk space\")\n",
        "log_cache.add_log(\"2023-03-15 12:20:00 ERROR Critical error, system shutting down\")\n",
        "log_cache.add_log(\"2023-03-15 12:25:00 INFO Update complete, system restarting\")\n",
        "\n",
        "# Получаем информацию о логах типа \"ERROR\"\n",
        "print(log_cache.get_info(\"ERROR\"))\n",
        "\n",
        "# Получаем последние два ошибочных лога\n",
        "print(log_cache.get_recent_errors(2))"
      ],
      "metadata": {
        "colab": {
          "base_uri": "https://localhost:8080/"
        },
        "id": "PhEDCBeNNGGm",
        "outputId": "75737009-77c3-4025-93ab-8175e7d2cfec"
      },
      "execution_count": null,
      "outputs": [
        {
          "output_type": "stream",
          "name": "stdout",
          "text": [
            "['2023-03-15 12:00:00 ERROR An error occurred in the system', '2023-03-15 12:10:00 ERROR Another error happened', '2023-03-15 12:20:00 ERROR Critical error, system shutting down']\n",
            "['2023-03-15 12:10:00 ERROR Another error happened', '2023-03-15 12:20:00 ERROR Critical error, system shutting down']\n"
          ]
        }
      ]
    },
    {
      "cell_type": "markdown",
      "source": [
        "# Графы"
      ],
      "metadata": {
        "id": "It-pif789WlF"
      }
    },
    {
      "cell_type": "markdown",
      "source": [
        "**Граф** - это абстрактная математическая структура, которая состоит из точек, называемых вершинами, и линий, называемых ребрами, которые соединяют эти вершины"
      ],
      "metadata": {
        "id": "ann2PcSvVXTQ"
      }
    },
    {
      "cell_type": "markdown",
      "source": [
        "## Виды графов"
      ],
      "metadata": {
        "id": "bO_ZN-TMVhKD"
      }
    },
    {
      "cell_type": "markdown",
      "source": [
        "<img src=\"https://media.proglib.io/posts/2020/09/08/461ecdbaee2ac0d241a04629cd196771.png\" width=\"1000\"/>"
      ],
      "metadata": {
        "id": "IQveo2kJWb00"
      }
    },
    {
      "cell_type": "markdown",
      "source": [
        "## Реализация графов"
      ],
      "metadata": {
        "id": "-klvNo7uW-Pz"
      }
    },
    {
      "cell_type": "markdown",
      "source": [
        "Для реализации графов в Python используют [словари](https://pythonworld.ru/tipy-dannyx-v-python/slovari-dict-funkcii-i-metody-slovarej.html), которые представляют из себя матрицу смежности"
      ],
      "metadata": {
        "id": "DVCNyi8ubVDo"
      }
    },
    {
      "cell_type": "code",
      "source": [
        "class Graph:\n",
        "    def __init__(self):\n",
        "        self.graph = {}"
      ],
      "metadata": {
        "id": "6um6qp3FcGPd"
      },
      "execution_count": null,
      "outputs": []
    },
    {
      "cell_type": "markdown",
      "source": [
        "<img src=\"https://blog.skillfactory.ru/wp-content/uploads/2023/02/graf-3-1229926.png\" width=\"1000\"/>"
      ],
      "metadata": {
        "id": "bSBx9kAGbelc"
      }
    },
    {
      "cell_type": "markdown",
      "source": [
        "### Добавление вершин"
      ],
      "metadata": {
        "id": "p-d0VaHSb8Tq"
      }
    },
    {
      "cell_type": "markdown",
      "source": [
        "1. Проверяем, отсутствует ли данная вершина в графе. Если вершина еще не существует в графе, мы переходим к следующему шагу\n",
        "\n",
        "2. Добавляем вершину в graph, используя данную вершину как ключ. Мы присваиваем этому ключу пустой список в качестве значений, представляющих смежные вершины с данной вершиной"
      ],
      "metadata": {
        "id": "M6Q_GDmucd-Z"
      }
    },
    {
      "cell_type": "markdown",
      "source": [
        "### Добавление ребер"
      ],
      "metadata": {
        "id": "mbBMnCKCdCQq"
      }
    },
    {
      "cell_type": "markdown",
      "source": [
        "1. Проверяем, существуют ли обе вершины в графе. Если обе вершины присутствуют в графе, мы переходим к следующему шагу\n",
        "\n",
        "2. Проверяем, не содержит ли вершина vertex2 уже связь с вершиной vertex1. Если вершина vertex2 еще не связана с вершиной vertex1, мы проводим следующий шаг\n",
        "\n",
        "3. Добавляем вершину vertex2 в список смежных вершин для вершины vertex1\n",
        "\n",
        "4. Проверяем, не содержит ли вершина vertex1 уже связь с вершиной vertex2. Если вершина vertex1 еще не связана с вершиной vertex2, мы проводим следующий шаг\n",
        "\n",
        "5. Добавляем вершину vertex1 в список смежных вершин для вершины vertex2"
      ],
      "metadata": {
        "id": "bNJNf-2xdYTO"
      }
    },
    {
      "cell_type": "markdown",
      "source": [
        "### Удаление вершины"
      ],
      "metadata": {
        "id": "KYHlIhXKdg1O"
      }
    },
    {
      "cell_type": "markdown",
      "source": [
        "1. Проверяем, присутствует ли вершина в графе. Если вершина найдена в графе, мы переходим к следующему шагу\n",
        "\n",
        "2. Удаляем вершину vertex из словаря графа, используя оператор del\n",
        "\n",
        "3. Затем мы проходим по оставшимся вершинам в графе. Для каждой вершины (key) проверяем, содержит ли ее список смежных вершин удаленную вершину vertex\n",
        "\n",
        "4. Если список смежных вершин данной вершины (key) содержит вершину vertex, удаляем vertex из списка смежных вершин данной вершины"
      ],
      "metadata": {
        "id": "aErcmYM3dveX"
      }
    },
    {
      "cell_type": "markdown",
      "source": [
        "### Удаление ребра"
      ],
      "metadata": {
        "id": "gTNe8JEEd3N1"
      }
    },
    {
      "cell_type": "markdown",
      "source": [
        "1. Проверяем, существуют ли обе вершины в графе. Если обе вершины присутствуют в графе, мы переходим к следующему шагу\n",
        "\n",
        "2. Проверяем, связаны ли вершины vertex1 и vertex2 между собой. Если вершина vertex2 находится в списке смежных вершин вершины vertex1, то мы переходим к следующему шагу\n",
        "\n",
        "3. Удаляем вершину vertex2 из списка смежных вершин вершины vertex1\n",
        "\n",
        "4. Проверяем, связаны ли вершины vertex1 и vertex2 между собой в обратном направлении. Если вершина vertex1 находится в списке смежных вершин вершины vertex2, то мы переходим к следующему шагу\n",
        "\n",
        "5. Удаляем вершину vertex1 из списка смежных вершин вершины vertex2"
      ],
      "metadata": {
        "id": "mRdnzCkId6c-"
      }
    },
    {
      "cell_type": "markdown",
      "source": [
        "### Чекпоинт №3 (Реализуйте все методы класса Graph)"
      ],
      "metadata": {
        "id": "qsN_pAH1ehH6"
      }
    },
    {
      "cell_type": "code",
      "source": [
        "from queue import Queue\n",
        "\n",
        "class Graph:\n",
        "    def __init__(self):\n",
        "        self.graph = {}\n",
        "\n",
        "    def add_vertex(self, vertex):\n",
        "        if vertex in self.graph: return\n",
        "        self.graph[vertex] = set()\n",
        "\n",
        "    def add_edge(self, vertex1, vertex2):\n",
        "        if vertex1 not in self.graph: return\n",
        "        if vertex2 not in self.graph: return\n",
        "        self.graph[vertex1].add(vertex2)\n",
        "        self.graph[vertex2].add(vertex1)\n",
        "\n",
        "    def remove_vertex(self, vertex):\n",
        "        for neighbor in self.graph[vertex]:\n",
        "          self.graph[neighbor].remove(vertex)\n",
        "        del self.graph[vertex]\n",
        "\n",
        "    def remove_edge(self, vertex1, vertex2):\n",
        "        if vertex1 not in self.graph: return\n",
        "        if vertex2 not in self.graph: return\n",
        "        self.graph[vertex1].remove(vertex2)\n",
        "        self.graph[vertex2].remove(vertex1)\n",
        "\n",
        "    def depth_first_search(self, start_vertex, visited=None):\n",
        "        if visited is None:\n",
        "            visited = set()\n",
        "        visited.add(start_vertex)\n",
        "        print(start_vertex)\n",
        "        for neighbor in self.graph[start_vertex]:\n",
        "            if neighbor not in visited:\n",
        "                self.depth_first_search(neighbor, visited)\n",
        "\n",
        "    def breadth_first_search(self, start_vertex):\n",
        "        visited = set()\n",
        "        queue = Queue()\n",
        "        queue.put(start_vertex)\n",
        "        visited.add(start_vertex)\n",
        "\n",
        "        while not queue.empty():\n",
        "            vertex = queue.get()\n",
        "            print(vertex)\n",
        "\n",
        "            for neighbor in self.graph[vertex]:\n",
        "                if neighbor not in visited:\n",
        "                    queue.put(neighbor)\n",
        "                    visited.add(neighbor)"
      ],
      "metadata": {
        "id": "fcz7rAgpeorH"
      },
      "execution_count": null,
      "outputs": []
    },
    {
      "cell_type": "code",
      "execution_count": null,
      "metadata": {
        "id": "YIaPDkD6S4G-"
      },
      "outputs": [],
      "source": [
        "my_graph = Graph()"
      ]
    },
    {
      "cell_type": "code",
      "source": [
        "my_graph.add_vertex(\"A\")\n",
        "my_graph.add_vertex(\"B\")\n",
        "my_graph.add_vertex(\"C\")\n",
        "my_graph.add_vertex(\"D\")\n",
        "\n",
        "my_graph.add_edge(\"A\", \"B\")\n",
        "my_graph.add_edge(\"B\", \"C\")\n",
        "my_graph.add_edge(\"C\", \"D\")\n",
        "my_graph.add_edge(\"D\", \"A\")"
      ],
      "metadata": {
        "id": "vFxSMBmLe8Is"
      },
      "execution_count": null,
      "outputs": []
    },
    {
      "cell_type": "code",
      "source": [
        "print(\"Обход графа в глубину:\")\n",
        "my_graph.depth_first_search(\"A\")"
      ],
      "metadata": {
        "id": "5n3_DlFTe9d3"
      },
      "execution_count": null,
      "outputs": []
    },
    {
      "cell_type": "code",
      "source": [
        "print(\"\\nОбход графа в ширину:\")\n",
        "my_graph.breadth_first_search(\"A\")"
      ],
      "metadata": {
        "colab": {
          "base_uri": "https://localhost:8080/"
        },
        "id": "JFvZ_8lpfFCW",
        "outputId": "3ad254bb-7e3a-49ca-81b1-39ebba1252c7"
      },
      "execution_count": null,
      "outputs": [
        {
          "output_type": "stream",
          "name": "stdout",
          "text": [
            "\n",
            "Обход графа в ширину:\n",
            "A\n",
            "B\n",
            "D\n",
            "C\n"
          ]
        }
      ]
    }
  ]
}