{
  "nbformat": 4,
  "nbformat_minor": 0,
  "metadata": {
    "colab": {
      "provenance": [],
      "toc_visible": true,
      "include_colab_link": true
    },
    "kernelspec": {
      "name": "python3",
      "display_name": "Python 3"
    },
    "language_info": {
      "name": "python"
    }
  },
  "cells": [
    {
      "cell_type": "markdown",
      "metadata": {
        "id": "view-in-github",
        "colab_type": "text"
      },
      "source": [
        "<a href=\"https://colab.research.google.com/github/8persy/algoritms_colab/blob/main/%D0%9A%D0%BE%D0%BF%D0%B8%D1%8F_%D0%B1%D0%BB%D0%BE%D0%BA%D0%BD%D0%BE%D1%82%D0%B0_%22%D0%96%D0%B0%D0%B4%D0%BD%D1%8B%D0%B5_%D0%B0%D0%BB%D0%B3%D0%BE%D1%80%D0%B8%D1%82%D0%BC%D1%8B_11_311_ipynb%22.ipynb\" target=\"_parent\"><img src=\"https://colab.research.google.com/assets/colab-badge.svg\" alt=\"Open In Colab\"/></a>"
      ]
    },
    {
      "cell_type": "markdown",
      "source": [
        "# Жадные алгоритмы\n",
        "\n",
        "Класс алгоритмов, когда мы на каждом шаге выбираем \"лучшее\" решение задачи"
      ],
      "metadata": {
        "id": "-jF9jrZTPzpO"
      }
    },
    {
      "cell_type": "markdown",
      "source": [
        "## Задача о рюкзаке\n",
        "\n",
        "[Полезная ссылочка](https://ru.hexlet.io/courses/algorithms-graphs/lessons/greedy-algorithms/theory_unit)"
      ],
      "metadata": {
        "id": "pZlR1Q4OQAOW"
      }
    },
    {
      "cell_type": "markdown",
      "source": [
        "### Постановка 1"
      ],
      "metadata": {
        "id": "FXHQiko9QDbS"
      }
    },
    {
      "cell_type": "markdown",
      "source": [
        "- У нас есть рюкзак, в котором можно хранить W килограмм различных вещей\n",
        "- У нас есть N вещей; у каждой вещи есть вес w\n",
        "- Необходимо собрать рюкзак так, чтобы туда попало **как можно больше** вещей"
      ],
      "metadata": {
        "id": "IvgYFv8LQF0T"
      }
    },
    {
      "cell_type": "markdown",
      "source": [
        "Пусть:\n",
        "- W = 15кг\n",
        "- Есть 5 яблок, вес - 0.1кг\n",
        "- Есть 2 ноутбука, вес - 5 кг\n",
        "- Есть 3 бутылки воды, вес - 1.5 кг\n",
        "- Есть 10 футболок, вес - 0.5 кг\n",
        "- Есть 4 наушника, вес - 1 кг"
      ],
      "metadata": {
        "id": "VCj8wldlQ2Ln"
      }
    },
    {
      "cell_type": "code",
      "execution_count": 22,
      "metadata": {
        "id": "Xu0fR3DaHUat"
      },
      "outputs": [],
      "source": [
        "W = 15"
      ]
    },
    {
      "cell_type": "code",
      "source": [
        "from dataclasses import dataclass\n",
        "\n",
        "@dataclass\n",
        "class Item:\n",
        "  amount: int\n",
        "  name: str\n",
        "  weight: float"
      ],
      "metadata": {
        "id": "lE7OX82ER4gn"
      },
      "execution_count": 23,
      "outputs": []
    },
    {
      "cell_type": "code",
      "source": [
        "backpack: list[Item] = []"
      ],
      "metadata": {
        "id": "eHBGkwlWT5K9"
      },
      "execution_count": 24,
      "outputs": []
    },
    {
      "cell_type": "code",
      "source": [
        "items: list[Item] = [\n",
        "    Item(\n",
        "        name=\"Яблоко\",\n",
        "        weight=0.1,\n",
        "        amount=5,\n",
        "    ),\n",
        "    Item(\n",
        "        name=\"Ноутбук\",\n",
        "        weight=5,\n",
        "        amount=2,\n",
        "    ),\n",
        "    Item(\n",
        "        name=\"Бутылка воды\",\n",
        "        weight=1.5,\n",
        "        amount=3,\n",
        "    ),\n",
        "    Item(\n",
        "        name=\"Футболка\",\n",
        "        weight=0.5,\n",
        "        amount=10,\n",
        "    ),\n",
        "    Item(\n",
        "        name=\"Наушники\",\n",
        "        weight=1,\n",
        "        amount=4,\n",
        "    ),\n",
        "]"
      ],
      "metadata": {
        "id": "FC_f2_OiSLVl"
      },
      "execution_count": 25,
      "outputs": []
    },
    {
      "cell_type": "markdown",
      "source": [
        "Все вещи взять не сможем, суммарный вес всего - 24 кг\\\n",
        "(0.1 * 5 + 5 * 2 + 1.5 * 3 + 0.5 * 10 + 1 * 4 = 0.5 + 10 + 4.5 + 5 + 4 = 24)"
      ],
      "metadata": {
        "id": "4AGwVYx6Snb0"
      }
    },
    {
      "cell_type": "markdown",
      "source": [
        "Интуитивное решение - брать то, что легче до тех пор пока не заполним рюкзак\n",
        "\n",
        "Сначала берем все яблоки (0.1), затем все футболки (0.5), наушники (1) и т.д."
      ],
      "metadata": {
        "id": "VWGu8GsZTB9m"
      }
    },
    {
      "cell_type": "markdown",
      "source": [
        "#### Чекпоинт 1"
      ],
      "metadata": {
        "id": "pK9s74_8DuFz"
      }
    },
    {
      "cell_type": "markdown",
      "source": [
        "Сортируем массив по возрастанию веса"
      ],
      "metadata": {
        "id": "nOJ_tgc0TOBj"
      }
    },
    {
      "cell_type": "code",
      "source": [
        "def items_sort(item: Item):\n",
        "  return item.weight\n",
        "\n",
        "sorted_items = sorted(items, key=items_sort)\n",
        "\n",
        "sorted_items"
      ],
      "metadata": {
        "colab": {
          "base_uri": "https://localhost:8080/"
        },
        "id": "zizJTxrASmxR",
        "outputId": "bdfdda19-da63-4c80-8b2b-5dd56b82a9ad"
      },
      "execution_count": 26,
      "outputs": [
        {
          "output_type": "execute_result",
          "data": {
            "text/plain": [
              "[Item(amount=5, name='Яблоко', weight=0.1),\n",
              " Item(amount=10, name='Футболка', weight=0.5),\n",
              " Item(amount=4, name='Наушники', weight=1),\n",
              " Item(amount=3, name='Бутылка воды', weight=1.5),\n",
              " Item(amount=2, name='Ноутбук', weight=5)]"
            ]
          },
          "metadata": {},
          "execution_count": 26
        }
      ]
    },
    {
      "cell_type": "markdown",
      "source": [
        "Прохдимся по элементам и берем вещи пока не заполним рюкзак"
      ],
      "metadata": {
        "id": "AeRArrMsT6cO"
      }
    },
    {
      "cell_type": "code",
      "source": [
        "backpack = []\n",
        "current_weight = 0\n",
        "\n",
        "for item in sorted_items\n",
        "\n",
        "print(current_weight)\n",
        "\n",
        "backpack"
      ],
      "metadata": {
        "colab": {
          "base_uri": "https://localhost:8080/",
          "height": 106
        },
        "id": "k3L1abavTo2L",
        "outputId": "edc0b274-0596-42f5-9f61-8816beafd5c4"
      },
      "execution_count": 27,
      "outputs": [
        {
          "output_type": "error",
          "ename": "SyntaxError",
          "evalue": "expected ':' (<ipython-input-27-82970fa18e23>, line 4)",
          "traceback": [
            "\u001b[0;36m  File \u001b[0;32m\"<ipython-input-27-82970fa18e23>\"\u001b[0;36m, line \u001b[0;32m4\u001b[0m\n\u001b[0;31m    for item in sorted_items\u001b[0m\n\u001b[0m                            ^\u001b[0m\n\u001b[0;31mSyntaxError\u001b[0m\u001b[0;31m:\u001b[0m expected ':'\n"
          ]
        }
      ]
    },
    {
      "cell_type": "markdown",
      "source": [
        "В такой постановке задачи такое решение оптимально\\\n",
        "Даже можно [доказать это](https://algoprog.ru/material/greedy_simple.1)"
      ],
      "metadata": {
        "id": "jf6xCDFpV1oU"
      }
    },
    {
      "cell_type": "markdown",
      "source": [
        "Но далеко не всегда жадность дает оптимальное решение"
      ],
      "metadata": {
        "id": "B2qds0a_Yusw"
      }
    },
    {
      "cell_type": "markdown",
      "source": [
        "### Постановка 2"
      ],
      "metadata": {
        "id": "9zOO8vFcY3lQ"
      }
    },
    {
      "cell_type": "markdown",
      "source": [
        "- У нас есть рюкзак, в котором можно хранить W килограмм различных вещей\n",
        "- У нас есть N вещей; у каждой вещи есть вес w **и цена p**\n",
        "- Необходимо собрать рюкзак так, чтобы **суммарная стоимость была максимальной**"
      ],
      "metadata": {
        "id": "qUnF1pkeY_uj"
      }
    },
    {
      "cell_type": "code",
      "source": [
        "@dataclass\n",
        "class ItemWithPrice:\n",
        "  amount: int\n",
        "  name: str\n",
        "  weight: float\n",
        "  price: float"
      ],
      "metadata": {
        "id": "PvorLzBQVQEQ"
      },
      "execution_count": 28,
      "outputs": []
    },
    {
      "cell_type": "markdown",
      "source": [
        "Добавим цены к нашим вещам"
      ],
      "metadata": {
        "id": "xgZNvYz3Z4bl"
      }
    },
    {
      "cell_type": "code",
      "source": [
        "items_with_price: list[ItemWithPrice] = [\n",
        "    ItemWithPrice(\n",
        "        name=\"Яблоко\",\n",
        "        weight=0.1,\n",
        "        amount=5,\n",
        "        price=0.1\n",
        "    ),\n",
        "    ItemWithPrice(\n",
        "        name=\"Ноутбук\",\n",
        "        weight=5,\n",
        "        amount=2,\n",
        "        price=8\n",
        "    ),\n",
        "    ItemWithPrice(\n",
        "        name=\"Бутылка воды\",\n",
        "        weight=1.5,\n",
        "        amount=3,\n",
        "        price=0.01\n",
        "    ),\n",
        "    ItemWithPrice(\n",
        "        name=\"Футболка\",\n",
        "        weight=0.5,\n",
        "        amount=10,\n",
        "        price=0.5\n",
        "    ),\n",
        "    ItemWithPrice(\n",
        "        name=\"Наушники\",\n",
        "        weight=1,\n",
        "        amount=4,\n",
        "        price=5\n",
        "    ),\n",
        "]"
      ],
      "metadata": {
        "id": "smeezyxkZZmS"
      },
      "execution_count": 29,
      "outputs": []
    },
    {
      "cell_type": "markdown",
      "source": [
        "И добавим новую вещь"
      ],
      "metadata": {
        "id": "MnFVEMjKbs3v"
      }
    },
    {
      "cell_type": "code",
      "source": [
        "items_with_price = [\n",
        "    *items_with_price,\n",
        "    ItemWithPrice(\n",
        "        name=\"Золото\",\n",
        "        weight=13,\n",
        "        amount=1,\n",
        "        price=60\n",
        "    ),\n",
        "    ItemWithPrice(\n",
        "        name=\"Серебро\",\n",
        "        weight=5,\n",
        "        amount=5,\n",
        "        price=9\n",
        "    ),\n",
        "    ItemWithPrice(\n",
        "        name=\"Бронза\",\n",
        "        weight=4,\n",
        "        amount=5,\n",
        "        price=1\n",
        "    ),\n",
        "]\n",
        "\n",
        "items_with_price"
      ],
      "metadata": {
        "colab": {
          "base_uri": "https://localhost:8080/"
        },
        "id": "wDTh4J6pbujp",
        "outputId": "ca46e61a-bd3f-461d-9804-5a2af955723a"
      },
      "execution_count": 30,
      "outputs": [
        {
          "output_type": "execute_result",
          "data": {
            "text/plain": [
              "[ItemWithPrice(amount=5, name='Яблоко', weight=0.1, price=0.1),\n",
              " ItemWithPrice(amount=2, name='Ноутбук', weight=5, price=8),\n",
              " ItemWithPrice(amount=3, name='Бутылка воды', weight=1.5, price=0.01),\n",
              " ItemWithPrice(amount=10, name='Футболка', weight=0.5, price=0.5),\n",
              " ItemWithPrice(amount=4, name='Наушники', weight=1, price=5),\n",
              " ItemWithPrice(amount=1, name='Золото', weight=13, price=60),\n",
              " ItemWithPrice(amount=5, name='Серебро', weight=5, price=9),\n",
              " ItemWithPrice(amount=5, name='Бронза', weight=4, price=1)]"
            ]
          },
          "metadata": {},
          "execution_count": 30
        }
      ]
    },
    {
      "cell_type": "markdown",
      "source": [
        "Как же теперь выбирать вещи?\n",
        "\n",
        "Нужно выбирать вещи которые немного весят, при том достаточно дорогие"
      ],
      "metadata": {
        "id": "GIHxts4Qby0w"
      }
    },
    {
      "cell_type": "markdown",
      "source": [
        "Для того чтобы прикинуть насколько есть смысл брать вещь в рюзказ, введем **удельную стоимость** вещи\n",
        "\n",
        "По сути - посчитаем сколько стоит каждая вещь за кило\n",
        "\n",
        "```python\n",
        "cost = item.price / item.weight\n",
        "```\n",
        "\n",
        "И теперь по аналогии с прошлым решением будем брать вещи с наибольшей удельной стоимостью"
      ],
      "metadata": {
        "id": "RSScM5NFcJgz"
      }
    },
    {
      "cell_type": "markdown",
      "source": [
        "#### Чекпоинт 2"
      ],
      "metadata": {
        "id": "fFKtqx5uD3uY"
      }
    },
    {
      "cell_type": "markdown",
      "source": [
        "Отсортируем массив по удельной стоимости"
      ],
      "metadata": {
        "id": "Q1wzt3JTDzy9"
      }
    },
    {
      "cell_type": "code",
      "source": [
        "def items_with_price_sort(item: ItemWithPrice):\n",
        "  return item.price / item.weight\n",
        "\n",
        "sorted_items_with_price = sorted(items_with_price, key=items_with_price_sort, reverse=True)\n",
        "\n",
        "sorted_items_with_price"
      ],
      "metadata": {
        "colab": {
          "base_uri": "https://localhost:8080/"
        },
        "id": "EGqehfbBcIVK",
        "outputId": "5b4f4ed6-6ddc-4172-8996-899a942c31b3"
      },
      "execution_count": 31,
      "outputs": [
        {
          "output_type": "execute_result",
          "data": {
            "text/plain": [
              "[ItemWithPrice(amount=4, name='Наушники', weight=1, price=5),\n",
              " ItemWithPrice(amount=1, name='Золото', weight=13, price=60),\n",
              " ItemWithPrice(amount=5, name='Серебро', weight=5, price=9),\n",
              " ItemWithPrice(amount=2, name='Ноутбук', weight=5, price=8),\n",
              " ItemWithPrice(amount=5, name='Яблоко', weight=0.1, price=0.1),\n",
              " ItemWithPrice(amount=10, name='Футболка', weight=0.5, price=0.5),\n",
              " ItemWithPrice(amount=5, name='Бронза', weight=4, price=1),\n",
              " ItemWithPrice(amount=3, name='Бутылка воды', weight=1.5, price=0.01)]"
            ]
          },
          "metadata": {},
          "execution_count": 31
        }
      ]
    },
    {
      "cell_type": "markdown",
      "source": [
        "Теперь выгоднее всего брать наушники (удельная стоимость аж 5)\\\n",
        "Даже выгоднее чем золото (удельная стоимость 60 / 13 $\\approx$ 4,6)"
      ],
      "metadata": {
        "id": "niDOUMhkdM-S"
      }
    },
    {
      "cell_type": "markdown",
      "source": [
        "Собираем рюкзак"
      ],
      "metadata": {
        "id": "IYyDrSNUeBf-"
      }
    },
    {
      "cell_type": "code",
      "source": [
        "backpack: list[ItemWithPrice] = []\n",
        "current_weight = 0\n",
        "current_price = 0\n",
        "\n",
        "for item in sorted_items_with_price:\n",
        "  size = W - current_weight\n",
        "  max_count = size // item.weight\n",
        "  new_count = min(max_count, item.amount)\n",
        "  if new_count > 0:\n",
        "    backpack.append(ItemWithPrice(\n",
        "            amount=new_count,\n",
        "            name= item.name,\n",
        "            weight = item.weight,\n",
        "            price= item.price\n",
        "    ))\n",
        "\n",
        "    current_weight += new_count*item.weight\n",
        "    current_price += new_count*item.weight\n",
        "\n",
        "\n",
        "backpack"
      ],
      "metadata": {
        "colab": {
          "base_uri": "https://localhost:8080/"
        },
        "id": "No5WvgDmeyJH",
        "outputId": "7c89acca-397a-4dd6-ea8c-2e3fe2482342"
      },
      "execution_count": 32,
      "outputs": [
        {
          "output_type": "execute_result",
          "data": {
            "text/plain": [
              "[ItemWithPrice(amount=4, name='Наушники', weight=1, price=5),\n",
              " ItemWithPrice(amount=2, name='Серебро', weight=5, price=9),\n",
              " ItemWithPrice(amount=5, name='Яблоко', weight=0.1, price=0.1),\n",
              " ItemWithPrice(amount=1.0, name='Футболка', weight=0.5, price=0.5)]"
            ]
          },
          "metadata": {},
          "execution_count": 32
        }
      ]
    },
    {
      "cell_type": "markdown",
      "source": [
        "А это решение оптимально?\n",
        "\n",
        "Кажется, профитнее взять золото и что-то еще\\\n",
        "Например, золото и 2 наушников\\\n",
        "Суммарная стоимость = 60 + 2 * 5 = 70"
      ],
      "metadata": {
        "id": "OtCNs3rNfcYT"
      }
    },
    {
      "cell_type": "markdown",
      "source": [
        "В этом главная проблема жадных алгоритмов\\\n",
        "Для некоторых задач жадные алгоритмы не могут гарантировать оптимальное решение\\\n",
        "Зато такие алгоритмы очень быстры по сравнению с остальными вариантами решения задачи (перебор/дин. программирование)"
      ],
      "metadata": {
        "id": "DxzHS1RehcK7"
      }
    },
    {
      "cell_type": "markdown",
      "source": [
        "#### Перебор"
      ],
      "metadata": {
        "id": "DoL0EziniISG"
      }
    },
    {
      "cell_type": "markdown",
      "source": [
        "Решение - вектор, где на i-м месте хранится сколько раз берем i-ю вещь\n",
        "\n",
        "Сколько вариантов решений есть?\n",
        "\n",
        "Можем взять до 5 яблок (от 0 до 5 включительно, 6 вариантов), до 2 ноутбуков и т.д\n",
        "\n",
        "Тогда вариантов: 6 * 3 * 4 * 11 * 5 * 2 * 6 * 6 = 285120"
      ],
      "metadata": {
        "id": "zYTydZAliw5L"
      }
    },
    {
      "cell_type": "markdown",
      "source": [
        "##### Чекпоинт 3"
      ],
      "metadata": {
        "id": "NTv9WwIqD8Rt"
      }
    },
    {
      "cell_type": "markdown",
      "source": [
        "Сгенерим все решения"
      ],
      "metadata": {
        "id": "-0zVrvxfEDeg"
      }
    },
    {
      "cell_type": "code",
      "source": [
        "import numpy as np\n",
        "from itertools import product\n",
        "\n",
        "ranges = []\n",
        "\n",
        "for item in sorted_items_with_price:\n",
        "  item_range = np.arange(item.amount + 1)\n",
        "  ranges.append(list(item_range))"
      ],
      "metadata": {
        "id": "Bd4OEGpfe6uD"
      },
      "execution_count": 33,
      "outputs": []
    },
    {
      "cell_type": "markdown",
      "source": [
        "Найдем перебором лучшее решение, при нахождении нового лучшего решения, печатаем его и его стоимость"
      ],
      "metadata": {
        "id": "0BOkYISfEF17"
      }
    },
    {
      "cell_type": "code",
      "source": [
        "best_solution = []\n",
        "max_price = 0\n",
        "\n",
        "for solution in product(*ranges):\n",
        "  # Код тут"
      ],
      "metadata": {
        "colab": {
          "base_uri": "https://localhost:8080/"
        },
        "id": "JICPF4Ixiszl",
        "outputId": "b213cf5e-3b6f-4313-9164-2e9f38d31497"
      },
      "execution_count": null,
      "outputs": [
        {
          "output_type": "stream",
          "name": "stdout",
          "text": [
            "(0, 0, 0, 0, 0, 0, 0, 1) 1.0\n",
            "(0, 0, 0, 0, 0, 0, 0, 2) 2.0\n",
            "(0, 0, 0, 0, 0, 0, 0, 3) 3.0\n",
            "(0, 0, 0, 0, 0, 0, 1, 0) 9.0\n",
            "(0, 0, 0, 0, 0, 0, 1, 1) 10.0\n",
            "(0, 0, 0, 0, 0, 0, 1, 2) 11.0\n",
            "(0, 0, 0, 0, 0, 0, 2, 0) 18.0\n",
            "(0, 0, 0, 0, 0, 0, 2, 1) 19.0\n",
            "(0, 0, 0, 0, 0, 0, 3, 0) 27.0\n",
            "(0, 0, 0, 0, 0, 1, 0, 0) 60.0\n",
            "(0, 0, 0, 0, 1, 1, 0, 0) 65.0\n",
            "(0, 0, 0, 0, 2, 1, 0, 0) 70.0\n"
          ]
        }
      ]
    },
    {
      "cell_type": "markdown",
      "source": [
        "## Задача о банкомате"
      ],
      "metadata": {
        "id": "5zjma8GUvEFY"
      }
    },
    {
      "cell_type": "markdown",
      "source": [
        "### Постановка 1"
      ],
      "metadata": {
        "id": "ncbOKJELwszL"
      }
    },
    {
      "cell_type": "markdown",
      "source": [
        "Имеется неограниченное кол-во монет различного номинала\\\n",
        "Необходимо написать программу, которая собирает произвольную суммы из этих монет так, чтобы кол-во монет было минимальным"
      ],
      "metadata": {
        "id": "lyxnNMHPvK-q"
      }
    },
    {
      "cell_type": "code",
      "source": [
        "coins = [1, 2, 5, 10, 25, 50]"
      ],
      "metadata": {
        "id": "JWHDrUFwstcI"
      },
      "execution_count": 47,
      "outputs": []
    },
    {
      "cell_type": "markdown",
      "source": [
        "Как же выбирать монеты?\n",
        "\n",
        "Сортируем их по номиналу и на каждом шагу берем максимальное кол-во монет текущего номинала\n",
        "\n",
        "Например, соберем 94\\\n",
        "На первом шагу положим одну монету наибольшего номинала (50), останется собрать 44\\\n",
        "94 -> 50 * 1 + 44\n",
        "\n",
        "Размениваем 44 через 25 и т.д\\\n",
        "44 -> 25 * 1 + 19\\\n",
        "19 -> 10 * 1 + 9\\\n",
        "9 -> 5 * 1 + 4\\\n",
        "4 -> 2 * 2\n",
        "\n",
        "Тогда ответ\n",
        "[0, 2, 1, 1, 1, 1]"
      ],
      "metadata": {
        "id": "DOy2ZSBE_Ceu"
      }
    },
    {
      "cell_type": "markdown",
      "source": [
        "#### Чекпоинт 4"
      ],
      "metadata": {
        "id": "IHDFmcFrELVu"
      }
    },
    {
      "cell_type": "code",
      "source": [
        "def solution(amount: int, coins_pool=coins) -> list[int]:\n",
        "  result = [0]*len(coins_pool)\n",
        "\n",
        "  weight = amount\n",
        "\n",
        "  for i in range(len(coins_pool)-1, -1, -1):\n",
        "    coin = coins_pool[i]\n",
        "    count = weight//coin\n",
        "\n",
        "    result[i] = count\n",
        "\n",
        "    weight -= coin*count\n",
        "\n",
        "  return result"
      ],
      "metadata": {
        "id": "__8rXzoV8fGJ"
      },
      "execution_count": 51,
      "outputs": []
    },
    {
      "cell_type": "code",
      "source": [
        "solution(98)"
      ],
      "metadata": {
        "colab": {
          "base_uri": "https://localhost:8080/"
        },
        "id": "Mrg5_PFV8v-V",
        "outputId": "83f6cea0-ec04-4baa-e40a-9fa100663ea3"
      },
      "execution_count": 52,
      "outputs": [
        {
          "output_type": "execute_result",
          "data": {
            "text/plain": [
              "[1, 1, 0, 2, 1, 1]"
            ]
          },
          "metadata": {},
          "execution_count": 52
        }
      ]
    },
    {
      "cell_type": "markdown",
      "source": [
        "В чем же проблема этого решения? В выборе монет, которыми можем разменивать деньги\n",
        "\n",
        "Например, возьмем монеты 1,5 и 7 и попытаемся ими разменять 24"
      ],
      "metadata": {
        "id": "OpnEMXxSABcZ"
      }
    },
    {
      "cell_type": "code",
      "source": [
        "solution(24, [1, 5, 7])"
      ],
      "metadata": {
        "colab": {
          "base_uri": "https://localhost:8080/"
        },
        "id": "XtfvjwmE9RS8",
        "outputId": "e5246385-aef0-4d74-df32-ae93bda8af62"
      },
      "execution_count": 53,
      "outputs": [
        {
          "output_type": "execute_result",
          "data": {
            "text/plain": [
              "[3, 0, 3]"
            ]
          },
          "metadata": {},
          "execution_count": 53
        }
      ]
    },
    {
      "cell_type": "markdown",
      "source": [
        "Но на самом деле, 24 можно разменять 4 монетами\n",
        "\n",
        "24 = 7 * 2 + 5 * 2"
      ],
      "metadata": {
        "id": "ep8BgGUC-MRX"
      }
    },
    {
      "cell_type": "markdown",
      "source": [
        "Как выбирать монеты, чтобы улучшить решение?\\\n",
        "Выбрать несколько простых чисел, а так же некоторое кол-во их произведений\n",
        "\n",
        "Например, возьмем в качестве базы монеты 1, 2 и 5\n",
        "\n",
        "Тогда если добавим туда их произведения (10, 20), получим решение лучшее, чем раньше"
      ],
      "metadata": {
        "id": "eXEuVXNiAn5F"
      }
    },
    {
      "cell_type": "code",
      "source": [
        "solution(24, [1, 2, 5, 10, 20])"
      ],
      "metadata": {
        "colab": {
          "base_uri": "https://localhost:8080/"
        },
        "id": "H0fxugho-7UL",
        "outputId": "8f04657c-5077-4dfe-e363-119fb36709b9"
      },
      "execution_count": 19,
      "outputs": [
        {
          "output_type": "execute_result",
          "data": {
            "text/plain": [
              "[0, 2, 0, 0, 1]"
            ]
          },
          "metadata": {},
          "execution_count": 19
        }
      ]
    },
    {
      "cell_type": "markdown",
      "source": [
        "### Постановка 2"
      ],
      "metadata": {
        "id": "S3tejDznBnuu"
      }
    },
    {
      "cell_type": "markdown",
      "source": [
        "Те же условия, но кол-во монет ограничено"
      ],
      "metadata": {
        "id": "RywcoESqBq2p"
      }
    },
    {
      "cell_type": "code",
      "source": [
        "np.random.seed(42)\n",
        "\n",
        "coins = [1, 2, 5, 10, 20, 25, 50]\n",
        "\n",
        "coin_amounts = np.random.randint(0, 10, len(coins))\n",
        "\n",
        "coin_amounts"
      ],
      "metadata": {
        "colab": {
          "base_uri": "https://localhost:8080/"
        },
        "id": "YWpKsvCcBYfi",
        "outputId": "ff90579c-38ee-4cf5-c44d-313f25a95e06"
      },
      "execution_count": 55,
      "outputs": [
        {
          "output_type": "execute_result",
          "data": {
            "text/plain": [
              "array([6, 3, 7, 4, 6, 9, 2])"
            ]
          },
          "metadata": {},
          "execution_count": 55
        }
      ]
    },
    {
      "cell_type": "markdown",
      "source": [
        "Если сумму нельзя собрать монетами в текущем кол-ве, solution должна вернуть None"
      ],
      "metadata": {
        "id": "5CQb13NiCLMx"
      }
    },
    {
      "cell_type": "markdown",
      "source": [
        "#### Чекпоинт 5"
      ],
      "metadata": {
        "id": "MvFBwlyHERzX"
      }
    },
    {
      "cell_type": "code",
      "source": [
        "def solution_with_amount(amount: int, coins_pool=coins, amounts_pool=coin_amounts) -> list[int] | None:\n",
        "  result = [0]*len(coins_pool)\n",
        "\n",
        "  weight = amount\n",
        "\n",
        "  for i in range(len(coins_pool)-1, -1, -1):\n",
        "     coin = coins_pool[i]\n",
        "     coin_count = amounts_pool[i]\n",
        "     max_count = weight//coin\n",
        "\n",
        "     count = min(max_count, coin_count)\n",
        "\n",
        "     if count > 0:\n",
        "      result[i] =  count\n",
        "      weight -= count*coin\n",
        "\n",
        "  check_res = 0\n",
        "  for i in range(len(result)):\n",
        "    check_res += result[i]*coins_pool[i]\n",
        "\n",
        "  if check_res == amount:\n",
        "    return result\n",
        "  else:\n",
        "    return None\n"
      ],
      "metadata": {
        "id": "qjtfDFFQCAze"
      },
      "execution_count": 56,
      "outputs": []
    },
    {
      "cell_type": "code",
      "source": [
        "result = solution_with_amount(597)\n",
        "\n",
        "print(result)"
      ],
      "metadata": {
        "colab": {
          "base_uri": "https://localhost:8080/"
        },
        "id": "iL9cCl8jDMnH",
        "outputId": "981ee21f-503f-490b-a4eb-f707b62da3ba"
      },
      "execution_count": 61,
      "outputs": [
        {
          "output_type": "stream",
          "name": "stdout",
          "text": [
            "None\n"
          ]
        }
      ]
    },
    {
      "cell_type": "code",
      "source": [
        "solution_with_amount(400)"
      ],
      "metadata": {
        "colab": {
          "base_uri": "https://localhost:8080/"
        },
        "id": "L6C9Bub-EWBJ",
        "outputId": "bc770020-938c-4cd0-e694-822b6e579ef4"
      },
      "execution_count": 62,
      "outputs": [
        {
          "output_type": "execute_result",
          "data": {
            "text/plain": [
              "[0, 0, 1, 1, 3, 9, 2]"
            ]
          },
          "metadata": {},
          "execution_count": 62
        }
      ]
    }
  ]
}