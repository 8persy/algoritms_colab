{
  "nbformat": 4,
  "nbformat_minor": 0,
  "metadata": {
    "colab": {
      "provenance": [],
      "toc_visible": true,
      "include_colab_link": true
    },
    "kernelspec": {
      "name": "python3",
      "display_name": "Python 3"
    },
    "language_info": {
      "name": "python"
    }
  },
  "cells": [
    {
      "cell_type": "markdown",
      "metadata": {
        "id": "view-in-github",
        "colab_type": "text"
      },
      "source": [
        "<a href=\"https://colab.research.google.com/github/8persy/algoritms_colab/blob/main/%22AA_%D0%B4%D0%B5%D1%80%D0%B5%D0%B2%D0%BE_11_311_11_313_ipynb%22.ipynb\" target=\"_parent\"><img src=\"https://colab.research.google.com/assets/colab-badge.svg\" alt=\"Open In Colab\"/></a>"
      ]
    },
    {
      "cell_type": "markdown",
      "source": [
        "# АА-дерево"
      ],
      "metadata": {
        "id": "z-z3fMBDkODx"
      }
    },
    {
      "cell_type": "markdown",
      "source": [
        "Модификация красно-черного дерева с целью упрощения реализации"
      ],
      "metadata": {
        "id": "7HqVNnq-kSnd"
      }
    },
    {
      "cell_type": "markdown",
      "source": [
        "Будем использовать ту же ноду, что и для КЧД"
      ],
      "metadata": {
        "id": "1y1FbZT6-drK"
      }
    },
    {
      "cell_type": "code",
      "source": [
        "from __future__ import annotations\n",
        "from dataclasses import dataclass, field\n",
        "from typing import Any, Literal\n",
        "\n",
        "\n",
        "@dataclass\n",
        "class Node:\n",
        "    key: Any\n",
        "    parent: Node | None = field(default=None)\n",
        "    right: Node | None = field(default=None)\n",
        "    left: Node | None = field(default=None)\n",
        "    height: int = field(default=1)\n",
        "    color: Literal[\"red\", \"black\"] = field(default=\"black\")"
      ],
      "metadata": {
        "id": "HMpXzQqk-slQ"
      },
      "execution_count": null,
      "outputs": []
    },
    {
      "cell_type": "markdown",
      "source": [
        "Правила АА-дерева:\n",
        "1. Цвет вершины может быть черный или красный\n",
        "2. Корень всегда черный\n",
        "3. Листья всегда черные\n",
        "4. Каждая красная вершина должна иметь черных сыновей\n",
        "5. Пути от вершины к ее листьям должны содержать одинаковое количество черных вершин (черная высота)\n",
        "6. В дереве не может быть левого красного сына"
      ],
      "metadata": {
        "id": "KmLvWOnWka23"
      }
    },
    {
      "cell_type": "markdown",
      "source": [
        "Также в АА-дереве меняется понятие высоты\n",
        "\n",
        "Высота здесь это не количество нод от корня до узла, а отдельная величина для узла и увеличивается посредством операций при перебалансировке\n",
        "\n",
        "Как определяется высота:\n",
        "- У None листьев высота = 0\n",
        "- У листьев высота = 1\n",
        "- У красных нод высота та же, что и у его родителя\n",
        "- У черных нод высота на 1 меньше, чем у их родителей"
      ],
      "metadata": {
        "id": "obZ87FFNmRdx"
      }
    },
    {
      "cell_type": "markdown",
      "source": [
        "<img src=\"https://drive.google.com/uc?export=view&id=1WNEMPmps800xH20k4yVhbZT4JpC70Q_D\"/>"
      ],
      "metadata": {
        "id": "CheBXKGjqUDw"
      }
    },
    {
      "cell_type": "markdown",
      "source": [
        "Высота 1: 8, 9, 24, 35, ...\\\n",
        "Высота 2: 18, 29, 57, 72\\\n",
        "Высота 3: 46, 68"
      ],
      "metadata": {
        "id": "_-4R4V7uquBJ"
      }
    },
    {
      "cell_type": "markdown",
      "source": [
        "Связи м-ду нодами на одной высоте (46 и 68 например) называются **горизонтальными**\n",
        "\n",
        "Горизонтальная связь всегда ведет к красной ноде"
      ],
      "metadata": {
        "id": "o3vJfEc1tfCp"
      }
    },
    {
      "cell_type": "markdown",
      "source": [
        "## Вставка элемента"
      ],
      "metadata": {
        "id": "gFnnRw1Nr-sY"
      }
    },
    {
      "cell_type": "markdown",
      "source": [
        "Делается по аналогии с красно-черным деревом\n",
        "- Ищем куда добавить ноду\n",
        "- Добавляем красную ноду\n",
        "- Производим балансировку"
      ],
      "metadata": {
        "id": "azl_St6KsDw5"
      }
    },
    {
      "cell_type": "markdown",
      "source": [
        "### Балансировка"
      ],
      "metadata": {
        "id": "kv_5HbcjsY2D"
      }
    },
    {
      "cell_type": "markdown",
      "source": [
        "Благодаря новому условию, проблемы вызывают всего 3 (вместо прошлых 7) кейса, давайте их рассмотрим"
      ],
      "metadata": {
        "id": "H9wC8vTisjJX"
      }
    },
    {
      "cell_type": "markdown",
      "source": [
        "Попробуем составить дерево по следующему массиву:\\\n",
        "``[57, 55, 72, 18, 46, 68, 24, 9, 59, 97, 29, 35, 89,  8]``"
      ],
      "metadata": {
        "id": "YHInpsfpszWV"
      }
    },
    {
      "cell_type": "markdown",
      "source": [
        "#### Случай 1. Красный корень\n",
        "\n",
        "По аналогии с КЧД, красим ноду в черный"
      ],
      "metadata": {
        "id": "TI1_-hs9tHC7"
      }
    },
    {
      "cell_type": "markdown",
      "source": [
        "#### Случай 2. Левая горизонтальная связь"
      ],
      "metadata": {
        "id": "K7z4fIpkt6L6"
      }
    },
    {
      "cell_type": "markdown",
      "source": [
        "##### Если родитель черный"
      ],
      "metadata": {
        "id": "-gFCRQpMK6_2"
      }
    },
    {
      "cell_type": "markdown",
      "source": [
        "<img src=\"https://drive.google.com/uc?export=view&id=1Qly-u_LTBGA-a3t2SwRpHSjdAhnphNEe\" height=\"200\"/>"
      ],
      "metadata": {
        "id": "Z1htMoXpuRMh"
      }
    },
    {
      "cell_type": "markdown",
      "source": [
        "Обобщим"
      ],
      "metadata": {
        "id": "0DvlGh28u9y1"
      }
    },
    {
      "cell_type": "markdown",
      "source": [
        "<img src=\"https://drive.google.com/uc?export=view&id=1DmVScSj0gPx99r7gOrLOKHTxH0Bwqpdh\" height=\"400\"/>\n",
        "\n"
      ],
      "metadata": {
        "id": "xMddpTbGu_L5"
      }
    },
    {
      "cell_type": "markdown",
      "source": [
        "Что делать в таком случае?\n",
        "\n",
        "- Правый поворот м-ду левым сыном (A) и отцом (B)\n",
        "- Перекрашиваем сына в черное\n",
        "- Перекрашиваем отца в красное\n",
        "\n",
        "**Высота в этом случае ни у кого не изменяется**"
      ],
      "metadata": {
        "id": "lP4L3sIcueO1"
      }
    },
    {
      "cell_type": "markdown",
      "source": [
        "Назовем это преобразование **skew**"
      ],
      "metadata": {
        "id": "7HS2TzRV_TU8"
      }
    },
    {
      "cell_type": "markdown",
      "source": [
        "Благодаря тому, что последнее правило АА-дерево несимметрично (левого красного сына быть не может), симметричный кейс проблем у нас не вызывает"
      ],
      "metadata": {
        "id": "HI6Vl-0xv4iI"
      }
    },
    {
      "cell_type": "markdown",
      "source": [
        "<img src=\"https://drive.google.com/uc?export=view&id=16k5L4T6uVaw8dgqcOgbZp9Qd827oRYkJ\" height=\"400\"/>"
      ],
      "metadata": {
        "id": "DqdzMhPlwtZZ"
      }
    },
    {
      "cell_type": "markdown",
      "source": [
        "<img src=\"https://drive.google.com/uc?export=view&id=1lH1IxiVf9pyEaTN6VrO9lAhgnWO_w8lm\" height=\"200\"/>"
      ],
      "metadata": {
        "id": "2aa9fI-yxbNv"
      }
    },
    {
      "cell_type": "markdown",
      "source": [
        "##### Чекпоинт 1. skew"
      ],
      "metadata": {
        "id": "g0IoAcAszJif"
      }
    },
    {
      "cell_type": "code",
      "source": [
        "def skew(node: Node) -> Node:\n",
        "  child = node.left\n",
        "\n",
        "  subtree = child.right\n",
        "\n",
        "  node.left = subtree\n",
        "  subtree.parent = node\n",
        "\n",
        "  child.right = node\n",
        "  child.parent = node.prent\n",
        "  node.parent = child\n",
        "\n",
        "  child.color = 'black'\n",
        "  node.color = 'red'\n",
        "\n",
        "  return child"
      ],
      "metadata": {
        "id": "5nrGgNHV_ZJp"
      },
      "execution_count": null,
      "outputs": []
    },
    {
      "cell_type": "markdown",
      "source": [
        "##### Если родитель красный"
      ],
      "metadata": {
        "id": "IKutJY4BLA4l"
      }
    },
    {
      "cell_type": "markdown",
      "source": [
        "Исходное дерево, добавляем **46**"
      ],
      "metadata": {
        "id": "GB7HIguMLkA0"
      }
    },
    {
      "cell_type": "markdown",
      "source": [
        "<img src=\"https://drive.google.com/uc?export=view&id=1yNUB-P-iIGyg5ekiJjZjhlZT7rKWOmPQ\" height=\"400\"/>"
      ],
      "metadata": {
        "id": "GZ0lIhqNLeJ1"
      }
    },
    {
      "cell_type": "markdown",
      "source": [
        "<img src=\"https://drive.google.com/uc?export=view&id=1oBjM3F2t-roeZPIW6PpIbvLC4tKeTyzO\" height=\"400\"/>"
      ],
      "metadata": {
        "id": "xxcrJlplLovf"
      }
    },
    {
      "cell_type": "markdown",
      "source": [
        "Ноды **55** и **46** - две красные ноды на одной высоте"
      ],
      "metadata": {
        "id": "4wTRp_awMIYW"
      }
    },
    {
      "cell_type": "markdown",
      "source": [
        "Что делать?\n",
        "- Правый поворот м-ду сыном и отцом\n",
        "\n",
        "Перекраска в этом случае не делается"
      ],
      "metadata": {
        "id": "MHvZ2fKNMif0"
      }
    },
    {
      "cell_type": "markdown",
      "source": [
        "<img src=\"https://drive.google.com/uc?export=view&id=1yPhM5-EEuvSTff8E4iNIgW5PkLxpGECH\" height=\"400\"/>"
      ],
      "metadata": {
        "id": "5hYlkp5mM8du"
      }
    },
    {
      "cell_type": "markdown",
      "source": [
        "В этой получим новый случай проблемы балансировки, разберем его ниже"
      ],
      "metadata": {
        "id": "4V7S0DkrNb4b"
      }
    },
    {
      "cell_type": "markdown",
      "source": [
        "##### Чекпоинт 1.1 Доработать skew"
      ],
      "metadata": {
        "id": "bGSdGJWhzkRX"
      }
    },
    {
      "cell_type": "code",
      "source": [
        "def skew(node: Node) -> Node:\n",
        "  child = node.left\n",
        "\n",
        "  subtree = child.right\n",
        "\n",
        "  node.left = subtree\n",
        "  subtree.parent = node\n",
        "\n",
        "  child.right = node\n",
        "  child.parent = node.prent\n",
        "  node.parent = child\n",
        "\n",
        "  if  node.color != 'red':\n",
        "    child.color = 'black'\n",
        "    node.color = 'red'\n",
        "\n",
        "  return child"
      ],
      "metadata": {
        "id": "xwK0ZHfgM1uy"
      },
      "execution_count": null,
      "outputs": []
    },
    {
      "cell_type": "markdown",
      "source": [
        "#### Случай 3. Двойная горизонтальная связь"
      ],
      "metadata": {
        "id": "3KQmqGrHxzDc"
      }
    },
    {
      "cell_type": "markdown",
      "source": [
        "Речь пойдет о двойной **правой** горизонтальной связи\\\n",
        "Двойная левая горизонтальная связь невозможна, фиксится как 2 случая левой горизонтальной связи\n"
      ],
      "metadata": {
        "id": "xECtRnXex8VD"
      }
    },
    {
      "cell_type": "markdown",
      "source": [
        "<img src=\"https://drive.google.com/uc?export=view&id=1RbNv3BWXVU3Ur561IUSEFbVWeVB8uq4T\" height=\"200\"/>"
      ],
      "metadata": {
        "id": "19oLT5NEyiKS"
      }
    },
    {
      "cell_type": "markdown",
      "source": [
        "Обобщим"
      ],
      "metadata": {
        "id": "B4U2unxxypc6"
      }
    },
    {
      "cell_type": "markdown",
      "source": [
        "<img src=\"https://drive.google.com/uc?export=view&id=1opiMtrq3r2qYx0lzkUVBprvu15ijEU2g\" height=\"400\"/>"
      ],
      "metadata": {
        "id": "13l8afQByrO4"
      }
    },
    {
      "cell_type": "markdown",
      "source": [
        "Что делаем?\n",
        "- Левый поворот м-ду A и B\n",
        "- Увеличиваем высоту у B\n",
        "- Перекрашиваем C в черный\n",
        "\n",
        "В этом случае высота увеличивается **только у B**"
      ],
      "metadata": {
        "id": "Ws6u49ng1VuZ"
      }
    },
    {
      "cell_type": "markdown",
      "source": [
        "Назовем это преобразование **split**"
      ],
      "metadata": {
        "id": "O06c8poHBndK"
      }
    },
    {
      "cell_type": "markdown",
      "source": [
        "<img src=\"https://drive.google.com/uc?export=view&id=1agOvmWfkLViJDVN8V8NIudLDwIPqFEdT\" height=\"600\"/>"
      ],
      "metadata": {
        "id": "h6fbqT_V4Cu2"
      }
    },
    {
      "cell_type": "markdown",
      "source": [
        "По итогу преобразования можем получить 3 случая:\n",
        "- B становится корнем дерева\n",
        "  - Обрабатываем как первый случай\n",
        "- B образовывает **левую** горизонтальную связь\n",
        "  - Обрабатываем как второй случай\n",
        "- B образовывает **правую** горизонтальную связь\n",
        "  - Тут проблем нет"
      ],
      "metadata": {
        "id": "wk1Qv2we3OEX"
      }
    },
    {
      "cell_type": "markdown",
      "source": [
        "<img src=\"https://drive.google.com/uc?export=view&id=1cxgaji_EYRvBhoSf6s07hrrKl9HiUZmg\" height=\"400\"/>"
      ],
      "metadata": {
        "id": "sk6IemUz9t7q"
      }
    },
    {
      "cell_type": "markdown",
      "source": [
        "##### Чекпоинт 2. split"
      ],
      "metadata": {
        "id": "AzkkUC9QzriM"
      }
    },
    {
      "cell_type": "code",
      "execution_count": null,
      "metadata": {
        "id": "fIhzVPzFkGNm"
      },
      "outputs": [],
      "source": [
        "def split(node: Node) -> Node:\n",
        "  child = node.right\n",
        "\n",
        "  subtree = child.left\n",
        "\n",
        "  child.parent = node.parent\n",
        "  node.parent = child\n",
        "\n",
        "  child.left = node\n",
        "  node.right = subtree\n",
        "\n",
        "  child.height += 1\n",
        "\n",
        "  child.right.color = 'black'\n",
        "\n",
        "  return child"
      ]
    },
    {
      "cell_type": "markdown",
      "source": [
        "### Соберем все в кучу"
      ],
      "metadata": {
        "id": "cq00N4eoEe0z"
      }
    },
    {
      "cell_type": "code",
      "source": [
        "def insert_fix(tree: Node, node: Node):\n",
        "  while node.parent is not None:\n",
        "    if node.left is not None and node.left.color == \"red\":\n",
        "      node = skew(node)\n",
        "    elif node.right is not None and node.right.color == \"red\" and node.right.right is not None and node.right.right.color == \"red\":\n",
        "      node = split(node)\n",
        "    else:\n",
        "      node = node.parent\n",
        "    tree.color = \"black\""
      ],
      "metadata": {
        "id": "MfsMsJUIHPf0"
      },
      "execution_count": null,
      "outputs": []
    },
    {
      "cell_type": "code",
      "source": [
        "def insert(tree: Node, key: Any):\n",
        "  parent = None\n",
        "  curr = tree\n",
        "\n",
        "  while curr is not None:\n",
        "    parent = curr\n",
        "    if key < curr.key:\n",
        "      curr = curr.left\n",
        "    else:\n",
        "      curr = curr.right\n",
        "\n",
        "  node = Node(key=key, color=\"red\")\n",
        "\n",
        "  if parent is None:\n",
        "    tree = node\n",
        "  else:\n",
        "    node.parent = parent\n",
        "    node.height = parent.height\n",
        "    if key < parent.key:\n",
        "      parent.left = node\n",
        "    else:\n",
        "      parent.right = node\n",
        "\n",
        "  insert_fix(tree, node)"
      ],
      "metadata": {
        "id": "7xE15u97EhJW"
      },
      "execution_count": null,
      "outputs": []
    },
    {
      "cell_type": "markdown",
      "source": [
        "## Удаление элемента"
      ],
      "metadata": {
        "id": "5P-DjqTjn2bC"
      }
    },
    {
      "cell_type": "markdown",
      "source": [
        "Рассмотрим 4 возможных случая\n",
        "\n",
        "Будем рассматривать случаи на следующем дереве"
      ],
      "metadata": {
        "id": "PharwR-Ptboc"
      }
    },
    {
      "cell_type": "markdown",
      "source": [
        "<img src=\"https://drive.google.com/uc?export=view&id=1kQj9u34pNae9Kp9qX9ypCxHhFD949yIp\" height=\"400\"/>"
      ],
      "metadata": {
        "id": "3w0Eb0bcujmh"
      }
    },
    {
      "cell_type": "markdown",
      "source": [
        "### Случай 1. Удаляем красный лист"
      ],
      "metadata": {
        "id": "8Sti6jl0tfBH"
      }
    },
    {
      "cell_type": "markdown",
      "source": [
        "Просто удаляем лист, ничего больше не нужно\n",
        "\n",
        "В нашем примере - нода **9**"
      ],
      "metadata": {
        "id": "TIOiR_eDuurp"
      }
    },
    {
      "cell_type": "markdown",
      "source": [
        "<img src=\"https://drive.google.com/uc?export=view&id=1gjwB0_RsynZukxvg6LlrBP9lsY-BgyN1\" height=\"400\"/>"
      ],
      "metadata": {
        "id": "nSq9iFeOuzKH"
      }
    },
    {
      "cell_type": "markdown",
      "source": [
        "### Случай 2. Удаляем черный лист с красной нодой"
      ],
      "metadata": {
        "id": "yNS2oMNKvChu"
      }
    },
    {
      "cell_type": "markdown",
      "source": [
        "- Удаляем ребенка\n",
        "- Заменяем значение ноды на значение ребенка\n",
        "- Перекрашиваем ноду в черный"
      ],
      "metadata": {
        "id": "-lVfYBUgtePG"
      }
    },
    {
      "cell_type": "markdown",
      "source": [
        "В нашем примере - нода **8**"
      ],
      "metadata": {
        "id": "ImsPPbpdvbG1"
      }
    },
    {
      "cell_type": "markdown",
      "source": [
        "<img src=\"https://drive.google.com/uc?export=view&id=1kQj9u34pNae9Kp9qX9ypCxHhFD949yIp\" height=\"400\"/>"
      ],
      "metadata": {
        "id": "EQgLy0BwvwMD"
      }
    },
    {
      "cell_type": "markdown",
      "source": [
        "<img src=\"https://drive.google.com/uc?export=view&id=1IF8fvz_IxaqnDfnK93MOD9y7fri_XG-s\" height=\"400\"/>"
      ],
      "metadata": {
        "id": "iYZqjXNVvgwy"
      }
    },
    {
      "cell_type": "markdown",
      "source": [
        "### Чекпоинт 3"
      ],
      "metadata": {
        "id": "J1sP2Qh10C7R"
      }
    },
    {
      "cell_type": "code",
      "source": [
        "# Функция удаления красного листа\n",
        "# node - красный лист\n",
        "def delete_red_leaf(node: Node):\n",
        "  parent = node.parent\n",
        "  parent.right = None\n",
        "\n",
        "  # не обязательно :)\n",
        "  node.parent = None\n"
      ],
      "metadata": {
        "id": "hteGPEuB5xGS"
      },
      "execution_count": null,
      "outputs": []
    },
    {
      "cell_type": "code",
      "source": [
        "# Функция удаления черного листа с красной нодой\n",
        "# node - черный лист\n",
        "def remove_black_leaf_red_right(node: Node):\n",
        "  node.key = node.right.key\n",
        "  delete_red_leaf(node.right)"
      ],
      "metadata": {
        "id": "aJFvBakz6OYH"
      },
      "execution_count": null,
      "outputs": []
    },
    {
      "cell_type": "markdown",
      "source": [
        "### Случай 3. Удаляем ноду с двумя детьми"
      ],
      "metadata": {
        "id": "tq6V9Onvv09j"
      }
    },
    {
      "cell_type": "markdown",
      "source": [
        "Для замены значения в удаляемой ноде нам необходимо найти некоторый узел\\\n",
        "Назовем этот узел **наследником**\n",
        "\n",
        "В зависимости от реализации наследниками могут быть:\n",
        "- Минимальное значение, большее чем текущее (\"потомок\")\n",
        "- Максимальное значение, меньшее чем текущее (\"предшественник\")\n",
        "\n",
        "Для реализации будем трактовать наследника как потомка"
      ],
      "metadata": {
        "id": "5iIRoRl4v9Ao"
      }
    },
    {
      "cell_type": "markdown",
      "source": [
        "Заменяем удаляемую ноду наследником и обрабатываем наследника:\n",
        "- Если наследник - черный лист с красной нодой, обрабатываем как второй случай\n",
        "- Иначе - см. случай 4"
      ],
      "metadata": {
        "id": "0roMO0yl5dz1"
      }
    },
    {
      "cell_type": "code",
      "source": [
        "def find_successor(node: Node):\n",
        "  successor = node.right\n",
        "\n",
        "  while successor.left is not None:\n",
        "    successor = successor.left\n",
        "\n",
        "  return successor"
      ],
      "metadata": {
        "id": "Pp2Gbx3b6yNU"
      },
      "execution_count": null,
      "outputs": []
    },
    {
      "cell_type": "markdown",
      "source": [
        "##### Наследник с красной нодой"
      ],
      "metadata": {
        "id": "jP7aLEZX6IvZ"
      }
    },
    {
      "cell_type": "markdown",
      "source": [
        "Удалим ноду **18**\\\n",
        "Наследник для нее - нода **24**"
      ],
      "metadata": {
        "id": "DPTHfEHj_MPn"
      }
    },
    {
      "cell_type": "markdown",
      "source": [
        "<img src=\"https://drive.google.com/uc?export=view&id=1kQj9u34pNae9Kp9qX9ypCxHhFD949yIp\" height=\"400\"/>"
      ],
      "metadata": {
        "id": "QCkG3Ozc6Cpj"
      }
    },
    {
      "cell_type": "markdown",
      "source": [
        "<img src=\"https://drive.google.com/uc?export=view&id=1BFOQIaxcOz7oykyItJ8xxDC26Wg7-5CQ\" height=\"400\"/>"
      ],
      "metadata": {
        "id": "qigXoF5f_bkf"
      }
    },
    {
      "cell_type": "markdown",
      "source": [
        "#### Чекпоинт 4"
      ],
      "metadata": {
        "id": "tHVjSqm_0lBM"
      }
    },
    {
      "cell_type": "code",
      "source": [
        "# Функция удаления ноды, наследник с красной нодой\n",
        "# node - удаляемая нода\n",
        "def delete_with_red_node_successor(node: Node)\n",
        "  successor = find_successor(node)\n",
        "\n",
        "  node.key = successor.key\n",
        "  remove_black_leaf_red_right(successor)"
      ],
      "metadata": {
        "id": "a2CJYHhl7IzF"
      },
      "execution_count": null,
      "outputs": []
    },
    {
      "cell_type": "markdown",
      "source": [
        "### Случай 4. Удаляем черный лист"
      ],
      "metadata": {
        "id": "Qq8coZlg_1oj"
      }
    },
    {
      "cell_type": "markdown",
      "source": [
        "- Удаляем ноду\n",
        "- Идем от удаленной ноды до корня\n",
        "- Для каждой ноды ($p$) на пути с двумя детьми делаем следующее:\n",
        "  - Если есть ребенок с высотой с разницей в 2 по сравнению с текущим:\n",
        "    - Уменьшаем высоту $p$\n",
        "    - Если правый ребенок - красный, уменьшаем и его высоту\n",
        "  - При необходимости делаем\n",
        "    - skew($p$)\n",
        "    - skew($p.right$)\n",
        "    - skew($p.right.right$)\n",
        "    - split($p$)\n",
        "    - split($p.right$)\n",
        "  - Если $p$ - красный и у родителя высота больше, красим $p$ в черный"
      ],
      "metadata": {
        "id": "CHzwq2N2oUuF"
      }
    },
    {
      "cell_type": "markdown",
      "source": [
        "При уменьшении высоты, красим детей той же высоты в красный цвет"
      ],
      "metadata": {
        "id": "IlGpnho_lMwQ"
      }
    },
    {
      "cell_type": "markdown",
      "source": [
        "Для примера возьмем построенное выше дерево и попробуем удалить корень - **46**"
      ],
      "metadata": {
        "id": "-VTdxovgA2u1"
      }
    },
    {
      "cell_type": "markdown",
      "source": [
        "<img src=\"https://drive.google.com/uc?export=view&id=1rKNemlMOx84QT7zNZE1KEcC10gU9b_Ri\" height=\"200\"/>"
      ],
      "metadata": {
        "id": "Y8oGEkQ0Avyi"
      }
    },
    {
      "cell_type": "markdown",
      "source": [
        "Наследник корня - **55**\\\n",
        "Заменим значение и удалим наследника"
      ],
      "metadata": {
        "id": "z7Dm__viBBmR"
      }
    },
    {
      "cell_type": "markdown",
      "source": [
        "<img src=\"https://drive.google.com/uc?export=view&id=1xSjBOG9bAW7UCn2uG0mhNJD03R4OS7Nj\" height=\"200\"/>"
      ],
      "metadata": {
        "id": "X-4TeQCaSIyD"
      }
    },
    {
      "cell_type": "markdown",
      "source": [
        "У ноды 57 есть левый ребенок, который отличается по высоте от родителя на 2\\\n",
        "(у None высота = 0, у ноды 57 высота = 2)"
      ],
      "metadata": {
        "id": "BpfPP0JSSOke"
      }
    },
    {
      "cell_type": "markdown",
      "source": [
        "Уменьшаем высоту у ноды 57\\\n",
        "Тк у 57 есть правый ребенок высоты 1, красим его в красный"
      ],
      "metadata": {
        "id": "PpAPCTrSVUbO"
      }
    },
    {
      "cell_type": "markdown",
      "source": [
        "<img src=\"https://drive.google.com/uc?export=view&id=1xmxqC10x0ooC6DSlbzLvoBYEYTxgNgZL\" height=\"200\"/>"
      ],
      "metadata": {
        "id": "Wcr4ma_1VL1k"
      }
    },
    {
      "cell_type": "markdown",
      "source": [
        "Заметим что у ноды 68 есть ребенок, отличающийся по высоте на 2 (нода 57)\\\n",
        "Понизим высоту у ноды 68"
      ],
      "metadata": {
        "id": "gkF7oNBWVmag"
      }
    },
    {
      "cell_type": "markdown",
      "source": [
        "<img src=\"https://drive.google.com/uc?export=view&id=1tqEsiPCe9xqNzTj8aq4QsR0MFZqHBm0L\" height=\"200\"/>"
      ],
      "metadata": {
        "id": "SGN93_As2aq7"
      }
    },
    {
      "cell_type": "markdown",
      "source": [
        "Покрасим ноды на одной высоте в красный"
      ],
      "metadata": {
        "id": "SSbO_1WK2g_0"
      }
    },
    {
      "cell_type": "markdown",
      "source": [
        "<img src=\"https://drive.google.com/uc?export=view&id=1i7z_iE1wJlM8WSUgBhVl7sk9HYrXQ8NS\" height=\"200\"/>"
      ],
      "metadata": {
        "id": "-bMLrtYF2mVy"
      }
    },
    {
      "cell_type": "markdown",
      "source": [
        "Нода 68 красная, у ноды 55 высота на 1 выше => красим 68 в черное"
      ],
      "metadata": {
        "id": "rGzEO_Sn2-RM"
      }
    },
    {
      "cell_type": "markdown",
      "source": [
        "<img src=\"https://drive.google.com/uc?export=view&id=1xDdU2pKF4KLPQu2-YEWZm9rYrGKuGBA_\" height=\"200\"/>"
      ],
      "metadata": {
        "id": "dDgi3nlQ3Tjz"
      }
    },
    {
      "cell_type": "code",
      "source": [
        "def get_height(node: Node | None):\n",
        "  if node is None:\n",
        "    return 0\n",
        "  return node.height\n",
        "\n",
        "def check_skew(node: Node):\n",
        "  return node.left.height == node.height and node.left.color == \"red\"\n",
        "\n",
        "def check_split(node: Node):\n",
        "  child = node.right\n",
        "  grandson = child.right\n",
        "\n",
        "  return node.height == child.height and child.height == grandson.height and child.color == \"red\" and grandson.color == \"red\"\n",
        "\n",
        "def decrease_height(node: Node):\n",
        "  node.height -= 1\n",
        "  if get_height(node.right) == node.height:\n",
        "    node.right = \"red\"\n",
        "  elif get_height(node.left) == node.height:\n",
        "    node.left = \"red\"\n",
        "  return node\n",
        "\n",
        "def delete_black_leaf(node: Node):\n",
        "  successor = find_successor(node)\n",
        "\n",
        "  node.key = successor.key\n",
        "\n",
        "  p = successor.parent\n",
        "\n",
        "  if p.left == successor:\n",
        "    p.left = None\n",
        "  else:\n",
        "    p.right = None\n",
        "\n",
        "  while p.parent is not None:\n",
        "    height = get_height(p)\n",
        "    if height - get_height(p.right) > 1 or height - get_height(p.left) > 1:\n",
        "      p = decrease_height(p)\n",
        "      if get_height(p.right) > node.height or p.right.color == \"red\":\n",
        "        decrease_height(node.right)\n",
        "    if p.left is not None and check_skew(p):\n",
        "      p = skew(p)\n",
        "    if p.right is not None and p.right.left is not None and check_skew(p.right):\n",
        "      p.right = skew(p.right)\n",
        "    if p.right is not None and p.right.right is not None and p.right.right.left is not None and check_skew(p.right.right):\n",
        "      p.right.right = skew(p.right.right)\n",
        "    if p.right is not None and p.right.right is not None and check_split(p):\n",
        "      p = split(p)\n",
        "    if p.right is not None and p.right.right is not None and p.right.right.right is not None and check_split(p.right):\n",
        "      p.right = split(p.right)\n",
        "    if p.color == \"red\" and p.parent.height > p.height:\n",
        "      p.color = \"black\"\n",
        "\n",
        "    p = p.parent"
      ],
      "metadata": {
        "id": "yODh63USn4Dx"
      },
      "execution_count": null,
      "outputs": []
    },
    {
      "cell_type": "markdown",
      "source": [
        "### Собираем все в кучу"
      ],
      "metadata": {
        "id": "-0alcZLUB2-h"
      }
    },
    {
      "cell_type": "code",
      "source": [
        "def delete(tree: Node, key: Any):\n",
        "  node = tree\n",
        "\n",
        "  if key < node.key:\n",
        "    node = node.left\n",
        "  elif key > node.key:\n",
        "    node = node.right\n",
        "  else:\n",
        "    if node.color == \"red\" and node.height == 1:\n",
        "      delete_red_leaf(node)\n",
        "    elif node.color == \"black\" and node.height == 1 and node.right is not None:\n",
        "      remove_black_leaf_red_right(node)\n",
        "    elif node.right is not None and node.left is not None:\n",
        "      successor = find_successor(node)\n",
        "\n",
        "      if successor.height == 1 and successor.right is not None:\n",
        "        delete_with_red_node_successor(node)\n",
        "      else:\n",
        "        delete_black_leaf(node)\n",
        "    else:\n",
        "      delete_black_leaf(node)"
      ],
      "metadata": {
        "id": "8F7I7xEAB5Fs"
      },
      "execution_count": null,
      "outputs": []
    }
  ]
}