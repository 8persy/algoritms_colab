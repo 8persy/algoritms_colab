{
  "nbformat": 4,
  "nbformat_minor": 0,
  "metadata": {
    "colab": {
      "provenance": [],
      "toc_visible": true,
      "include_colab_link": true
    },
    "kernelspec": {
      "name": "python3",
      "display_name": "Python 3"
    },
    "language_info": {
      "name": "python"
    }
  },
  "cells": [
    {
      "cell_type": "markdown",
      "metadata": {
        "id": "view-in-github",
        "colab_type": "text"
      },
      "source": [
        "<a href=\"https://colab.research.google.com/github/8persy/algoritms_colab/blob/main/%2211_311_%D0%A1%D1%82%D0%B5%D0%BA%2C_%D0%BE%D1%87%D0%B5%D1%80%D0%B5%D0%B4%D1%8C%2C_%D0%B4%D0%B5%D0%BA_ipynb%22.ipynb\" target=\"_parent\"><img src=\"https://colab.research.google.com/assets/colab-badge.svg\" alt=\"Open In Colab\"/></a>"
      ]
    },
    {
      "cell_type": "markdown",
      "source": [
        "# Стек, очередь, дек"
      ],
      "metadata": {
        "id": "fYvcLiUmRCFR"
      }
    },
    {
      "cell_type": "markdown",
      "source": [
        "## Стек"
      ],
      "metadata": {
        "id": "NxrL9LEuRINf"
      }
    },
    {
      "cell_type": "markdown",
      "source": [
        "<img src=\"https://d585tldpucybw.cloudfront.net/sfimages/default-source/blogs/2020/2020-11/lifo.png\" height=\"600px\"/>"
      ],
      "metadata": {
        "id": "sxKexZnaRJ4t"
      }
    },
    {
      "cell_type": "markdown",
      "source": [
        "- Каждый элемент попадает \"вверх\" структуры\n",
        "- Вынимать элементы можно только \"сверху\"\n",
        "\n",
        "Таким образом, тот элемент что пришел раньше, будет \"ниже\" по сравнению с тем, что пришел позже (Last In, First Out)"
      ],
      "metadata": {
        "id": "9msypJmeSWXk"
      }
    },
    {
      "cell_type": "markdown",
      "source": [
        "**Какие методы должны быть у стека?**\n",
        "\n",
        "- **push**, положить элемент в стек\n",
        "- **pop**, достать элемент из стека\n",
        "- **peek**, вернуть (но не достать) верхний элемент\n",
        "\n",
        "Все методы выполняются за $ O(1) $"
      ],
      "metadata": {
        "id": "3KQ-xE1OS90P"
      }
    },
    {
      "cell_type": "markdown",
      "source": [
        "Можно реализовать ручками при помощи NodeItem\\\n",
        "[Документация python](https://docs.python.org/3/tutorial/datastructures.html#using-lists-as-stacks) настаивает на использовании списков как стека"
      ],
      "metadata": {
        "id": "ZSkG0NmYTtIK"
      }
    },
    {
      "cell_type": "markdown",
      "source": [
        "### Реализация стека ручками"
      ],
      "metadata": {
        "id": "jLrzcnyCUEHm"
      }
    },
    {
      "cell_type": "code",
      "source": [
        "from __future__ import annotations\n",
        "import dataclasses\n",
        "\n",
        "@dataclasses.dataclass\n",
        "class NodeItem:\n",
        "  data: int\n",
        "  next: NodeItem | None"
      ],
      "metadata": {
        "id": "qng8gQSMo25_"
      },
      "execution_count": null,
      "outputs": []
    },
    {
      "cell_type": "code",
      "source": [
        "class ClassicStack:\n",
        "  def __init__(self):\n",
        "    self.__head = None\n",
        "\n",
        "  def peek(self):\n",
        "    if self.__head is None:\n",
        "      return None\n",
        "    else:\n",
        "      return self.__head.data\n",
        "\n",
        "  def push(self, data: int):\n",
        "    if self.__head is None:\n",
        "      self.__head = NodeItem(data=data, next=None)\n",
        "    else:\n",
        "      new_elem = NodeItem(data=data, next=self.__head)\n",
        "      self.__head = new_elem\n",
        "\n",
        "  def pop(self):\n",
        "    if self.__head is None:\n",
        "      return None\n",
        "    else:\n",
        "      data = self.__head.data\n",
        "      self.__head = self.__head.next\n",
        "      return data\n",
        "\n",
        "  def __repr__(self):\n",
        "    return self.__head.__repr__()\n"
      ],
      "metadata": {
        "id": "RBdc2Y6IUMaq"
      },
      "execution_count": null,
      "outputs": []
    },
    {
      "cell_type": "code",
      "source": [
        "classic_stack = ClassicStack()"
      ],
      "metadata": {
        "id": "ADZEaWI0Vptb"
      },
      "execution_count": null,
      "outputs": []
    },
    {
      "cell_type": "code",
      "source": [
        "classic_stack.push(12)"
      ],
      "metadata": {
        "id": "A0RKXKdUVsvj"
      },
      "execution_count": null,
      "outputs": []
    },
    {
      "cell_type": "code",
      "source": [
        "classic_stack"
      ],
      "metadata": {
        "colab": {
          "base_uri": "https://localhost:8080/"
        },
        "id": "YN1oVUYRV01I",
        "outputId": "83dea4e7-fe0d-494e-ba4e-f47f1f3195ff"
      },
      "execution_count": null,
      "outputs": [
        {
          "output_type": "execute_result",
          "data": {
            "text/plain": [
              "NodeItem(data=12, next=None)"
            ]
          },
          "metadata": {},
          "execution_count": 11
        }
      ]
    },
    {
      "cell_type": "code",
      "source": [
        "classic_stack.peek()"
      ],
      "metadata": {
        "colab": {
          "base_uri": "https://localhost:8080/"
        },
        "id": "PWFNIxtGV2cV",
        "outputId": "dff7ca3f-1084-4919-e5e7-5272b7ac4d90"
      },
      "execution_count": null,
      "outputs": [
        {
          "output_type": "execute_result",
          "data": {
            "text/plain": [
              "12"
            ]
          },
          "metadata": {},
          "execution_count": 12
        }
      ]
    },
    {
      "cell_type": "code",
      "source": [
        "classic_stack.push(5)"
      ],
      "metadata": {
        "id": "WTSxo2wvV42i"
      },
      "execution_count": null,
      "outputs": []
    },
    {
      "cell_type": "code",
      "source": [
        "classic_stack"
      ],
      "metadata": {
        "colab": {
          "base_uri": "https://localhost:8080/"
        },
        "id": "p29rH0eWV7gB",
        "outputId": "58030ea8-5a54-4920-e083-01cc9cb9e0e9"
      },
      "execution_count": null,
      "outputs": [
        {
          "output_type": "execute_result",
          "data": {
            "text/plain": [
              "NodeItem(data=5, next=NodeItem(data=12, next=None))"
            ]
          },
          "metadata": {},
          "execution_count": 14
        }
      ]
    },
    {
      "cell_type": "code",
      "source": [
        "classic_stack.pop()"
      ],
      "metadata": {
        "colab": {
          "base_uri": "https://localhost:8080/"
        },
        "id": "Vpz1BNNSV9Ue",
        "outputId": "bb9bb901-10db-41f3-bacc-bd40ba5b8770"
      },
      "execution_count": null,
      "outputs": [
        {
          "output_type": "execute_result",
          "data": {
            "text/plain": [
              "5"
            ]
          },
          "metadata": {},
          "execution_count": 15
        }
      ]
    },
    {
      "cell_type": "code",
      "source": [
        "classic_stack"
      ],
      "metadata": {
        "colab": {
          "base_uri": "https://localhost:8080/"
        },
        "id": "y3_N0BOiV_ng",
        "outputId": "3a950143-8225-4c9f-cfc7-6036ac2dcf70"
      },
      "execution_count": null,
      "outputs": [
        {
          "output_type": "execute_result",
          "data": {
            "text/plain": [
              "NodeItem(data=12, next=None)"
            ]
          },
          "metadata": {},
          "execution_count": 16
        }
      ]
    },
    {
      "cell_type": "markdown",
      "source": [
        "### Где стеки применяются"
      ],
      "metadata": {
        "id": "IbR7t-Q8UHt6"
      }
    },
    {
      "cell_type": "markdown",
      "source": [
        "Необходимо перевернуть и применить последовательность\n",
        "- Отмена действий в редакторах\n",
        "- Вычисление математических выражений\n",
        "- Парсинг синтаксиса\n"
      ],
      "metadata": {
        "id": "2MhtI4k9WKNE"
      }
    },
    {
      "cell_type": "markdown",
      "source": [
        "### Стек действий"
      ],
      "metadata": {
        "id": "MgNXtlFZWr8J"
      }
    },
    {
      "cell_type": "markdown",
      "source": [
        "Сделаем кастомный стек действий для работы (и отмены наших действий с CLI Python), а так же простой интерфейс для этого"
      ],
      "metadata": {
        "id": "LGIhk_9iWyQf"
      }
    },
    {
      "cell_type": "markdown",
      "source": [
        "#### Работа с CLI"
      ],
      "metadata": {
        "id": "3wETP0RlYSl0"
      }
    },
    {
      "cell_type": "markdown",
      "source": [
        "**Что будем использовать в работе с CLI?**\n",
        "\n",
        "**eval** для вычисления **выражений**"
      ],
      "metadata": {
        "id": "f2HwzVebXEmG"
      }
    },
    {
      "cell_type": "code",
      "source": [
        "1 + 4"
      ],
      "metadata": {
        "colab": {
          "base_uri": "https://localhost:8080/"
        },
        "id": "USB_2qX2XZZ1",
        "outputId": "5bfaacce-4168-4a7d-ab71-3fe712ee834f"
      },
      "execution_count": null,
      "outputs": [
        {
          "output_type": "execute_result",
          "data": {
            "text/plain": [
              "5"
            ]
          },
          "metadata": {},
          "execution_count": 17
        }
      ]
    },
    {
      "cell_type": "code",
      "source": [
        "eval(\"1 + 6\")"
      ],
      "metadata": {
        "colab": {
          "base_uri": "https://localhost:8080/"
        },
        "id": "C78BdW64XcaN",
        "outputId": "86b4e036-765f-48e7-cbb4-0df5a27ca636"
      },
      "execution_count": null,
      "outputs": [
        {
          "output_type": "execute_result",
          "data": {
            "text/plain": [
              "7"
            ]
          },
          "metadata": {},
          "execution_count": 19
        }
      ]
    },
    {
      "cell_type": "code",
      "source": [
        "b = 5\n",
        "eval(\"b + 1\")"
      ],
      "metadata": {
        "colab": {
          "base_uri": "https://localhost:8080/"
        },
        "id": "HhMPHMIxXgFD",
        "outputId": "ff087f67-ebdf-44b7-8947-0e2cd0f5679b"
      },
      "execution_count": null,
      "outputs": [
        {
          "output_type": "execute_result",
          "data": {
            "text/plain": [
              "6"
            ]
          },
          "metadata": {},
          "execution_count": 20
        }
      ]
    },
    {
      "cell_type": "markdown",
      "source": [
        "**exec** для исполнения кода изменения переменных"
      ],
      "metadata": {
        "id": "fF3bLT9lX3JI"
      }
    },
    {
      "cell_type": "code",
      "source": [
        "exec(\"b = 7\")\n",
        "\n",
        "b"
      ],
      "metadata": {
        "colab": {
          "base_uri": "https://localhost:8080/"
        },
        "id": "h3DWko8oXkyz",
        "outputId": "ecce9c66-ab30-47ed-ad2f-5e6f21bd2b40"
      },
      "execution_count": null,
      "outputs": [
        {
          "output_type": "execute_result",
          "data": {
            "text/plain": [
              "7"
            ]
          },
          "metadata": {},
          "execution_count": 21
        }
      ]
    },
    {
      "cell_type": "code",
      "source": [
        "exec(\"b *= 2\")\n",
        "\n",
        "eval(\"b**2\")"
      ],
      "metadata": {
        "colab": {
          "base_uri": "https://localhost:8080/"
        },
        "id": "awVZOC4PXpKr",
        "outputId": "a78dc29e-a756-4619-9b09-b0531f84c68e"
      },
      "execution_count": null,
      "outputs": [
        {
          "output_type": "execute_result",
          "data": {
            "text/plain": [
              "196"
            ]
          },
          "metadata": {},
          "execution_count": 22
        }
      ]
    },
    {
      "cell_type": "markdown",
      "source": [
        "**globals()** для получения текущих переменных\\\n",
        "**del** для удаления переменных"
      ],
      "metadata": {
        "id": "zC861wcXX7oH"
      }
    },
    {
      "cell_type": "code",
      "source": [
        "globals()"
      ],
      "metadata": {
        "colab": {
          "base_uri": "https://localhost:8080/"
        },
        "id": "fBpW83klXwJi",
        "outputId": "b58ffaee-0732-47ef-be99-d18987a28cc5"
      },
      "execution_count": null,
      "outputs": [
        {
          "output_type": "execute_result",
          "data": {
            "text/plain": [
              "{'__name__': '__main__',\n",
              " '__doc__': 'Automatically created module for IPython interactive environment',\n",
              " '__package__': None,\n",
              " '__loader__': None,\n",
              " '__spec__': None,\n",
              " '__builtin__': <module 'builtins' (built-in)>,\n",
              " '__builtins__': <module 'builtins' (built-in)>,\n",
              " '_ih': ['',\n",
              "  'class ActionStack:\\n  def __init__(self):\\n    self.__stack = []\\n\\n  def push(self, elem):\\n    self.__stack.append(elem)\\n\\n  def peek(self):\\n    if len(self.__stack) == 0:\\n      return None\\n    return self.__stack[-1]\\n  \\n  def pop(self, globs):\\n    if len(self.__stack) == 0:\\n      return None\\n    else:\\n      last_elem = self.__stack[-1]\\n      parts = last_elem.split(\"=\")\\n      var = parts[0]\\n      exec(f\"del {var}\",globs)\\n      self.__stack = self.__stack[:-1]\\n      return last_elem\\n  \\n  def apply_actions(self, globs):\\n    for elem in self.__stack[::-1]:\\n      exec(elem, globs)',\n",
              "  'action_stack = ActionStack()',\n",
              "  'action_stack.apply_actions(globals())\\n\\ndef is_exec(cmd):\\n  exec_parts = [\"=\", \"del\"]\\n  for part in exec_parts:\\n    if part in cmd:\\n      return True\\n  return False\\n\\n\\nwhile True:\\n  text = input()\\n  globs = globals()\\n\\n  if text == \"\\\\q\":\\n    break\\n  elif text == \"\\\\p\":\\n    action_stack.pop(globs)\\n    action_stack.apply_actions(globs)\\n  elif text == \"\\\\l\":\\n    print(action_stack.peek())\\n  elif is_exec(text):\\n    action_stack.push(text)\\n    exec(text, globs)\\n  else:\\n    try:\\n      print(eval(text))\\n    except NameError:\\n      print(\"Неверный запрос\")',\n",
              "  'text',\n",
              "  'from __future__ import annotations\\nimport dataclasses\\n\\n@dataclasses.dataclass\\nclass NodeItem:\\n  data: int\\n  next: NodeItem | None\\n\\nclass ClassicStack:\\n  def __init__(self):\\n    self.__head = None\\n\\n  def peek(self):\\n    if self.__head is None:\\n      return None\\n    else:\\n      return self.__head.data\\n\\n  def push(self, data: int):\\n    if self.__head is None:\\n      self.__head = NodeItem(data=data)\\n    else:\\n      new_elem = NodeItem(data=data, next=self.__head)\\n      self.__head = new_elem\\n\\n  def pop(self):\\n    if self.__head is None:\\n      return None\\n    else:\\n      data = self.__head.data\\n      self.__head = self.__head.next\\n      return data\\n\\n  def __repr__(self):\\n    return self.__head.__repr__()',\n",
              "  'classic_stack = ClassicStack()',\n",
              "  'classic_stack.push(12)',\n",
              "  'from __future__ import annotations\\nimport dataclasses\\n\\n@dataclasses.dataclass\\nclass NodeItem:\\n  data: int\\n  next: NodeItem | None\\n\\nclass ClassicStack:\\n  def __init__(self):\\n    self.__head = None\\n\\n  def peek(self):\\n    if self.__head is None:\\n      return None\\n    else:\\n      return self.__head.data\\n\\n  def push(self, data: int):\\n    if self.__head is None:\\n      self.__head = NodeItem(data=data, next=None)\\n    else:\\n      new_elem = NodeItem(data=data, next=self.__head)\\n      self.__head = new_elem\\n\\n  def pop(self):\\n    if self.__head is None:\\n      return None\\n    else:\\n      data = self.__head.data\\n      self.__head = self.__head.next\\n      return data\\n\\n  def __repr__(self):\\n    return self.__head.__repr__()',\n",
              "  'classic_stack = ClassicStack()',\n",
              "  'classic_stack.push(12)',\n",
              "  'classic_stack',\n",
              "  'classic_stack.peek()',\n",
              "  'classic_stack.push(5)',\n",
              "  'classic_stack',\n",
              "  'classic_stack.pop()',\n",
              "  'classic_stack',\n",
              "  '1 + 4',\n",
              "  'eval(\"1 + 4\")',\n",
              "  'eval(\"1 + 6\")',\n",
              "  'b = 5\\neval(\"b + 1\")',\n",
              "  'exec(\"b = 7\")\\n\\nb',\n",
              "  'exec(\"b *= 2\")\\n\\neval(\"b**2\")',\n",
              "  'globals()'],\n",
              " '_oh': {4: '\\\\q',\n",
              "  11: NodeItem(data=12, next=None),\n",
              "  12: 12,\n",
              "  14: NodeItem(data=12, next=None),\n",
              "  15: 5,\n",
              "  16: NodeItem(data=12, next=None),\n",
              "  17: 5,\n",
              "  18: 5,\n",
              "  19: 7,\n",
              "  20: 6,\n",
              "  21: 7,\n",
              "  22: 196},\n",
              " '_dh': ['/content'],\n",
              " 'In': ['',\n",
              "  'class ActionStack:\\n  def __init__(self):\\n    self.__stack = []\\n\\n  def push(self, elem):\\n    self.__stack.append(elem)\\n\\n  def peek(self):\\n    if len(self.__stack) == 0:\\n      return None\\n    return self.__stack[-1]\\n  \\n  def pop(self, globs):\\n    if len(self.__stack) == 0:\\n      return None\\n    else:\\n      last_elem = self.__stack[-1]\\n      parts = last_elem.split(\"=\")\\n      var = parts[0]\\n      exec(f\"del {var}\",globs)\\n      self.__stack = self.__stack[:-1]\\n      return last_elem\\n  \\n  def apply_actions(self, globs):\\n    for elem in self.__stack[::-1]:\\n      exec(elem, globs)',\n",
              "  'action_stack = ActionStack()',\n",
              "  'action_stack.apply_actions(globals())\\n\\ndef is_exec(cmd):\\n  exec_parts = [\"=\", \"del\"]\\n  for part in exec_parts:\\n    if part in cmd:\\n      return True\\n  return False\\n\\n\\nwhile True:\\n  text = input()\\n  globs = globals()\\n\\n  if text == \"\\\\q\":\\n    break\\n  elif text == \"\\\\p\":\\n    action_stack.pop(globs)\\n    action_stack.apply_actions(globs)\\n  elif text == \"\\\\l\":\\n    print(action_stack.peek())\\n  elif is_exec(text):\\n    action_stack.push(text)\\n    exec(text, globs)\\n  else:\\n    try:\\n      print(eval(text))\\n    except NameError:\\n      print(\"Неверный запрос\")',\n",
              "  'text',\n",
              "  'from __future__ import annotations\\nimport dataclasses\\n\\n@dataclasses.dataclass\\nclass NodeItem:\\n  data: int\\n  next: NodeItem | None\\n\\nclass ClassicStack:\\n  def __init__(self):\\n    self.__head = None\\n\\n  def peek(self):\\n    if self.__head is None:\\n      return None\\n    else:\\n      return self.__head.data\\n\\n  def push(self, data: int):\\n    if self.__head is None:\\n      self.__head = NodeItem(data=data)\\n    else:\\n      new_elem = NodeItem(data=data, next=self.__head)\\n      self.__head = new_elem\\n\\n  def pop(self):\\n    if self.__head is None:\\n      return None\\n    else:\\n      data = self.__head.data\\n      self.__head = self.__head.next\\n      return data\\n\\n  def __repr__(self):\\n    return self.__head.__repr__()',\n",
              "  'classic_stack = ClassicStack()',\n",
              "  'classic_stack.push(12)',\n",
              "  'from __future__ import annotations\\nimport dataclasses\\n\\n@dataclasses.dataclass\\nclass NodeItem:\\n  data: int\\n  next: NodeItem | None\\n\\nclass ClassicStack:\\n  def __init__(self):\\n    self.__head = None\\n\\n  def peek(self):\\n    if self.__head is None:\\n      return None\\n    else:\\n      return self.__head.data\\n\\n  def push(self, data: int):\\n    if self.__head is None:\\n      self.__head = NodeItem(data=data, next=None)\\n    else:\\n      new_elem = NodeItem(data=data, next=self.__head)\\n      self.__head = new_elem\\n\\n  def pop(self):\\n    if self.__head is None:\\n      return None\\n    else:\\n      data = self.__head.data\\n      self.__head = self.__head.next\\n      return data\\n\\n  def __repr__(self):\\n    return self.__head.__repr__()',\n",
              "  'classic_stack = ClassicStack()',\n",
              "  'classic_stack.push(12)',\n",
              "  'classic_stack',\n",
              "  'classic_stack.peek()',\n",
              "  'classic_stack.push(5)',\n",
              "  'classic_stack',\n",
              "  'classic_stack.pop()',\n",
              "  'classic_stack',\n",
              "  '1 + 4',\n",
              "  'eval(\"1 + 4\")',\n",
              "  'eval(\"1 + 6\")',\n",
              "  'b = 5\\neval(\"b + 1\")',\n",
              "  'exec(\"b = 7\")\\n\\nb',\n",
              "  'exec(\"b *= 2\")\\n\\neval(\"b**2\")',\n",
              "  'globals()'],\n",
              " 'Out': {4: '\\\\q',\n",
              "  11: NodeItem(data=12, next=None),\n",
              "  12: 12,\n",
              "  14: NodeItem(data=12, next=None),\n",
              "  15: 5,\n",
              "  16: NodeItem(data=12, next=None),\n",
              "  17: 5,\n",
              "  18: 5,\n",
              "  19: 7,\n",
              "  20: 6,\n",
              "  21: 7,\n",
              "  22: 196},\n",
              " 'get_ipython': <bound method InteractiveShell.get_ipython of <google.colab._shell.Shell object at 0x7ce01e16f880>>,\n",
              " 'exit': <IPython.core.autocall.ZMQExitAutocall at 0x7ce01e16fe20>,\n",
              " 'quit': <IPython.core.autocall.ZMQExitAutocall at 0x7ce01e16fe20>,\n",
              " '_': 196,\n",
              " '__': 7,\n",
              " '___': 6,\n",
              " '_i': 'exec(\"b *= 2\")\\n\\neval(\"b**2\")',\n",
              " '_ii': 'exec(\"b = 7\")\\n\\nb',\n",
              " '_iii': 'b = 5\\neval(\"b + 1\")',\n",
              " '_i1': 'class ActionStack:\\n  def __init__(self):\\n    self.__stack = []\\n\\n  def push(self, elem):\\n    self.__stack.append(elem)\\n\\n  def peek(self):\\n    if len(self.__stack) == 0:\\n      return None\\n    return self.__stack[-1]\\n  \\n  def pop(self, globs):\\n    if len(self.__stack) == 0:\\n      return None\\n    else:\\n      last_elem = self.__stack[-1]\\n      parts = last_elem.split(\"=\")\\n      var = parts[0]\\n      exec(f\"del {var}\",globs)\\n      self.__stack = self.__stack[:-1]\\n      return last_elem\\n  \\n  def apply_actions(self, globs):\\n    for elem in self.__stack[::-1]:\\n      exec(elem, globs)',\n",
              " 'ActionStack': __main__.ActionStack,\n",
              " '_i2': 'action_stack = ActionStack()',\n",
              " 'action_stack': <__main__.ActionStack at 0x7cdfd5d4ebf0>,\n",
              " '_i3': 'action_stack.apply_actions(globals())\\n\\ndef is_exec(cmd):\\n  exec_parts = [\"=\", \"del\"]\\n  for part in exec_parts:\\n    if part in cmd:\\n      return True\\n  return False\\n\\n\\nwhile True:\\n  text = input()\\n  globs = globals()\\n\\n  if text == \"\\\\q\":\\n    break\\n  elif text == \"\\\\p\":\\n    action_stack.pop(globs)\\n    action_stack.apply_actions(globs)\\n  elif text == \"\\\\l\":\\n    print(action_stack.peek())\\n  elif is_exec(text):\\n    action_stack.push(text)\\n    exec(text, globs)\\n  else:\\n    try:\\n      print(eval(text))\\n    except NameError:\\n      print(\"Неверный запрос\")',\n",
              " 'is_exec': <function __main__.is_exec(cmd)>,\n",
              " 'text': '\\\\q',\n",
              " 'globs': {...},\n",
              " '_i4': 'text',\n",
              " '_4': '\\\\q',\n",
              " '_i5': 'from __future__ import annotations\\nimport dataclasses\\n\\n@dataclasses.dataclass\\nclass NodeItem:\\n  data: int\\n  next: NodeItem | None\\n\\nclass ClassicStack:\\n  def __init__(self):\\n    self.__head = None\\n\\n  def peek(self):\\n    if self.__head is None:\\n      return None\\n    else:\\n      return self.__head.data\\n\\n  def push(self, data: int):\\n    if self.__head is None:\\n      self.__head = NodeItem(data=data)\\n    else:\\n      new_elem = NodeItem(data=data, next=self.__head)\\n      self.__head = new_elem\\n\\n  def pop(self):\\n    if self.__head is None:\\n      return None\\n    else:\\n      data = self.__head.data\\n      self.__head = self.__head.next\\n      return data\\n\\n  def __repr__(self):\\n    return self.__head.__repr__()',\n",
              " 'annotations': _Feature((3, 7, 0, 'beta', 1), (3, 11, 0, 'alpha', 0), 16777216),\n",
              " 'dataclasses': <module 'dataclasses' from '/usr/lib/python3.10/dataclasses.py'>,\n",
              " 'NodeItem': __main__.NodeItem,\n",
              " 'ClassicStack': __main__.ClassicStack,\n",
              " '_i6': 'classic_stack = ClassicStack()',\n",
              " 'classic_stack': NodeItem(data=12, next=None),\n",
              " '_i7': 'classic_stack.push(12)',\n",
              " '_i8': 'from __future__ import annotations\\nimport dataclasses\\n\\n@dataclasses.dataclass\\nclass NodeItem:\\n  data: int\\n  next: NodeItem | None\\n\\nclass ClassicStack:\\n  def __init__(self):\\n    self.__head = None\\n\\n  def peek(self):\\n    if self.__head is None:\\n      return None\\n    else:\\n      return self.__head.data\\n\\n  def push(self, data: int):\\n    if self.__head is None:\\n      self.__head = NodeItem(data=data, next=None)\\n    else:\\n      new_elem = NodeItem(data=data, next=self.__head)\\n      self.__head = new_elem\\n\\n  def pop(self):\\n    if self.__head is None:\\n      return None\\n    else:\\n      data = self.__head.data\\n      self.__head = self.__head.next\\n      return data\\n\\n  def __repr__(self):\\n    return self.__head.__repr__()',\n",
              " '_i9': 'classic_stack = ClassicStack()',\n",
              " '_i10': 'classic_stack.push(12)',\n",
              " '_i11': 'classic_stack',\n",
              " '_11': NodeItem(data=12, next=None),\n",
              " '_i12': 'classic_stack.peek()',\n",
              " '_12': 12,\n",
              " '_i13': 'classic_stack.push(5)',\n",
              " '_i14': 'classic_stack',\n",
              " '_14': NodeItem(data=12, next=None),\n",
              " '_i15': 'classic_stack.pop()',\n",
              " '_15': 5,\n",
              " '_i16': 'classic_stack',\n",
              " '_16': NodeItem(data=12, next=None),\n",
              " '_i17': '1 + 4',\n",
              " '_17': 5,\n",
              " '_i18': 'eval(\"1 + 4\")',\n",
              " '_18': 5,\n",
              " '_i19': 'eval(\"1 + 6\")',\n",
              " '_19': 7,\n",
              " '_i20': 'b = 5\\neval(\"b + 1\")',\n",
              " 'b': 14,\n",
              " '_20': 6,\n",
              " '_i21': 'exec(\"b = 7\")\\n\\nb',\n",
              " '_21': 7,\n",
              " '_i22': 'exec(\"b *= 2\")\\n\\neval(\"b**2\")',\n",
              " '_22': 196,\n",
              " '_i23': 'globals()'}"
            ]
          },
          "metadata": {},
          "execution_count": 23
        }
      ]
    },
    {
      "cell_type": "code",
      "source": [
        "_i21"
      ],
      "metadata": {
        "colab": {
          "base_uri": "https://localhost:8080/",
          "height": 35
        },
        "id": "Os5JgMYsYB7o",
        "outputId": "19f76c65-550a-4948-9dc6-9cb544dcb8d9"
      },
      "execution_count": null,
      "outputs": [
        {
          "output_type": "execute_result",
          "data": {
            "text/plain": [
              "'exec(\"b = 7\")\\n\\nb'"
            ],
            "application/vnd.google.colaboratory.intrinsic+json": {
              "type": "string"
            }
          },
          "metadata": {},
          "execution_count": 26
        }
      ]
    },
    {
      "cell_type": "code",
      "source": [
        "b"
      ],
      "metadata": {
        "colab": {
          "base_uri": "https://localhost:8080/"
        },
        "id": "q76vWqk9YKwQ",
        "outputId": "0c77da67-570b-42d8-ee26-3892a81a5bd3"
      },
      "execution_count": null,
      "outputs": [
        {
          "output_type": "execute_result",
          "data": {
            "text/plain": [
              "14"
            ]
          },
          "metadata": {},
          "execution_count": 27
        }
      ]
    },
    {
      "cell_type": "code",
      "source": [
        "del b"
      ],
      "metadata": {
        "id": "dDvqyj33YNL8"
      },
      "execution_count": null,
      "outputs": []
    },
    {
      "cell_type": "code",
      "source": [
        "b"
      ],
      "metadata": {
        "colab": {
          "base_uri": "https://localhost:8080/",
          "height": 144
        },
        "id": "xEaugKsXYO4Q",
        "outputId": "e6e8eb77-85f3-4980-9be0-de6c22b183ab"
      },
      "execution_count": null,
      "outputs": [
        {
          "output_type": "error",
          "ename": "NameError",
          "evalue": "name 'b' is not defined",
          "traceback": [
            "\u001b[0;31m---------------------------------------------------------------------------\u001b[0m",
            "\u001b[0;31mNameError\u001b[0m                                 Traceback (most recent call last)",
            "\u001b[0;32m<ipython-input-29-89e6c98d9288>\u001b[0m in \u001b[0;36m<cell line: 1>\u001b[0;34m()\u001b[0m\n\u001b[0;32m----> 1\u001b[0;31m \u001b[0mb\u001b[0m\u001b[0;34m\u001b[0m\u001b[0;34m\u001b[0m\u001b[0m\n\u001b[0m",
            "\u001b[0;31mNameError\u001b[0m: name 'b' is not defined"
          ]
        }
      ]
    },
    {
      "cell_type": "markdown",
      "source": [
        "#### exec и globals"
      ],
      "metadata": {
        "id": "CXw7zApwcvcs"
      }
    },
    {
      "cell_type": "code",
      "source": [
        "def make_b_4():\n",
        "  exec(\"b = 4\")"
      ],
      "metadata": {
        "id": "ymeVqTCBcP9c"
      },
      "execution_count": null,
      "outputs": []
    },
    {
      "cell_type": "code",
      "source": [
        "make_b_4()"
      ],
      "metadata": {
        "id": "OVTSPlQjceUw"
      },
      "execution_count": null,
      "outputs": []
    },
    {
      "cell_type": "code",
      "source": [
        "b = 5"
      ],
      "metadata": {
        "id": "I5aauMnacoxk"
      },
      "execution_count": null,
      "outputs": []
    },
    {
      "cell_type": "code",
      "source": [
        "make_b_4()"
      ],
      "metadata": {
        "id": "aV_SDMkecqy2"
      },
      "execution_count": null,
      "outputs": []
    },
    {
      "cell_type": "code",
      "source": [
        "b"
      ],
      "metadata": {
        "colab": {
          "base_uri": "https://localhost:8080/"
        },
        "id": "vE4MsMizctMi",
        "outputId": "728ad38c-1563-49eb-d9df-7a00f6c609f4"
      },
      "execution_count": null,
      "outputs": [
        {
          "output_type": "execute_result",
          "data": {
            "text/plain": [
              "5"
            ]
          },
          "metadata": {},
          "execution_count": 40
        }
      ]
    },
    {
      "cell_type": "markdown",
      "source": [
        "**Почему так?**\\\n",
        "Потому что globals в ячейке make_b_4 и в ячейках ниже разные\\\n",
        "**Что делать?**\\\n",
        "Пробрасывать globals в функцию"
      ],
      "metadata": {
        "id": "khxy32ETczSV"
      }
    },
    {
      "cell_type": "code",
      "source": [
        "def make_b_4(globs):\n",
        "  exec(\"b = 4\", globs)"
      ],
      "metadata": {
        "id": "Oh6uRmGadE2n"
      },
      "execution_count": null,
      "outputs": []
    },
    {
      "cell_type": "code",
      "source": [
        "b"
      ],
      "metadata": {
        "colab": {
          "base_uri": "https://localhost:8080/"
        },
        "id": "YnO6bNgadKbh",
        "outputId": "e9a1a806-9641-42ad-9bef-4879d0bcd17e"
      },
      "execution_count": null,
      "outputs": [
        {
          "output_type": "execute_result",
          "data": {
            "text/plain": [
              "5"
            ]
          },
          "metadata": {},
          "execution_count": 42
        }
      ]
    },
    {
      "cell_type": "code",
      "source": [
        "make_b_4(globals())"
      ],
      "metadata": {
        "id": "jXzizNoadLxn"
      },
      "execution_count": null,
      "outputs": []
    },
    {
      "cell_type": "code",
      "source": [
        "b"
      ],
      "metadata": {
        "colab": {
          "base_uri": "https://localhost:8080/"
        },
        "id": "yRFYFzLVdOEg",
        "outputId": "064e39cc-c20b-4228-93ca-c4a37079ecaf"
      },
      "execution_count": null,
      "outputs": [
        {
          "output_type": "execute_result",
          "data": {
            "text/plain": [
              "4"
            ]
          },
          "metadata": {},
          "execution_count": 44
        }
      ]
    },
    {
      "cell_type": "markdown",
      "source": [
        "#### Чекпоинт 1\n",
        "\n",
        "**Класс стека действий**\n",
        "\n",
        "- Стек хранит список строк исполняемого (exec) кода в порядке его ввода с input\n",
        "```python\n",
        "stack = [\n",
        "  \"del a\",\n",
        "  \"arr[0] = 4\"\n",
        "  \"a = 15\"\n",
        "  \"arr = [1, 2, 3]\"\n",
        "]\n",
        "```\n",
        "- Должны быть реализованы все методы стека (pop, push, peek)\n",
        "- Должен быть реализован метод применения всего кода стека в хронологическом порядке порядке\n",
        "\n",
        "**Интерфейс**\n",
        "- Программа запускается и ждет ввода информации\n",
        "- Если пользователь ввел что-то из специальных команд, необходимо запустить соответствующую обработку\n",
        "- Если в строке не содержится ничего их признаков исполняемого кода, выводится **eval** введенного текста\n",
        "- Иначе - помещаем в стек код и выполняем его (не забываем про **globals**)\n",
        "\n",
        "**Команды интерфейса**\n",
        "- **\\q** - выход из программы (break)\n",
        "- **\\l** - last command, вывести верхнюю команду из стека (peek)\n",
        "- **\\p** - pop, достать верхнюю команду из стека + применить обновленную историю действий"
      ],
      "metadata": {
        "id": "axrDzNm2Yatf"
      }
    },
    {
      "cell_type": "code",
      "source": [
        "class ActionStack:\n",
        "  def __init__(self):\n",
        "    self.__stack = []\n",
        "\n",
        "  def push(self, elem):\n",
        "    self.__stack.append(elem)\n",
        "\n",
        "  def peek(self) -> str:\n",
        "    if len(self.__stack) > 0:\n",
        "      return self.__steck[-1]\n",
        "    else:\n",
        "      return None\n",
        "\n",
        "  def pop(self) -> str | None:\n",
        "    if len(self.__stack) > 0:\n",
        "      self.__steck.pop()\n",
        "      return self.__steck[-1]\n",
        "    else:\n",
        "      return None\n",
        "\n",
        "  def apply_actions(self, globs):\n",
        "    for elem in self.__stack:\n",
        "      exec(elem, globs)\n",
        "\n",
        "  def __repr__(self):\n",
        "    return self.__stack.__repr__()"
      ],
      "metadata": {
        "id": "jA9BBMfKGb4m"
      },
      "execution_count": null,
      "outputs": []
    },
    {
      "cell_type": "code",
      "source": [
        "action_stack = ActionStack()"
      ],
      "metadata": {
        "id": "fCK68epUIDos"
      },
      "execution_count": null,
      "outputs": []
    },
    {
      "cell_type": "code",
      "source": [
        "action_stack.apply_actions(globals())\n",
        "\n",
        "def is_exec(cmd: str) -> bool:\n",
        "  \"\"\"\n",
        "    True, если в cmd содержится \"=\" или \"del\"\n",
        "    False иначе\n",
        "  \"\"\"\n",
        "  return '=' in cmd or cmd.startswith('del')\n",
        "\n",
        "while True:\n",
        "  text = input()\n",
        "  globs = globals()\n",
        "\n",
        "  if text == \"\\q\":\n",
        "    break\n",
        "  elif text == \"\\p\":\n",
        "    print(action_stack.pop())\n",
        "    print(action_stack)\n",
        "  elif text == \"\\l\":\n",
        "    print(action_stack.peek())\n",
        "  elif is_exec(text):\n",
        "    action_stack.push(text)\n",
        "    exec(text, globs)\n",
        "  else:\n",
        "    try:\n",
        "      eval(text)\n",
        "    except NameError:\n",
        "      print(\"Неверный запрос\")"
      ],
      "metadata": {
        "colab": {
          "base_uri": "https://localhost:8080/",
          "height": 373
        },
        "id": "4_59MknWPKYF",
        "outputId": "9b60b760-4f95-4aa9-95f1-c4a553401fc7"
      },
      "execution_count": null,
      "outputs": [
        {
          "name": "stdout",
          "output_type": "stream",
          "text": [
            "b = 4\n"
          ]
        },
        {
          "output_type": "error",
          "ename": "KeyboardInterrupt",
          "evalue": "Interrupted by user",
          "traceback": [
            "\u001b[0;31m---------------------------------------------------------------------------\u001b[0m",
            "\u001b[0;31mKeyboardInterrupt\u001b[0m                         Traceback (most recent call last)",
            "\u001b[0;32m<ipython-input-7-b0c95b38b9b4>\u001b[0m in \u001b[0;36m<cell line: 10>\u001b[0;34m()\u001b[0m\n\u001b[1;32m      9\u001b[0m \u001b[0;34m\u001b[0m\u001b[0m\n\u001b[1;32m     10\u001b[0m \u001b[0;32mwhile\u001b[0m \u001b[0;32mTrue\u001b[0m\u001b[0;34m:\u001b[0m\u001b[0;34m\u001b[0m\u001b[0;34m\u001b[0m\u001b[0m\n\u001b[0;32m---> 11\u001b[0;31m   \u001b[0mtext\u001b[0m \u001b[0;34m=\u001b[0m \u001b[0minput\u001b[0m\u001b[0;34m(\u001b[0m\u001b[0;34m)\u001b[0m\u001b[0;34m\u001b[0m\u001b[0;34m\u001b[0m\u001b[0m\n\u001b[0m\u001b[1;32m     12\u001b[0m   \u001b[0mglobs\u001b[0m \u001b[0;34m=\u001b[0m \u001b[0mglobals\u001b[0m\u001b[0;34m(\u001b[0m\u001b[0;34m)\u001b[0m\u001b[0;34m\u001b[0m\u001b[0;34m\u001b[0m\u001b[0m\n\u001b[1;32m     13\u001b[0m \u001b[0;34m\u001b[0m\u001b[0m\n",
            "\u001b[0;32m/usr/local/lib/python3.10/dist-packages/ipykernel/kernelbase.py\u001b[0m in \u001b[0;36mraw_input\u001b[0;34m(self, prompt)\u001b[0m\n\u001b[1;32m    849\u001b[0m                 \u001b[0;34m\"raw_input was called, but this frontend does not support input requests.\"\u001b[0m\u001b[0;34m\u001b[0m\u001b[0;34m\u001b[0m\u001b[0m\n\u001b[1;32m    850\u001b[0m             )\n\u001b[0;32m--> 851\u001b[0;31m         return self._input_request(str(prompt),\n\u001b[0m\u001b[1;32m    852\u001b[0m             \u001b[0mself\u001b[0m\u001b[0;34m.\u001b[0m\u001b[0m_parent_ident\u001b[0m\u001b[0;34m,\u001b[0m\u001b[0;34m\u001b[0m\u001b[0;34m\u001b[0m\u001b[0m\n\u001b[1;32m    853\u001b[0m             \u001b[0mself\u001b[0m\u001b[0;34m.\u001b[0m\u001b[0m_parent_header\u001b[0m\u001b[0;34m,\u001b[0m\u001b[0;34m\u001b[0m\u001b[0;34m\u001b[0m\u001b[0m\n",
            "\u001b[0;32m/usr/local/lib/python3.10/dist-packages/ipykernel/kernelbase.py\u001b[0m in \u001b[0;36m_input_request\u001b[0;34m(self, prompt, ident, parent, password)\u001b[0m\n\u001b[1;32m    893\u001b[0m             \u001b[0;32mexcept\u001b[0m \u001b[0mKeyboardInterrupt\u001b[0m\u001b[0;34m:\u001b[0m\u001b[0;34m\u001b[0m\u001b[0;34m\u001b[0m\u001b[0m\n\u001b[1;32m    894\u001b[0m                 \u001b[0;31m# re-raise KeyboardInterrupt, to truncate traceback\u001b[0m\u001b[0;34m\u001b[0m\u001b[0;34m\u001b[0m\u001b[0m\n\u001b[0;32m--> 895\u001b[0;31m                 \u001b[0;32mraise\u001b[0m \u001b[0mKeyboardInterrupt\u001b[0m\u001b[0;34m(\u001b[0m\u001b[0;34m\"Interrupted by user\"\u001b[0m\u001b[0;34m)\u001b[0m \u001b[0;32mfrom\u001b[0m \u001b[0;32mNone\u001b[0m\u001b[0;34m\u001b[0m\u001b[0;34m\u001b[0m\u001b[0m\n\u001b[0m\u001b[1;32m    896\u001b[0m             \u001b[0;32mexcept\u001b[0m \u001b[0mException\u001b[0m \u001b[0;32mas\u001b[0m \u001b[0me\u001b[0m\u001b[0;34m:\u001b[0m\u001b[0;34m\u001b[0m\u001b[0;34m\u001b[0m\u001b[0m\n\u001b[1;32m    897\u001b[0m                 \u001b[0mself\u001b[0m\u001b[0;34m.\u001b[0m\u001b[0mlog\u001b[0m\u001b[0;34m.\u001b[0m\u001b[0mwarning\u001b[0m\u001b[0;34m(\u001b[0m\u001b[0;34m\"Invalid Message:\"\u001b[0m\u001b[0;34m,\u001b[0m \u001b[0mexc_info\u001b[0m\u001b[0;34m=\u001b[0m\u001b[0;32mTrue\u001b[0m\u001b[0;34m)\u001b[0m\u001b[0;34m\u001b[0m\u001b[0;34m\u001b[0m\u001b[0m\n",
            "\u001b[0;31mKeyboardInterrupt\u001b[0m: Interrupted by user"
          ]
        }
      ]
    },
    {
      "cell_type": "markdown",
      "source": [
        "#### Проблемы со стеком\n",
        "\n",
        "Нет ограничения на количество хранимых команд, можем \"упасть\" из-за ограничений по памяти"
      ],
      "metadata": {
        "id": "o0emCF5hiGHj"
      }
    },
    {
      "cell_type": "code",
      "source": [
        "problem_stack = ActionStack()"
      ],
      "metadata": {
        "id": "47-AgB7FiZEQ"
      },
      "execution_count": null,
      "outputs": []
    },
    {
      "cell_type": "code",
      "source": [
        "counter = 1\n",
        "try:\n",
        "  while True:\n",
        "    problem_stack.push(f\"p = {counter}\")\n",
        "    counter += 1\n",
        "except Exception:\n",
        "  print(\"Никогда не будет выполнено :(\")\n",
        "  print(f\"p = {counter}\")"
      ],
      "metadata": {
        "id": "pqMUe7biP6um"
      },
      "execution_count": null,
      "outputs": []
    },
    {
      "cell_type": "markdown",
      "source": [
        "**Как ограничивать стек?**\n",
        "- Реализовать логику \"Если больше N элементов\" - не добавляем больше\n",
        "  - Либо теряем хронологический порядок\n",
        "  - Либо добавление занимает $ O(N) $\n",
        "    - Ищем нижний элемент и ручками выбрасываем его\n",
        "- Использовать очередь вместо стека"
      ],
      "metadata": {
        "id": "O5mhwriZjsPW"
      }
    },
    {
      "cell_type": "markdown",
      "source": [
        "## Очередь"
      ],
      "metadata": {
        "id": "EG_HouWmkGR_"
      }
    },
    {
      "cell_type": "markdown",
      "source": [
        "<img width=\"600px\" src=\"https://d585tldpucybw.cloudfront.net/sfimages/default-source/blogs/2020/2020-11/fifo.png\"/>"
      ],
      "metadata": {
        "id": "ahvugVoxmKcN"
      }
    },
    {
      "cell_type": "markdown",
      "source": [
        "Очередь хранит 2 ссылки:\n",
        "- **tail** на конец очереди\n",
        "- **head** на начало очереди\n",
        "\n",
        "За счет этого операции добавления/извлечения аналогичны по времени стеку ($O(1)$)\\\n",
        "Интерфейс очереди аналогичен стеку (pop, push, peek)\\\n",
        "Для некоторых задач дополнительно реализуется peek для последнего элемента в очереди\n",
        "\n",
        "Можно использовать список (list) как очередь, но для большого кол-ва элементов будет тормозить (см.ниже)"
      ],
      "metadata": {
        "id": "w4sDvB7mmaAa"
      }
    },
    {
      "cell_type": "markdown",
      "source": [
        "### Где применяются очереди\n",
        "\n",
        "- Там же где стеки, но нужно ограничение на кол-во элементов\n",
        "- При синхронизации данных с удаленным источником\n",
        "  - Посмотрим когда будем изучать многопоточность"
      ],
      "metadata": {
        "id": "QsC19iQunNPJ"
      }
    },
    {
      "cell_type": "markdown",
      "source": [
        "### Реализация очереди ручками\n"
      ],
      "metadata": {
        "id": "P4IGaM2NoPmA"
      }
    },
    {
      "cell_type": "code",
      "source": [
        "import abc\n",
        "\n",
        "class Queue(abc.ABC):\n",
        "  @abc.abstractmethod\n",
        "  def peek(self):\n",
        "    pass\n",
        "\n",
        "  @abc.abstractmethod\n",
        "  def push(self, data: int):\n",
        "    pass\n",
        "\n",
        "  @abc.abstractmethod\n",
        "  def pop(self):\n",
        "    pass"
      ],
      "metadata": {
        "id": "W53k8Wt0pwGI"
      },
      "execution_count": null,
      "outputs": []
    },
    {
      "cell_type": "code",
      "source": [
        "class CustomQueue(Queue):\n",
        "  def __init__(self):\n",
        "    self.__head = None\n",
        "    self.__tail = None\n",
        "\n",
        "  def peek(self):\n",
        "    if self.__head is None:\n",
        "      return None\n",
        "    else:\n",
        "      return self.__head.data\n",
        "\n",
        "  def push(self, data: int):\n",
        "    if self.__head is None:\n",
        "      self.__tail = NodeItem(data=data, next=None)\n",
        "      self.__head = self.__tail\n",
        "    else:\n",
        "      new_elem = NodeItem(data=data, next=None)\n",
        "      self.__tail.next = new_elem\n",
        "      self.__tail = new_elem\n",
        "\n",
        "  def pop(self):\n",
        "    if self.__head is None:\n",
        "      self.__tail = None\n",
        "      return None\n",
        "    else:\n",
        "      data = self.__head.data\n",
        "      self.__head = self.__head.next\n",
        "      return data\n",
        "\n",
        "  def __repr__(self):\n",
        "    return self.__head.__repr__()"
      ],
      "metadata": {
        "id": "mdolmG50kFnw"
      },
      "execution_count": null,
      "outputs": []
    },
    {
      "cell_type": "code",
      "source": [
        "custom_queue = CustomQueue()"
      ],
      "metadata": {
        "id": "i_1a3t9-psak"
      },
      "execution_count": null,
      "outputs": []
    },
    {
      "cell_type": "code",
      "source": [
        "custom_queue.push(5)\n",
        "custom_queue.push(10)\n",
        "custom_queue.push(15)\n",
        "\n",
        "custom_queue"
      ],
      "metadata": {
        "colab": {
          "base_uri": "https://localhost:8080/"
        },
        "id": "0CSLXslJqFDw",
        "outputId": "9deb7c4d-5d1e-4a09-fb6b-0ddb88ca50f1"
      },
      "execution_count": null,
      "outputs": [
        {
          "output_type": "execute_result",
          "data": {
            "text/plain": [
              "NodeItem(data=5, next=NodeItem(data=10, next=NodeItem(data=15, next=None)))"
            ]
          },
          "metadata": {},
          "execution_count": 5
        }
      ]
    },
    {
      "cell_type": "code",
      "source": [
        "custom_queue.pop()"
      ],
      "metadata": {
        "colab": {
          "base_uri": "https://localhost:8080/"
        },
        "id": "5kEVjhOTqpTK",
        "outputId": "ba99ac90-fd7a-4bc2-84f6-971c3075d6d0"
      },
      "execution_count": null,
      "outputs": [
        {
          "output_type": "execute_result",
          "data": {
            "text/plain": [
              "5"
            ]
          },
          "metadata": {},
          "execution_count": 6
        }
      ]
    },
    {
      "cell_type": "code",
      "source": [
        "custom_queue"
      ],
      "metadata": {
        "colab": {
          "base_uri": "https://localhost:8080/"
        },
        "id": "1V_-fvQmqwR-",
        "outputId": "9ba65b3e-2f0c-4831-f43e-5a31a346a6c4"
      },
      "execution_count": null,
      "outputs": [
        {
          "output_type": "execute_result",
          "data": {
            "text/plain": [
              "NodeItem(data=10, next=NodeItem(data=15, next=None))"
            ]
          },
          "metadata": {},
          "execution_count": 7
        }
      ]
    },
    {
      "cell_type": "code",
      "source": [
        "custom_queue.push(7)\n",
        "\n",
        "custom_queue"
      ],
      "metadata": {
        "colab": {
          "base_uri": "https://localhost:8080/"
        },
        "id": "vFq2As5TuNnI",
        "outputId": "ef06e423-5444-49b6-fe6b-af118be80371"
      },
      "execution_count": null,
      "outputs": [
        {
          "output_type": "execute_result",
          "data": {
            "text/plain": [
              "NodeItem(data=10, next=NodeItem(data=15, next=NodeItem(data=7, next=None)))"
            ]
          },
          "metadata": {},
          "execution_count": 8
        }
      ]
    },
    {
      "cell_type": "markdown",
      "source": [
        "### Чекпоинт 2"
      ],
      "metadata": {
        "id": "GnJhOixeuX3W"
      }
    },
    {
      "cell_type": "markdown",
      "source": [
        "Реализовать очередь с ограничением по кол-ву элементов"
      ],
      "metadata": {
        "id": "9vMlNrjjwixt"
      }
    },
    {
      "cell_type": "code",
      "source": [
        "class CustomLengthQueue(Queue):\n",
        "  def __init__(self, size):\n",
        "    self.__size = size\n",
        "    self.__length = 0\n",
        "    self.__head = None\n",
        "    self.__tail = self.__head\n",
        "\n",
        "  def peek(self):\n",
        "    if self.__head is None:\n",
        "      return None\n",
        "    else:\n",
        "      return self.__head.data\n",
        "\n",
        "  def push(self, data: int):\n",
        "    if self.__head is None:\n",
        "      self.__head = NodeItem(data=data, next=None)\n",
        "      self.__tail = self.__head\n",
        "\n",
        "    elif self.__lenght == self.__size:\n",
        "      self.pop()\n",
        "      new_el = NodeItem(data=data, next=None)\n",
        "      self.__tail.next = new_el\n",
        "      self.__tail = new_el\n",
        "\n",
        "    elif self.__lenght < self.__size:\n",
        "      new_el = NodeItem(data=data, next=None)\n",
        "      self.__tail.next = new_el\n",
        "      self.__tail = new_el\n",
        "\n",
        "    self.__length += 1\n",
        "\n",
        "  def pop(self):\n",
        "    if self.__head is None:\n",
        "      return None\n",
        "    else:\n",
        "      el = self.__head.data\n",
        "      self.__head = self.__head.next\n",
        "      self.__lenght -=1\n",
        "      return el\n",
        "\n",
        "  def __repr__(self):\n",
        "    return self.__head.__repr__()"
      ],
      "metadata": {
        "id": "yaaPaBwXuPsG"
      },
      "execution_count": null,
      "outputs": []
    },
    {
      "cell_type": "markdown",
      "source": [
        "Реализовать очередь с ограничением длины через list"
      ],
      "metadata": {
        "id": "8B8GEI0pvWWE"
      }
    },
    {
      "cell_type": "code",
      "source": [
        "class LengthListQueue(Queue):\n",
        "  def __init__(self, size):\n",
        "    self.__size = size\n",
        "    self.__queue = []\n",
        "\n",
        "  def peek(self):\n",
        "    return self.__queue[0]\n",
        "\n",
        "  def push(self, data: int):\n",
        "    if len(self.__queue) == self.__size:\n",
        "      self.pop()\n",
        "    self.__queue.append(data)\n",
        "\n",
        "  def pop(self):\n",
        "    el = self.__queue[0]\n",
        "    self.__queue = self.__queue[1:]\n",
        "    return el\n",
        "  def __repr__(self):\n",
        "    raise NotImplementedError()"
      ],
      "metadata": {
        "id": "1If-sFXVvVu5"
      },
      "execution_count": null,
      "outputs": []
    },
    {
      "cell_type": "markdown",
      "source": [
        "### Когда ручками работает быстрее"
      ],
      "metadata": {
        "id": "1caWnXZ1xR-K"
      }
    },
    {
      "cell_type": "code",
      "source": [
        "QUEUE_SIZE = 100_000\n",
        "\n",
        "custom_queue = CustomLengthQueue(QUEUE_SIZE)\n",
        "list_queue = LengthListQueue(QUEUE_SIZE)"
      ],
      "metadata": {
        "id": "kD0pe7_ExE_s"
      },
      "execution_count": null,
      "outputs": []
    },
    {
      "cell_type": "code",
      "source": [
        "import time\n",
        "\n",
        "def measure_push_time(queue: Queue, elem: int):\n",
        "  start_time = time.time()\n",
        "  queue.push(elem)\n",
        "  end_time = time.time()\n",
        "\n",
        "  return end_time - start_time"
      ],
      "metadata": {
        "id": "avTtMSrXyLcZ"
      },
      "execution_count": null,
      "outputs": []
    },
    {
      "cell_type": "code",
      "source": [
        "import numpy as np\n",
        "\n",
        "elements = np.arange(0, QUEUE_SIZE + 2, dtype=int)\n",
        "\n",
        "for elem in elements:\n",
        "\n",
        "  custom_queue.push(elem)\n",
        "  list_queue.push(elem)\n",
        "\n",
        "  if elem > QUEUE_SIZE:\n",
        "    custom_queue_time = measure_push_time(custom_queue, elem)\n",
        "    list_queue_time = measure_push_time(list_queue, elem)\n",
        "\n",
        "    print(custom_queue_time)\n",
        "    print(list_queue_time)\n",
        "\n",
        "    print(list_queue_time / custom_queue_time)\n",
        "\n",
        "    break"
      ],
      "metadata": {
        "colab": {
          "base_uri": "https://localhost:8080/"
        },
        "id": "mx7cCIaXxn6K",
        "outputId": "15c30db6-2e0e-4332-db75-3030d7f8709b"
      },
      "execution_count": null,
      "outputs": [
        {
          "output_type": "stream",
          "name": "stdout",
          "text": [
            "1.049041748046875e-05\n",
            "0.0004818439483642578\n",
            "45.93181818181818\n"
          ]
        }
      ]
    },
    {
      "cell_type": "markdown",
      "source": [
        "## Дек (бонус)"
      ],
      "metadata": {
        "id": "u8oxeaStI26p"
      }
    },
    {
      "cell_type": "markdown",
      "source": [
        "<img height=\"300px\" src=\"https://neerc.ifmo.ru/wiki/images/thumb/7/73/Deque1.png/200px-Deque1.png\"/>"
      ],
      "metadata": {
        "id": "XVjrXlXmJGu1"
      }
    },
    {
      "cell_type": "markdown",
      "source": [
        "По сути - двусторонняя очередь\n",
        "\n",
        "- **push_front / pop_front** - добавить/удалить элемент с \"головы\"\n",
        "- **push_back / pop_back** - добавить/удалить элемент с \"хвоста\"\n",
        "\n",
        "Все операции занимают $O(1)$\n",
        "\n",
        "Из коробки [есть](https://docs-python.ru/standart-library/modul-collections-python/klass-deque-modulja-collections/) деки"
      ],
      "metadata": {
        "id": "aAWK08KCJQwm"
      }
    },
    {
      "cell_type": "markdown",
      "source": [
        "### Дек из коробки"
      ],
      "metadata": {
        "id": "gLlfbUTxKVW3"
      }
    },
    {
      "cell_type": "code",
      "source": [
        "import collections\n",
        "\n",
        "dq = collections.deque([1, 2, 3])\n",
        "\n",
        "dq"
      ],
      "metadata": {
        "colab": {
          "base_uri": "https://localhost:8080/"
        },
        "id": "Dg11R8WcKXpL",
        "outputId": "94133c9b-1c54-401d-bbe2-b67135117cd0"
      },
      "execution_count": null,
      "outputs": [
        {
          "output_type": "execute_result",
          "data": {
            "text/plain": [
              "deque([1, 2, 3])"
            ]
          },
          "metadata": {},
          "execution_count": 9
        }
      ]
    },
    {
      "cell_type": "code",
      "source": [
        "dq.append(4)\n",
        "\n",
        "dq.appendleft(0)\n",
        "\n",
        "dq"
      ],
      "metadata": {
        "colab": {
          "base_uri": "https://localhost:8080/"
        },
        "id": "u_dWKT4gK-PU",
        "outputId": "b92f1cbf-7d9a-4004-9901-d0bceebab45d"
      },
      "execution_count": null,
      "outputs": [
        {
          "output_type": "execute_result",
          "data": {
            "text/plain": [
              "deque([0, 1, 2, 3, 4])"
            ]
          },
          "metadata": {},
          "execution_count": 10
        }
      ]
    },
    {
      "cell_type": "code",
      "source": [
        "dq.popleft()"
      ],
      "metadata": {
        "colab": {
          "base_uri": "https://localhost:8080/"
        },
        "id": "gbQc6odMLJQF",
        "outputId": "9cbfeb8a-cd1b-48f2-b460-b847106fd985"
      },
      "execution_count": null,
      "outputs": [
        {
          "output_type": "execute_result",
          "data": {
            "text/plain": [
              "0"
            ]
          },
          "metadata": {},
          "execution_count": 11
        }
      ]
    },
    {
      "cell_type": "code",
      "source": [
        "dq"
      ],
      "metadata": {
        "colab": {
          "base_uri": "https://localhost:8080/"
        },
        "id": "JbZPZ50YLLxv",
        "outputId": "522e8738-feb5-43b6-a8e5-acade56cd0f5"
      },
      "execution_count": null,
      "outputs": [
        {
          "output_type": "execute_result",
          "data": {
            "text/plain": [
              "deque([1, 2, 3, 4])"
            ]
          },
          "metadata": {},
          "execution_count": 12
        }
      ]
    },
    {
      "cell_type": "markdown",
      "source": [
        "### Чекпоинт 3 (бонус)\n",
        "\n",
        "Реализовать CustomDeque\n",
        "\n",
        "- push_front / pop_front\n",
        "- push_back / pop_back\n",
        "- peek_back / peek_front"
      ],
      "metadata": {
        "id": "qdSQMVkpJw0n"
      }
    },
    {
      "cell_type": "code",
      "source": [
        "from __future__ import annotations\n",
        "import dataclasses\n",
        "\n",
        "@dataclasses.dataclass\n",
        "class DoubleNodeItem:\n",
        "  data: int\n",
        "  prev: NodeItem | None = dataclasses.field(repr=False)\n",
        "  next: NodeItem | None"
      ],
      "metadata": {
        "id": "labBQ3ZPLdIm"
      },
      "execution_count": null,
      "outputs": []
    },
    {
      "cell_type": "code",
      "source": [
        "class CustomDeque:\n",
        "  def __init__(self):\n",
        "    self.__head = None\n",
        "    self.__tail = self.__head\n",
        "\n",
        "  def peek_back(self):\n",
        "    if self.__head is None:\n",
        "      return None\n",
        "    else:\n",
        "      return self.__tail.data\n",
        "\n",
        "  def peek_front(self):\n",
        "    if self.__head is None:\n",
        "      return None\n",
        "    else:\n",
        "      return self.__head.data\n",
        "\n",
        "  def push_back(self, data: int):\n",
        "    if self.__head is None:\n",
        "      self.__head = DoubleNodeItem(data = data, next = None, prev = None)\n",
        "      self.__tail = self.__head\n",
        "    else:\n",
        "      a = DoubleNodeItem(data = data, next = None, prev = self.__tail)\n",
        "      self.__tail.next = a\n",
        "      self.__tail = a\n",
        "\n",
        "\n",
        "  def push_front(self, data: int):\n",
        "    if self.__head is None:\n",
        "      self.__head = DoubleNodeItem(data = data, next = None, prev = None)\n",
        "      self.__tail = self.__head\n",
        "    else:\n",
        "      a = DoubleNodeItem(data = data, next = self.__head, prev = None)\n",
        "      self.__head.prev = a\n",
        "      self.__head = a\n",
        "\n",
        "  def pop_back(self):\n",
        "    if self.__head is None:\n",
        "      return None\n",
        "    else:\n",
        "      a = self.__tail.data\n",
        "      self.__tail = self.__tail.prev\n",
        "      self.__tail.next = None\n",
        "      return a\n",
        "\n",
        "\n",
        "\n",
        "  def pop_front(self):\n",
        "    if self.__head is None:\n",
        "      return None\n",
        "    else:\n",
        "      a = self.__head.data\n",
        "      self.__head = self.__head.next\n",
        "      self.__head.prev = None\n",
        "      return a\n",
        "\n",
        "  def __repr__(self):\n",
        "    return self.__head.__repr__()"
      ],
      "metadata": {
        "id": "YMQ8kxLFI4yB"
      },
      "execution_count": null,
      "outputs": []
    },
    {
      "cell_type": "code",
      "source": [
        "custom_deque = CustomDeque()"
      ],
      "metadata": {
        "id": "MTcdnGB8Odbk"
      },
      "execution_count": null,
      "outputs": []
    },
    {
      "cell_type": "code",
      "source": [
        "custom_deque.push_front(1)"
      ],
      "metadata": {
        "id": "jW5JbG32Oulv"
      },
      "execution_count": null,
      "outputs": []
    },
    {
      "cell_type": "code",
      "source": [
        "custom_deque"
      ],
      "metadata": {
        "colab": {
          "base_uri": "https://localhost:8080/"
        },
        "id": "vSSKKmLeOxca",
        "outputId": "d93e7a47-9a6b-4e0b-c17a-baf67426df2b"
      },
      "execution_count": null,
      "outputs": [
        {
          "output_type": "execute_result",
          "data": {
            "text/plain": [
              "DoubleNodeItem(data=1, next=None)"
            ]
          },
          "metadata": {},
          "execution_count": 5
        }
      ]
    },
    {
      "cell_type": "code",
      "source": [
        "custom_deque.push_front(2)"
      ],
      "metadata": {
        "id": "DyotM5UpOyto"
      },
      "execution_count": null,
      "outputs": []
    },
    {
      "cell_type": "code",
      "source": [
        "custom_deque"
      ],
      "metadata": {
        "colab": {
          "base_uri": "https://localhost:8080/"
        },
        "id": "3KOjSu5TOz6s",
        "outputId": "27db4722-63a6-4cdc-c357-db2ddc267203"
      },
      "execution_count": null,
      "outputs": [
        {
          "output_type": "execute_result",
          "data": {
            "text/plain": [
              "DoubleNodeItem(data=2, next=DoubleNodeItem(data=1, next=None))"
            ]
          },
          "metadata": {},
          "execution_count": 7
        }
      ]
    },
    {
      "cell_type": "code",
      "source": [
        "custom_deque.pop_back()"
      ],
      "metadata": {
        "colab": {
          "base_uri": "https://localhost:8080/"
        },
        "id": "0OfOKIqfO09W",
        "outputId": "0fd5924b-169d-401b-be60-7c785f86cd5e"
      },
      "execution_count": null,
      "outputs": [
        {
          "output_type": "execute_result",
          "data": {
            "text/plain": [
              "1"
            ]
          },
          "metadata": {},
          "execution_count": 8
        }
      ]
    },
    {
      "cell_type": "code",
      "source": [
        "custom_deque"
      ],
      "metadata": {
        "colab": {
          "base_uri": "https://localhost:8080/"
        },
        "id": "AWTweJoLO2e1",
        "outputId": "d680501c-061f-4912-cc64-85dc16d9a1f1"
      },
      "execution_count": null,
      "outputs": [
        {
          "output_type": "execute_result",
          "data": {
            "text/plain": [
              "DoubleNodeItem(data=2, next=None)"
            ]
          },
          "metadata": {},
          "execution_count": 9
        }
      ]
    }
  ]
}