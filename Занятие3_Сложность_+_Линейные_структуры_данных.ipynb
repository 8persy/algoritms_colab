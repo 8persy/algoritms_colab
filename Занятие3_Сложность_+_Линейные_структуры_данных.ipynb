{
  "nbformat": 4,
  "nbformat_minor": 0,
  "metadata": {
    "colab": {
      "provenance": [],
      "toc_visible": true,
      "include_colab_link": true
    },
    "kernelspec": {
      "name": "python3",
      "display_name": "Python 3"
    },
    "language_info": {
      "name": "python"
    }
  },
  "cells": [
    {
      "cell_type": "markdown",
      "metadata": {
        "id": "view-in-github",
        "colab_type": "text"
      },
      "source": [
        "<a href=\"https://colab.research.google.com/github/8persy/algoritms_colab/blob/main/%D0%97%D0%B0%D0%BD%D1%8F%D1%82%D0%B8%D0%B53_%D0%A1%D0%BB%D0%BE%D0%B6%D0%BD%D0%BE%D1%81%D1%82%D1%8C_%2B_%D0%9B%D0%B8%D0%BD%D0%B5%D0%B9%D0%BD%D1%8B%D0%B5_%D1%81%D1%82%D1%80%D1%83%D0%BA%D1%82%D1%83%D1%80%D1%8B_%D0%B4%D0%B0%D0%BD%D0%BD%D1%8B%D1%85.ipynb\" target=\"_parent\"><img src=\"https://colab.research.google.com/assets/colab-badge.svg\" alt=\"Open In Colab\"/></a>"
      ]
    },
    {
      "cell_type": "markdown",
      "source": [
        "# Сложность алгоритмов и структур данных\n"
      ],
      "metadata": {
        "id": "J1ygfzCyu5C_"
      }
    },
    {
      "cell_type": "markdown",
      "source": [
        "**Главная идея Big O** - от передаваемых параметров зависит количество операций, которые будут выполнены перед тем, как алгоритм завершится\n"
      ],
      "metadata": {
        "id": "NdJeoBVAqUNJ"
      }
    },
    {
      "cell_type": "markdown",
      "source": [
        "**Функция, описывающая сложность алгоритмов**\n",
        "\n",
        "<img src=\"https://i0.wp.com/apptractor.ru/wp-content/uploads/2023/12/35276c9c-9288-4123-8944-00ed42ab40e2.png?resize=740%2C511&ssl=1\"/>"
      ],
      "metadata": {
        "id": "-NoPE4DSqq0_"
      }
    },
    {
      "cell_type": "markdown",
      "source": [
        "## Правила подсчета Big O\n",
        "\n",
        "- Отбрасывание констант\\\n",
        "$O(3n) = O(n)$\\\n",
        "$O(10000000n) = O(n)$\\\n",
        "$O(C*n) = O(n), C - const$\n",
        "\n",
        "- Максимум суммы\\\n",
        "$ O(n + k) = O(max(n, k)) $\\\n",
        "$ O(n^2 + n) = O(n^2) $\\\n",
        "$ O(n! + logn) = O(n!) $\n",
        "\n",
        "- Мультипликативность (для оценки нескольких функций)\\\n",
        "$ O(n) * O(k) = O(nk) $"
      ],
      "metadata": {
        "id": "b15YdM1d0xnJ"
      }
    },
    {
      "cell_type": "markdown",
      "source": [
        "## Сложность O(1) - Константная сложность"
      ],
      "metadata": {
        "id": "k66etMJvq1GP"
      }
    },
    {
      "cell_type": "code",
      "source": [
        "for i in range(10):\n",
        "    print(i)"
      ],
      "metadata": {
        "id": "LrxueP4yswVt",
        "colab": {
          "base_uri": "https://localhost:8080/"
        },
        "outputId": "d1b0caf4-1776-495d-dfe9-5ec854b207b8"
      },
      "execution_count": null,
      "outputs": [
        {
          "output_type": "stream",
          "name": "stdout",
          "text": [
            "0\n",
            "1\n",
            "2\n",
            "3\n",
            "4\n",
            "5\n",
            "6\n",
            "7\n",
            "8\n",
            "9\n"
          ]
        }
      ]
    },
    {
      "cell_type": "markdown",
      "source": [
        "Если код всегда выполняется за одно и то же время и никак не зависит от размера входных данных, то сложность алгоритма является **константной**"
      ],
      "metadata": {
        "id": "cLAFYK3wtUYl"
      }
    },
    {
      "cell_type": "markdown",
      "source": [
        "## Сложность O(N) - Линейная сложность"
      ],
      "metadata": {
        "id": "2KQ5-IPTtnz0"
      }
    },
    {
      "cell_type": "code",
      "source": [
        "def generate_numbers(N):\n",
        "    ...\n",
        "    for i in range(N):\n",
        "        ...\n",
        "    return i"
      ],
      "metadata": {
        "id": "8OdCuNwptgN4"
      },
      "execution_count": null,
      "outputs": []
    },
    {
      "cell_type": "code",
      "source": [
        "def example(N):\n",
        "    a = 1\n",
        "    for i in range(N):\n",
        "        print(i)\n",
        "    a += 1"
      ],
      "metadata": {
        "id": "Ws6tHkePuVc0"
      },
      "execution_count": null,
      "outputs": []
    },
    {
      "cell_type": "code",
      "source": [
        "def example_two(N):\n",
        "    a = 1\n",
        "    for i in range(N):\n",
        "        print(i)\n",
        "    for j in range(N):\n",
        "        print(j)\n",
        "    a += 1"
      ],
      "metadata": {
        "id": "s4n6rzAjui6E"
      },
      "execution_count": null,
      "outputs": []
    },
    {
      "cell_type": "code",
      "source": [
        "def example_three(N, K):\n",
        "    a = 1\n",
        "    for i in range(N):\n",
        "        print(i)\n",
        "    for j in range(K):\n",
        "        print(j)\n",
        "    a += 1"
      ],
      "metadata": {
        "id": "8Kh5MpAcuyZ0"
      },
      "execution_count": null,
      "outputs": []
    },
    {
      "cell_type": "code",
      "source": [
        "def example_(N, K):\n",
        "    a = 1\n",
        "    for i in range(N):\n",
        "        for j in range(K):\n",
        "          print(i + j)\n",
        "    a += 1"
      ],
      "metadata": {
        "id": "4Jdk3BrKvjlU"
      },
      "execution_count": null,
      "outputs": []
    },
    {
      "cell_type": "markdown",
      "source": [
        "## Полиномиальная сложность\n",
        "- $ O(N^2) $\n",
        "- $ O(N^3) $\n",
        "- $ O(N^4) $\\\n",
        "$\\dots$\n",
        "- $ O(N^k) $\n",
        "\n"
      ],
      "metadata": {
        "id": "HQho0IDcu53F"
      }
    },
    {
      "cell_type": "code",
      "source": [
        "def func(N):\n",
        "    a = 1\n",
        "    for i in range(N):\n",
        "        for j in range(N):\n",
        "            print(i + j)\n",
        "    a += 1"
      ],
      "metadata": {
        "id": "mA7CorUqvcY0"
      },
      "execution_count": null,
      "outputs": []
    },
    {
      "cell_type": "code",
      "source": [
        "def func(N):\n",
        "    a = 1\n",
        "    for i in range(N):\n",
        "        for j in range(N):\n",
        "            for q in range(N):\n",
        "                print(i + j + q)\n",
        "    a += 1"
      ],
      "metadata": {
        "id": "JskIn6jrwCUL"
      },
      "execution_count": null,
      "outputs": []
    },
    {
      "cell_type": "code",
      "source": [
        "def func(N):\n",
        "    a = 1\n",
        "    for i in range(N):\n",
        "        for j in range(N):\n",
        "            print(i + j)\n",
        "    for i in range(N):\n",
        "        print(i)\n",
        "    a += 1"
      ],
      "metadata": {
        "id": "XbyC6XOwwV0z"
      },
      "execution_count": null,
      "outputs": []
    },
    {
      "cell_type": "markdown",
      "source": [
        "## Сложность O(log N) - Логарифмическая сложность"
      ],
      "metadata": {
        "id": "c4oc8NNtwyXK"
      }
    },
    {
      "cell_type": "markdown",
      "source": [
        "**Бинарный поиск**"
      ],
      "metadata": {
        "id": "AAfzj-AA9bdw"
      }
    },
    {
      "cell_type": "markdown",
      "source": [
        "![binary_search](https://habrastorage.org/r/w1560/getpro/habr/post_images/d99/286/22b/d9928622b0685e9fa1e77ce4d9117694.png)"
      ],
      "metadata": {
        "id": "unm-6PGH9WFQ"
      }
    },
    {
      "cell_type": "code",
      "source": [
        "def binary_search(arr, target):\n",
        "    left = 0\n",
        "    right = len(arr) - 1\n",
        "\n",
        "    while left <= right:\n",
        "        mid = (left + right) // 2\n",
        "        if arr[mid] == target:\n",
        "            return mid\n",
        "        elif arr[mid] < target:\n",
        "            left = mid + 1\n",
        "        else:\n",
        "            right = mid - 1\n",
        "\n",
        "    return -1"
      ],
      "metadata": {
        "id": "ZG1eY-fxxoKq"
      },
      "execution_count": null,
      "outputs": []
    },
    {
      "cell_type": "markdown",
      "source": [
        "## Сложность O(N * log N) - Линейно-логарифмическая сложность"
      ],
      "metadata": {
        "id": "q5PhXJ0XxGfi"
      }
    },
    {
      "cell_type": "markdown",
      "source": [
        "- Сортировки\n",
        "- Алгоритмы Дейкстра и Краскала\n",
        "\n",
        "Рассмотри подробнее позже"
      ],
      "metadata": {
        "id": "2Jt89V45-M_Y"
      }
    },
    {
      "cell_type": "markdown",
      "source": [
        "## Сложность O(K^N) - Экспоненциальная сложность\n",
        "\n",
        "- $O(2^N)$"
      ],
      "metadata": {
        "id": "cMycPW7Vwqay"
      }
    },
    {
      "cell_type": "markdown",
      "source": [
        "Применяется, когда есть N значений, каждое из которых может принимать K значений и необходимо перебрать все варианты"
      ],
      "metadata": {
        "id": "rnOjrs-g_cz5"
      }
    },
    {
      "cell_type": "code",
      "source": [
        "def make_bit_set(N):\n",
        "  bit_set = []\n",
        "\n",
        "  tmp_list = [\"0\"] * N\n",
        "  def make_value(pos):\n",
        "    if pos == N:\n",
        "      bit_set.append(''.join(tmp_list));\n",
        "      return\n",
        "    tmp_list[pos] = \"0\"\n",
        "    make_value(pos + 1)\n",
        "    tmp_list[pos] = \"1\"\n",
        "    make_value(pos + 1)\n",
        "\n",
        "  make_value(0)\n",
        "\n",
        "  return bit_set"
      ],
      "metadata": {
        "id": "pymQXssd_q4c"
      },
      "execution_count": null,
      "outputs": []
    },
    {
      "cell_type": "code",
      "source": [
        "make_bit_set(1)"
      ],
      "metadata": {
        "colab": {
          "base_uri": "https://localhost:8080/"
        },
        "id": "daa4QBu8BZJJ",
        "outputId": "51034cdc-c34f-43ad-dd9f-93c6d2c2c9ec"
      },
      "execution_count": null,
      "outputs": [
        {
          "output_type": "execute_result",
          "data": {
            "text/plain": [
              "['0', '1']"
            ]
          },
          "metadata": {},
          "execution_count": 127
        }
      ]
    },
    {
      "cell_type": "code",
      "source": [
        "make_bit_set(2)"
      ],
      "metadata": {
        "colab": {
          "base_uri": "https://localhost:8080/"
        },
        "id": "ja2UVg4cBuu8",
        "outputId": "f67f0a78-c8e4-45f3-865b-5381027c7e41"
      },
      "execution_count": null,
      "outputs": [
        {
          "output_type": "execute_result",
          "data": {
            "text/plain": [
              "['00', '01', '10', '11']"
            ]
          },
          "metadata": {},
          "execution_count": 128
        }
      ]
    },
    {
      "cell_type": "code",
      "source": [
        "make_bit_set(3)"
      ],
      "metadata": {
        "colab": {
          "base_uri": "https://localhost:8080/"
        },
        "id": "TIS8uEuNBwhy",
        "outputId": "8e13e374-5a33-4ff1-fa77-19b351cb95a8"
      },
      "execution_count": null,
      "outputs": [
        {
          "output_type": "execute_result",
          "data": {
            "text/plain": [
              "['000', '001', '010', '011', '100', '101', '110', '111']"
            ]
          },
          "metadata": {},
          "execution_count": 129
        }
      ]
    },
    {
      "cell_type": "code",
      "source": [
        "make_bit_set(4)"
      ],
      "metadata": {
        "colab": {
          "base_uri": "https://localhost:8080/"
        },
        "id": "h5OxWNzgByu8",
        "outputId": "e282e897-d636-4dc7-f6ea-d20ed9769b09"
      },
      "execution_count": null,
      "outputs": [
        {
          "output_type": "execute_result",
          "data": {
            "text/plain": [
              "['0000',\n",
              " '0001',\n",
              " '0010',\n",
              " '0011',\n",
              " '0100',\n",
              " '0101',\n",
              " '0110',\n",
              " '0111',\n",
              " '1000',\n",
              " '1001',\n",
              " '1010',\n",
              " '1011',\n",
              " '1100',\n",
              " '1101',\n",
              " '1110',\n",
              " '1111']"
            ]
          },
          "metadata": {},
          "execution_count": 130
        }
      ]
    },
    {
      "cell_type": "markdown",
      "source": [
        "## Сложность O(N!) - Факториальная сложность"
      ],
      "metadata": {
        "id": "AMY3fj5GxiIr"
      }
    },
    {
      "cell_type": "code",
      "source": [
        "def fact_func(n):\n",
        "  for i in range(n):\n",
        "    fact_func(n-1)"
      ],
      "metadata": {
        "id": "FHIx-vE0_In9"
      },
      "execution_count": null,
      "outputs": []
    },
    {
      "cell_type": "markdown",
      "source": [
        "# Линейные структуры данных"
      ],
      "metadata": {
        "id": "ezaRAh7KvEYt"
      }
    },
    {
      "cell_type": "markdown",
      "source": [
        "## Массивы и списки"
      ],
      "metadata": {
        "id": "hpTtheF5CVlL"
      }
    },
    {
      "cell_type": "markdown",
      "source": [
        "### Массивы"
      ],
      "metadata": {
        "id": "_FNJWc2gDnEe"
      }
    },
    {
      "cell_type": "markdown",
      "source": [
        "- Хранятся в памяти вместе, в соседних ячейках\n",
        "  - Благодаря этому можно быстро получать доступ к данным\n",
        "- Имеют фиксированный размер\n",
        "  - При необходимости добавить/удалить элемент, необходимо пересоздавать массив\n",
        "- Объекты должны быть однородными, только одного класса\n",
        "\n",
        "Есть модуль [array](https://docs.python.org/3/library/array.html), но будем пользоваться массивами из numpy, т.к они более функциональны"
      ],
      "metadata": {
        "id": "NEFKzYGDDqbe"
      }
    },
    {
      "cell_type": "markdown",
      "source": [
        "![direct_access_arrays](https://static.javatpoint.com/ds/images/ds-array2.png)"
      ],
      "metadata": {
        "id": "WA-H16tMDiQ-"
      }
    },
    {
      "cell_type": "code",
      "source": [
        "import numpy as np\n",
        "\n",
        "arr = np.array([1, 2, 3, 4, 5])\n",
        "\n",
        "arr"
      ],
      "metadata": {
        "colab": {
          "base_uri": "https://localhost:8080/"
        },
        "id": "SDXnYYryDQDg",
        "outputId": "b3e53a0b-96c5-4fea-a364-83e261cb8ff8"
      },
      "execution_count": null,
      "outputs": [
        {
          "output_type": "execute_result",
          "data": {
            "text/plain": [
              "array([1, 2, 3, 4, 5])"
            ]
          },
          "metadata": {},
          "execution_count": 132
        }
      ]
    },
    {
      "cell_type": "markdown",
      "source": [
        "Однако в numpy можно указать разнородные данные, но тогда numpy будет их \"подгонять\" под некоторый общий тип"
      ],
      "metadata": {
        "id": "eufzW3QeEwZW"
      }
    },
    {
      "cell_type": "code",
      "source": [
        "arr2 = np.array([1, \"2\", True])\n",
        "\n",
        "arr2"
      ],
      "metadata": {
        "colab": {
          "base_uri": "https://localhost:8080/"
        },
        "id": "p5q0Q6mTElUp",
        "outputId": "5b8206c7-96ce-4df5-897f-4044e7453776"
      },
      "execution_count": null,
      "outputs": [
        {
          "output_type": "execute_result",
          "data": {
            "text/plain": [
              "array(['1', '2', 'True'], dtype='<U21')"
            ]
          },
          "metadata": {},
          "execution_count": 133
        }
      ]
    },
    {
      "cell_type": "code",
      "source": [
        "if arr[2] == True:\n",
        "  print(\"Always has been!\")"
      ],
      "metadata": {
        "id": "-Zvz6HlnE7GQ"
      },
      "execution_count": null,
      "outputs": []
    },
    {
      "cell_type": "markdown",
      "source": [
        "Но можно создавать массивы объектов, правда numpy нужно явно указывать что это будут за объекты\n",
        "\n",
        "[Документация по типам](https://numpy.org/doc/stable/reference/arrays.dtypes.html)"
      ],
      "metadata": {
        "id": "tPTtHZ9oIdeN"
      }
    },
    {
      "cell_type": "code",
      "source": [
        "custom_dtype = np.dtype([\n",
        "    (\"name\", 'U64'),\n",
        "    (\"points\", np.int_),\n",
        "    (\"banned\", np.bool_),\n",
        "])\n",
        "\n",
        "players = np.array([\n",
        "    (\"Петя\", 10, False),\n",
        "    (\"Петя_читер\", 199999, True),\n",
        "], dtype=custom_dtype)\n",
        "\n",
        "players"
      ],
      "metadata": {
        "colab": {
          "base_uri": "https://localhost:8080/"
        },
        "id": "PrX1LggkIL0X",
        "outputId": "44a490dc-5a46-464c-bfe4-4e812083049c"
      },
      "execution_count": null,
      "outputs": [
        {
          "output_type": "execute_result",
          "data": {
            "text/plain": [
              "array([('Петя',     10, False), ('Петя_читер', 199999,  True)],\n",
              "      dtype=[('name', '<U64'), ('points', '<i8'), ('banned', '?')])"
            ]
          },
          "metadata": {},
          "execution_count": 135
        }
      ]
    },
    {
      "cell_type": "code",
      "source": [
        "if players[-1][2]:\n",
        "  print(\"Ты забанен! Я не буду тебя разбанивать!\")\n",
        "\n",
        "if players[0][1] > 5:\n",
        "  name = players[0][0]\n",
        "  print(f\"Ого, {name} набрал так много очков\")"
      ],
      "metadata": {
        "colab": {
          "base_uri": "https://localhost:8080/"
        },
        "id": "QlQzZ3qgI_8y",
        "outputId": "06dfaecf-a7cd-4fbe-b36e-fad880cad8a8"
      },
      "execution_count": null,
      "outputs": [
        {
          "output_type": "stream",
          "name": "stdout",
          "text": [
            "Ты забанен! Я не буду тебя разбанивать!\n",
            "Ого, Петя набрал так много очков\n"
          ]
        }
      ]
    },
    {
      "cell_type": "code",
      "source": [
        "players.shape"
      ],
      "metadata": {
        "colab": {
          "base_uri": "https://localhost:8080/"
        },
        "id": "RgQaJERuKoO0",
        "outputId": "eeba3268-c5ae-4382-d9e3-2dac1eb6d1e5"
      },
      "execution_count": null,
      "outputs": [
        {
          "output_type": "execute_result",
          "data": {
            "text/plain": [
              "(2,)"
            ]
          },
          "metadata": {},
          "execution_count": 137
        }
      ]
    },
    {
      "cell_type": "code",
      "source": [
        "def find_cheater(players_arr):\n",
        "  n = players_arr.shape[0]\n",
        "  for i in range(n):\n",
        "    player = players_arr[i]\n",
        "    name, points, banned = player\n",
        "    if banned:\n",
        "      return player\n",
        "\n",
        "  return None\n"
      ],
      "metadata": {
        "id": "winlXk6kJvwa"
      },
      "execution_count": null,
      "outputs": []
    },
    {
      "cell_type": "code",
      "source": [
        "find_cheater(players)"
      ],
      "metadata": {
        "colab": {
          "base_uri": "https://localhost:8080/"
        },
        "id": "vl4FiYpNKUVO",
        "outputId": "0c18f81a-3ff0-4a28-d199-d8ce83c475ff"
      },
      "execution_count": null,
      "outputs": [
        {
          "output_type": "execute_result",
          "data": {
            "text/plain": [
              "('Петя_читер', 199999, True)"
            ]
          },
          "metadata": {},
          "execution_count": 139
        }
      ]
    },
    {
      "cell_type": "markdown",
      "source": [
        "Какая сложность, если хотим добавить/удалить значение?"
      ],
      "metadata": {
        "id": "0rCichj-KyUj"
      }
    },
    {
      "cell_type": "markdown",
      "source": [
        "\n",
        "**Добавление**\n",
        "- Создаем массив длины + 1\n",
        "- Добавлем туда все элементы **до** того места, куда нужно вставить значение\n",
        "- Добавляем туда новый элемент\n",
        "- Добавлем туда все элементы **после** того места, куда нужно вставить значение"
      ],
      "metadata": {
        "id": "egYi8GsnLzho"
      }
    },
    {
      "cell_type": "code",
      "source": [
        "np.empty(players.shape, dtype=players.dtype)"
      ],
      "metadata": {
        "colab": {
          "base_uri": "https://localhost:8080/"
        },
        "id": "HGtK2O_9MbyT",
        "outputId": "5214c048-9cb2-418c-e9c3-99ffc098dc12"
      },
      "execution_count": null,
      "outputs": [
        {
          "output_type": "execute_result",
          "data": {
            "text/plain": [
              "array([('', 0, False), ('', 0, False)],\n",
              "      dtype=[('name', '<U64'), ('points', '<i8'), ('banned', '?')])"
            ]
          },
          "metadata": {},
          "execution_count": 140
        }
      ]
    },
    {
      "cell_type": "code",
      "source": [
        "from copy import deepcopy"
      ],
      "metadata": {
        "id": "IEqAZJbuO5UL"
      },
      "execution_count": null,
      "outputs": []
    },
    {
      "cell_type": "code",
      "source": [
        "def add_to_beginning(player, players_arr):\n",
        "  n = players_arr.shape[0]\n",
        "  new_shape = (n + 1,)\n",
        "  new_arr = np.empty(new_shape, dtype=players_arr.dtype)\n",
        "\n",
        "  new_arr[0] = deepcopy(player)\n",
        "  for i in range(n):\n",
        "    new_arr[i + 1] = deepcopy(players_arr[i])\n",
        "\n",
        "\n",
        "  return new_arr"
      ],
      "metadata": {
        "id": "Hn9_cSKlK_GI"
      },
      "execution_count": null,
      "outputs": []
    },
    {
      "cell_type": "code",
      "source": [
        "begin_players = add_to_beginning((\n",
        "    \"Аня\", 9999, False\n",
        "), players)\n",
        "\n",
        "begin_players"
      ],
      "metadata": {
        "id": "qrUBe4eGMGsS",
        "colab": {
          "base_uri": "https://localhost:8080/"
        },
        "outputId": "808ee398-a840-4436-bba6-05655c2cd1ab"
      },
      "execution_count": null,
      "outputs": [
        {
          "output_type": "execute_result",
          "data": {
            "text/plain": [
              "array([('Аня',   9999, False), ('Петя',     10, False),\n",
              "       ('Петя_читер', 199999,  True)],\n",
              "      dtype=[('name', '<U64'), ('points', '<i8'), ('banned', '?')])"
            ]
          },
          "metadata": {},
          "execution_count": 143
        }
      ]
    },
    {
      "cell_type": "markdown",
      "source": [
        "#### Чекпоинт 1"
      ],
      "metadata": {
        "id": "kjxA5kqqSzi3"
      }
    },
    {
      "cell_type": "markdown",
      "source": [
        "Реализуйте функцию добавления в конец массива"
      ],
      "metadata": {
        "id": "32A4dA2gdsU6"
      }
    },
    {
      "cell_type": "code",
      "source": [
        "def add_to_end(player, players_arr):\n",
        "  pass"
      ],
      "metadata": {
        "id": "MYhLJ0I_Njzl"
      },
      "execution_count": null,
      "outputs": []
    },
    {
      "cell_type": "code",
      "source": [
        "end_players = add_to_end((\n",
        "    \"vItAlII\", -1, True\n",
        "), begin_players)\n",
        "\n",
        "end_players"
      ],
      "metadata": {
        "colab": {
          "base_uri": "https://localhost:8080/"
        },
        "id": "KJoyxCRtOIeN",
        "outputId": "1c698eb1-577a-4902-c26a-b05cad6e8661"
      },
      "execution_count": null,
      "outputs": [
        {
          "output_type": "execute_result",
          "data": {
            "text/plain": [
              "array([('Аня',   9999, False), ('Петя',     10, False),\n",
              "       ('Петя_читер', 199999,  True), ('vItAlII',     -1,  True)],\n",
              "      dtype=[('name', '<U64'), ('points', '<i8'), ('banned', '?')])"
            ]
          },
          "metadata": {},
          "execution_count": 145
        }
      ]
    },
    {
      "cell_type": "markdown",
      "source": [
        "Реализуйте функцию добавления в середину массива (после элемента на месте k)"
      ],
      "metadata": {
        "id": "N0xieG-wd5DH"
      }
    },
    {
      "cell_type": "code",
      "source": [
        "def add_to_middle(player, k, players_arr):\n",
        "  pass"
      ],
      "metadata": {
        "id": "YiagOE_XPZX4"
      },
      "execution_count": null,
      "outputs": []
    },
    {
      "cell_type": "code",
      "source": [
        "new_player = (\n",
        "    \"12321\", 1, False\n",
        ")\n",
        "\n",
        "add_to_middle(new_player, 4, end_players)"
      ],
      "metadata": {
        "colab": {
          "base_uri": "https://localhost:8080/"
        },
        "id": "9Pglp0vIQON3",
        "outputId": "1d117ff6-9bf0-464e-89ee-a89a01419c0e"
      },
      "execution_count": null,
      "outputs": [
        {
          "output_type": "execute_result",
          "data": {
            "text/plain": [
              "array([('Аня',   9999, False), ('Петя',     10, False),\n",
              "       ('Петя_читер', 199999,  True), ('vItAlII',     -1,  True),\n",
              "       ('12321',      1, False)],\n",
              "      dtype=[('name', '<U64'), ('points', '<i8'), ('banned', '?')])"
            ]
          },
          "metadata": {},
          "execution_count": 147
        }
      ]
    },
    {
      "cell_type": "markdown",
      "source": [
        "Удаление делается по аналогии"
      ],
      "metadata": {
        "id": "gCM2aQWsRmUl"
      }
    },
    {
      "cell_type": "markdown",
      "source": [
        "**Поиск по индексу** - $ O(1)$\\\n",
        "**Добавление/Удаление**: $O(N)$"
      ],
      "metadata": {
        "id": "zn15UDUrG6Sf"
      }
    },
    {
      "cell_type": "markdown",
      "source": [
        "### Списки"
      ],
      "metadata": {
        "id": "BzdMy-FWRuMG"
      }
    },
    {
      "cell_type": "markdown",
      "source": [
        "- Хранятся в памяти в разных ячейках, в случайных местах\n",
        "- Объекты могут быть разнородными\n",
        "- Храним ссылку на начало списка и работаем с ней"
      ],
      "metadata": {
        "id": "oYboIdHGSIS1"
      }
    },
    {
      "cell_type": "markdown",
      "source": [
        "![](https://media.geeksforgeeks.org/wp-content/uploads/20220816144425/LLdrawio.png)"
      ],
      "metadata": {
        "id": "nCoOr1usR-MF"
      }
    },
    {
      "cell_type": "markdown",
      "source": [
        "**Секрет Полишинеля**\\\n",
        "Все это время мы пользовались списками, а не массивами\\\n",
        "![](https://i.gifer.com/origin/37/376be8c2f7237f730fa5f936fec83e58_w200.gif)"
      ],
      "metadata": {
        "id": "crdGDHYCSccs"
      }
    },
    {
      "cell_type": "markdown",
      "source": [
        "Попробуем сделать list с нуля\\\n",
        "Начнем с класса для ячейки списка"
      ],
      "metadata": {
        "id": "Lg4gDEAXW1ct"
      }
    },
    {
      "cell_type": "code",
      "source": [
        "import dataclasses\n",
        "from __future__ import annotations\n",
        "\n",
        "@dataclasses.dataclass\n",
        "class NodeItem:\n",
        "  data: int\n",
        "  next: NodeItem | None"
      ],
      "metadata": {
        "id": "_WxdHO4gTm5j"
      },
      "execution_count": null,
      "outputs": []
    },
    {
      "cell_type": "markdown",
      "source": [
        "Можно сделать не только int, а все что угодно при помощи [generics](https://docs.python.org/3/library/typing.html#generics)"
      ],
      "metadata": {
        "id": "ez5Jo8UmZ1lQ"
      }
    },
    {
      "cell_type": "code",
      "source": [
        "list_head = NodeItem(1, None)\n",
        "\n",
        "list_head"
      ],
      "metadata": {
        "colab": {
          "base_uri": "https://localhost:8080/"
        },
        "id": "PFp4wixBXCbo",
        "outputId": "5a2be55f-cd4a-4300-99fa-3e34b1787620"
      },
      "execution_count": null,
      "outputs": [
        {
          "output_type": "execute_result",
          "data": {
            "text/plain": [
              "NodeItem(data=1, next=None)"
            ]
          },
          "metadata": {},
          "execution_count": 149
        }
      ]
    },
    {
      "cell_type": "markdown",
      "source": [
        "Сделаем функцию поиска значения по индексу"
      ],
      "metadata": {
        "id": "xBDvsCS2YJ_m"
      }
    },
    {
      "cell_type": "code",
      "source": [
        "def find_by_list_index(idx: int):\n",
        "  elem = list_head\n",
        "  for i in range(idx):\n",
        "    elem = elem.next\n",
        "  return elem"
      ],
      "metadata": {
        "id": "HcWCtEJXYNAi"
      },
      "execution_count": null,
      "outputs": []
    },
    {
      "cell_type": "code",
      "source": [
        "find_by_list_index(0)"
      ],
      "metadata": {
        "colab": {
          "base_uri": "https://localhost:8080/"
        },
        "id": "4SXh-fwbYeIz",
        "outputId": "0939b1fe-f48a-45ec-a59b-edfef10013de"
      },
      "execution_count": null,
      "outputs": [
        {
          "output_type": "execute_result",
          "data": {
            "text/plain": [
              "NodeItem(data=1, next=None)"
            ]
          },
          "metadata": {},
          "execution_count": 151
        }
      ]
    },
    {
      "cell_type": "markdown",
      "source": [
        "Сделаем функцию добавления элемента в начало"
      ],
      "metadata": {
        "id": "bD5_ZGNsXajc"
      }
    },
    {
      "cell_type": "code",
      "source": [
        "def add_data_to_list(data: int):\n",
        "  global list_head\n",
        "  node = NodeItem(data=data, next=list_head)\n",
        "  list_head = node"
      ],
      "metadata": {
        "id": "4vX-54jxXSn5"
      },
      "execution_count": null,
      "outputs": []
    },
    {
      "cell_type": "code",
      "source": [
        "add_data_to_list(2)\n",
        "\n",
        "list_head"
      ],
      "metadata": {
        "colab": {
          "base_uri": "https://localhost:8080/"
        },
        "id": "VLa7GWx3Xv_x",
        "outputId": "95bab8c0-7888-47d1-efb0-fb5620f51362"
      },
      "execution_count": null,
      "outputs": [
        {
          "output_type": "execute_result",
          "data": {
            "text/plain": [
              "NodeItem(data=2, next=NodeItem(data=1, next=None))"
            ]
          },
          "metadata": {},
          "execution_count": 153
        }
      ]
    },
    {
      "cell_type": "code",
      "source": [
        "find_by_list_index(0)"
      ],
      "metadata": {
        "colab": {
          "base_uri": "https://localhost:8080/"
        },
        "id": "jjBLnMdaYq3f",
        "outputId": "62c5b4f5-d63c-4a5f-b0e6-a7ffbc2fb8ff"
      },
      "execution_count": null,
      "outputs": [
        {
          "output_type": "execute_result",
          "data": {
            "text/plain": [
              "NodeItem(data=2, next=NodeItem(data=1, next=None))"
            ]
          },
          "metadata": {},
          "execution_count": 154
        }
      ]
    },
    {
      "cell_type": "code",
      "source": [
        "find_by_list_index(1)"
      ],
      "metadata": {
        "colab": {
          "base_uri": "https://localhost:8080/"
        },
        "id": "Rgo2KsUoYIe3",
        "outputId": "87fd5ffb-88fd-4d81-e137-a07d64e5d1a4"
      },
      "execution_count": null,
      "outputs": [
        {
          "output_type": "execute_result",
          "data": {
            "text/plain": [
              "NodeItem(data=1, next=None)"
            ]
          },
          "metadata": {},
          "execution_count": 155
        }
      ]
    },
    {
      "cell_type": "code",
      "source": [
        "add_data_to_list(3)\n",
        "\n",
        "list_head"
      ],
      "metadata": {
        "colab": {
          "base_uri": "https://localhost:8080/"
        },
        "id": "hAeGTNr_adVb",
        "outputId": "54868c1b-485b-447c-f8ef-ea424e7bc152"
      },
      "execution_count": null,
      "outputs": [
        {
          "output_type": "execute_result",
          "data": {
            "text/plain": [
              "NodeItem(data=3, next=NodeItem(data=2, next=NodeItem(data=1, next=None)))"
            ]
          },
          "metadata": {},
          "execution_count": 156
        }
      ]
    },
    {
      "cell_type": "markdown",
      "source": [
        "#### Чекпоинт 2"
      ],
      "metadata": {
        "id": "LC9Hu8HzUHUh"
      }
    },
    {
      "cell_type": "markdown",
      "source": [
        "Реализуйте функцию, возвращающую длину списка"
      ],
      "metadata": {
        "id": "_VyN53A9egCu"
      }
    },
    {
      "cell_type": "code",
      "source": [
        "def custom_len(list_head):\n",
        "  pass"
      ],
      "metadata": {
        "id": "0O3swxwzY7Qj"
      },
      "execution_count": null,
      "outputs": []
    },
    {
      "cell_type": "code",
      "source": [
        "custom_len(list_head)"
      ],
      "metadata": {
        "id": "zcMS3FDSZXSM",
        "colab": {
          "base_uri": "https://localhost:8080/"
        },
        "outputId": "d3a24d0b-6feb-4878-99c8-f627b10158e2"
      },
      "execution_count": null,
      "outputs": [
        {
          "output_type": "execute_result",
          "data": {
            "text/plain": [
              "3"
            ]
          },
          "metadata": {},
          "execution_count": 158
        }
      ]
    },
    {
      "cell_type": "markdown",
      "source": [
        "Реализуйте функцию добавления в середину (после idx)\n",
        "\n",
        "P.S. пользоваться тем что сделали раньше - хорошо"
      ],
      "metadata": {
        "id": "ECC5BjjcZden"
      }
    },
    {
      "cell_type": "code",
      "source": [
        "def insert(idx: int, data: int):\n",
        "    pass"
      ],
      "metadata": {
        "id": "39Ju9Yd2ZYtP"
      },
      "execution_count": null,
      "outputs": []
    },
    {
      "cell_type": "code",
      "source": [
        "insert(1, 15)\n",
        "\n",
        "list_head"
      ],
      "metadata": {
        "colab": {
          "base_uri": "https://localhost:8080/"
        },
        "id": "HsPDr4ctaNr0",
        "outputId": "9672521f-ae7b-4be3-9410-1de21b6d6be0"
      },
      "execution_count": null,
      "outputs": [
        {
          "output_type": "execute_result",
          "data": {
            "text/plain": [
              "NodeItem(data=3, next=NodeItem(data=2, next=NodeItem(data=15, next=NodeItem(data=1, next=None))))"
            ]
          },
          "metadata": {},
          "execution_count": 160
        }
      ]
    },
    {
      "cell_type": "markdown",
      "source": [
        "Реализуйте функцию удаления"
      ],
      "metadata": {
        "id": "xk59klikcKjG"
      }
    },
    {
      "cell_type": "code",
      "source": [
        "def delete(idx: int):\n",
        "  pass"
      ],
      "metadata": {
        "id": "g8q3R7IebwSa"
      },
      "execution_count": null,
      "outputs": []
    },
    {
      "cell_type": "code",
      "source": [
        "delete(1)\n",
        "\n",
        "list_head"
      ],
      "metadata": {
        "colab": {
          "base_uri": "https://localhost:8080/"
        },
        "id": "f01CSbeycZwE",
        "outputId": "2c088576-55d0-406d-8431-1eb2661d34c8"
      },
      "execution_count": null,
      "outputs": [
        {
          "output_type": "execute_result",
          "data": {
            "text/plain": [
              "NodeItem(data=3, next=NodeItem(data=15, next=NodeItem(data=1, next=None)))"
            ]
          },
          "metadata": {},
          "execution_count": 162
        }
      ]
    },
    {
      "cell_type": "markdown",
      "source": [
        "#### Чекпоинт 3"
      ],
      "metadata": {
        "id": "6Nw8u8SXUraO"
      }
    },
    {
      "cell_type": "markdown",
      "source": [
        "Соберем все в один класс"
      ],
      "metadata": {
        "id": "Xxzrv1dIcp3g"
      }
    },
    {
      "cell_type": "code",
      "source": [
        "class CustomList:\n",
        "  def __init__(self):\n",
        "    self.head: NodeItem | None = None\n",
        "\n",
        "  def __len__(self):\n",
        "    pass\n",
        "\n",
        "  def __getitem__(self, idx: int):\n",
        "    pass\n",
        "\n",
        "  def insert(self, idx: int, data: int):\n",
        "    pass\n",
        "\n",
        "  def push(self, data: int):\n",
        "    pass\n",
        "\n",
        "\n",
        "  def delete(self, idx: int):\n",
        "    pass\n",
        "\n",
        "  def __repr__(self):\n",
        "    if self.head is not None:\n",
        "      return self.head.__repr__()\n",
        "    return \"()\""
      ],
      "metadata": {
        "id": "0jN3juRycdG2"
      },
      "execution_count": null,
      "outputs": []
    },
    {
      "cell_type": "code",
      "source": [
        "my_list = CustomList()\n",
        "\n",
        "my_list.insert(0, 1)"
      ],
      "metadata": {
        "colab": {
          "base_uri": "https://localhost:8080/"
        },
        "id": "FcnuMSKKgYu_",
        "outputId": "9265e403-dab2-4201-ac62-3fad6db4f157"
      },
      "execution_count": null,
      "outputs": [
        {
          "output_type": "execute_result",
          "data": {
            "text/plain": [
              "NodeItem(data=1, next=None)"
            ]
          },
          "metadata": {},
          "execution_count": 185
        }
      ]
    },
    {
      "cell_type": "code",
      "source": [
        "len(my_list)"
      ],
      "metadata": {
        "colab": {
          "base_uri": "https://localhost:8080/"
        },
        "id": "wwhR8Tj_guLG",
        "outputId": "3551cf81-6fac-436e-c48e-32cf9244d5c8"
      },
      "execution_count": null,
      "outputs": [
        {
          "output_type": "execute_result",
          "data": {
            "text/plain": [
              "2"
            ]
          },
          "metadata": {},
          "execution_count": 188
        }
      ]
    },
    {
      "cell_type": "code",
      "source": [
        "my_list.push(1)"
      ],
      "metadata": {
        "colab": {
          "base_uri": "https://localhost:8080/"
        },
        "id": "Dtyvt-u9g362",
        "outputId": "f6e6446b-9ae3-4183-f81b-722b16b0f85d"
      },
      "execution_count": null,
      "outputs": [
        {
          "output_type": "execute_result",
          "data": {
            "text/plain": [
              "NodeItem(data=1, next=NodeItem(data=1, next=NodeItem(data=1, next=None)))"
            ]
          },
          "metadata": {},
          "execution_count": 189
        }
      ]
    },
    {
      "cell_type": "code",
      "source": [
        "len(my_list)"
      ],
      "metadata": {
        "colab": {
          "base_uri": "https://localhost:8080/"
        },
        "id": "kqXNruQ_hyuw",
        "outputId": "5199a9f0-be36-4db1-a8dc-34b468deb679"
      },
      "execution_count": null,
      "outputs": [
        {
          "output_type": "execute_result",
          "data": {
            "text/plain": [
              "3"
            ]
          },
          "metadata": {},
          "execution_count": 190
        }
      ]
    },
    {
      "cell_type": "code",
      "source": [
        "my_list[0]"
      ],
      "metadata": {
        "colab": {
          "base_uri": "https://localhost:8080/"
        },
        "id": "7uHL45U_hz2R",
        "outputId": "018aef99-9c9e-45b4-f5f5-b17beabad558"
      },
      "execution_count": null,
      "outputs": [
        {
          "output_type": "execute_result",
          "data": {
            "text/plain": [
              "NodeItem(data=1, next=NodeItem(data=1, next=NodeItem(data=1, next=None)))"
            ]
          },
          "metadata": {},
          "execution_count": 191
        }
      ]
    },
    {
      "cell_type": "code",
      "source": [
        "res = my_list[-1]\n",
        "\n",
        "print(res)"
      ],
      "metadata": {
        "colab": {
          "base_uri": "https://localhost:8080/"
        },
        "id": "om9vzm7biYtV",
        "outputId": "f09606f5-1aa3-43c2-b6dd-ceb503b43413"
      },
      "execution_count": null,
      "outputs": [
        {
          "output_type": "stream",
          "name": "stdout",
          "text": [
            "NodeItem(data=1, next=None)\n"
          ]
        }
      ]
    },
    {
      "cell_type": "code",
      "source": [
        "res = my_list[1]\n",
        "\n",
        "print(res)"
      ],
      "metadata": {
        "colab": {
          "base_uri": "https://localhost:8080/"
        },
        "id": "Rb4tqy65ieIr",
        "outputId": "080d5d0e-b45f-4689-86d8-a3af822c9cd5"
      },
      "execution_count": null,
      "outputs": [
        {
          "output_type": "stream",
          "name": "stdout",
          "text": [
            "NodeItem(data=1, next=None)\n"
          ]
        }
      ]
    },
    {
      "cell_type": "code",
      "source": [
        "my_list.push(5)"
      ],
      "metadata": {
        "colab": {
          "base_uri": "https://localhost:8080/"
        },
        "id": "ajljHfLhiyQB",
        "outputId": "d60cde5c-05f7-4e29-cc2a-8434a38c3f4f"
      },
      "execution_count": null,
      "outputs": [
        {
          "output_type": "execute_result",
          "data": {
            "text/plain": [
              "NodeItem(data=1, next=NodeItem(data=1, next=NodeItem(data=5, next=None)))"
            ]
          },
          "metadata": {},
          "execution_count": 181
        }
      ]
    },
    {
      "cell_type": "code",
      "source": [
        "my_list"
      ],
      "metadata": {
        "colab": {
          "base_uri": "https://localhost:8080/"
        },
        "id": "ycVfzOGDi1_f",
        "outputId": "90687c7f-e648-4c6c-c65d-c1f37888f1ee"
      },
      "execution_count": null,
      "outputs": [
        {
          "output_type": "execute_result",
          "data": {
            "text/plain": [
              "NodeItem(data=1, next=NodeItem(data=1, next=NodeItem(data=5, next=None)))"
            ]
          },
          "metadata": {},
          "execution_count": 182
        }
      ]
    },
    {
      "cell_type": "code",
      "source": [
        "my_list.insert(1, 3)"
      ],
      "metadata": {
        "colab": {
          "base_uri": "https://localhost:8080/"
        },
        "id": "LANgprrPjZV-",
        "outputId": "a7d408c0-2fb5-4f34-8bca-7206c546e7ac"
      },
      "execution_count": null,
      "outputs": [
        {
          "output_type": "execute_result",
          "data": {
            "text/plain": [
              "NodeItem(data=1, next=NodeItem(data=3, next=NodeItem(data=1, next=NodeItem(data=5, next=None))))"
            ]
          },
          "metadata": {},
          "execution_count": 183
        }
      ]
    },
    {
      "cell_type": "code",
      "source": [
        "my_list.delete(1)"
      ],
      "metadata": {
        "colab": {
          "base_uri": "https://localhost:8080/"
        },
        "id": "CQxxOB5bjd8B",
        "outputId": "7d4d2a8d-ea15-469b-e195-74b7aa4cb248"
      },
      "execution_count": null,
      "outputs": [
        {
          "output_type": "execute_result",
          "data": {
            "text/plain": [
              "NodeItem(data=1, next=NodeItem(data=1, next=NodeItem(data=5, next=None)))"
            ]
          },
          "metadata": {},
          "execution_count": 184
        }
      ]
    },
    {
      "cell_type": "markdown",
      "source": [],
      "metadata": {
        "id": "GV9lPtgEfEVC"
      }
    }
  ]
}