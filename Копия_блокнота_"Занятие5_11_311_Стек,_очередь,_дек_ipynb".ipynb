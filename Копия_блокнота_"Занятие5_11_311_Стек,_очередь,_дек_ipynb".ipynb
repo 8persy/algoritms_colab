{
  "nbformat": 4,
  "nbformat_minor": 0,
  "metadata": {
    "colab": {
      "provenance": [],
      "toc_visible": true,
      "include_colab_link": true
    },
    "kernelspec": {
      "name": "python3",
      "display_name": "Python 3"
    },
    "language_info": {
      "name": "python"
    }
  },
  "cells": [
    {
      "cell_type": "markdown",
      "metadata": {
        "id": "view-in-github",
        "colab_type": "text"
      },
      "source": [
        "<a href=\"https://colab.research.google.com/github/8persy/algoritms_colab/blob/main/%D0%9A%D0%BE%D0%BF%D0%B8%D1%8F_%D0%B1%D0%BB%D0%BE%D0%BA%D0%BD%D0%BE%D1%82%D0%B0_%22%D0%97%D0%B0%D0%BD%D1%8F%D1%82%D0%B8%D0%B55_11_311_%D0%A1%D1%82%D0%B5%D0%BA%2C_%D0%BE%D1%87%D0%B5%D1%80%D0%B5%D0%B4%D1%8C%2C_%D0%B4%D0%B5%D0%BA_ipynb%22.ipynb\" target=\"_parent\"><img src=\"https://colab.research.google.com/assets/colab-badge.svg\" alt=\"Open In Colab\"/></a>"
      ]
    },
    {
      "cell_type": "markdown",
      "source": [
        "# Стек, очередь, дек"
      ],
      "metadata": {
        "id": "fYvcLiUmRCFR"
      }
    },
    {
      "cell_type": "markdown",
      "source": [
        "## Стек"
      ],
      "metadata": {
        "id": "NxrL9LEuRINf"
      }
    },
    {
      "cell_type": "markdown",
      "source": [
        "<img src=\"https://d585tldpucybw.cloudfront.net/sfimages/default-source/blogs/2020/2020-11/lifo.png\" height=\"600px\"/>"
      ],
      "metadata": {
        "id": "sxKexZnaRJ4t"
      }
    },
    {
      "cell_type": "markdown",
      "source": [
        "- Каждый элемент попадает \"вверх\" структуры\n",
        "- Вынимать элементы можно только \"сверху\"\n",
        "\n",
        "Таким образом, тот элемент что пришел раньше, будет \"ниже\" по сравнению с тем, что пришел позже (Last In, First Out)"
      ],
      "metadata": {
        "id": "9msypJmeSWXk"
      }
    },
    {
      "cell_type": "markdown",
      "source": [
        "**Какие методы должны быть у стека?**\n",
        "\n",
        "- **push**, положить элемент в стек\n",
        "- **pop**, достать элемент из стека\n",
        "- **peek**, вернуть (но не достать) верхний элемент\n",
        "\n",
        "Все методы выполняются за $ O(1) $"
      ],
      "metadata": {
        "id": "3KQ-xE1OS90P"
      }
    },
    {
      "cell_type": "markdown",
      "source": [
        "Можно реализовать ручками при помощи NodeItem\\\n",
        "[Документация python](https://docs.python.org/3/tutorial/datastructures.html#using-lists-as-stacks) настаивает на использовании списков как стека"
      ],
      "metadata": {
        "id": "ZSkG0NmYTtIK"
      }
    },
    {
      "cell_type": "markdown",
      "source": [
        "### Реализация стека ручками"
      ],
      "metadata": {
        "id": "jLrzcnyCUEHm"
      }
    },
    {
      "cell_type": "code",
      "source": [
        "from __future__ import annotations\n",
        "import dataclasses\n",
        "\n",
        "@dataclasses.dataclass\n",
        "class NodeItem:\n",
        "  data: int\n",
        "  next: NodeItem | None"
      ],
      "metadata": {
        "id": "qng8gQSMo25_"
      },
      "execution_count": null,
      "outputs": []
    },
    {
      "cell_type": "code",
      "source": [
        "class ClassicStack:\n",
        "  def __init__(self):\n",
        "    self.__head = None\n",
        "\n",
        "  def peek(self):\n",
        "    if self.__head is None:\n",
        "      return None\n",
        "    else:\n",
        "      return self.__head.data\n",
        "\n",
        "  def push(self, data: int):\n",
        "    if self.__head is None:\n",
        "      self.__head = NodeItem(data=data, next=None)\n",
        "    else:\n",
        "      new_elem = NodeItem(data=data, next=self.__head)\n",
        "      self.__head = new_elem\n",
        "\n",
        "  def pop(self):\n",
        "    if self.__head is None:\n",
        "      return None\n",
        "    else:\n",
        "      data = self.__head.data\n",
        "      self.__head = self.__head.next\n",
        "      return data\n",
        "\n",
        "  def __repr__(self):\n",
        "    return self.__head.__repr__()\n"
      ],
      "metadata": {
        "id": "RBdc2Y6IUMaq"
      },
      "execution_count": null,
      "outputs": []
    },
    {
      "cell_type": "code",
      "source": [
        "classic_stack = ClassicStack()"
      ],
      "metadata": {
        "id": "ADZEaWI0Vptb"
      },
      "execution_count": null,
      "outputs": []
    },
    {
      "cell_type": "code",
      "source": [
        "classic_stack.push(12)"
      ],
      "metadata": {
        "id": "A0RKXKdUVsvj"
      },
      "execution_count": null,
      "outputs": []
    },
    {
      "cell_type": "code",
      "source": [
        "classic_stack"
      ],
      "metadata": {
        "colab": {
          "base_uri": "https://localhost:8080/"
        },
        "id": "YN1oVUYRV01I",
        "outputId": "7c1a32df-723e-44d3-a8b9-e2f6bf980a91"
      },
      "execution_count": null,
      "outputs": [
        {
          "output_type": "execute_result",
          "data": {
            "text/plain": [
              "NodeItem(data=12, next=None)"
            ]
          },
          "metadata": {},
          "execution_count": 6
        }
      ]
    },
    {
      "cell_type": "code",
      "source": [
        "classic_stack.peek()"
      ],
      "metadata": {
        "colab": {
          "base_uri": "https://localhost:8080/"
        },
        "id": "PWFNIxtGV2cV",
        "outputId": "78f79c67-d490-4075-ca87-cd9a9ef7a134"
      },
      "execution_count": null,
      "outputs": [
        {
          "output_type": "execute_result",
          "data": {
            "text/plain": [
              "12"
            ]
          },
          "metadata": {},
          "execution_count": 7
        }
      ]
    },
    {
      "cell_type": "code",
      "source": [
        "classic_stack.push(5)"
      ],
      "metadata": {
        "id": "WTSxo2wvV42i"
      },
      "execution_count": null,
      "outputs": []
    },
    {
      "cell_type": "code",
      "source": [
        "classic_stack"
      ],
      "metadata": {
        "colab": {
          "base_uri": "https://localhost:8080/"
        },
        "id": "p29rH0eWV7gB",
        "outputId": "f3bf178c-a940-4ee0-9741-ac408fc5bbde"
      },
      "execution_count": null,
      "outputs": [
        {
          "output_type": "execute_result",
          "data": {
            "text/plain": [
              "NodeItem(data=5, next=NodeItem(data=12, next=None))"
            ]
          },
          "metadata": {},
          "execution_count": 9
        }
      ]
    },
    {
      "cell_type": "code",
      "source": [
        "classic_stack.pop()"
      ],
      "metadata": {
        "colab": {
          "base_uri": "https://localhost:8080/"
        },
        "id": "Vpz1BNNSV9Ue",
        "outputId": "94a60aa5-2856-4157-be84-56516b96edcb"
      },
      "execution_count": null,
      "outputs": [
        {
          "output_type": "execute_result",
          "data": {
            "text/plain": [
              "5"
            ]
          },
          "metadata": {},
          "execution_count": 10
        }
      ]
    },
    {
      "cell_type": "code",
      "source": [
        "classic_stack"
      ],
      "metadata": {
        "colab": {
          "base_uri": "https://localhost:8080/"
        },
        "id": "y3_N0BOiV_ng",
        "outputId": "5c4f07d8-5f0b-4290-da28-c8e18d717d1a"
      },
      "execution_count": null,
      "outputs": [
        {
          "output_type": "execute_result",
          "data": {
            "text/plain": [
              "NodeItem(data=12, next=None)"
            ]
          },
          "metadata": {},
          "execution_count": 11
        }
      ]
    },
    {
      "cell_type": "markdown",
      "source": [
        "### Где стеки применяются"
      ],
      "metadata": {
        "id": "IbR7t-Q8UHt6"
      }
    },
    {
      "cell_type": "markdown",
      "source": [
        "Необходимо перевернуть и применить последовательность\n",
        "- Отмена действий в редакторах\n",
        "- Вычисление математических выражений\n",
        "- Парсинг синтаксиса\n"
      ],
      "metadata": {
        "id": "2MhtI4k9WKNE"
      }
    },
    {
      "cell_type": "markdown",
      "source": [
        "### Стек действий"
      ],
      "metadata": {
        "id": "MgNXtlFZWr8J"
      }
    },
    {
      "cell_type": "markdown",
      "source": [
        "Сделаем кастомный стек действий для работы (и отмены наших действий с CLI Python), а так же простой интерфейс для этого"
      ],
      "metadata": {
        "id": "LGIhk_9iWyQf"
      }
    },
    {
      "cell_type": "markdown",
      "source": [
        "#### Работа с CLI"
      ],
      "metadata": {
        "id": "3wETP0RlYSl0"
      }
    },
    {
      "cell_type": "markdown",
      "source": [
        "**Что будем использовать в работе с CLI?**\n",
        "\n",
        "**eval** для вычисления **выражений**"
      ],
      "metadata": {
        "id": "f2HwzVebXEmG"
      }
    },
    {
      "cell_type": "code",
      "source": [
        "1 + 4"
      ],
      "metadata": {
        "colab": {
          "base_uri": "https://localhost:8080/"
        },
        "id": "USB_2qX2XZZ1",
        "outputId": "5bfaacce-4168-4a7d-ab71-3fe712ee834f"
      },
      "execution_count": null,
      "outputs": [
        {
          "output_type": "execute_result",
          "data": {
            "text/plain": [
              "5"
            ]
          },
          "metadata": {},
          "execution_count": 17
        }
      ]
    },
    {
      "cell_type": "code",
      "source": [
        "eval(\"1 + 6\")"
      ],
      "metadata": {
        "colab": {
          "base_uri": "https://localhost:8080/"
        },
        "id": "C78BdW64XcaN",
        "outputId": "4440e484-e1d1-4ef6-f3d6-adfb36ee48c8"
      },
      "execution_count": null,
      "outputs": [
        {
          "output_type": "execute_result",
          "data": {
            "text/plain": [
              "7"
            ]
          },
          "metadata": {},
          "execution_count": 12
        }
      ]
    },
    {
      "cell_type": "code",
      "source": [
        "b = 5\n",
        "eval(\"b + 1\")"
      ],
      "metadata": {
        "colab": {
          "base_uri": "https://localhost:8080/"
        },
        "id": "HhMPHMIxXgFD",
        "outputId": "3d102cc9-d291-4441-fcfc-e6cf0b989e1b"
      },
      "execution_count": null,
      "outputs": [
        {
          "output_type": "execute_result",
          "data": {
            "text/plain": [
              "6"
            ]
          },
          "metadata": {},
          "execution_count": 13
        }
      ]
    },
    {
      "cell_type": "markdown",
      "source": [
        "**exec** для исполнения кода изменения переменных"
      ],
      "metadata": {
        "id": "fF3bLT9lX3JI"
      }
    },
    {
      "cell_type": "code",
      "source": [
        "exec(\"b = 7\")\n",
        "\n",
        "b"
      ],
      "metadata": {
        "colab": {
          "base_uri": "https://localhost:8080/"
        },
        "id": "h3DWko8oXkyz",
        "outputId": "e0be3a18-e99e-4fd0-b2b7-bc44de68f363"
      },
      "execution_count": null,
      "outputs": [
        {
          "output_type": "execute_result",
          "data": {
            "text/plain": [
              "7"
            ]
          },
          "metadata": {},
          "execution_count": 14
        }
      ]
    },
    {
      "cell_type": "code",
      "source": [
        "exec(\"b *= 2\")\n",
        "\n",
        "eval(\"b**2\")"
      ],
      "metadata": {
        "colab": {
          "base_uri": "https://localhost:8080/"
        },
        "id": "awVZOC4PXpKr",
        "outputId": "86d00f2a-58f0-4383-906d-96f76b79ba31"
      },
      "execution_count": null,
      "outputs": [
        {
          "output_type": "execute_result",
          "data": {
            "text/plain": [
              "196"
            ]
          },
          "metadata": {},
          "execution_count": 15
        }
      ]
    },
    {
      "cell_type": "markdown",
      "source": [
        "**globals()** для получения текущих переменных\\\n",
        "**del** для удаления переменных"
      ],
      "metadata": {
        "id": "zC861wcXX7oH"
      }
    },
    {
      "cell_type": "code",
      "source": [
        "globals()"
      ],
      "metadata": {
        "colab": {
          "base_uri": "https://localhost:8080/"
        },
        "id": "fBpW83klXwJi",
        "outputId": "e4726657-a5e2-47b0-e70d-8a6eea4e48ae"
      },
      "execution_count": null,
      "outputs": [
        {
          "output_type": "execute_result",
          "data": {
            "text/plain": [
              "{'__name__': '__main__',\n",
              " '__doc__': 'Automatically created module for IPython interactive environment',\n",
              " '__package__': None,\n",
              " '__loader__': None,\n",
              " '__spec__': None,\n",
              " '__builtin__': <module 'builtins' (built-in)>,\n",
              " '__builtins__': <module 'builtins' (built-in)>,\n",
              " '_ih': ['',\n",
              "  'classic_stack = ClassicStack()',\n",
              "  'from __future__ import annotations\\nimport dataclasses\\n\\n@dataclasses.dataclass\\nclass NodeItem:\\n  data: int\\n  next: NodeItem | None',\n",
              "  'class ClassicStack:\\n  def __init__(self):\\n    self.__head = None\\n\\n  def peek(self):\\n    if self.__head is None:\\n      return None\\n    else:\\n      return self.__head.data\\n\\n  def push(self, data: int):\\n    if self.__head is None:\\n      self.__head = NodeItem(data=data, next=None)\\n    else:\\n      new_elem = NodeItem(data=data, next=self.__head)\\n      self.__head = new_elem\\n\\n  def pop(self):\\n    if self.__head is None:\\n      return None\\n    else:\\n      data = self.__head.data\\n      self.__head = self.__head.next\\n      return data\\n\\n  def __repr__(self):\\n    return self.__head.__repr__()',\n",
              "  'classic_stack = ClassicStack()',\n",
              "  'classic_stack.push(12)',\n",
              "  'classic_stack',\n",
              "  'classic_stack.peek()',\n",
              "  'classic_stack.push(5)',\n",
              "  'classic_stack',\n",
              "  'classic_stack.pop()',\n",
              "  'classic_stack',\n",
              "  'eval(\"1 + 6\")',\n",
              "  'b = 5\\neval(\"b + 1\")',\n",
              "  'exec(\"b = 7\")\\n\\nb',\n",
              "  'exec(\"b *= 2\")\\n\\neval(\"b**2\")',\n",
              "  'globals()'],\n",
              " '_oh': {6: NodeItem(data=12, next=None),\n",
              "  7: 12,\n",
              "  9: NodeItem(data=12, next=None),\n",
              "  10: 5,\n",
              "  11: NodeItem(data=12, next=None),\n",
              "  12: 7,\n",
              "  13: 6,\n",
              "  14: 7,\n",
              "  15: 196},\n",
              " '_dh': ['/content'],\n",
              " 'In': ['',\n",
              "  'classic_stack = ClassicStack()',\n",
              "  'from __future__ import annotations\\nimport dataclasses\\n\\n@dataclasses.dataclass\\nclass NodeItem:\\n  data: int\\n  next: NodeItem | None',\n",
              "  'class ClassicStack:\\n  def __init__(self):\\n    self.__head = None\\n\\n  def peek(self):\\n    if self.__head is None:\\n      return None\\n    else:\\n      return self.__head.data\\n\\n  def push(self, data: int):\\n    if self.__head is None:\\n      self.__head = NodeItem(data=data, next=None)\\n    else:\\n      new_elem = NodeItem(data=data, next=self.__head)\\n      self.__head = new_elem\\n\\n  def pop(self):\\n    if self.__head is None:\\n      return None\\n    else:\\n      data = self.__head.data\\n      self.__head = self.__head.next\\n      return data\\n\\n  def __repr__(self):\\n    return self.__head.__repr__()',\n",
              "  'classic_stack = ClassicStack()',\n",
              "  'classic_stack.push(12)',\n",
              "  'classic_stack',\n",
              "  'classic_stack.peek()',\n",
              "  'classic_stack.push(5)',\n",
              "  'classic_stack',\n",
              "  'classic_stack.pop()',\n",
              "  'classic_stack',\n",
              "  'eval(\"1 + 6\")',\n",
              "  'b = 5\\neval(\"b + 1\")',\n",
              "  'exec(\"b = 7\")\\n\\nb',\n",
              "  'exec(\"b *= 2\")\\n\\neval(\"b**2\")',\n",
              "  'globals()'],\n",
              " 'Out': {6: NodeItem(data=12, next=None),\n",
              "  7: 12,\n",
              "  9: NodeItem(data=12, next=None),\n",
              "  10: 5,\n",
              "  11: NodeItem(data=12, next=None),\n",
              "  12: 7,\n",
              "  13: 6,\n",
              "  14: 7,\n",
              "  15: 196},\n",
              " 'get_ipython': <bound method InteractiveShell.get_ipython of <google.colab._shell.Shell object at 0x7b334040b8b0>>,\n",
              " 'exit': <IPython.core.autocall.ZMQExitAutocall at 0x7b334040be50>,\n",
              " 'quit': <IPython.core.autocall.ZMQExitAutocall at 0x7b334040be50>,\n",
              " '_': 196,\n",
              " '__': 7,\n",
              " '___': 6,\n",
              " '_i': 'exec(\"b *= 2\")\\n\\neval(\"b**2\")',\n",
              " '_ii': 'exec(\"b = 7\")\\n\\nb',\n",
              " '_iii': 'b = 5\\neval(\"b + 1\")',\n",
              " '_i1': 'classic_stack = ClassicStack()',\n",
              " '_i2': 'from __future__ import annotations\\nimport dataclasses\\n\\n@dataclasses.dataclass\\nclass NodeItem:\\n  data: int\\n  next: NodeItem | None',\n",
              " 'annotations': _Feature((3, 7, 0, 'beta', 1), (3, 11, 0, 'alpha', 0), 16777216),\n",
              " 'dataclasses': <module 'dataclasses' from '/usr/lib/python3.10/dataclasses.py'>,\n",
              " 'NodeItem': __main__.NodeItem,\n",
              " '_i3': 'class ClassicStack:\\n  def __init__(self):\\n    self.__head = None\\n\\n  def peek(self):\\n    if self.__head is None:\\n      return None\\n    else:\\n      return self.__head.data\\n\\n  def push(self, data: int):\\n    if self.__head is None:\\n      self.__head = NodeItem(data=data, next=None)\\n    else:\\n      new_elem = NodeItem(data=data, next=self.__head)\\n      self.__head = new_elem\\n\\n  def pop(self):\\n    if self.__head is None:\\n      return None\\n    else:\\n      data = self.__head.data\\n      self.__head = self.__head.next\\n      return data\\n\\n  def __repr__(self):\\n    return self.__head.__repr__()',\n",
              " 'ClassicStack': __main__.ClassicStack,\n",
              " '_i4': 'classic_stack = ClassicStack()',\n",
              " 'classic_stack': NodeItem(data=12, next=None),\n",
              " '_i5': 'classic_stack.push(12)',\n",
              " '_i6': 'classic_stack',\n",
              " '_6': NodeItem(data=12, next=None),\n",
              " '_i7': 'classic_stack.peek()',\n",
              " '_7': 12,\n",
              " '_i8': 'classic_stack.push(5)',\n",
              " '_i9': 'classic_stack',\n",
              " '_9': NodeItem(data=12, next=None),\n",
              " '_i10': 'classic_stack.pop()',\n",
              " '_10': 5,\n",
              " '_i11': 'classic_stack',\n",
              " '_11': NodeItem(data=12, next=None),\n",
              " '_i12': 'eval(\"1 + 6\")',\n",
              " '_12': 7,\n",
              " '_i13': 'b = 5\\neval(\"b + 1\")',\n",
              " 'b': 14,\n",
              " '_13': 6,\n",
              " '_i14': 'exec(\"b = 7\")\\n\\nb',\n",
              " '_14': 7,\n",
              " '_i15': 'exec(\"b *= 2\")\\n\\neval(\"b**2\")',\n",
              " '_15': 196,\n",
              " '_i16': 'globals()'}"
            ]
          },
          "metadata": {},
          "execution_count": 16
        }
      ]
    },
    {
      "cell_type": "code",
      "source": [
        "_i13"
      ],
      "metadata": {
        "colab": {
          "base_uri": "https://localhost:8080/",
          "height": 36
        },
        "id": "Os5JgMYsYB7o",
        "outputId": "ca7f2e05-cf3e-4853-c895-3ff750680e4a"
      },
      "execution_count": null,
      "outputs": [
        {
          "output_type": "execute_result",
          "data": {
            "text/plain": [
              "'b = 5\\neval(\"b + 1\")'"
            ],
            "application/vnd.google.colaboratory.intrinsic+json": {
              "type": "string"
            }
          },
          "metadata": {},
          "execution_count": 18
        }
      ]
    },
    {
      "cell_type": "code",
      "source": [
        "b"
      ],
      "metadata": {
        "colab": {
          "base_uri": "https://localhost:8080/"
        },
        "id": "q76vWqk9YKwQ",
        "outputId": "4a399885-1d48-4f43-e03d-20206d131fc2"
      },
      "execution_count": null,
      "outputs": [
        {
          "output_type": "execute_result",
          "data": {
            "text/plain": [
              "14"
            ]
          },
          "metadata": {},
          "execution_count": 19
        }
      ]
    },
    {
      "cell_type": "code",
      "source": [
        "del b"
      ],
      "metadata": {
        "id": "dDvqyj33YNL8"
      },
      "execution_count": null,
      "outputs": []
    },
    {
      "cell_type": "code",
      "source": [
        "b"
      ],
      "metadata": {
        "colab": {
          "base_uri": "https://localhost:8080/",
          "height": 147
        },
        "id": "xEaugKsXYO4Q",
        "outputId": "8bb30d87-167e-4c16-c083-57320d49d085"
      },
      "execution_count": null,
      "outputs": [
        {
          "output_type": "error",
          "ename": "NameError",
          "evalue": "name 'b' is not defined",
          "traceback": [
            "\u001b[0;31m---------------------------------------------------------------------------\u001b[0m",
            "\u001b[0;31mNameError\u001b[0m                                 Traceback (most recent call last)",
            "\u001b[0;32m<ipython-input-21-89e6c98d9288>\u001b[0m in \u001b[0;36m<cell line: 1>\u001b[0;34m()\u001b[0m\n\u001b[0;32m----> 1\u001b[0;31m \u001b[0mb\u001b[0m\u001b[0;34m\u001b[0m\u001b[0;34m\u001b[0m\u001b[0m\n\u001b[0m",
            "\u001b[0;31mNameError\u001b[0m: name 'b' is not defined"
          ]
        }
      ]
    },
    {
      "cell_type": "markdown",
      "source": [
        "#### exec и globals"
      ],
      "metadata": {
        "id": "CXw7zApwcvcs"
      }
    },
    {
      "cell_type": "code",
      "source": [
        "def make_b_4():\n",
        "  exec(\"b = 4\")"
      ],
      "metadata": {
        "id": "ymeVqTCBcP9c"
      },
      "execution_count": null,
      "outputs": []
    },
    {
      "cell_type": "code",
      "source": [
        "make_b_4()"
      ],
      "metadata": {
        "id": "OVTSPlQjceUw"
      },
      "execution_count": null,
      "outputs": []
    },
    {
      "cell_type": "code",
      "source": [
        "b = 5"
      ],
      "metadata": {
        "id": "I5aauMnacoxk"
      },
      "execution_count": null,
      "outputs": []
    },
    {
      "cell_type": "code",
      "source": [
        "make_b_4()"
      ],
      "metadata": {
        "id": "aV_SDMkecqy2"
      },
      "execution_count": null,
      "outputs": []
    },
    {
      "cell_type": "code",
      "source": [
        "b"
      ],
      "metadata": {
        "colab": {
          "base_uri": "https://localhost:8080/"
        },
        "id": "vE4MsMizctMi",
        "outputId": "dc378ac3-cbab-4a57-a52e-513cf9726157"
      },
      "execution_count": null,
      "outputs": [
        {
          "output_type": "execute_result",
          "data": {
            "text/plain": [
              "5"
            ]
          },
          "metadata": {},
          "execution_count": 26
        }
      ]
    },
    {
      "cell_type": "markdown",
      "source": [
        "**Почему так?**\\\n",
        "Потому что globals в ячейке make_b_4 и в ячейках ниже разные\\\n",
        "**Что делать?**\\\n",
        "Пробрасывать globals в функцию"
      ],
      "metadata": {
        "id": "khxy32ETczSV"
      }
    },
    {
      "cell_type": "code",
      "source": [
        "def make_b_4(globs):\n",
        "  exec(\"b = 4\", globs)"
      ],
      "metadata": {
        "id": "Oh6uRmGadE2n"
      },
      "execution_count": null,
      "outputs": []
    },
    {
      "cell_type": "code",
      "source": [
        "b"
      ],
      "metadata": {
        "colab": {
          "base_uri": "https://localhost:8080/"
        },
        "id": "YnO6bNgadKbh",
        "outputId": "286f263e-35e1-401d-95d6-db3ab9c5b036"
      },
      "execution_count": null,
      "outputs": [
        {
          "output_type": "execute_result",
          "data": {
            "text/plain": [
              "5"
            ]
          },
          "metadata": {},
          "execution_count": 28
        }
      ]
    },
    {
      "cell_type": "code",
      "source": [
        "make_b_4(globals())"
      ],
      "metadata": {
        "id": "jXzizNoadLxn"
      },
      "execution_count": null,
      "outputs": []
    },
    {
      "cell_type": "code",
      "source": [
        "b"
      ],
      "metadata": {
        "colab": {
          "base_uri": "https://localhost:8080/"
        },
        "id": "yRFYFzLVdOEg",
        "outputId": "c2a9318a-9b94-4206-c9ff-1eda510e4ba8"
      },
      "execution_count": null,
      "outputs": [
        {
          "output_type": "execute_result",
          "data": {
            "text/plain": [
              "4"
            ]
          },
          "metadata": {},
          "execution_count": 30
        }
      ]
    },
    {
      "cell_type": "markdown",
      "source": [
        "#### Чекпоинт 1\n",
        "\n",
        "**Класс стека действий**\n",
        "\n",
        "- Стек хранит список строк исполняемого (exec) кода в порядке его ввода с input\n",
        "```python\n",
        "stack = [\n",
        "  \"del a\",\n",
        "  \"arr[0] = 4\"\n",
        "  \"a = 15\"\n",
        "  \"arr = [1, 2, 3]\"\n",
        "]\n",
        "```\n",
        "- Должны быть реализованы все методы стека (pop, push, peek)\n",
        "- Должен быть реализован метод применения всего кода стека в хронологическом порядке порядке\n",
        "\n",
        "**Интерфейс**\n",
        "- Программа запускается и ждет ввода информации\n",
        "- Если пользователь ввел что-то из специальных команд, необходимо запустить соответствующую обработку\n",
        "- Если в строке не содержится ничего их признаков исполняемого кода, выводится **eval** введенного текста\n",
        "- Иначе - помещаем в стек код и выполняем его (не забываем про **globals**)\n",
        "\n",
        "**Команды интерфейса**\n",
        "- **\\q** - выход из программы (break)\n",
        "- **\\l** - last command, вывести верхнюю команду из стека (peek)\n",
        "- **\\p** - pop, достать верхнюю команду из стека + применить обновленную историю действий"
      ],
      "metadata": {
        "id": "axrDzNm2Yatf"
      }
    },
    {
      "cell_type": "code",
      "source": [
        "class ActionStack:\n",
        "  def __init__(self):\n",
        "    self.__stack = []\n",
        "\n",
        "  def push(self, elem):\n",
        "    raise NotImplementedError()\n",
        "\n",
        "  def peek(self) -> str:\n",
        "    raise NotImplementedError()\n",
        "\n",
        "  def pop(self) -> str | None:\n",
        "    raise NotImplementedError()\n",
        "\n",
        "  def apply_actions(self, globs):\n",
        "    raise NotImplementedError()"
      ],
      "metadata": {
        "id": "jA9BBMfKGb4m"
      },
      "execution_count": null,
      "outputs": []
    },
    {
      "cell_type": "code",
      "source": [
        "action_stack = ActionStack()"
      ],
      "metadata": {
        "id": "fCK68epUIDos"
      },
      "execution_count": null,
      "outputs": []
    },
    {
      "cell_type": "code",
      "source": [
        "action_stack.apply_actions(globals())\n",
        "\n",
        "def is_exec(cmd: str) -> bool:\n",
        "  \"\"\"\n",
        "    True, если в cmd содержится \"=\" или \"del\"\n",
        "    False иначе\n",
        "  \"\"\"\n",
        "  raise NotImplementedError()\n",
        "\n",
        "while True:\n",
        "  text = input()\n",
        "  globs = globals()\n",
        "\n",
        "  if text == \"\\q\":\n",
        "    break\n",
        "  elif text == \"\\p\":\n",
        "    raise NotImplementedError()\n",
        "  elif text == \"\\l\":\n",
        "    raise NotImplementedError()\n",
        "  elif is_exec(text):\n",
        "    raise NotImplementedError()\n",
        "  else:\n",
        "    try:\n",
        "      raise NotImplementedError()\n",
        "    except NameError:\n",
        "      print(\"Неверный запрос\")"
      ],
      "metadata": {
        "colab": {
          "base_uri": "https://localhost:8080/"
        },
        "id": "4_59MknWPKYF",
        "outputId": "12ec4c95-eaad-4772-bbe7-0a7ce721ba31"
      },
      "execution_count": null,
      "outputs": [
        {
          "name": "stdout",
          "output_type": "stream",
          "text": [
            "\\q\n"
          ]
        }
      ]
    },
    {
      "cell_type": "markdown",
      "source": [
        "#### Проблемы со стеком\n",
        "\n",
        "Нет ограничения на количество хранимых команд, можем \"упасть\" из-за ограничений по памяти"
      ],
      "metadata": {
        "id": "o0emCF5hiGHj"
      }
    },
    {
      "cell_type": "code",
      "source": [
        "problem_stack = ActionStack()"
      ],
      "metadata": {
        "id": "47-AgB7FiZEQ"
      },
      "execution_count": null,
      "outputs": []
    },
    {
      "cell_type": "code",
      "source": [
        "counter = 1\n",
        "try:\n",
        "  while True:\n",
        "    problem_stack.push(f\"p = {counter}\")\n",
        "    counter += 1\n",
        "except Exception:\n",
        "  print(\"Никогда не будет выполнено :(\")\n",
        "  print(f\"p = {counter}\")"
      ],
      "metadata": {
        "id": "pqMUe7biP6um"
      },
      "execution_count": null,
      "outputs": []
    },
    {
      "cell_type": "markdown",
      "source": [
        "**Как ограничивать стек?**\n",
        "- Реализовать логику \"Если больше N элементов\" - не добавляем больше\n",
        "  - Либо теряем хронологический порядок\n",
        "  - Либо добавление занимает $ O(N) $\n",
        "    - Ищем нижний элемент и ручками выбрасываем его\n",
        "- Использовать очередь вместо стека"
      ],
      "metadata": {
        "id": "O5mhwriZjsPW"
      }
    },
    {
      "cell_type": "markdown",
      "source": [
        "## Очередь"
      ],
      "metadata": {
        "id": "EG_HouWmkGR_"
      }
    },
    {
      "cell_type": "markdown",
      "source": [
        "<img width=\"600px\" src=\"https://d585tldpucybw.cloudfront.net/sfimages/default-source/blogs/2020/2020-11/fifo.png\"/>"
      ],
      "metadata": {
        "id": "ahvugVoxmKcN"
      }
    },
    {
      "cell_type": "markdown",
      "source": [
        "Очередь хранит 2 ссылки:\n",
        "- **tail** на конец очереди\n",
        "- **head** на начало очереди\n",
        "\n",
        "За счет этого операции добавления/извлечения аналогичны по времени стеку ($O(1)$)\\\n",
        "Интерфейс очереди аналогичен стеку (pop, push, peek)\\\n",
        "Для некоторых задач дополнительно реализуется peek для последнего элемента в очереди\n",
        "\n",
        "Можно использовать список (list) как очередь, но для большого кол-ва элементов будет тормозить (см.ниже)"
      ],
      "metadata": {
        "id": "w4sDvB7mmaAa"
      }
    },
    {
      "cell_type": "markdown",
      "source": [
        "### Где применяются очереди\n",
        "\n",
        "- Там же где стеки, но нужно ограничение на кол-во элементов\n",
        "- При синхронизации данных с удаленным источником\n",
        "  - Посмотрим когда будем изучать многопоточность"
      ],
      "metadata": {
        "id": "QsC19iQunNPJ"
      }
    },
    {
      "cell_type": "markdown",
      "source": [
        "### Реализация очереди ручками\n"
      ],
      "metadata": {
        "id": "P4IGaM2NoPmA"
      }
    },
    {
      "cell_type": "code",
      "source": [
        "import abc\n",
        "\n",
        "class Queue(abc.ABC):\n",
        "  @abc.abstractmethod\n",
        "  def peek(self):\n",
        "    pass\n",
        "\n",
        "  @abc.abstractmethod\n",
        "  def push(self, data: int):\n",
        "    pass\n",
        "\n",
        "  @abc.abstractmethod\n",
        "  def pop(self):\n",
        "    pass"
      ],
      "metadata": {
        "id": "W53k8Wt0pwGI"
      },
      "execution_count": null,
      "outputs": []
    },
    {
      "cell_type": "code",
      "source": [
        "class CustomQueue(Queue):\n",
        "  def __init__(self):\n",
        "    self.__head = None\n",
        "    self.__tail = None\n",
        "\n",
        "  def peek(self):\n",
        "    if self.__head is None:\n",
        "      return None\n",
        "    else:\n",
        "      return self.__head.data\n",
        "\n",
        "  def push(self, data: int):\n",
        "    if self.__head is None:\n",
        "      self.__tail = NodeItem(data=data, next=None)\n",
        "      self.__head = self.__tail\n",
        "    else:\n",
        "      new_elem = NodeItem(data=data, next=None)\n",
        "      self.__tail.next = new_elem\n",
        "      self.__tail = new_elem\n",
        "\n",
        "  def pop(self):\n",
        "    if self.__head is None:\n",
        "      self.__tail = None\n",
        "      return None\n",
        "    else:\n",
        "      data = self.__head.data\n",
        "      self.__head = self.__head.next\n",
        "      return data\n",
        "\n",
        "  def __repr__(self):\n",
        "    return self.__head.__repr__()"
      ],
      "metadata": {
        "id": "mdolmG50kFnw"
      },
      "execution_count": null,
      "outputs": []
    },
    {
      "cell_type": "code",
      "source": [
        "custom_queue = CustomQueue()"
      ],
      "metadata": {
        "id": "i_1a3t9-psak"
      },
      "execution_count": null,
      "outputs": []
    },
    {
      "cell_type": "code",
      "source": [
        "custom_queue.push(5)\n",
        "custom_queue.push(10)\n",
        "custom_queue.push(15)\n",
        "\n",
        "custom_queue"
      ],
      "metadata": {
        "colab": {
          "base_uri": "https://localhost:8080/"
        },
        "id": "0CSLXslJqFDw",
        "outputId": "6d2ec7fa-0b84-4371-a2c7-a56571cc8e9b"
      },
      "execution_count": null,
      "outputs": [
        {
          "output_type": "execute_result",
          "data": {
            "text/plain": [
              "NodeItem(data=5, next=NodeItem(data=10, next=NodeItem(data=15, next=None)))"
            ]
          },
          "metadata": {},
          "execution_count": 48
        }
      ]
    },
    {
      "cell_type": "code",
      "source": [
        "custom_queue.pop()"
      ],
      "metadata": {
        "colab": {
          "base_uri": "https://localhost:8080/"
        },
        "id": "5kEVjhOTqpTK",
        "outputId": "4728bc74-b2b3-4641-fefe-925a0f28df9d"
      },
      "execution_count": null,
      "outputs": [
        {
          "output_type": "execute_result",
          "data": {
            "text/plain": [
              "5"
            ]
          },
          "metadata": {},
          "execution_count": 49
        }
      ]
    },
    {
      "cell_type": "code",
      "source": [
        "custom_queue"
      ],
      "metadata": {
        "colab": {
          "base_uri": "https://localhost:8080/"
        },
        "id": "1V_-fvQmqwR-",
        "outputId": "96807bb0-b41c-4729-f9f3-c19131310455"
      },
      "execution_count": null,
      "outputs": [
        {
          "output_type": "execute_result",
          "data": {
            "text/plain": [
              "NodeItem(data=10, next=NodeItem(data=15, next=None))"
            ]
          },
          "metadata": {},
          "execution_count": 50
        }
      ]
    },
    {
      "cell_type": "code",
      "source": [
        "custom_queue.push(7)\n",
        "\n",
        "custom_queue"
      ],
      "metadata": {
        "colab": {
          "base_uri": "https://localhost:8080/"
        },
        "id": "vFq2As5TuNnI",
        "outputId": "1665b0d4-5ce2-4cfb-e0d6-c1f972f56b26"
      },
      "execution_count": null,
      "outputs": [
        {
          "output_type": "execute_result",
          "data": {
            "text/plain": [
              "NodeItem(data=10, next=NodeItem(data=15, next=NodeItem(data=7, next=None)))"
            ]
          },
          "metadata": {},
          "execution_count": 51
        }
      ]
    },
    {
      "cell_type": "markdown",
      "source": [
        "### Чекпоинт 2"
      ],
      "metadata": {
        "id": "GnJhOixeuX3W"
      }
    },
    {
      "cell_type": "markdown",
      "source": [
        "Реализовать очередь с ограничением по кол-ву элементов"
      ],
      "metadata": {
        "id": "9vMlNrjjwixt"
      }
    },
    {
      "cell_type": "code",
      "source": [
        "class CustomLengthQueue(Queue):\n",
        "  def __init__(self, size):\n",
        "    self.__size = size\n",
        "    self.__length = 0\n",
        "    self.__head = None\n",
        "    self.__tail = self.__head\n",
        "\n",
        "  def peek(self):\n",
        "    raise NotImplementedError()\n",
        "\n",
        "  def push(self, data: int):\n",
        "    raise NotImplementedError()\n",
        "\n",
        "  def pop(self):\n",
        "    raise NotImplementedError()\n",
        "\n",
        "  def __repr__(self):\n",
        "    return self.__head.__repr__()"
      ],
      "metadata": {
        "id": "yaaPaBwXuPsG"
      },
      "execution_count": null,
      "outputs": []
    },
    {
      "cell_type": "markdown",
      "source": [
        "Реализовать очередь с ограничением длины через list"
      ],
      "metadata": {
        "id": "8B8GEI0pvWWE"
      }
    },
    {
      "cell_type": "code",
      "source": [
        "class LengthListQueue(Queue):\n",
        "  def __init__(self, size):\n",
        "    self.__size = size\n",
        "    self.__queue = []\n",
        "\n",
        "  def peek(self):\n",
        "    raise NotImplementedError()\n",
        "\n",
        "  def push(self, data: int):\n",
        "    raise NotImplementedError()\n",
        "\n",
        "  def pop(self):\n",
        "    raise NotImplementedError()\n",
        "\n",
        "  def __repr__(self):\n",
        "    raise NotImplementedError()"
      ],
      "metadata": {
        "id": "1If-sFXVvVu5"
      },
      "execution_count": null,
      "outputs": []
    },
    {
      "cell_type": "markdown",
      "source": [
        "### Когда ручками работает быстрее"
      ],
      "metadata": {
        "id": "1caWnXZ1xR-K"
      }
    },
    {
      "cell_type": "code",
      "source": [
        "QUEUE_SIZE = 100_000\n",
        "\n",
        "custom_queue = CustomLengthQueue(QUEUE_SIZE)\n",
        "list_queue = LengthListQueue(QUEUE_SIZE)"
      ],
      "metadata": {
        "id": "kD0pe7_ExE_s",
        "colab": {
          "base_uri": "https://localhost:8080/",
          "height": 201
        },
        "outputId": "dba16ea5-213b-4a77-f5fd-7d32572545d7"
      },
      "execution_count": null,
      "outputs": [
        {
          "output_type": "error",
          "ename": "NameError",
          "evalue": "name 'CustomLengthQueue' is not defined",
          "traceback": [
            "\u001b[0;31m---------------------------------------------------------------------------\u001b[0m",
            "\u001b[0;31mNameError\u001b[0m                                 Traceback (most recent call last)",
            "\u001b[0;32m<ipython-input-16-c107a75250e4>\u001b[0m in \u001b[0;36m<cell line: 3>\u001b[0;34m()\u001b[0m\n\u001b[1;32m      1\u001b[0m \u001b[0mQUEUE_SIZE\u001b[0m \u001b[0;34m=\u001b[0m \u001b[0;36m100_000\u001b[0m\u001b[0;34m\u001b[0m\u001b[0;34m\u001b[0m\u001b[0m\n\u001b[1;32m      2\u001b[0m \u001b[0;34m\u001b[0m\u001b[0m\n\u001b[0;32m----> 3\u001b[0;31m \u001b[0mcustom_queue\u001b[0m \u001b[0;34m=\u001b[0m \u001b[0mCustomLengthQueue\u001b[0m\u001b[0;34m(\u001b[0m\u001b[0mQUEUE_SIZE\u001b[0m\u001b[0;34m)\u001b[0m\u001b[0;34m\u001b[0m\u001b[0;34m\u001b[0m\u001b[0m\n\u001b[0m\u001b[1;32m      4\u001b[0m \u001b[0mlist_queue\u001b[0m \u001b[0;34m=\u001b[0m \u001b[0mLengthListQueue\u001b[0m\u001b[0;34m(\u001b[0m\u001b[0mQUEUE_SIZE\u001b[0m\u001b[0;34m)\u001b[0m\u001b[0;34m\u001b[0m\u001b[0;34m\u001b[0m\u001b[0m\n",
            "\u001b[0;31mNameError\u001b[0m: name 'CustomLengthQueue' is not defined"
          ]
        }
      ]
    },
    {
      "cell_type": "code",
      "source": [
        "import time\n",
        "\n",
        "def measure_push_time(queue: Queue, elem: int):\n",
        "  start_time = time.time()\n",
        "  queue.push(elem)\n",
        "  end_time = time.time()\n",
        "\n",
        "  return end_time - start_time"
      ],
      "metadata": {
        "id": "avTtMSrXyLcZ"
      },
      "execution_count": null,
      "outputs": []
    },
    {
      "cell_type": "code",
      "source": [
        "import numpy as np\n",
        "\n",
        "elements = np.arange(0, QUEUE_SIZE + 2, dtype=int)\n",
        "\n",
        "for elem in elements:\n",
        "\n",
        "  custom_queue.push(elem)\n",
        "  list_queue.push(elem)\n",
        "\n",
        "  if elem > QUEUE_SIZE:\n",
        "    custom_queue_time = measure_push_time(custom_queue, elem)\n",
        "    list_queue_time = measure_push_time(list_queue, elem)\n",
        "\n",
        "    print(custom_queue_time)\n",
        "    print(list_queue_time)\n",
        "\n",
        "    print(list_queue_time / custom_queue_time)\n",
        "\n",
        "    break"
      ],
      "metadata": {
        "colab": {
          "base_uri": "https://localhost:8080/"
        },
        "id": "mx7cCIaXxn6K",
        "outputId": "15c30db6-2e0e-4332-db75-3030d7f8709b"
      },
      "execution_count": null,
      "outputs": [
        {
          "output_type": "stream",
          "name": "stdout",
          "text": [
            "1.049041748046875e-05\n",
            "0.0004818439483642578\n",
            "45.93181818181818\n"
          ]
        }
      ]
    }
  ]
}