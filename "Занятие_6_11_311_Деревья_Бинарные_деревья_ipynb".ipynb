{
  "nbformat": 4,
  "nbformat_minor": 0,
  "metadata": {
    "colab": {
      "provenance": [],
      "toc_visible": true,
      "include_colab_link": true
    },
    "kernelspec": {
      "name": "python3",
      "display_name": "Python 3"
    },
    "language_info": {
      "name": "python"
    }
  },
  "cells": [
    {
      "cell_type": "markdown",
      "metadata": {
        "id": "view-in-github",
        "colab_type": "text"
      },
      "source": [
        "<a href=\"https://colab.research.google.com/github/8persy/algoritms_colab/blob/main/%22%D0%97%D0%B0%D0%BD%D1%8F%D1%82%D0%B8%D0%B5_6_11_311_%D0%94%D0%B5%D1%80%D0%B5%D0%B2%D1%8C%D1%8F_%D0%91%D0%B8%D0%BD%D0%B0%D1%80%D0%BD%D1%8B%D0%B5_%D0%B4%D0%B5%D1%80%D0%B5%D0%B2%D1%8C%D1%8F_ipynb%22.ipynb\" target=\"_parent\"><img src=\"https://colab.research.google.com/assets/colab-badge.svg\" alt=\"Open In Colab\"/></a>"
      ]
    },
    {
      "cell_type": "markdown",
      "source": [
        "# **Деревья. Бинарные (двоичные) деревья**"
      ],
      "metadata": {
        "id": "cnlSHYWcUD-k"
      }
    },
    {
      "cell_type": "markdown",
      "source": [
        "## **Дерево**"
      ],
      "metadata": {
        "id": "zGpo7vdydZRH"
      }
    },
    {
      "cell_type": "markdown",
      "source": [
        "**Дерево** - структура данных, которая представляет собой совокупность элементов, а также отношений между этими элементами, что вместе образует иерархическую древовидную структуру."
      ],
      "metadata": {
        "id": "-1uhDggYZd0S"
      }
    },
    {
      "cell_type": "markdown",
      "source": [
        "<img src=\"https://drive.google.com/uc?export=view&id=1KA-opsmGUCSuVItKxyetYMkN5WO3kKFb\"/>"
      ],
      "metadata": {
        "id": "gfOSXs0YUZ52"
      }
    },
    {
      "cell_type": "markdown",
      "source": [
        "Каждый элемент — это **вершина** или **узел** дерева (node). Узлы, соединенные направленными дугами, называются **ветвями**. Начальный узел — это **корень** дерева (root). **Листья** — это узлы, в которые входит 1 ветвь, причем не выходит ни одной."
      ],
      "metadata": {
        "id": "Fb6qJ5Vza8vr"
      }
    },
    {
      "cell_type": "markdown",
      "source": [
        "<img src=\"https://drive.google.com/uc?export=view&id=1MzwVId87KUEqFuugiCzCiveIt3UDvh0O\"/>"
      ],
      "metadata": {
        "id": "V4hNt2XuZzBq"
      }
    },
    {
      "cell_type": "markdown",
      "source": [
        "## **Бинарное (двоичное) дерево**"
      ],
      "metadata": {
        "id": "66Q0n-andJaL"
      }
    },
    {
      "cell_type": "markdown",
      "source": [
        "Дерево, в котором каждый node может содержать не более 2 ветвей, называют **бинарным (двоичным) деревом**"
      ],
      "metadata": {
        "id": "jL9wsKYmbxwi"
      }
    },
    {
      "cell_type": "markdown",
      "source": [
        "<img src=\"https://drive.google.com/uc?export=view&id=15A5kIzJWOGMY5nc0idqSwigV_NmDEJnw\"/>"
      ],
      "metadata": {
        "id": "54Cc_d8hcfNa"
      }
    },
    {
      "cell_type": "markdown",
      "source": [
        "### Формирование бинарного (двоичного) дерева"
      ],
      "metadata": {
        "id": "6mti4_ZMdf_h"
      }
    },
    {
      "cell_type": "markdown",
      "source": [
        "\n",
        "*   Если добавляемое значение меньше значения в родительском узле, то новая вершина добавляется в левую ветвь, иначе - в правую\n",
        "*   Если добавляемое значение уже присутствует в дереве, то оно игнорируется (то есть, дубли отсутствуют)"
      ],
      "metadata": {
        "id": "1n9xjWRfdnbU"
      }
    },
    {
      "cell_type": "code",
      "execution_count": null,
      "metadata": {
        "id": "uMW-U1jEUCpb"
      },
      "outputs": [],
      "source": [
        "from __future__ import annotations\n",
        "import dataclasses\n",
        "\n",
        "@dataclasses.dataclass\n",
        "class Node:\n",
        "  data: data\n",
        "  left: Node | None = dataclasses.field(default=None)\n",
        "  right: Node | None = dataclasses.field(default=None)"
      ]
    },
    {
      "cell_type": "code",
      "source": [
        "root = Node(data=5)\n",
        "\n",
        "left_tree = Node(data=2)\n",
        "root.left = left_tree\n",
        "\n",
        "right_tree = Node(data=7)\n",
        "root.right = right_tree\n",
        "\n",
        "r_l_leaf = Node(data=6)\n",
        "right_tree.left = r_l_leaf\n",
        "\n",
        "r_r_leaf = Node(data=8)\n",
        "right_tree.right = r_r_leaf\n",
        "\n",
        "l_l_leaf = Node(data=1)\n",
        "left_tree.left = l_l_leaf\n",
        "\n",
        "l_r_leaf = Node(data=3)\n",
        "left_tree.right = l_r_leaf\n",
        "\n",
        "root"
      ],
      "metadata": {
        "colab": {
          "base_uri": "https://localhost:8080/"
        },
        "id": "kc3VQMu-jEZR",
        "outputId": "442ac808-e832-4747-b87c-ddc806ad0d9d"
      },
      "execution_count": null,
      "outputs": [
        {
          "output_type": "execute_result",
          "data": {
            "text/plain": [
              "Node(data=5, left=Node(data=2, left=Node(data=1, left=None, right=None), right=Node(data=3, left=None, right=None)), right=Node(data=7, left=Node(data=6, left=None, right=None), right=Node(data=8, left=None, right=None)))"
            ]
          },
          "metadata": {},
          "execution_count": 7
        }
      ]
    },
    {
      "cell_type": "markdown",
      "source": [
        "### Способы обхода вершин бинарного (двоичного) дерева"
      ],
      "metadata": {
        "id": "fpf2pL0C3MWt"
      }
    },
    {
      "cell_type": "markdown",
      "source": [
        "#### Обход в ширину"
      ],
      "metadata": {
        "id": "gTUgUBZBpEb_"
      }
    },
    {
      "cell_type": "markdown",
      "source": [
        "Обход в ширину (BFS) идет из начальной вершины, посещает сначала все вершины находящиеся на расстоянии одного ребра от начальной, потом посещает все вершины на расстоянии два ребра от начальной и так далее. Алгоритм поиска в ширину является по своей природе нерекурсивным (итеративным). Для его реализации применяется структура данных очередь (FIFO).\n"
      ],
      "metadata": {
        "id": "qnpC4-zupH-8"
      }
    },
    {
      "cell_type": "markdown",
      "source": [
        "1. Создадим очередь по аналогии с предыдущим занятием"
      ],
      "metadata": {
        "id": "RQg-WwMitPsP"
      }
    },
    {
      "cell_type": "code",
      "source": [
        "from __future__ import annotations\n",
        "import dataclasses\n",
        "import typing\n",
        "\n",
        "@dataclasses.dataclass\n",
        "class NodeItem:\n",
        "  data: typing.Any\n",
        "  next: NodeItem | None"
      ],
      "metadata": {
        "id": "bdr2D97TStP6"
      },
      "execution_count": null,
      "outputs": []
    },
    {
      "cell_type": "code",
      "source": [
        "class CustomQueue:\n",
        "    def __init__(self):\n",
        "        super().__init__()\n",
        "        self.__length = 0\n",
        "        self.__head = None\n",
        "        self.__tail = None\n",
        "\n",
        "    def peek(self):\n",
        "        if self.__head is None:\n",
        "            return None\n",
        "        else:\n",
        "            return self.__head.data\n",
        "\n",
        "    def push(self, data: typing.Any):\n",
        "        if self.__head is None:\n",
        "            self.__tail = NodeItem(data=data, next=None)\n",
        "            self.__head = self.__tail\n",
        "        else:\n",
        "            new_elem = NodeItem(data=data, next=None)\n",
        "            self.__tail.next = new_elem\n",
        "            self.__tail = new_elem\n",
        "        self.__length += 1\n",
        "\n",
        "    def pop(self):\n",
        "        if self.__head is None:\n",
        "            self.__tail = None\n",
        "            return None\n",
        "        else:\n",
        "            data = self.__head.data\n",
        "            self.__head = self.__head.next\n",
        "            self.__length -= 1\n",
        "            return data\n",
        "\n",
        "    def __len__(self):\n",
        "        return self.__length\n",
        "\n",
        "    def __repr__(self):\n",
        "        return self.__head.__repr__()"
      ],
      "metadata": {
        "id": "bTeDnRAItW2Z"
      },
      "execution_count": null,
      "outputs": []
    },
    {
      "cell_type": "markdown",
      "source": [
        "2. Напишем функцию, которая обходит в ширину дерево и добавляет в нужном порядке вершины в очередь"
      ],
      "metadata": {
        "id": "9fa3AZXftqCi"
      }
    },
    {
      "cell_type": "markdown",
      "source": [
        "##### Чекпоинт 1"
      ],
      "metadata": {
        "id": "lOTw4U6Qt5z7"
      }
    },
    {
      "cell_type": "code",
      "source": [
        "def bfs(tree: Node | None) -> list:\n",
        "    values = []\n",
        "\n",
        "    queue =  CustomQueue()\n",
        "\n",
        "    if tree is None:\n",
        "      return []\n",
        "\n",
        "    values.append(tree.data)\n",
        "    queue.push(tree.left)\n",
        "    queue.push(tree.right)\n",
        "\n",
        "    while len(queue) > 0:\n",
        "      curr_el = queue.pop()\n",
        "\n",
        "      if curr_el is not None:\n",
        "        values.append(curr_el.data)\n",
        "        queue.push(curr_el.left)\n",
        "        queue.push(curr_el.right)\n",
        "\n",
        "\n",
        "    return values"
      ],
      "metadata": {
        "id": "Kzd4-Zyftpnr"
      },
      "execution_count": null,
      "outputs": []
    },
    {
      "cell_type": "code",
      "source": [
        "bfs(root)"
      ],
      "metadata": {
        "colab": {
          "base_uri": "https://localhost:8080/"
        },
        "id": "vVfpCx2cjqMZ",
        "outputId": "755fc434-a399-4173-e024-a37f0bd40fd3"
      },
      "execution_count": null,
      "outputs": [
        {
          "output_type": "execute_result",
          "data": {
            "text/plain": [
              "[5, 2, 7, 1, 3, 6, 8]"
            ]
          },
          "metadata": {},
          "execution_count": 8
        }
      ]
    },
    {
      "cell_type": "markdown",
      "source": [
        "#### Обход в глубину"
      ],
      "metadata": {
        "id": "G52X_HRW2s6V"
      }
    },
    {
      "cell_type": "markdown",
      "source": [
        "Поиск в глубину (DFS) идет из начальной вершины, посещая еще не посещенные вершины без оглядки на удаленность от начальной вершины. Алгоритм поиска в глубину по своей природе является рекурсивным. Для эмуляции рекурсии в итеративном варианте алгоритма применяется структура данных стек."
      ],
      "metadata": {
        "id": "UgFo3iNWrEVb"
      }
    },
    {
      "cell_type": "markdown",
      "source": [
        "**Способы обхода в глубину**\n",
        "\n",
        "\n",
        "\n",
        "**1.   Прямой обход**\n",
        "\n",
        "\n",
        "*   Корень\n",
        "*   Левое поддерево\n",
        "*   Правое поддерево\n",
        "\n",
        "\n",
        "\n",
        "**2.   Симметричный обход**\n",
        "\n",
        "*   Левое поддерево\n",
        "*   Корень\n",
        "*   Правое поддерево\n",
        "\n",
        "\n",
        "**3. Обратный обход**\n",
        "\n",
        "*   Левое поддерево\n",
        "*   Правое поддерево\n",
        "*   Корень"
      ],
      "metadata": {
        "id": "-d46qBf9u7KI"
      }
    },
    {
      "cell_type": "markdown",
      "source": [
        "1. Создадим стек по аналогии с предыдущим занятием"
      ],
      "metadata": {
        "id": "AJl1nP9PSjLP"
      }
    },
    {
      "cell_type": "code",
      "source": [
        "class CustomStack:\n",
        "    def __init__(self):\n",
        "        self.__head = None\n",
        "        self.__length = 0\n",
        "\n",
        "    def peek(self):\n",
        "        if self.__head is None:\n",
        "            return None\n",
        "        else:\n",
        "            return self.__head.data\n",
        "\n",
        "    def append(self, data: typing.Any):\n",
        "        if self.__head is None:\n",
        "            self.__head = NodeItem(data=data, next=None)\n",
        "        else:\n",
        "            new_elem = NodeItem(data=data, next=self.__head)\n",
        "            self.__head = new_elem\n",
        "        self.__length += 1\n",
        "\n",
        "    def pop(self):\n",
        "        if self.__head is None:\n",
        "            return None\n",
        "        else:\n",
        "            data = self.__head.data\n",
        "            next = self.__head.next\n",
        "            self.__head.next = None\n",
        "            self.__head = next\n",
        "            self.__length -= 1\n",
        "            return data\n",
        "\n",
        "    def __len__(self):\n",
        "        return self.__length\n",
        "\n",
        "    def __repr__(self):\n",
        "        return self.__head.__repr__()\n"
      ],
      "metadata": {
        "id": "Wfj57QYDTD3a"
      },
      "execution_count": null,
      "outputs": []
    },
    {
      "cell_type": "markdown",
      "source": [
        "2. Напишем функцию, которая обходит в глубину дерево и добавляет в нужном порядке вершины в стек\n"
      ],
      "metadata": {
        "id": "jE-46rjRTMOj"
      }
    },
    {
      "cell_type": "markdown",
      "source": [
        "##### Чекпоинт 2 (Прямой обход)"
      ],
      "metadata": {
        "id": "tYNJoP4eTY7r"
      }
    },
    {
      "cell_type": "code",
      "source": [
        "def dfs(tree) -> list:\n",
        "    values = []\n",
        "\n",
        "    stack =  CustomStack()\n",
        "\n",
        "\n",
        "    return values"
      ],
      "metadata": {
        "id": "Qdkyvl5QTbS6"
      },
      "execution_count": null,
      "outputs": []
    },
    {
      "cell_type": "code",
      "source": [
        "dfs(root)"
      ],
      "metadata": {
        "colab": {
          "base_uri": "https://localhost:8080/"
        },
        "id": "k8vNFAC1j6fo",
        "outputId": "de213742-e8e6-4c71-a28b-fdc6c23caca5"
      },
      "execution_count": null,
      "outputs": [
        {
          "output_type": "execute_result",
          "data": {
            "text/plain": [
              "[5, 2, 1, 3, 7, 6, 8]"
            ]
          },
          "metadata": {},
          "execution_count": 26
        }
      ]
    },
    {
      "cell_type": "markdown",
      "source": [
        "##### Чекпоинт 2 (Симметричный обход)"
      ],
      "metadata": {
        "id": "sZWnQCm5xaIs"
      }
    },
    {
      "cell_type": "code",
      "source": [
        "def sym_dfs(tree) -> list:\n",
        "    values = []\n",
        "\n",
        "    return values"
      ],
      "metadata": {
        "id": "5n9PxtNFxeqw"
      },
      "execution_count": null,
      "outputs": []
    },
    {
      "cell_type": "code",
      "source": [
        "sym_dfs(root)"
      ],
      "metadata": {
        "colab": {
          "base_uri": "https://localhost:8080/"
        },
        "id": "k8hJEkVjxmw3",
        "outputId": "873cdd24-d22e-4281-8361-3ea028f69503"
      },
      "execution_count": null,
      "outputs": [
        {
          "output_type": "execute_result",
          "data": {
            "text/plain": [
              "[1, 2, 3, 5, 6, 7, 8]"
            ]
          },
          "metadata": {},
          "execution_count": 27
        }
      ]
    },
    {
      "cell_type": "markdown",
      "source": [
        "##### Чекпоинт 2 (Обратный обход)"
      ],
      "metadata": {
        "id": "VrpabeIIyCAi"
      }
    },
    {
      "cell_type": "code",
      "source": [
        "def back_dfs(tree) -> list:\n",
        "    values = []\n",
        "\n",
        "\n",
        "    return values"
      ],
      "metadata": {
        "id": "lIFjUHt3yHUN"
      },
      "execution_count": null,
      "outputs": []
    },
    {
      "cell_type": "code",
      "source": [
        "back_dfs(root)"
      ],
      "metadata": {
        "colab": {
          "base_uri": "https://localhost:8080/"
        },
        "id": "l629yT1pyfBe",
        "outputId": "152c21c3-cfd0-4e6e-d7dc-c43f3924decd"
      },
      "execution_count": null,
      "outputs": [
        {
          "output_type": "execute_result",
          "data": {
            "text/plain": [
              "[1, 3, 2, 6, 8, 7, 5]"
            ]
          },
          "metadata": {},
          "execution_count": 29
        }
      ]
    },
    {
      "cell_type": "markdown",
      "source": [
        "### Удаление вершины в бинарном (двоичном) дереве"
      ],
      "metadata": {
        "id": "4fCjLJeJXoh9"
      }
    },
    {
      "cell_type": "markdown",
      "source": [
        "#### Вариант 1. Удаление листовой вершины"
      ],
      "metadata": {
        "id": "UQSWSTvjYFqb"
      }
    },
    {
      "cell_type": "markdown",
      "source": [
        "Обнулить у предка ссылку на вершину с необходимой стороны"
      ],
      "metadata": {
        "id": "YIpUZRWvYYap"
      }
    },
    {
      "cell_type": "markdown",
      "source": [
        "#### Вариант 2. Удаление узла с одним потомком"
      ],
      "metadata": {
        "id": "0rGLqxKZYOjC"
      }
    },
    {
      "cell_type": "markdown",
      "source": [
        "Меняем предку удаляемой вершины ссылку на вершину с нужной стороны"
      ],
      "metadata": {
        "id": "k_bbD-bPYqIX"
      }
    },
    {
      "cell_type": "markdown",
      "source": [
        "#### Вариант 3. Удаление вершины с двумя потомками"
      ],
      "metadata": {
        "id": "hMtF-9kRYRmD"
      }
    },
    {
      "cell_type": "markdown",
      "source": [
        "У удаляемой вершины ищем с правой стороны потомка с наименьшим значением и ставим его на место этой вершины"
      ],
      "metadata": {
        "id": "eX9qx0B4ZS5s"
      }
    },
    {
      "cell_type": "markdown",
      "source": [
        "## Чекпоинт 3"
      ],
      "metadata": {
        "id": "zP7PYOJa3Vet"
      }
    },
    {
      "cell_type": "markdown",
      "source": [
        "Реализовать функции класса бинарного дерева:\n",
        "\n",
        "\n",
        "*   Поиск значения в дереве\n",
        "*   Поиск минимального значения в дереве\n",
        "*   Добавление элемента в дерево\n",
        "*   Удаление листовой вершины\n",
        "*   Удаление вершины с одним потомком\n",
        "*   Удаление вершины с двумя потомками\n",
        "\n",
        "\n",
        "\n",
        "\n",
        "\n"
      ],
      "metadata": {
        "id": "fKX9CX5hZ1cK"
      }
    },
    {
      "cell_type": "code",
      "source": [
        "class Tree:\n",
        "  def __init__(self):\n",
        "    self.root = None\n",
        "\n",
        "  # Поиск значения в дереве\n",
        "  def __find(self, node, parent, value):\n",
        "    pass\n",
        "    # Возвращает node, parent и boolean, нашелся ли элемент\n",
        "\n",
        "  # Поиск минмального значения в дереве\n",
        "  def __find_min(self, node, parent):\n",
        "    pass\n",
        "    # Возвращает node, parent\n",
        "\n",
        "  # Добавление элемента в дерево\n",
        "  def append(self, obj):\n",
        "    pass\n",
        "    # Возвращает значение добавленного элемента\n",
        "\n",
        "  # Удаление листовой вершины\n",
        "  def __del_leaf(self, s, p):\n",
        "    pass\n",
        "\n",
        "  # Удаление вершины с одним потомком\n",
        "  def __del_one_child(self, s, p):\n",
        "    pass\n",
        "\n",
        "  # Удаление вершины с двумя потомками (основной метод, отправляет на другие методы удаления)\n",
        "  def del_node(self, key):\n",
        "    pass\n",
        "\n",
        "\n",
        "  def show_tree(self, node)\n",
        "    if node is None:\n",
        "      return\n",
        "\n",
        "    self.show_tree(node. left)\n",
        "    print(node.data)\n",
        "    self.show_tree(node. right)\n",
        "\n",
        "  def show_wide_tree(self, node):\n",
        "    if node is None:\n",
        "      return\n",
        "    v = [node]\n",
        "    while v:\n",
        "      vn = []\n",
        "      for x in v:\n",
        "        print(x.data, end=\" \")\n",
        "        if x.left:\n",
        "          vn += [x.left]\n",
        "        if x.right:\n",
        "          vn += [x.right]\n",
        "      print()\n",
        "      v = vn\n",
        "\n"
      ],
      "metadata": {
        "id": "kuzyYtgTiB-k"
      },
      "execution_count": null,
      "outputs": []
    },
    {
      "cell_type": "markdown",
      "source": [],
      "metadata": {
        "id": "Lnl0fH3siBUS"
      }
    }
  ]
}