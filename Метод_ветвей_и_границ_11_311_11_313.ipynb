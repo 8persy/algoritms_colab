{
  "nbformat": 4,
  "nbformat_minor": 0,
  "metadata": {
    "colab": {
      "provenance": [],
      "include_colab_link": true
    },
    "kernelspec": {
      "name": "python3",
      "display_name": "Python 3"
    },
    "language_info": {
      "name": "python"
    }
  },
  "cells": [
    {
      "cell_type": "markdown",
      "metadata": {
        "id": "view-in-github",
        "colab_type": "text"
      },
      "source": [
        "<a href=\"https://colab.research.google.com/github/8persy/algoritms_colab/blob/main/%D0%9C%D0%B5%D1%82%D0%BE%D0%B4_%D0%B2%D0%B5%D1%82%D0%B2%D0%B5%D0%B9_%D0%B8_%D0%B3%D1%80%D0%B0%D0%BD%D0%B8%D1%86_11_311_11_313.ipynb\" target=\"_parent\"><img src=\"https://colab.research.google.com/assets/colab-badge.svg\" alt=\"Open In Colab\"/></a>"
      ]
    },
    {
      "cell_type": "markdown",
      "source": [
        "# Метод ветвей и границ\n",
        "\n",
        "Данный метод применяется в задачах, когда при переборе значений мы делаем гипотезу и вычисляем решение и его оценку в двух случаях:\n",
        "- В случае если гипотеза верна\n",
        "- В случае если гипотеза неверна\n",
        "\n",
        "Для каждого из новых решений проделываем ту же операцию и в конечном счете получим решение с лучшей оценкой\n"
      ],
      "metadata": {
        "id": "RXcCerzXl3V2"
      }
    },
    {
      "cell_type": "markdown",
      "source": [
        "Полный разбор задачки тут\n",
        "\n",
        "https://galyautdinov.ru/post/zadacha-kommivoyazhera"
      ],
      "metadata": {
        "id": "J9CLl-uBvXd_"
      }
    },
    {
      "cell_type": "markdown",
      "source": [
        "Рассмотрим этот метод на примере задачи коммивояжера\n",
        "\n",
        "Смысл задачи:\n",
        "- У нас есть N городов, связанным между друг другом\n",
        "- Есть матрица с расстояниями м-ду городами\n",
        "- Необходимо посетить каждый город хотя бы один раз и затем вернуться в исходный город\n",
        "- Необходимо найти самый короткий путь"
      ],
      "metadata": {
        "id": "mkqYRSprm0AA"
      }
    },
    {
      "cell_type": "code",
      "source": [
        "import numpy as np"
      ],
      "metadata": {
        "id": "xSCCIIVv2Vl7"
      },
      "execution_count": null,
      "outputs": []
    },
    {
      "cell_type": "markdown",
      "source": [
        "У нас есть 5 городов с вот такой матрицей расстояний"
      ],
      "metadata": {
        "id": "sKU2OVFVnKcy"
      }
    },
    {
      "cell_type": "markdown",
      "source": [
        "<img src=\"https://drive.google.com/uc?export=view&id=1bfNvGtXZ2OHA8XKow9XIpZJAeMbqQywo\" height=\"200\"/>"
      ],
      "metadata": {
        "id": "xgvOPE_Sscmp"
      }
    },
    {
      "cell_type": "code",
      "source": [
        "routes = np.array([\n",
        "    [np.inf, 20,     18,     12,     8],\n",
        "    [5,      np.inf, 14,     7,      11],\n",
        "    [12,     18,     np.inf, 6,     11],\n",
        "    [11,     17,     11,     np.inf, 12],\n",
        "    [5,      5,      5,      5,      np.inf],\n",
        "])"
      ],
      "metadata": {
        "id": "ZBHI2Wg22oM3"
      },
      "execution_count": null,
      "outputs": []
    },
    {
      "cell_type": "markdown",
      "source": [
        "Теперь попытаемся найти оценку самого минимального пути м-ду городами\n",
        "\n",
        "Найдем эту оценку так:\n",
        "- Возьмем минимумы по строкам (все самые короткие пути), просуммируем их\n",
        "- Вычтем эти минимумы из ячеек соответствующих строчек\n",
        "- Сделаем аналогичные шаги по столбцам\n",
        "\n",
        "Получившиеся число будет минимально возможной оценкой"
      ],
      "metadata": {
        "id": "jDrPjy-YnS3l"
      }
    },
    {
      "cell_type": "markdown",
      "source": [
        "В чем суть?\n",
        "\n",
        "Посредством такой операции мы на каждом шаге будем вычитать минимумы чтобы найти самые дешевые пути между городами"
      ],
      "metadata": {
        "id": "Yemv6D3zoJtD"
      }
    },
    {
      "cell_type": "code",
      "source": [
        "mins = routes.min(axis=1)\n",
        "\n",
        "m = np.repeat(mins, 5).reshape(5, 5)\n",
        "\n",
        "r_routes = routes - m\n",
        "\n",
        "r_routes"
      ],
      "metadata": {
        "colab": {
          "base_uri": "https://localhost:8080/"
        },
        "id": "FsnKIZKd2uGN",
        "outputId": "e394d892-9d47-4ca2-b567-702ede120d4a"
      },
      "execution_count": null,
      "outputs": [
        {
          "output_type": "execute_result",
          "data": {
            "text/plain": [
              "array([[inf, 12., 10.,  4.,  0.],\n",
              "       [ 0., inf,  9.,  2.,  6.],\n",
              "       [ 6., 12., inf,  0.,  5.],\n",
              "       [ 0.,  6.,  0., inf,  1.],\n",
              "       [ 0.,  0.,  0.,  0., inf]])"
            ]
          },
          "metadata": {},
          "execution_count": 75
        }
      ]
    },
    {
      "cell_type": "code",
      "source": [
        "m"
      ],
      "metadata": {
        "id": "C6QmV42Wxpmn",
        "outputId": "7af3c165-21d8-4f90-9141-3707ab944928",
        "colab": {
          "base_uri": "https://localhost:8080/"
        }
      },
      "execution_count": null,
      "outputs": [
        {
          "output_type": "execute_result",
          "data": {
            "text/plain": [
              "array([[ 8.,  8.,  8.,  8.,  8.],\n",
              "       [ 5.,  5.,  5.,  5.,  5.],\n",
              "       [ 6.,  6.,  6.,  6.,  6.],\n",
              "       [11., 11., 11., 11., 11.],\n",
              "       [ 5.,  5.,  5.,  5.,  5.]])"
            ]
          },
          "metadata": {},
          "execution_count": 76
        }
      ]
    },
    {
      "cell_type": "code",
      "source": [
        "record = mins.sum()\n",
        "\n",
        "record"
      ],
      "metadata": {
        "colab": {
          "base_uri": "https://localhost:8080/"
        },
        "id": "2-Rvxgus24UR",
        "outputId": "9e42c44b-4fc6-425a-dd26-13ee58bfeaf7"
      },
      "execution_count": null,
      "outputs": [
        {
          "output_type": "execute_result",
          "data": {
            "text/plain": [
              "35.0"
            ]
          },
          "metadata": {},
          "execution_count": 71
        }
      ]
    },
    {
      "cell_type": "code",
      "source": [
        "mins = r_routes.min(axis=0)\n",
        "\n",
        "m = np.repeat(mins, 5).reshape(5, 5).T\n",
        "\n",
        "c_routes = r_routes - m\n",
        "\n",
        "c_routes"
      ],
      "metadata": {
        "colab": {
          "base_uri": "https://localhost:8080/"
        },
        "id": "ZgoNoqEm5nJH",
        "outputId": "a8bcbf62-b1cb-4b73-dede-cd93a0b29bbd"
      },
      "execution_count": null,
      "outputs": [
        {
          "output_type": "execute_result",
          "data": {
            "text/plain": [
              "array([[inf, 12., 10.,  4.,  0.],\n",
              "       [ 0., inf,  9.,  2.,  6.],\n",
              "       [ 6., 12., inf,  0.,  5.],\n",
              "       [ 0.,  6.,  0., inf,  1.],\n",
              "       [ 0.,  0.,  0.,  0., inf]])"
            ]
          },
          "metadata": {},
          "execution_count": 72
        }
      ]
    },
    {
      "cell_type": "code",
      "source": [
        "record += mins.sum()\n",
        "\n",
        "record"
      ],
      "metadata": {
        "colab": {
          "base_uri": "https://localhost:8080/"
        },
        "id": "iDS6pytL5wD7",
        "outputId": "97bb42ff-c0ff-472b-83a4-c39a37f4d156"
      },
      "execution_count": null,
      "outputs": [
        {
          "output_type": "execute_result",
          "data": {
            "text/plain": [
              "35.0"
            ]
          },
          "metadata": {},
          "execution_count": 73
        }
      ]
    },
    {
      "cell_type": "markdown",
      "source": [
        "Таким образом, меньше чем за 35 объехать все города невозможно"
      ],
      "metadata": {
        "id": "Cxou7QnGqWVl"
      }
    },
    {
      "cell_type": "markdown",
      "source": [
        "Соберем все в одну функцию"
      ],
      "metadata": {
        "id": "qjFVAjZhqStk"
      }
    },
    {
      "cell_type": "code",
      "source": [
        "def remove_mins(arr: np.array):\n",
        "  routes = np.array(arr)\n",
        "  size = arr.shape[0]\n",
        "  const_sum = 0\n",
        "\n",
        "  row_mins = routes.min(axis=1)\n",
        "  row_mins[row_mins == np.inf] = 0\n",
        "  row_sum = row_mins.sum()\n",
        "  const_sum += row_sum\n",
        "\n",
        "  m = np.repeat(row_mins, size).reshape(size, size)\n",
        "  routes = routes - m\n",
        "\n",
        "  col_mins = routes.min(axis=0)\n",
        "  col_mins[col_mins == np.inf] = 0\n",
        "  col_sum = col_mins.sum()\n",
        "  const_sum += col_sum\n",
        "\n",
        "  m = np.repeat(col_mins, size).reshape(size, size).T\n",
        "  routes = routes - m\n",
        "\n",
        "  return routes, const_sum"
      ],
      "metadata": {
        "id": "04e5L8Z18aka"
      },
      "execution_count": null,
      "outputs": []
    },
    {
      "cell_type": "code",
      "source": [
        "min_routes, record = remove_mins(routes)\n",
        "\n",
        "min_routes"
      ],
      "metadata": {
        "colab": {
          "base_uri": "https://localhost:8080/"
        },
        "id": "hpfSR2aX-ETD",
        "outputId": "2878b0cb-3523-4438-d123-20aa7064b813"
      },
      "execution_count": null,
      "outputs": [
        {
          "output_type": "execute_result",
          "data": {
            "text/plain": [
              "array([[inf, 12., 10.,  4.,  0.],\n",
              "       [ 0., inf,  9.,  2.,  6.],\n",
              "       [ 6., 12., inf,  0.,  5.],\n",
              "       [ 0.,  6.,  0., inf,  1.],\n",
              "       [ 0.,  0.,  0.,  0., inf]])"
            ]
          },
          "metadata": {},
          "execution_count": 17
        }
      ]
    },
    {
      "cell_type": "markdown",
      "source": [
        "После всех махинаций получаем вот такую матрицу\n",
        "\n",
        "Нули - это самые дешевые маршруты м-ду городами\n",
        "\n",
        "Но какой ноль выбрать?\n",
        "\n",
        "Хотелось бы выбрать такой ноль, чтобы посетить город, уехать потом из сложнее всего (ну туда все равно ехать, так хоть по самому короткому пути поедем)\n",
        "\n",
        "Как такой ноль найти? Каждый ноль будем оценивать суммой минимумов по столбцам и строкам\n"
      ],
      "metadata": {
        "id": "j_UkNgT3pLuu"
      }
    },
    {
      "cell_type": "markdown",
      "source": [
        "<img src=\"https://drive.google.com/uc?export=view&id=1gpocaPmdNg0SSVfgF8L4q9bwk58UXK-H\" height=\"200\"/>"
      ],
      "metadata": {
        "id": "I9S1AN5OtSI7"
      }
    },
    {
      "cell_type": "markdown",
      "source": [
        "Тогда увидим что B - самый затратный город сейчас, туда и поедем\n",
        "\n",
        "Выбираем ноль с наибольшей оценкой"
      ],
      "metadata": {
        "id": "xM2ylSsJp_Uo"
      }
    },
    {
      "cell_type": "markdown",
      "source": [
        "<img src=\"https://drive.google.com/uc?export=view&id=1TfHvvA91CNQY5g203ZJRIUxb--bOzp5t\" height=\"200\"/>"
      ],
      "metadata": {
        "id": "VWcj-ECoUlom"
      }
    },
    {
      "cell_type": "markdown",
      "source": [
        "Сделаем функцию поиска нуля с наибольшей оценкой"
      ],
      "metadata": {
        "id": "Ysx9lwUmqN3I"
      }
    },
    {
      "cell_type": "code",
      "source": [
        "def find_idxs(arr: np.array):\n",
        "  maxmin = -1\n",
        "  max_i = 0\n",
        "  max_j = 0\n",
        "\n",
        "  for i in range(5):\n",
        "    for j in range(5):\n",
        "      if arr[i][j] == 0:\n",
        "        replaced = np.array(arr)\n",
        "        replaced[i][j] = np.inf\n",
        "        curr_min = replaced[:, j].min() + replaced[i].min()\n",
        "\n",
        "        if curr_min > maxmin:\n",
        "            maxmin = curr_min\n",
        "            max_i = i\n",
        "            max_j = j\n",
        "\n",
        "  return max_i, max_j"
      ],
      "metadata": {
        "id": "NtZ6xLqp551j"
      },
      "execution_count": null,
      "outputs": []
    },
    {
      "cell_type": "code",
      "source": [
        "max_i, max_j = find_idxs(min_routes)\n",
        "\n",
        "max_i, max_j"
      ],
      "metadata": {
        "colab": {
          "base_uri": "https://localhost:8080/"
        },
        "id": "38QHClMD-2I6",
        "outputId": "8a2cb53c-5c1d-406d-a8b5-ace26a7f38e6"
      },
      "execution_count": null,
      "outputs": [
        {
          "output_type": "execute_result",
          "data": {
            "text/plain": [
              "(4, 1)"
            ]
          },
          "metadata": {},
          "execution_count": 27
        }
      ]
    },
    {
      "cell_type": "markdown",
      "source": [
        "Теперь у нас появилась гипотеза:\n",
        "- В оптимальном маршруте есть путь м-ду E и B\n",
        "\n",
        "Надо рассмотреть два варианта:\n",
        "- E-B существует в лучшем маршруте\n",
        "- E-B не существует в лучшем маршруте\n",
        "\n",
        "Здесь и появляются бинарные деревья:\n",
        "- Узел - это некоторое частичное решение задачи\n",
        "- Его листья - возможные исходы\n",
        "- Корень дерева - решение с первоначальной оценкой (35)"
      ],
      "metadata": {
        "id": "VdyIMSz7qk2y"
      }
    },
    {
      "cell_type": "markdown",
      "source": [
        "<img src=\"https://drive.google.com/uc?export=view&id=1EagoHeB9n-N8WJ9t9ciWbC4ta05znrD_\" height=\"200\"/>"
      ],
      "metadata": {
        "id": "-QUkZ_EDrS5w"
      }
    },
    {
      "cell_type": "markdown",
      "source": [
        "Рассмотрим что делать, если E-B есть\n",
        "\n",
        "Тогда нужно чтобы соблюдалось 3 условия:\n",
        "- В B больше ниоткуда нельзя заезжать, кроме как из E\n",
        "- В E больше никуда нельзя выезжать, кроме как в B\n",
        "- Напрямую из B в E нельзя ехать\n",
        "\n",
        "Т.е:\n",
        "- стоимость проезда в строке E теперь равна бесконечности\n",
        "- стоимость проезда в столюце B теперь равна бесконечности\n",
        "- стоимость проезда из B в E теперь равна бесконечности\n",
        "\n",
        "И дальше в решении для этой гипотезы будем рассматривать матрицу в которой как бы вычеркнули эти столбцы и строки, информации в них все равно полезной больше нет"
      ],
      "metadata": {
        "id": "U3y9rKYQrqHN"
      }
    },
    {
      "cell_type": "markdown",
      "source": [
        "<img src=\"https://drive.google.com/uc?export=view&id=1NcLfKLKjmnEFyu5cWxi053jT9mDR4Lwx\" height=\"200\"/>"
      ],
      "metadata": {
        "id": "3TMK1SxyXEhJ"
      }
    },
    {
      "cell_type": "markdown",
      "source": [
        "<img src=\"https://drive.google.com/uc?export=view&id=1pi67ECT80uO1pLZUmqtnDycRlU_W8vXx\" height=\"200\"/>"
      ],
      "metadata": {
        "id": "qfiAnf8RXN0m"
      }
    },
    {
      "cell_type": "markdown",
      "source": [
        "Сделаем функцию преобразования матрицы если считаем что гипотеза верна"
      ],
      "metadata": {
        "id": "TVxOG3t-st3U"
      }
    },
    {
      "cell_type": "code",
      "source": [
        "def make_left_solution(i: int, j: int, arr: np.array):\n",
        "  solution = np.array(arr)\n",
        "\n",
        "  solution[i] = np.inf\n",
        "\n",
        "  solution[:, j] = np.inf\n",
        "\n",
        "  solution[j][i] = np.inf\n",
        "\n",
        "  return solution"
      ],
      "metadata": {
        "id": "iP84ZhZu7Tke"
      },
      "execution_count": null,
      "outputs": []
    },
    {
      "cell_type": "code",
      "source": [
        "left_solution = make_left_solution(max_i, max_j, min_routes)\n",
        "\n",
        "left_solution"
      ],
      "metadata": {
        "colab": {
          "base_uri": "https://localhost:8080/"
        },
        "id": "zaVYX8mM_5v1",
        "outputId": "d4ca59a5-34ae-4577-b567-a16faaae9ebd"
      },
      "execution_count": null,
      "outputs": [
        {
          "output_type": "execute_result",
          "data": {
            "text/plain": [
              "array([[inf, inf, 10.,  4.,  0.],\n",
              "       [ 0., inf,  9.,  2., inf],\n",
              "       [ 6., inf, inf,  0.,  5.],\n",
              "       [ 0., inf,  0., inf,  1.],\n",
              "       [inf, inf, inf, inf, inf]])"
            ]
          },
          "metadata": {},
          "execution_count": 29
        }
      ]
    },
    {
      "cell_type": "code",
      "source": [
        "min_left, left_record = remove_mins(left_solution)\n",
        "\n",
        "l_record = record + left_record\n",
        "\n",
        "l_record"
      ],
      "metadata": {
        "colab": {
          "base_uri": "https://localhost:8080/"
        },
        "id": "OsqArWFX__Ut",
        "outputId": "072eab56-b97b-4ef2-e728-c6d5d91dc1c8"
      },
      "execution_count": null,
      "outputs": [
        {
          "output_type": "execute_result",
          "data": {
            "text/plain": [
              "35.0"
            ]
          },
          "metadata": {},
          "execution_count": 32
        }
      ]
    },
    {
      "cell_type": "markdown",
      "source": [
        "А как быть если гипотезу не принимаем?\n",
        "\n",
        "Тогда просто стоимость этого маршрута равна бесконечности"
      ],
      "metadata": {
        "id": "xV6LACLdtfRh"
      }
    },
    {
      "cell_type": "code",
      "source": [
        "right_solution = np.array(min_routes)\n",
        "\n",
        "right_solution[max_i][max_j] = np.inf\n",
        "\n",
        "right_solution"
      ],
      "metadata": {
        "colab": {
          "base_uri": "https://localhost:8080/"
        },
        "id": "0kJuGuHbAgyE",
        "outputId": "6732ffeb-6cd7-4d74-d736-18ba40117c03"
      },
      "execution_count": null,
      "outputs": [
        {
          "output_type": "execute_result",
          "data": {
            "text/plain": [
              "array([[inf, 12., 10.,  4.,  0.],\n",
              "       [ 0., inf,  9.,  2.,  6.],\n",
              "       [ 6., 12., inf,  0.,  5.],\n",
              "       [ 0.,  6.,  0., inf,  1.],\n",
              "       [ 0., inf,  0.,  0., inf]])"
            ]
          },
          "metadata": {},
          "execution_count": 33
        }
      ]
    },
    {
      "cell_type": "code",
      "source": [
        "min_right, right_record = remove_mins(right_solution)\n",
        "\n",
        "r_record = record + right_record\n",
        "\n",
        "r_record"
      ],
      "metadata": {
        "colab": {
          "base_uri": "https://localhost:8080/"
        },
        "id": "ovw7vJCRCfBX",
        "outputId": "85b89fb8-a40e-4fe5-c77e-458186905d2b"
      },
      "execution_count": null,
      "outputs": [
        {
          "output_type": "execute_result",
          "data": {
            "text/plain": [
              "41.0"
            ]
          },
          "metadata": {},
          "execution_count": 34
        }
      ]
    },
    {
      "cell_type": "markdown",
      "source": [
        "Получим вот такое дерево"
      ],
      "metadata": {
        "id": "XkfAPPJ6t1CA"
      }
    },
    {
      "cell_type": "markdown",
      "source": [
        "<img src=\"https://drive.google.com/uc?export=view&id=1lx442oXInJUi-e1i0DoTlqtHqxCFskWA\" height=\"400\"/>"
      ],
      "metadata": {
        "id": "xrLQHfhJtoZ7"
      }
    },
    {
      "cell_type": "markdown",
      "source": [
        "Что теперь будем делать?\n",
        "\n",
        "- Перебираем листы дерева\n",
        "- Выбираем лист с наименьшей оценкой\n",
        "- Для этого листа выдвигаем гипотезу и делаем 2 новых решения\n",
        "- Новые решения становятся листами дерева\n",
        "\n",
        "Перебираем листы до тех пор, пока не найдется лист нужной высоты"
      ],
      "metadata": {
        "id": "tzFUuV7At4E0"
      }
    },
    {
      "cell_type": "markdown",
      "source": [
        "Будем хранить не все дерево, а только листы\n",
        "\n",
        "Лист опишем такой структурой"
      ],
      "metadata": {
        "id": "XgitCrGSufzm"
      }
    },
    {
      "cell_type": "code",
      "source": [
        "from dataclasses import dataclass\n",
        "\n",
        "@dataclass\n",
        "class Solution:\n",
        "  arr: np.array\n",
        "  path: list[list[int]]\n",
        "  record: int"
      ],
      "metadata": {
        "id": "0ngr0bD6Y_lF"
      },
      "execution_count": null,
      "outputs": []
    },
    {
      "cell_type": "code",
      "source": [
        "def main():\n",
        "    solution_pool: list[Solution] = []\n",
        "\n",
        "    # Найти лучший лист\n",
        "    def find_best_index():\n",
        "        min_rec = 10_000\n",
        "        idx = 0\n",
        "        for i in range(len(solution_pool)):\n",
        "            solution = solution_pool[i]\n",
        "            if solution.record < min_rec:\n",
        "                min_rec = solution.record\n",
        "                idx = i\n",
        "\n",
        "        return idx\n",
        "\n",
        "    # Есть ли лист нужной высоты\n",
        "    def should_continue():\n",
        "        for solution in solution_pool:\n",
        "            if len(solution.path) == routes.shape[0]:\n",
        "                return False\n",
        "        return True\n",
        "\n",
        "    # Найти ответ после окончания перебора вариантов\n",
        "    def find_answer():\n",
        "        for solution in solution_pool:\n",
        "            if len(solution.path) == routes.shape[0]:\n",
        "                return solution\n",
        "        return None\n",
        "\n",
        "    # Создаем начальное решение\n",
        "    min_routes, record = remove_mins(routes)\n",
        "\n",
        "    # Записываем начальное решение в массив с изначальной оценкой\n",
        "    solution_pool.append(\n",
        "        Solution(\n",
        "            arr=min_routes,\n",
        "            record=record,\n",
        "            path=[]\n",
        "        )\n",
        "    )\n",
        "\n",
        "    while should_continue():\n",
        "        # Ищем лучшее решение\n",
        "        best_idx = find_best_index()\n",
        "\n",
        "        best_solution = solution_pool[best_idx]\n",
        "\n",
        "        # Убираем решение из массива т.к оно больше не лист\n",
        "        solution_pool.pop(best_idx)\n",
        "\n",
        "        arr = best_solution.arr\n",
        "\n",
        "        # Находим лучший нолик, создаем гипотезу\n",
        "        sol_i, sol_j = find_idxs(arr)\n",
        "\n",
        "        # Генерим решение если гипотеза верна\n",
        "        left_arr = make_left_solution(sol_i, sol_j, arr)\n",
        "        min_left_arr, min_sum = remove_mins(left_arr)\n",
        "\n",
        "        # Помещаем решение в массив\n",
        "        solution_pool.append(\n",
        "            Solution(\n",
        "                arr=min_left_arr,\n",
        "                record=best_solution.record + min_sum,\n",
        "                path=[*best_solution.path, [sol_i, sol_j]]\n",
        "            )\n",
        "        )\n",
        "\n",
        "\n",
        "        # Генерим решение если гипотеза не верна\n",
        "        right_arr = np.array(arr)\n",
        "        right_arr[sol_i][sol_j] = np.inf\n",
        "        min_right_arr, min_sum = remove_mins(right_arr)\n",
        "\n",
        "        # Помещаем решение в массив\n",
        "        solution_pool.append(\n",
        "            Solution(\n",
        "                arr=min_right_arr,\n",
        "                record=best_solution.record + min_sum,\n",
        "                path=best_solution.path\n",
        "            )\n",
        "        )\n",
        "\n",
        "    answer = find_answer()\n",
        "\n",
        "    print(answer.path)"
      ],
      "metadata": {
        "id": "O0kRGuqyaIC8"
      },
      "execution_count": null,
      "outputs": []
    },
    {
      "cell_type": "code",
      "source": [
        "main()"
      ],
      "metadata": {
        "colab": {
          "base_uri": "https://localhost:8080/"
        },
        "id": "qwzi579vlzbm",
        "outputId": "0a57dd60-cd3e-41a0-a4ef-fb7e0370f0cf"
      },
      "execution_count": null,
      "outputs": [
        {
          "output_type": "stream",
          "name": "stdout",
          "text": [
            "[[3, 1], [0, 4], [1, 0], [2, 3], [4, 2]]\n"
          ]
        }
      ]
    }
  ]
}