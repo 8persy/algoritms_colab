{
  "nbformat": 4,
  "nbformat_minor": 0,
  "metadata": {
    "colab": {
      "provenance": [],
      "toc_visible": true,
      "include_colab_link": true
    },
    "kernelspec": {
      "name": "python3",
      "display_name": "Python 3"
    },
    "language_info": {
      "name": "python"
    }
  },
  "cells": [
    {
      "cell_type": "markdown",
      "metadata": {
        "id": "view-in-github",
        "colab_type": "text"
      },
      "source": [
        "<a href=\"https://colab.research.google.com/github/8persy/algoritms_colab/blob/main/%22Backtracking_11_311_ipynb%22.ipynb\" target=\"_parent\"><img src=\"https://colab.research.google.com/assets/colab-badge.svg\" alt=\"Open In Colab\"/></a>"
      ]
    },
    {
      "cell_type": "markdown",
      "source": [
        "# Бэктрекинг\n",
        "\n",
        "Переборный алгоритм, рассматривающий решение задачи как некоторый путь в дереве решений задачи\n",
        "\n",
        "Рассмотрим что это и как оно работает на примере задачи поиска выхода из лабиринта"
      ],
      "metadata": {
        "id": "S-3NsrLRKFNr"
      }
    },
    {
      "cell_type": "markdown",
      "source": [
        "## Подготовка"
      ],
      "metadata": {
        "id": "9erFCnZ0Lb-n"
      }
    },
    {
      "cell_type": "markdown",
      "source": [
        "[Файлы для тетрадки](https://drive.google.com/drive/folders/1gLVZqbkyfRtSKZsmYFqyTH1lZNPVPywV?usp=sharing)"
      ],
      "metadata": {
        "id": "Ju94ymY9FPEr"
      }
    },
    {
      "cell_type": "markdown",
      "source": [
        "В гугл-диске лежат 3 файла:\n",
        "- maze.obj\n",
        "  - Сгенерированный лабиринт (см. ДЗ-2), сжатый через pickle\n",
        "- draw.obj\n",
        "  - Функция отрисовки лабиринта, сжатый через dill (модификация pickle для функций)\n",
        "- temp.mp4\n",
        "  - Видео с демонстрацией работы алгоритма поиска выхода из лабиринта"
      ],
      "metadata": {
        "id": "2JMdyDBlKiJQ"
      }
    },
    {
      "cell_type": "markdown",
      "source": [
        "Зададим класс ячейки лабиринта (понадобится попозже)"
      ],
      "metadata": {
        "id": "hbBTek2VLF5l"
      }
    },
    {
      "cell_type": "code",
      "source": [
        "from dataclasses import dataclass, field\n",
        "\n",
        "@dataclass\n",
        "class MazeCell:\n",
        "    x: int\n",
        "    y: int\n",
        "    component: int\n",
        "    is_open: bool = field(default=False)\n",
        "    walls: list = field(default_factory=list)"
      ],
      "metadata": {
        "id": "39s-Hl05bCZB"
      },
      "execution_count": null,
      "outputs": []
    },
    {
      "cell_type": "markdown",
      "source": [
        "Извлечем лабиринт из pickle"
      ],
      "metadata": {
        "id": "ysnFNmKgLNvJ"
      }
    },
    {
      "cell_type": "code",
      "execution_count": null,
      "metadata": {
        "id": "l2EnxcMxZpQL",
        "colab": {
          "base_uri": "https://localhost:8080/"
        },
        "outputId": "f4e690df-ddde-45ae-c454-2d2a32556d47"
      },
      "outputs": [
        {
          "output_type": "execute_result",
          "data": {
            "text/plain": [
              "[[MazeCell(x=0, y=0, component=0, is_open=True, walls=[False, True, False, True]),\n",
              "  MazeCell(x=1, y=0, component=1, is_open=False, walls=[True, True, False, True]),\n",
              "  MazeCell(x=2, y=0, component=2, is_open=False, walls=[True, True, False, True]),\n",
              "  MazeCell(x=3, y=0, component=3, is_open=False, walls=[True, False, False, True]),\n",
              "  MazeCell(x=4, y=0, component=4, is_open=False, walls=[True, True, True, False]),\n",
              "  MazeCell(x=5, y=0, component=5, is_open=False, walls=[True, False, True, True]),\n",
              "  MazeCell(x=6, y=0, component=6, is_open=False, walls=[True, True, False, False]),\n",
              "  MazeCell(x=7, y=0, component=7, is_open=False, walls=[True, False, False, True]),\n",
              "  MazeCell(x=8, y=0, component=8, is_open=False, walls=[True, True, True, False]),\n",
              "  MazeCell(x=9, y=0, component=9, is_open=False, walls=[True, True, False, True])],\n",
              " [MazeCell(x=0, y=1, component=10, is_open=False, walls=[False, False, True, True]),\n",
              "  MazeCell(x=1, y=1, component=11, is_open=False, walls=[False, False, True, False]),\n",
              "  MazeCell(x=2, y=1, component=12, is_open=False, walls=[False, True, False, False]),\n",
              "  MazeCell(x=3, y=1, component=13, is_open=False, walls=[False, False, True, True]),\n",
              "  MazeCell(x=4, y=1, component=14, is_open=False, walls=[True, False, True, False]),\n",
              "  MazeCell(x=5, y=1, component=15, is_open=False, walls=[True, False, True, False]),\n",
              "  MazeCell(x=6, y=1, component=16, is_open=False, walls=[False, False, False, False]),\n",
              "  MazeCell(x=7, y=1, component=17, is_open=False, walls=[False, False, True, False]),\n",
              "  MazeCell(x=8, y=1, component=18, is_open=False, walls=[True, False, False, False]),\n",
              "  MazeCell(x=9, y=1, component=19, is_open=False, walls=[False, True, True, False])],\n",
              " [MazeCell(x=0, y=2, component=20, is_open=False, walls=[True, False, True, True]),\n",
              "  MazeCell(x=1, y=2, component=21, is_open=False, walls=[True, True, False, False]),\n",
              "  MazeCell(x=2, y=2, component=22, is_open=False, walls=[False, False, False, True]),\n",
              "  MazeCell(x=3, y=2, component=23, is_open=False, walls=[True, False, False, False]),\n",
              "  MazeCell(x=4, y=2, component=24, is_open=False, walls=[True, True, True, False]),\n",
              "  MazeCell(x=5, y=2, component=25, is_open=False, walls=[True, False, False, True]),\n",
              "  MazeCell(x=6, y=2, component=26, is_open=False, walls=[False, True, False, False]),\n",
              "  MazeCell(x=7, y=2, component=27, is_open=False, walls=[True, False, False, True]),\n",
              "  MazeCell(x=8, y=2, component=28, is_open=False, walls=[False, False, True, False]),\n",
              "  MazeCell(x=9, y=2, component=29, is_open=False, walls=[True, True, False, False])],\n",
              " [MazeCell(x=0, y=3, component=30, is_open=False, walls=[True, False, False, True]),\n",
              "  MazeCell(x=1, y=3, component=31, is_open=False, walls=[False, False, True, False]),\n",
              "  MazeCell(x=2, y=3, component=32, is_open=False, walls=[False, True, False, False]),\n",
              "  MazeCell(x=3, y=3, component=33, is_open=False, walls=[False, True, True, True]),\n",
              "  MazeCell(x=4, y=3, component=34, is_open=False, walls=[True, False, False, True]),\n",
              "  MazeCell(x=5, y=3, component=35, is_open=False, walls=[False, True, False, False]),\n",
              "  MazeCell(x=6, y=3, component=36, is_open=False, walls=[False, True, True, True]),\n",
              "  MazeCell(x=7, y=3, component=37, is_open=False, walls=[False, True, True, True]),\n",
              "  MazeCell(x=8, y=3, component=38, is_open=False, walls=[True, False, True, True]),\n",
              "  MazeCell(x=9, y=3, component=39, is_open=False, walls=[False, True, False, False])],\n",
              " [MazeCell(x=0, y=4, component=40, is_open=False, walls=[False, True, True, True]),\n",
              "  MazeCell(x=1, y=4, component=41, is_open=False, walls=[True, False, False, True]),\n",
              "  MazeCell(x=2, y=4, component=42, is_open=False, walls=[False, False, True, False]),\n",
              "  MazeCell(x=3, y=4, component=43, is_open=False, walls=[True, False, False, False]),\n",
              "  MazeCell(x=4, y=4, component=44, is_open=False, walls=[False, True, False, False]),\n",
              "  MazeCell(x=5, y=4, component=45, is_open=False, walls=[False, False, False, True]),\n",
              "  MazeCell(x=6, y=4, component=46, is_open=False, walls=[True, True, False, False]),\n",
              "  MazeCell(x=7, y=4, component=47, is_open=False, walls=[True, False, True, True]),\n",
              "  MazeCell(x=8, y=4, component=48, is_open=False, walls=[True, False, True, False]),\n",
              "  MazeCell(x=9, y=4, component=49, is_open=False, walls=[False, True, True, False])],\n",
              " [MazeCell(x=0, y=5, component=50, is_open=False, walls=[True, False, True, True]),\n",
              "  MazeCell(x=1, y=5, component=51, is_open=False, walls=[False, True, True, False]),\n",
              "  MazeCell(x=2, y=5, component=52, is_open=False, walls=[True, False, False, True]),\n",
              "  MazeCell(x=3, y=5, component=53, is_open=False, walls=[False, True, True, False]),\n",
              "  MazeCell(x=4, y=5, component=54, is_open=False, walls=[False, True, False, True]),\n",
              "  MazeCell(x=5, y=5, component=55, is_open=False, walls=[False, True, True, True]),\n",
              "  MazeCell(x=6, y=5, component=56, is_open=False, walls=[False, False, True, True]),\n",
              "  MazeCell(x=7, y=5, component=57, is_open=False, walls=[True, False, False, False]),\n",
              "  MazeCell(x=8, y=5, component=58, is_open=False, walls=[True, True, True, False]),\n",
              "  MazeCell(x=9, y=5, component=59, is_open=False, walls=[True, True, False, True])],\n",
              " [MazeCell(x=0, y=6, component=60, is_open=False, walls=[True, False, True, True]),\n",
              "  MazeCell(x=1, y=6, component=61, is_open=False, walls=[True, True, False, False]),\n",
              "  MazeCell(x=2, y=6, component=62, is_open=False, walls=[False, False, True, True]),\n",
              "  MazeCell(x=3, y=6, component=63, is_open=False, walls=[True, True, True, False]),\n",
              "  MazeCell(x=4, y=6, component=64, is_open=False, walls=[False, True, False, True]),\n",
              "  MazeCell(x=5, y=6, component=65, is_open=False, walls=[True, True, False, True]),\n",
              "  MazeCell(x=6, y=6, component=66, is_open=False, walls=[True, True, False, True]),\n",
              "  MazeCell(x=7, y=6, component=67, is_open=False, walls=[False, True, False, True]),\n",
              "  MazeCell(x=8, y=6, component=68, is_open=False, walls=[True, False, True, True]),\n",
              "  MazeCell(x=9, y=6, component=69, is_open=False, walls=[False, True, False, False])],\n",
              " [MazeCell(x=0, y=7, component=70, is_open=False, walls=[True, False, False, True]),\n",
              "  MazeCell(x=1, y=7, component=71, is_open=False, walls=[False, False, False, False]),\n",
              "  MazeCell(x=2, y=7, component=72, is_open=False, walls=[True, False, True, False]),\n",
              "  MazeCell(x=3, y=7, component=73, is_open=False, walls=[True, False, True, False]),\n",
              "  MazeCell(x=4, y=7, component=74, is_open=False, walls=[False, False, False, False]),\n",
              "  MazeCell(x=5, y=7, component=75, is_open=False, walls=[False, True, False, False]),\n",
              "  MazeCell(x=6, y=7, component=76, is_open=False, walls=[False, True, False, True]),\n",
              "  MazeCell(x=7, y=7, component=77, is_open=False, walls=[False, False, True, True]),\n",
              "  MazeCell(x=8, y=7, component=78, is_open=False, walls=[True, False, True, False]),\n",
              "  MazeCell(x=9, y=7, component=79, is_open=False, walls=[False, True, False, False])],\n",
              " [MazeCell(x=0, y=8, component=80, is_open=False, walls=[False, True, True, True]),\n",
              "  MazeCell(x=1, y=8, component=81, is_open=False, walls=[False, False, True, True]),\n",
              "  MazeCell(x=2, y=8, component=82, is_open=False, walls=[True, True, False, False]),\n",
              "  MazeCell(x=3, y=8, component=83, is_open=False, walls=[True, True, False, True]),\n",
              "  MazeCell(x=4, y=8, component=84, is_open=False, walls=[False, True, False, True]),\n",
              "  MazeCell(x=5, y=8, component=85, is_open=False, walls=[False, True, True, True]),\n",
              "  MazeCell(x=6, y=8, component=86, is_open=False, walls=[False, False, True, True]),\n",
              "  MazeCell(x=7, y=8, component=87, is_open=False, walls=[True, False, False, False]),\n",
              "  MazeCell(x=8, y=8, component=88, is_open=False, walls=[True, False, True, False]),\n",
              "  MazeCell(x=9, y=8, component=89, is_open=False, walls=[False, True, False, False])],\n",
              " [MazeCell(x=0, y=9, component=90, is_open=False, walls=[True, False, True, True]),\n",
              "  MazeCell(x=1, y=9, component=91, is_open=False, walls=[True, False, True, False]),\n",
              "  MazeCell(x=2, y=9, component=92, is_open=False, walls=[False, False, True, False]),\n",
              "  MazeCell(x=3, y=9, component=93, is_open=False, walls=[False, True, True, False]),\n",
              "  MazeCell(x=4, y=9, component=94, is_open=False, walls=[False, False, True, True]),\n",
              "  MazeCell(x=5, y=9, component=95, is_open=False, walls=[True, True, True, False]),\n",
              "  MazeCell(x=6, y=9, component=96, is_open=False, walls=[True, False, True, True]),\n",
              "  MazeCell(x=7, y=9, component=97, is_open=False, walls=[False, True, True, False]),\n",
              "  MazeCell(x=8, y=9, component=98, is_open=False, walls=[True, False, True, True]),\n",
              "  MazeCell(x=9, y=9, component=99, is_open=True, walls=[False, True, False, False])]]"
            ]
          },
          "metadata": {},
          "execution_count": 2
        }
      ],
      "source": [
        "import pickle\n",
        "\n",
        "maze_file = open(\"maze.obj\", \"rb\")\n",
        "\n",
        "maze = pickle.load(maze_file)\n",
        "\n",
        "maze"
      ]
    },
    {
      "cell_type": "markdown",
      "source": [
        "Извлечем функцию отрисовки из dill"
      ],
      "metadata": {
        "id": "qCdO5RD9LUCR"
      }
    },
    {
      "cell_type": "code",
      "source": [
        "!pip install dill"
      ],
      "metadata": {
        "colab": {
          "base_uri": "https://localhost:8080/"
        },
        "id": "L7IK-L67Dmbg",
        "outputId": "f61267bb-7033-449c-9636-7d9ad30ce955"
      },
      "execution_count": null,
      "outputs": [
        {
          "output_type": "stream",
          "name": "stdout",
          "text": [
            "Collecting dill\n",
            "  Downloading dill-0.3.8-py3-none-any.whl (116 kB)\n",
            "\u001b[2K     \u001b[90m━━━━━━━━━━━━━━━━━━━━━━━━━━━━━━━━━━━━━━━━\u001b[0m \u001b[32m116.3/116.3 kB\u001b[0m \u001b[31m2.7 MB/s\u001b[0m eta \u001b[36m0:00:00\u001b[0m\n",
            "\u001b[?25hInstalling collected packages: dill\n",
            "Successfully installed dill-0.3.8\n"
          ]
        }
      ]
    },
    {
      "cell_type": "code",
      "source": [
        "import dill\n",
        "\n",
        "file = open(\"draw.obj\", \"rb\")\n",
        "\n",
        "N = len(maze)\n",
        "LINE_WIDTH = 50\n",
        "draw_maze = dill.load(file)"
      ],
      "metadata": {
        "id": "YdrrttxbCpX8"
      },
      "execution_count": null,
      "outputs": []
    },
    {
      "cell_type": "markdown",
      "source": [
        "Отрисуем наш лабиринт"
      ],
      "metadata": {
        "id": "N6dGxkQDLX4p"
      }
    },
    {
      "cell_type": "code",
      "source": [
        "import matplotlib.pyplot as plt\n",
        "\n",
        "fig = plt.figure(figsize=(6, 6))\n",
        "\n",
        "draw_maze(maze)\n",
        "\n",
        "plt.show()"
      ],
      "metadata": {
        "colab": {
          "base_uri": "https://localhost:8080/",
          "height": 522
        },
        "id": "ETG8bbsTdCjN",
        "outputId": "d940830e-6fef-43af-d6e0-bea6a213df3a"
      },
      "execution_count": null,
      "outputs": [
        {
          "output_type": "display_data",
          "data": {
            "text/plain": [
              "<Figure size 600x600 with 1 Axes>"
            ],
            "image/png": "[encoded data removed]"
          },
          "metadata": {}
        }
      ]
    },
    {
      "cell_type": "markdown",
      "source": [
        "## Задача"
      ],
      "metadata": {
        "id": "XW0_9MEDLdxN"
      }
    },
    {
      "cell_type": "markdown",
      "source": [
        "Реализовать функцию, ищущую путь от входа в лабиринт (в левом верхнем углу) к его выходу (в правом нижнем углу)\n",
        "\n",
        "На выходе ожидаем массив направлений, в котором необходимо двигаться от входа к выходу\n",
        "\n",
        "Направление - число от 0 до 3 включительно, начиная сверху по часовой стрелке\n",
        "- 0 - вверх\n",
        "- 1 - вправо\n",
        "- 2 - вниз\n",
        "- 3 - влево\n",
        "\n",
        "Например, массив [2, 1, 1, 2] будет означать что для того чтобы выйти нам нужно пройти одну клетку вниз, затем 2 клетки вправа и в конце еще одну клетку вниз"
      ],
      "metadata": {
        "id": "JI8yEqU8Lhsh"
      }
    },
    {
      "cell_type": "markdown",
      "source": [
        "## Подход к решению"
      ],
      "metadata": {
        "id": "N_KgbB7yMg43"
      }
    },
    {
      "cell_type": "markdown",
      "source": [
        "Будем перебирать все варианты от входа к выходу\n",
        "\n",
        "Представим дерево всех решений задачи\n",
        "\n",
        "Полезная информация в ячейке - некоторая ячейка лабиринта\n",
        "\n",
        "Корень дерева - вход лабиринта\n",
        "\n",
        "Дети ячейки - те ячейки лабиринта, в которые можем попасть из исходной ячейки при условии перехода м-ду ячейками (если м-ду ячейками нет стен)"
      ],
      "metadata": {
        "id": "ZYE6P9DNMj_T"
      }
    },
    {
      "cell_type": "markdown",
      "source": [
        "Рассмотрим как выглядит это дерево на примере сегмента лабиринта 3x3 в левом верхнем углу\n",
        "\n",
        "Для простоты в ячейках будем писать координаты ячеек, а не сами ячейки\n",
        "\n",
        "Ребра дерева - направления в которых мы передвигаемся"
      ],
      "metadata": {
        "id": "ZIhNJqL1OWTm"
      }
    },
    {
      "cell_type": "markdown",
      "source": [
        "<img src=\"https://drive.google.com/uc?export=view&id=1fIoLiPxgLARH4Gm-Q2OQvQlDxgHfMPO5\" height=\"200\"/>"
      ],
      "metadata": {
        "id": "6R6K0H4MN8jH"
      }
    },
    {
      "cell_type": "markdown",
      "source": [
        "<img src=\"https://drive.google.com/uc?export=view&id=11xh-Zzae3_HVCw4OnloWQnnY7rG7nj49\" height=\"600\"/>"
      ],
      "metadata": {
        "id": "0Bn5TgiDP-Py"
      }
    },
    {
      "cell_type": "markdown",
      "source": [
        "Если бы мы искали путь от 0,0 до 2,2 ответ был бы [2, 1, 1, 2]"
      ],
      "metadata": {
        "id": "oZewcc85QS62"
      }
    },
    {
      "cell_type": "markdown",
      "source": [
        "Заметим что в дереве есть тупиковые листья\n",
        "\n",
        "Тупиковый лист - лист, из ячейки которого нельзя выйти никуда, кроме как по направлению, откуда в эту ячейку пришли\n",
        "\n",
        "Такими тупиковыми ячейками являются ячейки (0,1) и (0,2); Везде стены кроме как снизу\n"
      ],
      "metadata": {
        "id": "uegUPaJJQds-"
      }
    },
    {
      "cell_type": "markdown",
      "source": [
        "Как найти путь до некоторой ячейки по этому дереву?\n",
        "\n",
        "- Для каждой ячейки будем переходить во все соседние ячейки (за исключением той, откуда пришли в эту ячейку)\n",
        "- Если мы в тупике, будем возвращать None выше по дереву\n",
        "- Если все ячейки поддерева тупиковые - возвращаем None и больше в это поддерево не возвращаемся\n",
        "- Как только мы дошли до нужной нам ячейки (до выхода) - возвращаем путь к этой ячейке"
      ],
      "metadata": {
        "id": "UPPBG_icRrgy"
      }
    },
    {
      "cell_type": "markdown",
      "source": [
        "Это и есть подход бэктрекинга\n",
        "\n",
        "- Определяем что есть нода дерева\n",
        "- Определяем что есть переход от ноды к детям\n",
        "- Для каждого листа (в нашем случае лист == тупик), определяем удовлетворяет ли лист искомым условиям (является ли тупик выходом)\n",
        "- Если все листы поддерева нас не устраивают, забрасываем это поддерево и перебираем другие поддеревья до тех пор, пока не найдем необходимое решение"
      ],
      "metadata": {
        "id": "a8s-CbELSo4h"
      }
    },
    {
      "cell_type": "markdown",
      "source": [
        "Будем перебирать поддеревья в порядке, аналогичном порядку направлений (по часовой стрелке, начиная сверху); Перебираем сначала все варианты если идем наверх, затем если пойдем вправа и т.д.\n",
        "\n",
        "Для визуализации есть небольшой видосик работы этого алгоритма"
      ],
      "metadata": {
        "id": "_z_afwnYTS2R"
      }
    },
    {
      "cell_type": "code",
      "source": [
        "import moviepy.editor\n",
        "moviepy.editor.ipython_display(\"__temp__.mp4\")"
      ],
      "metadata": {
        "colab": {
          "base_uri": "https://localhost:8080/",
          "height": 501
        },
        "id": "RFsJ6v69Bm71",
        "outputId": "2dca8e95-e3e9-4653-c5f6-97f74cfa9776"
      },
      "execution_count": null,
      "outputs": [
        {
          "output_type": "execute_result",
          "data": {
            "text/plain": [
              "<moviepy.video.io.html_tools.HTML2 object>"
            ],
            "text/html": [
              "<div align=middle><video src='data:video/mp4;base64,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' controls>Sorry, seems like your browser doesn't support HTML5 audio/video</video></div>"
            ]
          },
          "metadata": {},
          "execution_count": 49
        }
      ]
    },
    {
      "cell_type": "markdown",
      "source": [
        "## Решение"
      ],
      "metadata": {
        "id": "z_tVh_jTT11I"
      }
    },
    {
      "cell_type": "markdown",
      "source": [
        "Определим функцию бэктрекинга\n",
        "\n",
        "Принимаем:\n",
        "- Ячейку лабиирнта, для которой производим перебор\n",
        "- Направление, откуда пришли в данную ячейку\n",
        "- Путь по лабиринту, который прошли до данной ячейки\n",
        "\n",
        "Возвращаем:\n",
        "- Путь до ячейки (list из int), если в поддереве мы дошли до выхода (или если сама ячейка это выход)\n",
        "- None, если ячейка/поддерево тупиковые"
      ],
      "metadata": {
        "id": "L_6r9y3UT5XL"
      }
    },
    {
      "cell_type": "markdown",
      "source": [
        "Для начала пропишем логику если мы оказались на выходе, возвращаем путь до ячейки"
      ],
      "metadata": {
        "id": "OdFKZ_WRUfXV"
      }
    },
    {
      "cell_type": "markdown",
      "source": [
        "Если мы не на выходе, будем перебирать поддеревья для этой ячейки\\\n",
        "Перебираем стенки ячейки, если стены нет - перебираем варианты если мы заходим в ячейку за стенкой\n",
        "\n",
        "Если во всех соседних ячейках только тупики - вернем None"
      ],
      "metadata": {
        "id": "F-nz8TyaUv9c"
      }
    },
    {
      "cell_type": "markdown",
      "source": [
        "Проверим, есть что нет стены и направление не равно направлению, откуда мы пришли"
      ],
      "metadata": {
        "id": "Fs_9YhJSVNaW"
      }
    },
    {
      "cell_type": "markdown",
      "source": [
        "В зависимости от направления получаем соседние ячейки и вычисляем направление откуда пришли относительно новой ячейки (по сути просто меняем направление на противоположное)\n",
        "\n",
        "Если идем вправо, направление 1\\\n",
        "Соттветственно, для новой ячейки направление откуда пришли равно 3\n",
        "\n",
        "Для вычисления противоположного направления, прибавляем 2 и делим по модулю на 4\n",
        "- 0 -> 2,\n",
        "- 2 + 2 % 4 -> 0"
      ],
      "metadata": {
        "id": "iGoiBJDpVmnK"
      }
    },
    {
      "cell_type": "markdown",
      "source": [
        "Если нашлось поддерево без тупика - вернем его выше по дереву\\\n",
        "(а если не нашлось, то вернется None вне for, после перебора всех поддеревьев)"
      ],
      "metadata": {
        "id": "9OFDh6yoWd4h"
      }
    },
    {
      "cell_type": "markdown",
      "source": [
        "## Чекпоинт"
      ],
      "metadata": {
        "id": "IfgXG3oqqYxg"
      }
    },
    {
      "cell_type": "code",
      "source": [
        "def backtracking(cell: MazeCell, prev_wall: int, path: list[int]) -> list[int] | None:\n",
        "  pass"
      ],
      "metadata": {
        "id": "8g1gmy_oT8ui"
      },
      "execution_count": null,
      "outputs": []
    },
    {
      "cell_type": "markdown",
      "source": [
        "Инициализируем перебор входом лабиринта, укажем что пришли как бы сверху (тк для входа верхняя стена открыта) и укажем путь к корню"
      ],
      "metadata": {
        "id": "OGdE2j3WWyYR"
      }
    },
    {
      "cell_type": "code",
      "source": [
        "result = backtracking(maze[0][0], 0, [])\n",
        "\n",
        "result"
      ],
      "metadata": {
        "id": "TlIJP_ydil1o",
        "colab": {
          "base_uri": "https://localhost:8080/"
        },
        "outputId": "27b1a0a3-fa8f-48b7-a012-83e6c4e8c229"
      },
      "execution_count": null,
      "outputs": [
        {
          "output_type": "execute_result",
          "data": {
            "text/plain": [
              "[2, 1, 1, 2, 2, 2, 1, 1, 0, 1, 2, 1, 2, 1, 2, 2, 1, 1, 2, 2]"
            ]
          },
          "metadata": {},
          "execution_count": 8
        }
      ]
    },
    {
      "cell_type": "markdown",
      "source": [
        "Сделаем функцию отрисовки пути"
      ],
      "metadata": {
        "id": "ofwzWcHLXJhl"
      }
    },
    {
      "cell_type": "markdown",
      "source": [
        "<img src=\"https://www.meme-arsenal.com/memes/944f0328f6e3bb65a1c61bbbd2b0dc74.jpg\" width=\"400px\"/>"
      ],
      "metadata": {
        "id": "8fdpH1y9XZ1G"
      }
    },
    {
      "cell_type": "code",
      "source": [
        "def draw_path(path: list[int]):\n",
        "  line_x = LINE_WIDTH // 2\n",
        "  line_y = -LINE_WIDTH // 2\n",
        "\n",
        "  for p in path:\n",
        "    new_x = line_x\n",
        "    new_y = line_y\n",
        "    if p == 0:\n",
        "      new_y += LINE_WIDTH\n",
        "    elif p == 1:\n",
        "      new_x += LINE_WIDTH\n",
        "    elif p == 2:\n",
        "      new_y -= LINE_WIDTH\n",
        "    else:\n",
        "      new_x -= LINE_WIDTH\n",
        "\n",
        "    plt.plot([line_x, new_x], [line_y, new_y], color='red', lw=1)\n",
        "\n",
        "    line_x = new_x\n",
        "    line_y = new_y"
      ],
      "metadata": {
        "id": "FThK1Fc6ivzm"
      },
      "execution_count": null,
      "outputs": []
    },
    {
      "cell_type": "code",
      "source": [
        "fig = plt.figure(figsize=(6, 6))\n",
        "\n",
        "draw_maze(maze)\n",
        "draw_path(result)\n",
        "\n",
        "plt.show()"
      ],
      "metadata": {
        "colab": {
          "base_uri": "https://localhost:8080/",
          "height": 522
        },
        "id": "zRz9sceeoQIX",
        "outputId": "49dd1194-891d-48c6-ee02-bb08002e8b5b"
      },
      "execution_count": null,
      "outputs": [
        {
          "output_type": "display_data",
          "data": {
            "text/plain": [
              "<Figure size 600x600 with 1 Axes>"
            ],
            "image/png": "[encoded data removed]"
          },
          "metadata": {}
        }
      ]
    }
  ]
}