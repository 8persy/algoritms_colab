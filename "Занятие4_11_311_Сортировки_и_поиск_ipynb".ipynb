{
  "nbformat": 4,
  "nbformat_minor": 0,
  "metadata": {
    "colab": {
      "provenance": [],
      "include_colab_link": true
    },
    "kernelspec": {
      "name": "python3",
      "display_name": "Python 3"
    },
    "language_info": {
      "name": "python"
    }
  },
  "cells": [
    {
      "cell_type": "markdown",
      "metadata": {
        "id": "view-in-github",
        "colab_type": "text"
      },
      "source": [
        "<a href=\"https://colab.research.google.com/github/8persy/algoritms_colab/blob/main/%22%D0%97%D0%B0%D0%BD%D1%8F%D1%82%D0%B8%D0%B54_11_311_%D0%A1%D0%BE%D1%80%D1%82%D0%B8%D1%80%D0%BE%D0%B2%D0%BA%D0%B8_%D0%B8_%D0%BF%D0%BE%D0%B8%D1%81%D0%BA_ipynb%22.ipynb\" target=\"_parent\"><img src=\"https://colab.research.google.com/assets/colab-badge.svg\" alt=\"Open In Colab\"/></a>"
      ]
    },
    {
      "cell_type": "markdown",
      "source": [
        "# **Сортировка и поиск**"
      ],
      "metadata": {
        "id": "s6TMYddfk8yf"
      }
    },
    {
      "cell_type": "markdown",
      "source": [
        "**Сортировка массивов** часто используется в программировании, чтобы помочь понять данные и выполнить поиск. Поэтому скорость сортировки больших объемов информации крайне важна для функциональных проектов и оптимизации времени работы"
      ],
      "metadata": {
        "id": "LKEj1jj6mBnV"
      }
    },
    {
      "cell_type": "markdown",
      "source": [
        "<img src=\"https://habrastorage.org/getpro/habr/upload_files/441/cf4/f42/441cf4f426f3f0b22883bdcdd81d2904.png\"/>"
      ],
      "metadata": {
        "id": "KGkiQdzFlDp2"
      }
    },
    {
      "cell_type": "code",
      "source": [
        "import numpy as np"
      ],
      "metadata": {
        "id": "uIb-85X_rc9U"
      },
      "execution_count": null,
      "outputs": []
    },
    {
      "cell_type": "markdown",
      "source": [
        "## Сортировка вставками"
      ],
      "metadata": {
        "id": "3x2KeuRpmMUE"
      }
    },
    {
      "cell_type": "markdown",
      "source": [
        "**Алгоритм сортировки:**\n",
        "\n",
        "1. Начинаем работу со второго элемента массива\n",
        "2. Запоминаем значение второго элемента массива\n",
        "3. Сравниваем каждый предыдущий элемент массива с текущим и, при необходимости, меняем их местами до тех пор, пока не дойдем до начала цикла или пока не встретится элемент менее текущего\n",
        "4. В результате массив отсортируется по возрастанию."
      ],
      "metadata": {
        "id": "RpDttSC0mAqF"
      }
    },
    {
      "cell_type": "markdown",
      "source": [
        "<img src=\"https://media.proglib.io/wp-uploads/-000//1/596b723189cb1_Zmjm3wv.gif\"/>"
      ],
      "metadata": {
        "id": "2YZgsZRvoG67"
      }
    },
    {
      "cell_type": "markdown",
      "source": [
        "### Чекпоинт 1"
      ],
      "metadata": {
        "id": "NqgkTsUOo0ei"
      }
    },
    {
      "cell_type": "markdown",
      "source": [
        "Реализовать функцию, сортирующую массив с помощью сортировки вставками"
      ],
      "metadata": {
        "id": "lwGNhtxno5zK"
      }
    },
    {
      "cell_type": "code",
      "source": [
        "def insertion_sort(array):\n",
        "  for i in range(1, len(array)):\n",
        "    for j in range(i, 0, -1):\n",
        "      if array[j-1] > array[j]:\n",
        "        array[j], array[j-1] = array[j-1], array[j]\n",
        "      else:\n",
        "        break\n",
        "  return array"
      ],
      "metadata": {
        "id": "8ap5nhkBn6Hu"
      },
      "execution_count": null,
      "outputs": []
    },
    {
      "cell_type": "code",
      "source": [
        "array = np.array([3, 1, 7, 4, 6, 8, 2, 5])\n",
        "insertion_sort(array)\n",
        "array"
      ],
      "metadata": {
        "id": "p1vBziXTrnXx",
        "colab": {
          "base_uri": "https://localhost:8080/"
        },
        "outputId": "175ed537-ddf8-42f4-823d-94733d7c8a62"
      },
      "execution_count": null,
      "outputs": [
        {
          "output_type": "execute_result",
          "data": {
            "text/plain": [
              "array([1, 2, 3, 4, 5, 6, 7, 8])"
            ]
          },
          "metadata": {},
          "execution_count": 3
        }
      ]
    },
    {
      "cell_type": "markdown",
      "source": [
        "### Сложность сортировки вставками\n"
      ],
      "metadata": {
        "id": "NnvK9RUXpiLa"
      }
    },
    {
      "cell_type": "markdown",
      "source": [
        "*   Лучший случай = $O(N)$\n",
        "*   Худший случай = $O(N^2)$\n",
        "\n",
        "*   Сложность по памяти = $O(1)$\n",
        "\n",
        "\n",
        "\n",
        "\n",
        "\n"
      ],
      "metadata": {
        "id": "J2SBV8FxAiFh"
      }
    },
    {
      "cell_type": "markdown",
      "source": [
        "## Сортировка выбором"
      ],
      "metadata": {
        "id": "Jwoj-uwWoFBD"
      }
    },
    {
      "cell_type": "markdown",
      "source": [
        "**Алгоритм сортировки:**\n",
        "\n",
        "1. В неотсортированном подмассиве ищется локальный максимум (минимум).\n",
        "2. Найденный максимум (минимум) меняется местами с последним (первым) элементом в подмассиве.\n",
        "3. Если в массиве остались неотсортированные подмассивы — смотри пункт 1."
      ],
      "metadata": {
        "id": "abVGAvb-CdKM"
      }
    },
    {
      "cell_type": "markdown",
      "source": [
        "<img src=\"https://media.proglib.io/wp-uploads/-000//1/596b722fd2a7d_djIHfUK.gif\"/>"
      ],
      "metadata": {
        "id": "V4lZv8TUCCGU"
      }
    },
    {
      "cell_type": "markdown",
      "source": [
        "### Чекпоинт 2\n"
      ],
      "metadata": {
        "id": "R6iWUVa0C2sO"
      }
    },
    {
      "cell_type": "markdown",
      "source": [
        "Реализовать функцию, сортирующую массив с помощью сортировки выбором"
      ],
      "metadata": {
        "id": "g4653W8_C-au"
      }
    },
    {
      "cell_type": "code",
      "source": [
        "def selection_sort(array):\n",
        "  left = 0\n",
        "  while left < len(array):\n",
        "    min = left\n",
        "    for i in range(left, len(array)):\n",
        "      if array[i] < array[min]:\n",
        "        min = i\n",
        "    array[left], array[min] = array[min], array[left]\n",
        "    left += 1\n",
        "  return array"
      ],
      "metadata": {
        "id": "x1l8z_neC9al"
      },
      "execution_count": null,
      "outputs": []
    },
    {
      "cell_type": "code",
      "source": [
        "array = np.array([3, 1, 7, 4, 6, 8, 2, 5])\n",
        "selection_sort(array)\n",
        "array"
      ],
      "metadata": {
        "id": "zPmdy2q2rZYz",
        "colab": {
          "base_uri": "https://localhost:8080/"
        },
        "outputId": "22a1c63c-a2fc-4f71-bf7e-18cf00ad0d6c"
      },
      "execution_count": null,
      "outputs": [
        {
          "output_type": "execute_result",
          "data": {
            "text/plain": [
              "array([1, 2, 3, 4, 5, 6, 7, 8])"
            ]
          },
          "metadata": {},
          "execution_count": 10
        }
      ]
    },
    {
      "cell_type": "markdown",
      "source": [
        "### Сложность сортировки выбором\n"
      ],
      "metadata": {
        "id": "7mFgsbqRDC0h"
      }
    },
    {
      "cell_type": "markdown",
      "source": [
        "*   Лучший случай = $O(N^2)$\n",
        "*   Худший случай = $O(N^2)$\n",
        "\n",
        "*   Сложность по памяти = $O(1)$"
      ],
      "metadata": {
        "id": "kCT_niNhDcX3"
      }
    },
    {
      "cell_type": "markdown",
      "source": [],
      "metadata": {
        "id": "bkynWu2IpxTJ"
      }
    },
    {
      "cell_type": "markdown",
      "source": [
        "## Сортировка слиянием"
      ],
      "metadata": {
        "id": "ZpmIaxY3Ef6h"
      }
    },
    {
      "cell_type": "markdown",
      "source": [
        "**Алгоритм сортировки:**\n",
        "1. Разбиваем массив на две части примерно одинакового размера\n",
        "2. Сортируем каждую из получившихся частей (также сортировкой слиянием (до тех пор пока массив не станет длины 1))\n",
        "3. Два упорядоченных массива половинного размера соединяются в один"
      ],
      "metadata": {
        "id": "6EHL7xKZEuLE"
      }
    },
    {
      "cell_type": "markdown",
      "source": [
        "<img src=\"https://media.proglib.io/wp-uploads/-000//1/596b722dc99d1_3qHz285.gif\"/>"
      ],
      "metadata": {
        "id": "GH7kdQfTl8I_"
      }
    },
    {
      "cell_type": "markdown",
      "source": [
        "### Чекпоинт 3\n"
      ],
      "metadata": {
        "id": "tJvB3Oi-rCbu"
      }
    },
    {
      "cell_type": "markdown",
      "source": [
        "Реализовать функцию, сортирующую массив с помощью сортировки слиянием"
      ],
      "metadata": {
        "id": "dsJXdgDarHG8"
      }
    },
    {
      "cell_type": "code",
      "source": [
        "def merge_sort(arr: np.ndarray | list):\n",
        "    middle = len(arr) // 2\n",
        "    if middle > 0:\n",
        "        arr1 = merge_sort(arr[:middle])\n",
        "        arr2 = merge_sort(arr[middle:])\n",
        "        return merge2_sort(arr1, arr2)\n",
        "    else:\n",
        "        return arr\n",
        "\n",
        "\n",
        "def merge2_sort(arr1, arr2):\n",
        "    res_arr = []\n",
        "    i1 = 0\n",
        "    i2 = 0\n",
        "    while i1 < len(arr1) and i2 < len(arr2):\n",
        "        if arr1[i1] < arr2[i2]:\n",
        "            res_arr.append(arr1[i1])\n",
        "            i1 += 1\n",
        "        else:\n",
        "            res_arr.append(arr2[i2])\n",
        "            i2 += 1\n",
        "    if i1 == len(arr1):\n",
        "        res_arr.extend(arr2[i2:])\n",
        "    else:\n",
        "        res_arr.extend(arr1[i1:])\n",
        "\n",
        "    return res_arr\n"
      ],
      "metadata": {
        "id": "1Y5fhDhYsxNN"
      },
      "execution_count": null,
      "outputs": []
    },
    {
      "cell_type": "code",
      "source": [
        "array = np.array([3, 1, 7, 4, 6, 8, 2, 5])\n",
        "print(merge_sort(array))\n",
        "array\n"
      ],
      "metadata": {
        "id": "shdl7Ii2sz66",
        "colab": {
          "base_uri": "https://localhost:8080/"
        },
        "outputId": "841d2932-6fd1-49cb-9087-b2418de79793"
      },
      "execution_count": null,
      "outputs": [
        {
          "output_type": "stream",
          "name": "stdout",
          "text": [
            "[1, 2, 3, 4, 5, 6, 7, 8]\n"
          ]
        },
        {
          "output_type": "execute_result",
          "data": {
            "text/plain": [
              "array([3, 1, 7, 4, 6, 8, 2, 5])"
            ]
          },
          "metadata": {},
          "execution_count": 9
        }
      ]
    },
    {
      "cell_type": "markdown",
      "source": [
        "### Сложность сортировки слиянием"
      ],
      "metadata": {
        "id": "v_q3PDKgukR5"
      }
    },
    {
      "cell_type": "markdown",
      "source": [
        "*   Лучший случай = $O(N * log N)$\n",
        "*   Худший случай = $O(N * log N)$\n",
        "\n",
        "*   Сложность по памяти = $O(N)$"
      ],
      "metadata": {
        "id": "H72JHiWwupY8"
      }
    },
    {
      "cell_type": "markdown",
      "source": [
        "## Бинарный поиск"
      ],
      "metadata": {
        "id": "VLb-2kk3l3If"
      }
    },
    {
      "cell_type": "markdown",
      "source": [
        "**Алгоритм поиска:**\n",
        "\n",
        "1. Сортируем массив (для бинарного поиска это важно)\n",
        "2. Определяем значение элемента в середине массива. Полученное значение сравнивается с тем, что нам нужно найти\n",
        "3. Если искомый элемент меньше значения середины, то поиск осуществляется в первой половине элементов, иначе — во второй\n",
        "4. Поиск сводится к тому, что вновь определяется значение серединного элемента в выбранной половине и сравнивается с искомым значением\n",
        "5. Процесс продолжается до тех пор, пока не будет найден элемент со значением искомого элемента или не станет пустым интервал для поиска"
      ],
      "metadata": {
        "id": "19cIRrk0mVx-"
      }
    },
    {
      "cell_type": "markdown",
      "source": [
        "![binary_search](https://habrastorage.org/r/w1560/getpro/habr/post_images/d99/286/22b/d9928622b0685e9fa1e77ce4d9117694.png)\n"
      ],
      "metadata": {
        "id": "T5khTfXWob8s"
      }
    },
    {
      "cell_type": "markdown",
      "source": [
        "### Чекпоинт 4"
      ],
      "metadata": {
        "id": "f68wVxoXs92n"
      }
    },
    {
      "cell_type": "markdown",
      "source": [
        "Реализовать бинарный поиск, используя любую реализованную сортировку выше"
      ],
      "metadata": {
        "id": "S7PbID7StCgN"
      }
    },
    {
      "cell_type": "code",
      "source": [
        "def binary_search():\n",
        "  pass"
      ],
      "metadata": {
        "id": "eQXD5PSqs7Zm"
      },
      "execution_count": null,
      "outputs": []
    },
    {
      "cell_type": "code",
      "source": [
        "array = np.array([3, 1, 7, 4, 6, 8, 2, 5])"
      ],
      "metadata": {
        "id": "PJhT7ZxWnelw"
      },
      "execution_count": null,
      "outputs": []
    },
    {
      "cell_type": "code",
      "source": [
        "binary_search(array, 9)"
      ],
      "metadata": {
        "id": "oUFA3_z2uX05"
      },
      "execution_count": null,
      "outputs": []
    },
    {
      "cell_type": "code",
      "source": [
        "binary_search(array, 2)"
      ],
      "metadata": {
        "id": "hqnfy14PticG"
      },
      "execution_count": null,
      "outputs": []
    },
    {
      "cell_type": "markdown",
      "source": [
        "### Сложность бинарного поиска"
      ],
      "metadata": {
        "id": "_XLTFIcFu8Ex"
      }
    },
    {
      "cell_type": "markdown",
      "source": [
        "*   Лучший случай = $O(log N)$\n",
        "*   Худший случай = $O(log N)$\n",
        "\n",
        "*   Сложность по памяти = $O(1)$"
      ],
      "metadata": {
        "id": "gnUj6i4GvAJY"
      }
    },
    {
      "cell_type": "markdown",
      "source": [
        "## Сортировка TimSort"
      ],
      "metadata": {
        "id": "_6Mtu3Optv7O"
      }
    },
    {
      "cell_type": "markdown",
      "source": [
        "Идея сортировки:\n",
        "\n",
        "\n",
        "\n",
        "*   Массивы реальных данных часто содержат в себе упорядоченные выборки данных\n",
        "*   Состоит их сортировки вставками и сортировки слиянием\n",
        "*   Принудительное разбиение на упорядоченные подмассивы (run'ы)\n",
        "\n",
        "\n"
      ],
      "metadata": {
        "id": "OWioWcENwPyM"
      }
    },
    {
      "cell_type": "markdown",
      "source": [
        "Что такое run?\n",
        "\n",
        "Run - наименьшее разбиение отсортированных подмассивов для дальнейшего слияния\n",
        "\n",
        "Tim определил, что лучше всего делить на подмассивы с размером от 32 до 64, так как при наиболее маленьких массивах получается слишком много массивов, которые необходимо объединить, а при run'е больше 64 сортировка вставками будет долго работать, так как в худжем случае ее сложность равна $O(N^2)$\n",
        "\n",
        "!И при этом run'ы должны быть степенью двойки"
      ],
      "metadata": {
        "id": "yzS9T_Yhwqbn"
      }
    },
    {
      "cell_type": "markdown",
      "source": [
        "### Сложность TimSort"
      ],
      "metadata": {
        "id": "MIVN7H9sveMG"
      }
    },
    {
      "cell_type": "markdown",
      "source": [
        "*   Лучший случай = $O(N)$\n",
        "*   Худший случай = $O(N * log N)$\n",
        "\n",
        "*   Сложность по памяти = $O(N)$"
      ],
      "metadata": {
        "id": "U2BusgEZvjt5"
      }
    },
    {
      "cell_type": "code",
      "source": [
        "array.sort()\n",
        "array"
      ],
      "metadata": {
        "colab": {
          "base_uri": "https://localhost:8080/"
        },
        "id": "xm-387BguTWB",
        "outputId": "c0de61bd-b9e0-4f16-a7ea-8108b62ac11d"
      },
      "execution_count": null,
      "outputs": [
        {
          "output_type": "execute_result",
          "data": {
            "text/plain": [
              "array([1, 2, 3, 4, 5, 6, 7, 8])"
            ]
          },
          "metadata": {},
          "execution_count": 5
        }
      ]
    }
  ]
}