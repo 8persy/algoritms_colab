{
  "nbformat": 4,
  "nbformat_minor": 0,
  "metadata": {
    "colab": {
      "provenance": [],
      "include_colab_link": true
    },
    "kernelspec": {
      "name": "python3",
      "display_name": "Python 3"
    },
    "language_info": {
      "name": "python"
    }
  },
  "cells": [
    {
      "cell_type": "markdown",
      "metadata": {
        "id": "view-in-github",
        "colab_type": "text"
      },
      "source": [
        "<a href=\"https://colab.research.google.com/github/8persy/algoritms_colab/blob/main/%D0%9A%D0%BE%D0%BF%D0%B8%D1%8F_%D0%B1%D0%BB%D0%BE%D0%BA%D0%BD%D0%BE%D1%82%D0%B0_%22%D0%97%D0%B0%D0%BD%D1%8F%D1%82%D0%B8%D0%B53_%D0%A1%D0%BB%D0%BE%D0%B6%D0%BD%D0%BE%D1%81%D1%82%D1%8C_%2B_%D0%9B%D0%B8%D0%BD%D0%B5%D0%B9%D0%BD%D1%8B%D0%B5_%D1%81%D1%82%D1%80%D1%83%D0%BA%D1%82%D1%83%D1%80%D1%8B_%D0%B4%D0%B0%D0%BD%D0%BD%D1%8B%D1%85_ipynb%22.ipynb\" target=\"_parent\"><img src=\"https://colab.research.google.com/assets/colab-badge.svg\" alt=\"Open In Colab\"/></a>"
      ]
    },
    {
      "cell_type": "markdown",
      "source": [
        "# Сложность алгоритмов и структур данных\n"
      ],
      "metadata": {
        "id": "J1ygfzCyu5C_"
      }
    },
    {
      "cell_type": "markdown",
      "source": [
        "**Главная идея Big O** - от передаваемых параметров зависит количество операций, которые будут выполнены перед тем, как алгоритм завершится\n"
      ],
      "metadata": {
        "id": "NdJeoBVAqUNJ"
      }
    },
    {
      "cell_type": "markdown",
      "source": [
        "**Функция, описывающая сложность алгоритмов**\n",
        "\n",
        "<img src=\"https://i0.wp.com/apptractor.ru/wp-content/uploads/2023/12/35276c9c-9288-4123-8944-00ed42ab40e2.png?resize=740%2C511&ssl=1\"/>"
      ],
      "metadata": {
        "id": "-NoPE4DSqq0_"
      }
    },
    {
      "cell_type": "markdown",
      "source": [
        "## Правила подсчета Big O\n",
        "\n",
        "- Отбрасывание констант\\\n",
        "$O(3n) = O(n)$\\\n",
        "$O(10000000n) = O(n)$\\\n",
        "$O(C*n) = O(n), C - const$\n",
        "\n",
        "- Максимум суммы\\\n",
        "$ O(n + k) = O(max(n, k)) $\\\n",
        "$ O(n^2 + n) = O(n^2) $\\\n",
        "$ O(n! + logn) = O(n!) $\n",
        "\n",
        "- Мультипликативность (для оценки нескольких функций)\\\n",
        "$ O(n) * O(k) = O(nk) $"
      ],
      "metadata": {
        "id": "b15YdM1d0xnJ"
      }
    },
    {
      "cell_type": "markdown",
      "source": [
        "## Сложность O(1) - Константная сложность"
      ],
      "metadata": {
        "id": "k66etMJvq1GP"
      }
    },
    {
      "cell_type": "code",
      "source": [
        "for i in range(1000000):\n",
        "    print(i)"
      ],
      "metadata": {
        "id": "LrxueP4yswVt"
      },
      "execution_count": null,
      "outputs": []
    },
    {
      "cell_type": "markdown",
      "source": [
        "Если код всегда выполняется за одно и то же время и никак не зависит от размера входных данных, то сложность алгоритма является **константной**"
      ],
      "metadata": {
        "id": "cLAFYK3wtUYl"
      }
    },
    {
      "cell_type": "markdown",
      "source": [
        "## Сложность O(N) - Линейная сложность"
      ],
      "metadata": {
        "id": "2KQ5-IPTtnz0"
      }
    },
    {
      "cell_type": "code",
      "source": [
        "def generate_numbers(N):\n",
        "    ...\n",
        "    for i in range(N):\n",
        "        ...\n",
        "    return i"
      ],
      "metadata": {
        "id": "8OdCuNwptgN4"
      },
      "execution_count": null,
      "outputs": []
    },
    {
      "cell_type": "code",
      "source": [
        "def example(N):\n",
        "    a = 1\n",
        "    for i in range(N):\n",
        "        print(i)\n",
        "    a += 1"
      ],
      "metadata": {
        "id": "Ws6tHkePuVc0"
      },
      "execution_count": null,
      "outputs": []
    },
    {
      "cell_type": "code",
      "source": [
        "def example_two(N):\n",
        "    a = 1\n",
        "    for i in range(N):\n",
        "        print(i)\n",
        "    for j in range(N):\n",
        "        print(j)\n",
        "    a += 1"
      ],
      "metadata": {
        "id": "s4n6rzAjui6E"
      },
      "execution_count": null,
      "outputs": []
    },
    {
      "cell_type": "code",
      "source": [
        "def example_three(N, K):\n",
        "    a = 1\n",
        "    for i in range(N):\n",
        "        print(i)\n",
        "    for j in range(K):\n",
        "        print(j)\n",
        "    a += 1"
      ],
      "metadata": {
        "id": "8Kh5MpAcuyZ0"
      },
      "execution_count": null,
      "outputs": []
    },
    {
      "cell_type": "code",
      "source": [
        "def example_(N, K):\n",
        "    a = 1\n",
        "    for i in range(N):\n",
        "        for j in range(K):\n",
        "          print(i + j)\n",
        "    a += 1"
      ],
      "metadata": {
        "id": "4Jdk3BrKvjlU"
      },
      "execution_count": null,
      "outputs": []
    },
    {
      "cell_type": "markdown",
      "source": [
        "## Полиномиальная сложность\n",
        "- $ O(N^2) $\n",
        "- $ O(N^3) $\n",
        "- $ O(N^4) $\\\n",
        "$\\dots$\n",
        "- $ O(N^k) $\n",
        "\n"
      ],
      "metadata": {
        "id": "HQho0IDcu53F"
      }
    },
    {
      "cell_type": "code",
      "source": [
        "def func(N):\n",
        "    a = 1\n",
        "    for i in range(N):\n",
        "        for j in range(N):\n",
        "            print(i + j)\n",
        "    a += 1"
      ],
      "metadata": {
        "id": "mA7CorUqvcY0"
      },
      "execution_count": null,
      "outputs": []
    },
    {
      "cell_type": "code",
      "source": [
        "def func(N):\n",
        "    a = 1\n",
        "    for i in range(N):\n",
        "        for j in range(N):\n",
        "            for q in range(N):\n",
        "                print(i + j + q)\n",
        "    a += 1"
      ],
      "metadata": {
        "id": "JskIn6jrwCUL"
      },
      "execution_count": null,
      "outputs": []
    },
    {
      "cell_type": "code",
      "source": [
        "def func(N):\n",
        "    a = 1\n",
        "    for i in range(N):\n",
        "        for j in range(N):\n",
        "            print(i + j)\n",
        "    for i in range(N):\n",
        "        print(i)\n",
        "    a += 1"
      ],
      "metadata": {
        "id": "XbyC6XOwwV0z"
      },
      "execution_count": null,
      "outputs": []
    },
    {
      "cell_type": "markdown",
      "source": [
        "## Сложность O(log N) - Логарифмическая сложность"
      ],
      "metadata": {
        "id": "c4oc8NNtwyXK"
      }
    },
    {
      "cell_type": "markdown",
      "source": [
        "**Бинарный поиск**"
      ],
      "metadata": {
        "id": "AAfzj-AA9bdw"
      }
    },
    {
      "cell_type": "markdown",
      "source": [
        "![binary_search](https://habrastorage.org/r/w1560/getpro/habr/post_images/d99/286/22b/d9928622b0685e9fa1e77ce4d9117694.png)"
      ],
      "metadata": {
        "id": "unm-6PGH9WFQ"
      }
    },
    {
      "cell_type": "code",
      "source": [
        "def binary_search(arr, target):\n",
        "    left = 0\n",
        "    right = len(arr) - 1\n",
        "\n",
        "    while left <= right:\n",
        "        mid = (left + right) // 2\n",
        "        if arr[mid] == target:\n",
        "            return mid\n",
        "        elif arr[mid] < target:\n",
        "            left = mid + 1\n",
        "        else:\n",
        "            right = mid - 1\n",
        "\n",
        "    return -1"
      ],
      "metadata": {
        "id": "ZG1eY-fxxoKq"
      },
      "execution_count": null,
      "outputs": []
    },
    {
      "cell_type": "markdown",
      "source": [
        "## Сложность O(N * log N) - Линейно-логарифмическая сложность"
      ],
      "metadata": {
        "id": "q5PhXJ0XxGfi"
      }
    },
    {
      "cell_type": "markdown",
      "source": [
        "- Сортировки\n",
        "- Алгоритмы Дейкстра и Краскала\n",
        "\n",
        "Рассмотри подробнее позже"
      ],
      "metadata": {
        "id": "2Jt89V45-M_Y"
      }
    },
    {
      "cell_type": "markdown",
      "source": [
        "## Сложность O(K^N) - Экспоненциальная сложность\n",
        "\n",
        "- $O(2^N)$"
      ],
      "metadata": {
        "id": "cMycPW7Vwqay"
      }
    },
    {
      "cell_type": "markdown",
      "source": [
        "Применяется, когда есть N значений, каждое из которых может принимать K значений и необходимо перебрать все варианты"
      ],
      "metadata": {
        "id": "rnOjrs-g_cz5"
      }
    },
    {
      "cell_type": "code",
      "source": [
        "def make_bit_set(N):\n",
        "  bit_set = []\n",
        "\n",
        "  tmp_list = [\"0\"] * N\n",
        "  def make_value(pos):\n",
        "    if pos == N:\n",
        "      bit_set.append(''.join(tmp_list));\n",
        "      return\n",
        "    tmp_list[pos] = \"0\"\n",
        "    make_value(pos + 1)\n",
        "    tmp_list[pos] = \"1\"\n",
        "    make_value(pos + 1)\n",
        "\n",
        "  make_value(0)\n",
        "\n",
        "  return bit_set"
      ],
      "metadata": {
        "id": "pymQXssd_q4c"
      },
      "execution_count": null,
      "outputs": []
    },
    {
      "cell_type": "code",
      "source": [
        "make_bit_set(1)"
      ],
      "metadata": {
        "colab": {
          "base_uri": "https://localhost:8080/"
        },
        "id": "daa4QBu8BZJJ",
        "outputId": "c412a2ac-128f-4b72-d735-bd0d5a6df6fd"
      },
      "execution_count": null,
      "outputs": [
        {
          "output_type": "execute_result",
          "data": {
            "text/plain": [
              "['0', '1']"
            ]
          },
          "metadata": {},
          "execution_count": 18
        }
      ]
    },
    {
      "cell_type": "code",
      "source": [
        "make_bit_set(2)"
      ],
      "metadata": {
        "colab": {
          "base_uri": "https://localhost:8080/"
        },
        "id": "ja2UVg4cBuu8",
        "outputId": "191e58ec-1e37-4cae-a1d4-e66a0dcd88c6"
      },
      "execution_count": null,
      "outputs": [
        {
          "output_type": "execute_result",
          "data": {
            "text/plain": [
              "['00', '01', '10', '11']"
            ]
          },
          "metadata": {},
          "execution_count": 19
        }
      ]
    },
    {
      "cell_type": "code",
      "source": [
        "make_bit_set(3)"
      ],
      "metadata": {
        "colab": {
          "base_uri": "https://localhost:8080/"
        },
        "id": "TIS8uEuNBwhy",
        "outputId": "a89e100b-5fba-4a5b-a14e-3068b5eca675"
      },
      "execution_count": null,
      "outputs": [
        {
          "output_type": "execute_result",
          "data": {
            "text/plain": [
              "['000', '001', '010', '011', '100', '101', '110', '111']"
            ]
          },
          "metadata": {},
          "execution_count": 20
        }
      ]
    },
    {
      "cell_type": "code",
      "source": [
        "make_bit_set(4)"
      ],
      "metadata": {
        "colab": {
          "base_uri": "https://localhost:8080/"
        },
        "id": "h5OxWNzgByu8",
        "outputId": "8788d1a2-4111-4a3c-fa28-0058714a76bb"
      },
      "execution_count": null,
      "outputs": [
        {
          "output_type": "execute_result",
          "data": {
            "text/plain": [
              "['0000',\n",
              " '0001',\n",
              " '0010',\n",
              " '0011',\n",
              " '0100',\n",
              " '0101',\n",
              " '0110',\n",
              " '0111',\n",
              " '1000',\n",
              " '1001',\n",
              " '1010',\n",
              " '1011',\n",
              " '1100',\n",
              " '1101',\n",
              " '1110',\n",
              " '1111']"
            ]
          },
          "metadata": {},
          "execution_count": 21
        }
      ]
    },
    {
      "cell_type": "markdown",
      "source": [
        "## Сложность O(N!) - Факториальная сложность"
      ],
      "metadata": {
        "id": "AMY3fj5GxiIr"
      }
    },
    {
      "cell_type": "code",
      "source": [
        "def fact_func(n):\n",
        "  for i in range(n):\n",
        "    fact_func(n-1)"
      ],
      "metadata": {
        "id": "FHIx-vE0_In9"
      },
      "execution_count": null,
      "outputs": []
    },
    {
      "cell_type": "markdown",
      "source": [
        "# Линейные структуры данных"
      ],
      "metadata": {
        "id": "ezaRAh7KvEYt"
      }
    },
    {
      "cell_type": "markdown",
      "source": [
        "## Массивы и списки"
      ],
      "metadata": {
        "id": "hpTtheF5CVlL"
      }
    },
    {
      "cell_type": "markdown",
      "source": [
        "### Массивы"
      ],
      "metadata": {
        "id": "_FNJWc2gDnEe"
      }
    },
    {
      "cell_type": "markdown",
      "source": [
        "- Хранятся в памяти вместе, в соседних ячейках\n",
        "  - Благодаря этому можно быстро получать доступ к данным\n",
        "- Имеют фиксированный размер\n",
        "  - При необходимости добавить/удалить элемент, необходимо пересоздавать массив\n",
        "- Объекты должны быть однородными, только одного класса\n",
        "\n",
        "Есть модуль [array](https://docs.python.org/3/library/array.html), но будем пользоваться массивами из numpy, т.к они более функциональны"
      ],
      "metadata": {
        "id": "NEFKzYGDDqbe"
      }
    },
    {
      "cell_type": "markdown",
      "source": [
        "![direct_access_arrays](https://static.javatpoint.com/ds/images/ds-array2.png)"
      ],
      "metadata": {
        "id": "WA-H16tMDiQ-"
      }
    },
    {
      "cell_type": "code",
      "source": [
        "import numpy as np\n",
        "\n",
        "arr = np.array([1, 2, 3, 4, 5])\n",
        "\n",
        "arr"
      ],
      "metadata": {
        "colab": {
          "base_uri": "https://localhost:8080/"
        },
        "id": "SDXnYYryDQDg",
        "outputId": "459df01c-fb11-4b99-bb8c-6e57a5b9bd26"
      },
      "execution_count": null,
      "outputs": [
        {
          "output_type": "execute_result",
          "data": {
            "text/plain": [
              "array([1, 2, 3, 4, 5])"
            ]
          },
          "metadata": {},
          "execution_count": 3
        }
      ]
    },
    {
      "cell_type": "markdown",
      "source": [
        "Однако в numpy можно указать разнородные данные, но тогда numpy будет их \"подгонять\" под некоторый общий тип"
      ],
      "metadata": {
        "id": "eufzW3QeEwZW"
      }
    },
    {
      "cell_type": "code",
      "source": [
        "arr2 = np.array([1, \"2\", True])\n",
        "\n",
        "arr2"
      ],
      "metadata": {
        "colab": {
          "base_uri": "https://localhost:8080/"
        },
        "id": "p5q0Q6mTElUp",
        "outputId": "f379ef0a-56d4-4a22-fde1-45e9da58abb1"
      },
      "execution_count": null,
      "outputs": [
        {
          "output_type": "execute_result",
          "data": {
            "text/plain": [
              "array(['1', '2', 'True'], dtype='<U21')"
            ]
          },
          "metadata": {},
          "execution_count": 4
        }
      ]
    },
    {
      "cell_type": "code",
      "source": [
        "if arr[2] == True:\n",
        "  print(\"Always has been!\")"
      ],
      "metadata": {
        "id": "-Zvz6HlnE7GQ"
      },
      "execution_count": null,
      "outputs": []
    },
    {
      "cell_type": "markdown",
      "source": [
        "Но можно создавать массивы объектов, правда numpy нужно явно указывать что это будут за объекты\n",
        "\n",
        "[Документация по типам](https://numpy.org/doc/stable/reference/arrays.dtypes.html)"
      ],
      "metadata": {
        "id": "tPTtHZ9oIdeN"
      }
    },
    {
      "cell_type": "code",
      "source": [
        "custom_dtype = np.dtype([\n",
        "    (\"name\", 'U64'),\n",
        "    (\"points\", np.int_),\n",
        "    (\"banned\", np.bool_),\n",
        "])\n",
        "\n",
        "players = np.array([\n",
        "    (\"Петя\", 10, False),\n",
        "    (\"Петя_читер\", 199999, True),\n",
        "], dtype=custom_dtype)\n",
        "\n",
        "players"
      ],
      "metadata": {
        "colab": {
          "base_uri": "https://localhost:8080/"
        },
        "id": "PrX1LggkIL0X",
        "outputId": "9a811f19-505b-4b12-8b69-64fb8a7556f5"
      },
      "execution_count": null,
      "outputs": [
        {
          "output_type": "execute_result",
          "data": {
            "text/plain": [
              "array([('Петя',     10, False), ('Петя_читер', 199999,  True)],\n",
              "      dtype=[('name', '<U64'), ('points', '<i8'), ('banned', '?')])"
            ]
          },
          "metadata": {},
          "execution_count": 8
        }
      ]
    },
    {
      "cell_type": "code",
      "source": [
        "if players[-1][2]:\n",
        "  print(\"Ты забанен! Я не буду тебя разбанивать!\")\n",
        "\n",
        "if players[0][1] > 5:\n",
        "  name = players[0][0]\n",
        "  print(f\"Ого, {name} набрал так много очков\")"
      ],
      "metadata": {
        "colab": {
          "base_uri": "https://localhost:8080/"
        },
        "id": "QlQzZ3qgI_8y",
        "outputId": "675e3012-0c75-4955-d86d-6db7c8ad41a9"
      },
      "execution_count": null,
      "outputs": [
        {
          "output_type": "stream",
          "name": "stdout",
          "text": [
            "Ты забанен! Я не буду тебя разбанивать!\n",
            "Ого, Петя набрал так много очков\n"
          ]
        }
      ]
    },
    {
      "cell_type": "code",
      "source": [
        "players.shape"
      ],
      "metadata": {
        "colab": {
          "base_uri": "https://localhost:8080/"
        },
        "id": "RgQaJERuKoO0",
        "outputId": "acdc5e09-2e68-457f-fa6c-950f0759fcba"
      },
      "execution_count": null,
      "outputs": [
        {
          "output_type": "execute_result",
          "data": {
            "text/plain": [
              "(2,)"
            ]
          },
          "metadata": {},
          "execution_count": 10
        }
      ]
    },
    {
      "cell_type": "code",
      "source": [
        "def find_cheater(players_arr):\n",
        "  n = players_arr.shape[0]\n",
        "  for i in range(n):\n",
        "    player = players_arr[i]\n",
        "    name, points, banned = player\n",
        "    if banned:\n",
        "      return player\n",
        "\n",
        "  return None\n"
      ],
      "metadata": {
        "id": "winlXk6kJvwa"
      },
      "execution_count": null,
      "outputs": []
    },
    {
      "cell_type": "code",
      "source": [
        "find_cheater(players)"
      ],
      "metadata": {
        "colab": {
          "base_uri": "https://localhost:8080/"
        },
        "id": "vl4FiYpNKUVO",
        "outputId": "ce1114ba-aac6-403c-eb0a-c6793bb927d6"
      },
      "execution_count": null,
      "outputs": [
        {
          "output_type": "execute_result",
          "data": {
            "text/plain": [
              "('Петя_читер', 199999, True)"
            ]
          },
          "metadata": {},
          "execution_count": 13
        }
      ]
    },
    {
      "cell_type": "markdown",
      "source": [
        "Какая сложность, если хотим добавить/удалить значение?"
      ],
      "metadata": {
        "id": "0rCichj-KyUj"
      }
    },
    {
      "cell_type": "markdown",
      "source": [
        "\n",
        "**Добавление**\n",
        "- Создаем массив длины + 1\n",
        "- Добавлем туда все элементы **до** того места, куда нужно вставить значение\n",
        "- Добавляем туда новый элемент\n",
        "- Добавлем туда все элементы **после** того места, куда нужно вставить значение"
      ],
      "metadata": {
        "id": "egYi8GsnLzho"
      }
    },
    {
      "cell_type": "code",
      "source": [
        "np.empty(players.shape, dtype=players.dtype)"
      ],
      "metadata": {
        "colab": {
          "base_uri": "https://localhost:8080/"
        },
        "id": "HGtK2O_9MbyT",
        "outputId": "9ef82aa0-f15c-42b0-974d-0713e8de7d5e"
      },
      "execution_count": null,
      "outputs": [
        {
          "output_type": "execute_result",
          "data": {
            "text/plain": [
              "array([('', 0, False), ('', 0, False)],\n",
              "      dtype=[('name', '<U64'), ('points', '<i8'), ('banned', '?')])"
            ]
          },
          "metadata": {},
          "execution_count": 14
        }
      ]
    },
    {
      "cell_type": "code",
      "source": [
        "from copy import deepcopy"
      ],
      "metadata": {
        "id": "IEqAZJbuO5UL"
      },
      "execution_count": null,
      "outputs": []
    },
    {
      "cell_type": "code",
      "source": [
        "def add_to_beginning(player, players_arr):\n",
        "  n = players_arr.shape[0]\n",
        "  new_shape = (n + 1,)\n",
        "  new_arr = np.empty(new_shape, dtype=players_arr.dtype)\n",
        "\n",
        "  new_arr[0] = deepcopy(player)\n",
        "  for i in range(n):\n",
        "    new_arr[i + 1] = deepcopy(players_arr[i])\n",
        "\n",
        "\n",
        "  return new_arr"
      ],
      "metadata": {
        "id": "Hn9_cSKlK_GI"
      },
      "execution_count": null,
      "outputs": []
    },
    {
      "cell_type": "code",
      "source": [
        "begin_players = add_to_beginning((\n",
        "    \"Аня\", 9999, False\n",
        "), players)\n",
        "\n",
        "begin_players"
      ],
      "metadata": {
        "id": "qrUBe4eGMGsS",
        "colab": {
          "base_uri": "https://localhost:8080/",
          "height": 211
        },
        "outputId": "aacff212-9f60-4daf-da7a-f82011e05451"
      },
      "execution_count": null,
      "outputs": [
        {
          "output_type": "error",
          "ename": "NameError",
          "evalue": "name 'players' is not defined",
          "traceback": [
            "\u001b[0;31m---------------------------------------------------------------------------\u001b[0m",
            "\u001b[0;31mNameError\u001b[0m                                 Traceback (most recent call last)",
            "\u001b[0;32m<ipython-input-6-03bee0827b2d>\u001b[0m in \u001b[0;36m<cell line: 1>\u001b[0;34m()\u001b[0m\n\u001b[1;32m      1\u001b[0m begin_players = add_to_beginning((\n\u001b[1;32m      2\u001b[0m     \u001b[0;34m\"Аня\"\u001b[0m\u001b[0;34m,\u001b[0m \u001b[0;36m9999\u001b[0m\u001b[0;34m,\u001b[0m \u001b[0;32mFalse\u001b[0m\u001b[0;34m\u001b[0m\u001b[0;34m\u001b[0m\u001b[0m\n\u001b[0;32m----> 3\u001b[0;31m ), players)\n\u001b[0m\u001b[1;32m      4\u001b[0m \u001b[0;34m\u001b[0m\u001b[0m\n\u001b[1;32m      5\u001b[0m \u001b[0mbegin_players\u001b[0m\u001b[0;34m\u001b[0m\u001b[0;34m\u001b[0m\u001b[0m\n",
            "\u001b[0;31mNameError\u001b[0m: name 'players' is not defined"
          ]
        }
      ]
    },
    {
      "cell_type": "markdown",
      "source": [
        "#### Чекпоинт 1"
      ],
      "metadata": {
        "id": "kjxA5kqqSzi3"
      }
    },
    {
      "cell_type": "markdown",
      "source": [
        "Реализуйте функцию добавления в конец массива"
      ],
      "metadata": {
        "id": "32A4dA2gdsU6"
      }
    },
    {
      "cell_type": "code",
      "source": [
        "def add_to_end(player, players_arr):\n",
        "  n = players_arr.sahpe[0]\n",
        "  new_shape = (n + 1,)\n",
        "  new_arr = np.empty(new_shape, dtype=players_arr.dtype)\n",
        "\n",
        "  new_arr = deepcopy(player)\n",
        "  for i in range(n):\n",
        "    new_arr[i+1] = deepcopy(players_arr[i])\n",
        "\n",
        "  return new_arr"
      ],
      "metadata": {
        "id": "MYhLJ0I_Njzl"
      },
      "execution_count": null,
      "outputs": []
    },
    {
      "cell_type": "code",
      "source": [
        "end_players = add_to_end((\n",
        "    \"vItAlII\", -1, True\n",
        "), begin_players)\n",
        "\n",
        "end_players"
      ],
      "metadata": {
        "colab": {
          "base_uri": "https://localhost:8080/",
          "height": 211
        },
        "id": "KJoyxCRtOIeN",
        "outputId": "ed2dbe24-e72b-432e-d826-cd73154dadf2"
      },
      "execution_count": null,
      "outputs": [
        {
          "output_type": "error",
          "ename": "NameError",
          "evalue": "name 'begin_players' is not defined",
          "traceback": [
            "\u001b[0;31m---------------------------------------------------------------------------\u001b[0m",
            "\u001b[0;31mNameError\u001b[0m                                 Traceback (most recent call last)",
            "\u001b[0;32m<ipython-input-3-f778e469660a>\u001b[0m in \u001b[0;36m<cell line: 1>\u001b[0;34m()\u001b[0m\n\u001b[1;32m      1\u001b[0m end_players = add_to_end((\n\u001b[1;32m      2\u001b[0m     \u001b[0;34m\"vItAlII\"\u001b[0m\u001b[0;34m,\u001b[0m \u001b[0;34m-\u001b[0m\u001b[0;36m1\u001b[0m\u001b[0;34m,\u001b[0m \u001b[0;32mTrue\u001b[0m\u001b[0;34m\u001b[0m\u001b[0;34m\u001b[0m\u001b[0m\n\u001b[0;32m----> 3\u001b[0;31m ), begin_players)\n\u001b[0m\u001b[1;32m      4\u001b[0m \u001b[0;34m\u001b[0m\u001b[0m\n\u001b[1;32m      5\u001b[0m \u001b[0mend_players\u001b[0m\u001b[0;34m\u001b[0m\u001b[0;34m\u001b[0m\u001b[0m\n",
            "\u001b[0;31mNameError\u001b[0m: name 'begin_players' is not defined"
          ]
        }
      ]
    },
    {
      "cell_type": "markdown",
      "source": [
        "Реализуйте функцию добавления в середину массива (после элемента на месте k)"
      ],
      "metadata": {
        "id": "N0xieG-wd5DH"
      }
    },
    {
      "cell_type": "code",
      "source": [
        "def add_to_middle(player, k, players_arr):\n"
      ],
      "metadata": {
        "id": "YiagOE_XPZX4"
      },
      "execution_count": null,
      "outputs": []
    },
    {
      "cell_type": "code",
      "source": [
        "new_player = (\n",
        "    \"12321\", 0, False\n",
        ")\n",
        "\n",
        "add_to_middle(new_player, 1, end_players)"
      ],
      "metadata": {
        "colab": {
          "base_uri": "https://localhost:8080/"
        },
        "id": "9Pglp0vIQON3",
        "outputId": "bcfa39a8-0677-4fee-ace4-275d5b57ee50"
      },
      "execution_count": null,
      "outputs": [
        {
          "output_type": "execute_result",
          "data": {
            "text/plain": [
              "array([('Аня',   9999, False), ('',      0, False),\n",
              "       ('12321',      0, False), ('Петя_читер', 199999,  True),\n",
              "       ('vItAlII',     -1,  True)],\n",
              "      dtype=[('name', '<U64'), ('points', '<i8'), ('banned', '?')])"
            ]
          },
          "metadata": {},
          "execution_count": 48
        }
      ]
    },
    {
      "cell_type": "markdown",
      "source": [
        "Удаление делается по аналогии"
      ],
      "metadata": {
        "id": "gCM2aQWsRmUl"
      }
    },
    {
      "cell_type": "markdown",
      "source": [
        "**Поиск по индексу** - $ O(1)$\\\n",
        "**Добавление/Удаление**: $O(N)$"
      ],
      "metadata": {
        "id": "zn15UDUrG6Sf"
      }
    },
    {
      "cell_type": "markdown",
      "source": [
        "### Списки"
      ],
      "metadata": {
        "id": "BzdMy-FWRuMG"
      }
    },
    {
      "cell_type": "markdown",
      "source": [
        "- Хранятся в памяти в разных ячейках, в случайных местах\n",
        "- Объекты могут быть разнородными\n",
        "- Храним ссылку на начало списка и работаем с ней"
      ],
      "metadata": {
        "id": "oYboIdHGSIS1"
      }
    },
    {
      "cell_type": "markdown",
      "source": [
        "![](https://media.geeksforgeeks.org/wp-content/uploads/20220816144425/LLdrawio.png)"
      ],
      "metadata": {
        "id": "nCoOr1usR-MF"
      }
    },
    {
      "cell_type": "markdown",
      "source": [
        "**Секрет Полишинеля**\\\n",
        "Все это время мы пользовались списками, а не массивами\\\n",
        "![](https://i.gifer.com/origin/37/376be8c2f7237f730fa5f936fec83e58_w200.gif)"
      ],
      "metadata": {
        "id": "crdGDHYCSccs"
      }
    },
    {
      "cell_type": "markdown",
      "source": [
        "Попробуем сделать list с нуля\\\n",
        "Начнем с класса для ячейки списка"
      ],
      "metadata": {
        "id": "Lg4gDEAXW1ct"
      }
    },
    {
      "cell_type": "code",
      "source": [
        "import dataclasses\n",
        "from __future__ import annotations\n",
        "\n",
        "@dataclasses.dataclass\n",
        "class NodeItem:\n",
        "  data: int\n",
        "  next: NodeItem | None"
      ],
      "metadata": {
        "id": "_WxdHO4gTm5j"
      },
      "execution_count": null,
      "outputs": []
    },
    {
      "cell_type": "markdown",
      "source": [
        "Можно сделать не только int, а все что угодно при помощи [generics](https://docs.python.org/3/library/typing.html#generics)"
      ],
      "metadata": {
        "id": "ez5Jo8UmZ1lQ"
      }
    },
    {
      "cell_type": "code",
      "source": [
        "list_head = NodeItem(1, None)\n",
        "\n",
        "list_head"
      ],
      "metadata": {
        "colab": {
          "base_uri": "https://localhost:8080/"
        },
        "id": "PFp4wixBXCbo",
        "outputId": "44053964-74a3-45af-d31c-2fe62d3bd6d1"
      },
      "execution_count": null,
      "outputs": [
        {
          "output_type": "execute_result",
          "data": {
            "text/plain": [
              "NodeItem(data=1, next=None)"
            ]
          },
          "metadata": {},
          "execution_count": 51
        }
      ]
    },
    {
      "cell_type": "markdown",
      "source": [
        "Сделаем функцию поиска значения по индексу"
      ],
      "metadata": {
        "id": "xBDvsCS2YJ_m"
      }
    },
    {
      "cell_type": "code",
      "source": [
        "def find_by_list_index(idx: int):\n",
        "  elem = list_head\n",
        "  for i in range(idx):\n",
        "    elem = elem.next\n",
        "  return elem"
      ],
      "metadata": {
        "id": "HcWCtEJXYNAi"
      },
      "execution_count": null,
      "outputs": []
    },
    {
      "cell_type": "code",
      "source": [
        "find_by_list_index(0)"
      ],
      "metadata": {
        "colab": {
          "base_uri": "https://localhost:8080/"
        },
        "id": "4SXh-fwbYeIz",
        "outputId": "13f4bb45-22be-40d6-b20c-0f82ed49b7ba"
      },
      "execution_count": null,
      "outputs": [
        {
          "output_type": "execute_result",
          "data": {
            "text/plain": [
              "NodeItem(data=1, next=None)"
            ]
          },
          "metadata": {},
          "execution_count": 53
        }
      ]
    },
    {
      "cell_type": "markdown",
      "source": [
        "Сделаем функцию добавления элемента в начало"
      ],
      "metadata": {
        "id": "bD5_ZGNsXajc"
      }
    },
    {
      "cell_type": "code",
      "source": [
        "def add_data_to_list(data: int):\n",
        "  global list_head\n",
        "  node = NodeItem(data=data, next=list_head)\n",
        "  list_head = node"
      ],
      "metadata": {
        "id": "4vX-54jxXSn5"
      },
      "execution_count": null,
      "outputs": []
    },
    {
      "cell_type": "code",
      "source": [
        "add_data_to_list(2)\n",
        "\n",
        "list_head"
      ],
      "metadata": {
        "colab": {
          "base_uri": "https://localhost:8080/"
        },
        "id": "VLa7GWx3Xv_x",
        "outputId": "022b5280-366b-41d8-dba0-d42d7e2211dc"
      },
      "execution_count": null,
      "outputs": [
        {
          "output_type": "execute_result",
          "data": {
            "text/plain": [
              "NodeItem(data=2, next=NodeItem(data=1, next=None))"
            ]
          },
          "metadata": {},
          "execution_count": 55
        }
      ]
    },
    {
      "cell_type": "code",
      "source": [
        "find_by_list_index(0)"
      ],
      "metadata": {
        "colab": {
          "base_uri": "https://localhost:8080/"
        },
        "id": "jjBLnMdaYq3f",
        "outputId": "fc3669ec-551a-4139-9825-d80e513e972d"
      },
      "execution_count": null,
      "outputs": [
        {
          "output_type": "execute_result",
          "data": {
            "text/plain": [
              "NodeItem(data=2, next=NodeItem(data=1, next=None))"
            ]
          },
          "metadata": {},
          "execution_count": 56
        }
      ]
    },
    {
      "cell_type": "code",
      "source": [
        "find_by_list_index(1)"
      ],
      "metadata": {
        "colab": {
          "base_uri": "https://localhost:8080/"
        },
        "id": "Rgo2KsUoYIe3",
        "outputId": "e7658ca7-b340-4c96-fbf3-30be6d90e797"
      },
      "execution_count": null,
      "outputs": [
        {
          "output_type": "execute_result",
          "data": {
            "text/plain": [
              "NodeItem(data=1, next=None)"
            ]
          },
          "metadata": {},
          "execution_count": 57
        }
      ]
    },
    {
      "cell_type": "code",
      "source": [
        "add_data_to_list(3)\n",
        "\n",
        "list_head"
      ],
      "metadata": {
        "colab": {
          "base_uri": "https://localhost:8080/"
        },
        "id": "hAeGTNr_adVb",
        "outputId": "ceee73e6-e523-4505-81bd-78ca8c50c699"
      },
      "execution_count": null,
      "outputs": [
        {
          "output_type": "execute_result",
          "data": {
            "text/plain": [
              "NodeItem(data=3, next=NodeItem(data=2, next=NodeItem(data=1, next=None)))"
            ]
          },
          "metadata": {},
          "execution_count": 58
        }
      ]
    },
    {
      "cell_type": "markdown",
      "source": [
        "#### Чекпоинт 2"
      ],
      "metadata": {
        "id": "LC9Hu8HzUHUh"
      }
    },
    {
      "cell_type": "markdown",
      "source": [
        "Реализуйте функцию, возвращающую длину списка"
      ],
      "metadata": {
        "id": "_VyN53A9egCu"
      }
    },
    {
      "cell_type": "code",
      "source": [
        "def custom_len():\n"
      ],
      "metadata": {
        "id": "0O3swxwzY7Qj"
      },
      "execution_count": null,
      "outputs": []
    },
    {
      "cell_type": "code",
      "source": [
        "custom_len()"
      ],
      "metadata": {
        "id": "zcMS3FDSZXSM"
      },
      "execution_count": null,
      "outputs": []
    },
    {
      "cell_type": "markdown",
      "source": [
        "Реализуйте функцию добавления в середину (после idx)\n",
        "\n",
        "P.S. пользоваться тем что сделали раньше - хорошо"
      ],
      "metadata": {
        "id": "ECC5BjjcZden"
      }
    },
    {
      "cell_type": "code",
      "source": [
        "def insert(idx: int, data: int):\n"
      ],
      "metadata": {
        "id": "39Ju9Yd2ZYtP"
      },
      "execution_count": null,
      "outputs": []
    },
    {
      "cell_type": "code",
      "source": [
        "insert(1, 15)\n",
        "\n",
        "list_head"
      ],
      "metadata": {
        "colab": {
          "base_uri": "https://localhost:8080/"
        },
        "id": "HsPDr4ctaNr0",
        "outputId": "cffd415a-5783-46ba-b861-67a15b909581"
      },
      "execution_count": null,
      "outputs": [
        {
          "output_type": "execute_result",
          "data": {
            "text/plain": [
              "NodeItem(data=3, next=NodeItem(data=2, next=NodeItem(data=15, next=NodeItem(data=1, next=None))))"
            ]
          },
          "metadata": {},
          "execution_count": 224
        }
      ]
    },
    {
      "cell_type": "markdown",
      "source": [
        "Реализуйте функцию удаления"
      ],
      "metadata": {
        "id": "xk59klikcKjG"
      }
    },
    {
      "cell_type": "code",
      "source": [
        "def delete(idx: int):\n",
        "  pass"
      ],
      "metadata": {
        "id": "g8q3R7IebwSa"
      },
      "execution_count": null,
      "outputs": []
    },
    {
      "cell_type": "code",
      "source": [
        "delete(1)\n",
        "\n",
        "list_head"
      ],
      "metadata": {
        "colab": {
          "base_uri": "https://localhost:8080/"
        },
        "id": "f01CSbeycZwE",
        "outputId": "36328f2b-80c1-4d02-8405-0a648cf6ce0f"
      },
      "execution_count": null,
      "outputs": [
        {
          "output_type": "execute_result",
          "data": {
            "text/plain": [
              "NodeItem(data=3, next=NodeItem(data=15, next=NodeItem(data=1, next=None)))"
            ]
          },
          "metadata": {},
          "execution_count": 226
        }
      ]
    },
    {
      "cell_type": "markdown",
      "source": [
        "#### Чекпоинт 3"
      ],
      "metadata": {
        "id": "6Nw8u8SXUraO"
      }
    },
    {
      "cell_type": "markdown",
      "source": [
        "Соберем все в один класс"
      ],
      "metadata": {
        "id": "Xxzrv1dIcp3g"
      }
    },
    {
      "cell_type": "code",
      "source": [
        "class CustomList:\n",
        "  def __init__(self):\n",
        "    self.head: NodeItem | None = None\n",
        "\n",
        "  def __len__(self):\n",
        "    \"\"\"\n",
        "    TODO: Перенести код\n",
        "    \"\"\"\n",
        "    pass\n",
        "\n",
        "  def __getitem__(self, idx: int):\n",
        "    \"\"\"\n",
        "    TODO: Перенести код\n",
        "    \"\"\"\n",
        "    pass\n",
        "\n",
        "  def insert(self, idx: int, data: int):\n",
        "    \"\"\"\n",
        "    TODO: Перенести код\n",
        "    \"\"\"\n",
        "\n",
        "    return self\n",
        "\n",
        "  def push(self, data: int):\n",
        "    \"\"\"\n",
        "    TODO: Сделать новый метод добавления в конец\n",
        "    \"\"\"\n",
        "\n",
        "    return self\n",
        "\n",
        "  def delete(self, idx: int):\n",
        "    \"\"\"\n",
        "    TODO: Перенести код\n",
        "    \"\"\"\n",
        "\n",
        "    return self\n",
        "\n",
        "  def __repr__(self):\n",
        "    if self.head is not None:\n",
        "      return self.head.__repr__()\n",
        "    return \"()\""
      ],
      "metadata": {
        "id": "0jN3juRycdG2"
      },
      "execution_count": null,
      "outputs": []
    },
    {
      "cell_type": "code",
      "source": [
        "my_list = CustomList()\n",
        "\n",
        "my_list"
      ],
      "metadata": {
        "colab": {
          "base_uri": "https://localhost:8080/"
        },
        "id": "FcnuMSKKgYu_",
        "outputId": "79a635cd-6d3f-4d41-f263-59e602fb31a4"
      },
      "execution_count": null,
      "outputs": [
        {
          "output_type": "execute_result",
          "data": {
            "text/plain": [
              "()"
            ]
          },
          "metadata": {},
          "execution_count": 310
        }
      ]
    },
    {
      "cell_type": "code",
      "source": [
        "len(my_list)"
      ],
      "metadata": {
        "colab": {
          "base_uri": "https://localhost:8080/"
        },
        "id": "wwhR8Tj_guLG",
        "outputId": "6c2a9123-fc5c-4344-cc5c-5e0735a6bc87"
      },
      "execution_count": null,
      "outputs": [
        {
          "output_type": "execute_result",
          "data": {
            "text/plain": [
              "0"
            ]
          },
          "metadata": {},
          "execution_count": 311
        }
      ]
    },
    {
      "cell_type": "code",
      "source": [
        "my_list.push(1)"
      ],
      "metadata": {
        "colab": {
          "base_uri": "https://localhost:8080/"
        },
        "id": "Dtyvt-u9g362",
        "outputId": "497e7d8f-c016-483f-9c9f-fb9472ff8a06"
      },
      "execution_count": null,
      "outputs": [
        {
          "output_type": "execute_result",
          "data": {
            "text/plain": [
              "NodeItem(data=1, next=None)"
            ]
          },
          "metadata": {},
          "execution_count": 312
        }
      ]
    },
    {
      "cell_type": "code",
      "source": [
        "len(my_list)"
      ],
      "metadata": {
        "colab": {
          "base_uri": "https://localhost:8080/"
        },
        "id": "kqXNruQ_hyuw",
        "outputId": "85e27a43-3f3b-4911-ce7d-08c777d2b018"
      },
      "execution_count": null,
      "outputs": [
        {
          "output_type": "execute_result",
          "data": {
            "text/plain": [
              "1"
            ]
          },
          "metadata": {},
          "execution_count": 313
        }
      ]
    },
    {
      "cell_type": "code",
      "source": [
        "my_list[0]"
      ],
      "metadata": {
        "colab": {
          "base_uri": "https://localhost:8080/"
        },
        "id": "7uHL45U_hz2R",
        "outputId": "628670ed-44f0-443a-9014-a6c6a5a35e44"
      },
      "execution_count": null,
      "outputs": [
        {
          "output_type": "execute_result",
          "data": {
            "text/plain": [
              "NodeItem(data=1, next=None)"
            ]
          },
          "metadata": {},
          "execution_count": 314
        }
      ]
    },
    {
      "cell_type": "code",
      "source": [
        "res = my_list[-1]\n",
        "\n",
        "print(res)"
      ],
      "metadata": {
        "colab": {
          "base_uri": "https://localhost:8080/"
        },
        "id": "om9vzm7biYtV",
        "outputId": "05ae11f4-1e9b-49b2-f5e1-0edba3b92436"
      },
      "execution_count": null,
      "outputs": [
        {
          "output_type": "stream",
          "name": "stdout",
          "text": [
            "None\n"
          ]
        }
      ]
    },
    {
      "cell_type": "code",
      "source": [
        "res = my_list[1]\n",
        "\n",
        "print(res)"
      ],
      "metadata": {
        "colab": {
          "base_uri": "https://localhost:8080/"
        },
        "id": "Rb4tqy65ieIr",
        "outputId": "02f238b8-d9b1-40b4-b845-b16d20057712"
      },
      "execution_count": null,
      "outputs": [
        {
          "output_type": "stream",
          "name": "stdout",
          "text": [
            "None\n"
          ]
        }
      ]
    },
    {
      "cell_type": "code",
      "source": [
        "my_list.push(5)"
      ],
      "metadata": {
        "colab": {
          "base_uri": "https://localhost:8080/"
        },
        "id": "ajljHfLhiyQB",
        "outputId": "c66c5173-820b-4e28-cc4c-ebe4f16cf210"
      },
      "execution_count": null,
      "outputs": [
        {
          "output_type": "execute_result",
          "data": {
            "text/plain": [
              "NodeItem(data=1, next=NodeItem(data=5, next=None))"
            ]
          },
          "metadata": {},
          "execution_count": 317
        }
      ]
    },
    {
      "cell_type": "code",
      "source": [
        "my_list"
      ],
      "metadata": {
        "colab": {
          "base_uri": "https://localhost:8080/"
        },
        "id": "ycVfzOGDi1_f",
        "outputId": "a2cddfeb-8152-4a69-a514-a4b70ea32da6"
      },
      "execution_count": null,
      "outputs": [
        {
          "output_type": "execute_result",
          "data": {
            "text/plain": [
              "NodeItem(data=1, next=NodeItem(data=5, next=None))"
            ]
          },
          "metadata": {},
          "execution_count": 318
        }
      ]
    },
    {
      "cell_type": "code",
      "source": [
        "my_list.insert(1, 3)"
      ],
      "metadata": {
        "colab": {
          "base_uri": "https://localhost:8080/"
        },
        "id": "LANgprrPjZV-",
        "outputId": "8046ae99-3c46-4c92-be0a-ac4d30eef413"
      },
      "execution_count": null,
      "outputs": [
        {
          "output_type": "execute_result",
          "data": {
            "text/plain": [
              "NodeItem(data=1, next=NodeItem(data=5, next=NodeItem(data=3, next=None)))"
            ]
          },
          "metadata": {},
          "execution_count": 319
        }
      ]
    },
    {
      "cell_type": "code",
      "source": [
        "my_list.delete(1)"
      ],
      "metadata": {
        "colab": {
          "base_uri": "https://localhost:8080/"
        },
        "id": "CQxxOB5bjd8B",
        "outputId": "651045de-e7dc-4dff-fe68-ce4abedaa88c"
      },
      "execution_count": null,
      "outputs": [
        {
          "output_type": "execute_result",
          "data": {
            "text/plain": [
              "NodeItem(data=1, next=NodeItem(data=3, next=None))"
            ]
          },
          "metadata": {},
          "execution_count": 320
        }
      ]
    },
    {
      "cell_type": "markdown",
      "source": [],
      "metadata": {
        "id": "GV9lPtgEfEVC"
      }
    }
  ]
}