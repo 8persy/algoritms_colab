{
  "nbformat": 4,
  "nbformat_minor": 0,
  "metadata": {
    "colab": {
      "provenance": [],
      "toc_visible": true,
      "include_colab_link": true
    },
    "kernelspec": {
      "name": "python3",
      "display_name": "Python 3"
    },
    "language_info": {
      "name": "python"
    }
  },
  "cells": [
    {
      "cell_type": "markdown",
      "metadata": {
        "id": "view-in-github",
        "colab_type": "text"
      },
      "source": [
        "<a href=\"https://colab.research.google.com/github/8persy/algoritms_colab/blob/main/%22%D0%9F%D0%BE%D0%B8%D1%81%D0%BA_%D0%BA%D1%80%D0%B0%D1%82%D1%87%D0%B0%D0%B9%D1%88%D0%B5%D0%B3%D0%BE_%D0%BF%D1%83%D1%82%D0%B8_11_311%22.ipynb\" target=\"_parent\"><img src=\"https://colab.research.google.com/assets/colab-badge.svg\" alt=\"Open In Colab\"/></a>"
      ]
    },
    {
      "cell_type": "markdown",
      "source": [
        "# Поиск кратчайшего пути в графе"
      ],
      "metadata": {
        "id": "zrudF6-P316r"
      }
    },
    {
      "cell_type": "markdown",
      "source": [
        "**Поиск кратчайшего пути в графе** - это нахождение самого короткого пути между двумя вершинами в графе"
      ],
      "metadata": {
        "id": "PkHHEsn34b3Q"
      }
    },
    {
      "cell_type": "markdown",
      "source": [
        "## Переборный алгоритм"
      ],
      "metadata": {
        "id": "XHupgLx34nqt"
      }
    },
    {
      "cell_type": "markdown",
      "source": [
        "Сложность - O(n!)"
      ],
      "metadata": {
        "id": "3-L1TROl-i23"
      }
    },
    {
      "cell_type": "markdown",
      "source": [
        "1. Перебираем все возможные перестановки вершин графа для нахождения путей от начальной вершины до конечной.\n",
        "\n",
        "2. Для каждой перестановки вычисляем общее расстояние, проходя по ребрам между вершинами. Если путь до текущей вершины не существует, то расстояние устанавливаем как бесконечность.\n",
        "\n",
        "3. Для каждой перестановки, которая начинается с начальной вершины и заканчивается на конечной, вычисляем общее расстояние пути.\n",
        "\n",
        "4. В конце выбираем путь с наименьшим общим расстоянием, который и будет являться кратчайшим путем от начальной вершины до конечной."
      ],
      "metadata": {
        "id": "BEnD8_325DBp"
      }
    },
    {
      "cell_type": "markdown",
      "source": [
        "### Чекпоинт №1"
      ],
      "metadata": {
        "id": "Xd0eTyKF5bto"
      }
    },
    {
      "cell_type": "code",
      "execution_count": 47,
      "metadata": {
        "id": "4RjhdDqf3wHa"
      },
      "outputs": [],
      "source": [
        "from itertools import permutations\n",
        "\n",
        "def find_shortest_path(graph, start, end):\n",
        "    path = 'A'*1000\n",
        "    distance = 1000000\n",
        "    for perm in permutations(graph):\n",
        "      curr_path = perm[0]\n",
        "      curr_distance = 0\n",
        "      for i in range(len(perm)):\n",
        "        if perm[i] == end:\n",
        "          break\n",
        "        if perm[i+1] in graph[perm[i]]:\n",
        "          curr_path = curr_path + perm[i+1]\n",
        "          curr_distance += graph[perm[i]][perm[i+1]]\n",
        "        else:\n",
        "          curr_distance += 1000000000\n",
        "\n",
        "      if (curr_distance < distance or (curr_distance == distance and len(curr_path) < len(path))) and start in curr_path and end in curr_path:\n",
        "        distance = curr_distance\n",
        "        path = curr_path\n",
        "    return path, distance\n",
        ""
      ]
    },
    {
      "cell_type": "code",
      "source": [
        "graph = {\n",
        "    'A': {'B': 2, 'C': 5},\n",
        "    'B': {'C': 1, 'D': 3},\n",
        "    'C': {'D': 2},\n",
        "    'D': {}\n",
        "}"
      ],
      "metadata": {
        "id": "K7-yWxzF6Vcq"
      },
      "execution_count": 49,
      "outputs": []
    },
    {
      "cell_type": "code",
      "source": [
        "start_node = 'A'\n",
        "end_node = 'D'"
      ],
      "metadata": {
        "id": "flOUX1qC6dnk"
      },
      "execution_count": 50,
      "outputs": []
    },
    {
      "cell_type": "code",
      "source": [
        "shortest_path, distance = find_shortest_path(graph, start_node, end_node)\n",
        "\n",
        "print(f'Кратчайший путь от вершины {start_node} к вершине {end_node}: {shortest_path}')\n",
        "print(f'Длина кратчайшего пути: {distance}')"
      ],
      "metadata": {
        "id": "R0O2Sp-XM7CJ",
        "colab": {
          "base_uri": "https://localhost:8080/"
        },
        "outputId": "d891c0e8-f06b-4626-faa8-296825e46dab"
      },
      "execution_count": 51,
      "outputs": [
        {
          "output_type": "stream",
          "name": "stdout",
          "text": [
            "Кратчайший путь от вершины A к вершине D: ABD\n",
            "Длина кратчайшего пути: 5\n"
          ]
        }
      ]
    },
    {
      "cell_type": "markdown",
      "source": [
        "## Алгоритм Дейкстры"
      ],
      "metadata": {
        "id": "e8zeOf_t6VGw"
      }
    },
    {
      "cell_type": "markdown",
      "source": [
        "Сложность - O((V + E) * log(V))"
      ],
      "metadata": {
        "id": "RXD3WqUSMxNg"
      }
    },
    {
      "cell_type": "markdown",
      "source": [
        "Алгоритм Дейкстры основывается на принципе жадного подхода, который заключается в выборе на каждом шаге наилучшего текущего решения без учета возможных последствий этого выбора."
      ],
      "metadata": {
        "id": "HDvDjgsN8Yw5"
      }
    },
    {
      "cell_type": "markdown",
      "source": [
        "! Алгоритм Дейкстры требует, чтобы все веса ребер графа были неотрицательными"
      ],
      "metadata": {
        "id": "7aM6ZKIH7zyB"
      }
    },
    {
      "cell_type": "markdown",
      "source": [
        "1. Начинаем с выбора стартовой вершины и установки расстояния от нее до нее самой равным нулю, а до всех остальных - бесконечности.\n",
        "2. Затем выбираем вершину с минимальным известным расстоянием и рассматриваем все ребра, исходящие из нее.\n",
        "3. Если общее расстояние от стартовой вершины до текущей вершины меньше, чем известное до этого, то это значение обновляется.\n",
        "4. Этот процесс повторяется для всех вершин, пока все вершины не будут посещены."
      ],
      "metadata": {
        "id": "R_8Xr4Ia8ALx"
      }
    },
    {
      "cell_type": "markdown",
      "source": [
        "### Чекпоинт №2"
      ],
      "metadata": {
        "id": "5SGTeewW8mIm"
      }
    },
    {
      "cell_type": "code",
      "source": [
        "def dijkstra(graph, start):\n",
        "    res = {start:0}\n",
        "    for i in graph:\n",
        "      if i != start:\n",
        "        res[i] = 1000\n",
        "    visited = set()\n",
        "\n",
        "    while len(visited) < len(graph):\n",
        "      unvisited_vertices = [vertex for vertex in graph if vertex not in visited]\n",
        "      curr_ver = min(unvisited_vertices, key = lambda x : res[x])\n",
        "\n",
        "      visited.add(curr_ver)\n",
        "\n",
        "      for ver, weight in graph[curr_ver].items():\n",
        "        if res[curr_ver] + weight < res[ver]:\n",
        "          res[ver] = res[curr_ver] + weight\n",
        "\n",
        "    return res"
      ],
      "metadata": {
        "id": "Ipae0W0h9MGP"
      },
      "execution_count": 53,
      "outputs": []
    },
    {
      "cell_type": "code",
      "source": [
        "graph = {\n",
        "    'A': {'B': 2, 'C': 4},\n",
        "    'B': {'A': 2, 'C': 1, 'D': 7},\n",
        "    'C': {'A': 4, 'B': 1, 'D': 3},\n",
        "    'D': {'B': 7, 'C': 3}\n",
        "}"
      ],
      "metadata": {
        "id": "IF-Vtvdl8s6t"
      },
      "execution_count": 54,
      "outputs": []
    },
    {
      "cell_type": "code",
      "source": [
        "start_vertex = 'A'"
      ],
      "metadata": {
        "id": "E4oeeYsc89U7"
      },
      "execution_count": 55,
      "outputs": []
    },
    {
      "cell_type": "code",
      "source": [
        "shortest_distances = dijkstra(graph, start_vertex)\n",
        "\n",
        "print(f\"Кратчайшие расстояния от вершины {start_vertex}:\")\n",
        "for vertex, distance in shortest_distances.items():\n",
        "    print(f\"До вершины {vertex}: {distance}\")"
      ],
      "metadata": {
        "id": "SyACNkFK9EL_",
        "colab": {
          "base_uri": "https://localhost:8080/"
        },
        "outputId": "f332c653-17f6-4c92-adcc-041e03660da6"
      },
      "execution_count": 56,
      "outputs": [
        {
          "output_type": "stream",
          "name": "stdout",
          "text": [
            "Кратчайшие расстояния от вершины A:\n",
            "До вершины A: 0\n",
            "До вершины B: 2\n",
            "До вершины C: 3\n",
            "До вершины D: 6\n"
          ]
        }
      ]
    },
    {
      "cell_type": "markdown",
      "source": [
        "## Алгоритм Флойда-Уоршелла"
      ],
      "metadata": {
        "id": "1_VLjnuJ-RRn"
      }
    },
    {
      "cell_type": "markdown",
      "source": [
        "Этот алгоритм основан на динамическом программировании и имеет сложность O(n^3), где n - количество вершин в графе."
      ],
      "metadata": {
        "id": "ywmnh2qR-f-N"
      }
    },
    {
      "cell_type": "markdown",
      "source": [
        "1. Инициализируем матрицу расстояний, где в ячейке (i, j) содержится вес ребра между вершинами i и j, либо бесконечность, если ребра нет.\n",
        "2. Последовательно проходим по всем вершинам и для каждой вершины параллельно находим кратчайшие пути между всеми парами вершин с учетом этой вершины.\n",
        "3. Обновляем матрицу расстояний, добавляя промежуточные вершины на путях, если они уменьшают суммарный вес пути.\n",
        "4. После завершения алгоритма матрица расстояний содержит длины кратчайших путей между всеми парами вершин."
      ],
      "metadata": {
        "id": "nXF-eJ1wqw5J"
      }
    },
    {
      "cell_type": "markdown",
      "source": [
        "### Чекпоинт №3"
      ],
      "metadata": {
        "id": "cpczro9irSc4"
      }
    },
    {
      "cell_type": "code",
      "source": [
        "def floyd_warshall(graph):\n",
        "    vertices = list(graph.keys())\n",
        "    n = len(vertices)\n",
        "    res = [[10000] * n for _ in range(n)]\n",
        "\n",
        "    for i in range(n):\n",
        "        res[i][i] = 0\n",
        "        ver = vertices[i]\n",
        "        for neighbor, weight in graph[ver].items():\n",
        "            j = vertices.index(neighbor)\n",
        "            res[i][j] = weight\n",
        "\n",
        "    for k in range(n):\n",
        "        for i in range(n):\n",
        "            for j in range(n):\n",
        "                res[i][j] = min(res[i][j], res[i][k] + res[k][j])\n",
        "\n",
        "    return res"
      ],
      "metadata": {
        "id": "SfLahX8irnzt"
      },
      "execution_count": 67,
      "outputs": []
    },
    {
      "cell_type": "code",
      "source": [
        "graph = {\n",
        "    'A': {'B': 2, 'C': 4},\n",
        "    'B': {'A': 2, 'C': 1, 'D': 7},\n",
        "    'C': {'A': 4, 'B': 1, 'D': 3},\n",
        "    'D': {'B': 7, 'C': 3}\n",
        "}"
      ],
      "metadata": {
        "id": "OgKQS453rdbG"
      },
      "execution_count": 68,
      "outputs": []
    },
    {
      "cell_type": "code",
      "source": [
        "result = floyd_warshall(graph)\n",
        "for row in result:\n",
        "    print(row)"
      ],
      "metadata": {
        "colab": {
          "base_uri": "https://localhost:8080/"
        },
        "id": "SZheymYyre-W",
        "outputId": "318238ab-f0b5-41a1-acf7-c8cc444023bd"
      },
      "execution_count": 69,
      "outputs": [
        {
          "output_type": "stream",
          "name": "stdout",
          "text": [
            "[0, 2, 3, 6]\n",
            "[2, 0, 1, 4]\n",
            "[3, 1, 0, 3]\n",
            "[6, 4, 3, 0]\n"
          ]
        }
      ]
    }
  ]
}