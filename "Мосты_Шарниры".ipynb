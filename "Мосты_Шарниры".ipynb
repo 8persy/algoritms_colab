{
  "nbformat": 4,
  "nbformat_minor": 0,
  "metadata": {
    "colab": {
      "provenance": [],
      "include_colab_link": true
    },
    "kernelspec": {
      "name": "python3",
      "display_name": "Python 3"
    },
    "language_info": {
      "name": "python"
    }
  },
  "cells": [
    {
      "cell_type": "markdown",
      "metadata": {
        "id": "view-in-github",
        "colab_type": "text"
      },
      "source": [
        "<a href=\"https://colab.research.google.com/github/8persy/algoritms_colab/blob/main/%22%D0%9C%D0%BE%D1%81%D1%82%D1%8B_%D0%A8%D0%B0%D1%80%D0%BD%D0%B8%D1%80%D1%8B%22.ipynb\" target=\"_parent\"><img src=\"https://colab.research.google.com/assets/colab-badge.svg\" alt=\"Open In Colab\"/></a>"
      ]
    },
    {
      "cell_type": "markdown",
      "source": [
        "# Мосты и Шарниры"
      ],
      "metadata": {
        "id": "G1iqDIqrrAyc"
      }
    },
    {
      "cell_type": "code",
      "source": [],
      "metadata": {
        "id": "rNQLZV6MCxL-"
      },
      "execution_count": null,
      "outputs": []
    },
    {
      "cell_type": "markdown",
      "source": [],
      "metadata": {
        "id": "28LHPnteCyAV"
      }
    },
    {
      "cell_type": "markdown",
      "source": [
        "**Мосты (или рёбра)** - это такие рёбра, что удаление их из графа увеличивает число компонент связности."
      ],
      "metadata": {
        "id": "rbocB0VArVe6"
      }
    },
    {
      "cell_type": "markdown",
      "source": [
        "**Шарниры (или артикуляции)** - это вершины, удаление которых приводит к увеличению числа компонент связности графа."
      ],
      "metadata": {
        "id": "3y3KZvEYrH8S"
      }
    },
    {
      "cell_type": "markdown",
      "source": [
        "## Поиск мостов и шарниров в графе"
      ],
      "metadata": {
        "id": "i0667_p-t68A"
      }
    },
    {
      "cell_type": "markdown",
      "source": [
        "**Алгоритм нахождения мостов:**\n",
        "\n",
        "1. Начинаем обход графа из некоторой стартовой вершины. Идем по ребрам графа, отмечая каждую посещенную вершину и заводя массивы, где будем хранить время захода в каждую вершину (time of discovery) и самое раннее время возврата из дочерней вершины к вершине-родителю (low time).\n",
        "\n",
        "2. При посещении каждой вершины проверяем все рёбра, ведущие из неё. Если вершина v имеет дочернюю вершину u, такую что low[u] > time of discovery[v], то ребро (v, u) является мостом.\n",
        "\n",
        "3. Понимание того, что время возврата из дочерней вершины больше времени захода в вершину, говорит нам о том, что через это ребро нельзя вернуться к предкам текущей вершины, что делает это ребро важным для связности графа.\n",
        "\n",
        "4. Таким образом, если временное отметка возврата из дочерней вершины больше временной отметки входа в текущую вершину, это свидетельствует о наличии моста в графе."
      ],
      "metadata": {
        "id": "JqFlIEpxuA-0"
      }
    },
    {
      "cell_type": "markdown",
      "source": [
        "**Алгоритм нахождения шарниров:**\n",
        "\n",
        "1. Начинаем обход графа из заданной стартовой вершины, переходя по рёбрам к другим вершинам. При этом отмечаем каждую вершину, в которую заходим, и вводим временные метки обхода.\n",
        "\n",
        "2. Для каждой вершины в обходе сохраняем время захода в нее и наименьшее время, когда можно вернуться назад из дочерних вершин к предкам (глубинный обход).\n",
        "\n",
        "3. Если текущая вершина - корень дерева поиска в глубину и у нее более двух детей, то эта вершина является шарниром (точкой сочленения), так как удаление её делает граф несвязным.\n",
        "\n",
        "4. Также вершина считается шарниром, если у нее есть дочерняя вершина, из которой нельзя вернуться обратно к вершине-предку раньше, чем из текущей вершины. Это свидетельствует о важности данной вершины для связности графа."
      ],
      "metadata": {
        "id": "4ovtGLc8u60G"
      }
    },
    {
      "cell_type": "code",
      "source": [
        "def dfs(u, parent, graph, visited, discovery, low, bridges, articulation_points, time, child_count):\n",
        "    visited[u] = True\n",
        "    discovery[u] = time\n",
        "    low[u] = time\n",
        "    time += 1\n",
        "\n",
        "    for v in graph[u]:\n",
        "        if not visited[v]:\n",
        "            child_count[0] += 1\n",
        "            dfs(v, u, graph, visited, discovery, low, bridges, articulation_points, time, child_count)\n",
        "            low[u] = min(low[u], low[v])\n",
        "\n",
        "            if low[v] > discovery[u]:\n",
        "                bridges.append((u, v))\n",
        "\n",
        "            if parent == -1 and child_count[0] > 1:\n",
        "                articulation_points.add(u)\n",
        "            elif parent != -1 and low[v] >= discovery[u]:\n",
        "                articulation_points.add(u)\n",
        "        elif v != parent:\n",
        "            low[u] = min(low[u], discovery[v])\n",
        "\n",
        "def find_bridges_and_articulation_points(graph):\n",
        "    visited = {node: False for node in graph}\n",
        "    discovery = {node: -1 for node in graph}\n",
        "    low = {node: -1 for node in graph}\n",
        "    bridges = []\n",
        "    articulation_points = set()\n",
        "    time = 0\n",
        "\n",
        "    for u in graph:\n",
        "        if not visited[u]:\n",
        "            child_count = [0]\n",
        "            dfs(u, -1, graph, visited, discovery, low, bridges, articulation_points, time, child_count)\n",
        "\n",
        "    return bridges, articulation_points"
      ],
      "metadata": {
        "id": "g3Ih15Wetb7e"
      },
      "execution_count": 13,
      "outputs": []
    },
    {
      "cell_type": "code",
      "source": [
        "graph = {\n",
        "    0: [1, 2],\n",
        "    1: [0, 2],\n",
        "    2: [0, 1, 3],\n",
        "    3: [2, 4],\n",
        "    4: [3]\n",
        "}"
      ],
      "metadata": {
        "id": "eGbRX-cPtXQL"
      },
      "execution_count": 11,
      "outputs": []
    },
    {
      "cell_type": "code",
      "execution_count": 14,
      "metadata": {
        "id": "8-CCsniSqjMy",
        "colab": {
          "base_uri": "https://localhost:8080/"
        },
        "outputId": "ffc42262-b69c-421f-9b68-7071c643e049"
      },
      "outputs": [
        {
          "output_type": "stream",
          "name": "stdout",
          "text": [
            "Мосты в графе:\n",
            "3 --- 4\n",
            "2 --- 3\n",
            "Шарниры в графе:\n",
            "0\n",
            "2\n",
            "3\n"
          ]
        }
      ],
      "source": [
        "bridges, articulation_points = find_bridges_and_articulation_points(graph)\n",
        "\n",
        "print(\"Мосты в графе:\")\n",
        "\n",
        "for u, v in bridges:\n",
        "    print(f\"{u} --- {v}\")\n",
        "\n",
        "print(\"Шарниры в графе:\")\n",
        "\n",
        "for point in articulation_points:\n",
        "    print(point)"
      ]
    }
  ]
}