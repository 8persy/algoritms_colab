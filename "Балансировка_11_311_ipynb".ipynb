{
  "nbformat": 4,
  "nbformat_minor": 0,
  "metadata": {
    "colab": {
      "provenance": [],
      "toc_visible": true,
      "include_colab_link": true
    },
    "kernelspec": {
      "name": "python3",
      "display_name": "Python 3"
    },
    "language_info": {
      "name": "python"
    }
  },
  "cells": [
    {
      "cell_type": "markdown",
      "metadata": {
        "id": "view-in-github",
        "colab_type": "text"
      },
      "source": [
        "<a href=\"https://colab.research.google.com/github/8persy/algoritms_colab/blob/main/%22%D0%91%D0%B0%D0%BB%D0%B0%D0%BD%D1%81%D0%B8%D1%80%D0%BE%D0%B2%D0%BA%D0%B0_11_311_ipynb%22.ipynb\" target=\"_parent\"><img src=\"https://colab.research.google.com/assets/colab-badge.svg\" alt=\"Open In Colab\"/></a>"
      ]
    },
    {
      "cell_type": "markdown",
      "source": [
        "# **Балансировка деревьев**"
      ],
      "metadata": {
        "id": "ihTsQxw7pD9K"
      }
    },
    {
      "cell_type": "markdown",
      "source": [
        "**Сбалансированное бинарное дерево**\n",
        "\n",
        "Сложность поиска - $O(logN)$"
      ],
      "metadata": {
        "id": "ZHFWcxiUtunk"
      }
    },
    {
      "cell_type": "markdown",
      "source": [
        "<img src=\"https://blog.skillfactory.ru/wp-content/uploads/2023/02/avl-1-8621948.png\" width=\"500\"/>"
      ],
      "metadata": {
        "id": "3FX3lk5Ot38E"
      }
    },
    {
      "cell_type": "markdown",
      "source": [
        "**Несбалансированное бинарное дерево**\n",
        "\n",
        "Сложность поиска - $O(N)$"
      ],
      "metadata": {
        "id": "MzMa-ZDixSGy"
      }
    },
    {
      "cell_type": "markdown",
      "source": [
        "<img src=\"https://habrastorage.org/files/5b4/657/b80/5b4657b80fbc4794a582bdb25a4873b9.png\" width=\"500\"/>"
      ],
      "metadata": {
        "id": "qxHNOiIvxiq8"
      }
    },
    {
      "cell_type": "markdown",
      "source": [
        "## **Балансировка**"
      ],
      "metadata": {
        "id": "ks2GSoXUyQSy"
      }
    },
    {
      "cell_type": "markdown",
      "source": [
        "В случаях, когда дерево является несбалансированным, применяются алгоритмы балансировки, которые позволяют преобразовать его в сбалансированное и искать элементы со сложностью $O(logN)$"
      ],
      "metadata": {
        "id": "lkOmKpe7ydOR"
      }
    },
    {
      "cell_type": "markdown",
      "source": [
        "### **AVL-дерево**"
      ],
      "metadata": {
        "id": "o_Orhbn62Izq"
      }
    },
    {
      "cell_type": "markdown",
      "source": [
        "**AVL-дерево** - это модифицированное бинарное дерево поиска, названное в честь создателей Адельсон-Вельского Георгия Максимовича и Ландиса Евгения Михайловича\n",
        "\n",
        "**Свойство:**\n",
        "Высоты потомков всякой вершины различаются не более чем на 1\n",
        "\n",
        "В случае, если после добавления или удаления элемента высоты стали различаться на 2, применяется перебалансировка\n",
        "\n",
        "**Перебалансировка** - это перестановка местами некоторых вершин дерева и изменение ссылок, позволяющее снова соблюдать структуру **AVL-дерева** (сложность $O(1)$)"
      ],
      "metadata": {
        "id": "rrB5yXfE2OT8"
      }
    },
    {
      "cell_type": "code",
      "source": [
        "class Node:\n",
        "    def __init__(self, key):\n",
        "        self.key = key\n",
        "        self.right = None\n",
        "        self.left = None\n",
        "        self.height = 1"
      ],
      "metadata": {
        "id": "xu8oUtzngW_K"
      },
      "execution_count": null,
      "outputs": []
    },
    {
      "cell_type": "markdown",
      "source": [
        "Рассмотрим случай когда балансировка не нужна"
      ],
      "metadata": {
        "id": "7cEq-3SBdbYv"
      }
    },
    {
      "cell_type": "markdown",
      "source": [
        "<img src=\"https://drive.google.com/uc?export=view&id=1OZ1xLltmMtlW5xZdkR2z5fNPG4XbDN8i\" height=\"600px\"/>"
      ],
      "metadata": {
        "id": "kTaodl7Fb7J4"
      }
    },
    {
      "cell_type": "markdown",
      "source": [
        "<img src=\"https://drive.google.com/uc?export=view&id=1pR-tkto8lA9VizUMtdBwmsXIWINBpJNe\" height=\"600px\"/>"
      ],
      "metadata": {
        "id": "Cvy2OawZc2pQ"
      }
    },
    {
      "cell_type": "markdown",
      "source": [
        "А что если бы X имел высоту h?"
      ],
      "metadata": {
        "id": "XiQsu66odgVq"
      }
    },
    {
      "cell_type": "markdown",
      "source": [
        "<img src=\"https://drive.google.com/uc?export=view&id=19dt1k1C7bZQoBjQGmk5D0di0LYGbPGSz\" height=\"600px\"/>"
      ],
      "metadata": {
        "id": "PdBPWmLxdj9S"
      }
    },
    {
      "cell_type": "markdown",
      "source": [
        "<img src=\"https://drive.google.com/uc?export=view&id=1iFYXUDePCw_YvI3eYb4RXd97AXHLFabW\" height=\"400px\"/>"
      ],
      "metadata": {
        "id": "BmQKHG2GeJ25"
      }
    },
    {
      "cell_type": "markdown",
      "source": [
        "#### **Виды перебалансировок**"
      ],
      "metadata": {
        "id": "iBUdWnNs31a8"
      }
    },
    {
      "cell_type": "markdown",
      "source": [
        "##### **Малое правое вращение (правый поворот)**"
      ],
      "metadata": {
        "id": "sm9tabtB48uC"
      }
    },
    {
      "cell_type": "markdown",
      "source": [
        "Условия:\n",
        "- $h(A) - h(Z)=2$\n",
        "- $h(Y) <= h(X)$"
      ],
      "metadata": {
        "id": "FbZi2-5L5FnX"
      }
    },
    {
      "cell_type": "markdown",
      "source": [
        "По сути - переставляем Y в B\n",
        "\n",
        "На вход получаем узел (B)\n",
        "\n",
        "- Получаем левое поддерево (А)\n",
        "- Получаем правое поддерево (Y) у левого поддерева\n",
        "- Переставляем Y как левое поддерево у исходного узла (B)\n",
        "- Переставляем B как правое поддерево A\n",
        "- Пересчитываем высоты у A и B\n",
        "\n",
        "Возвращаем верхний узел (A)"
      ],
      "metadata": {
        "id": "Y6HgJXlafvAW"
      }
    },
    {
      "cell_type": "code",
      "source": [
        "def get_height(node):\n",
        "    if node is None:\n",
        "       return 0\n",
        "    return node.height\n",
        "\n",
        "\n",
        "def right_rotate(B):\n",
        "    A = B.left\n",
        "    Y = A.right\n",
        "\n",
        "    B.left = Y\n",
        "    A.right = B\n",
        "\n",
        "    B.height = 1 + max(\n",
        "        get_height(B.left),\n",
        "        get_height(B.right)\n",
        "    )\n",
        "    A.height = 1 + max(\n",
        "        get_height(A.left),\n",
        "        get_height(A.right)\n",
        "    )\n",
        "\n",
        "    return A"
      ],
      "metadata": {
        "id": "kQmHOq9cffhu"
      },
      "execution_count": null,
      "outputs": []
    },
    {
      "cell_type": "markdown",
      "source": [
        "##### **Малое левое вращение (левый поворот)**"
      ],
      "metadata": {
        "id": "ASxGflsH252K"
      }
    },
    {
      "cell_type": "markdown",
      "source": [
        "Рассмотрим аналогичный случай, но теперь Y в правом поддереве\\\n",
        "Добавляем элемент в Z"
      ],
      "metadata": {
        "id": "Nxj8Wq8biAvY"
      }
    },
    {
      "cell_type": "markdown",
      "source": [
        "<img src=\"https://drive.google.com/uc?export=view&id=14Rb2BaeKsXOsZq-QHbLpcKd7J-i_bJ1G\" height=\"400px\"/>"
      ],
      "metadata": {
        "id": "ypQPUWCJirP7"
      }
    },
    {
      "cell_type": "markdown",
      "source": [
        "Исходные высоты:\\\n",
        "$h(X), h(Y), h(Z) = n$\\\n",
        "$h(B) = n + 1$\n",
        "\n",
        "Добавляем новый элемент в Z\\\n",
        "$h(Z) = n + 1$\\\n",
        "$h(B) = n + 2$\n",
        "\n",
        "Необходимо переставить A ниже, а вместе с ним и Y"
      ],
      "metadata": {
        "id": "-aPvTkIAi0uk"
      }
    },
    {
      "cell_type": "markdown",
      "source": [
        "<img src=\"https://drive.google.com/uc?export=view&id=1G5_H8CPRaYPNzvTS-eBhVPLeaS8om_A2\" height=\"400px\"/>"
      ],
      "metadata": {
        "id": "ejswqeosketK"
      }
    },
    {
      "cell_type": "markdown",
      "source": [
        "Тогда:\n",
        "- h(A) = n + 1\n",
        "- h(B) = n + 2"
      ],
      "metadata": {
        "id": "al9VrQvLkl50"
      }
    },
    {
      "cell_type": "markdown",
      "source": [
        "По сути - ситуация \"зеркальная\" правому смещению"
      ],
      "metadata": {
        "id": "75P1v5iWlh28"
      }
    },
    {
      "cell_type": "markdown",
      "source": [
        "Условия:\n",
        "- $h(X) - h(B)= 2$\n",
        "- $h(Y) <= h(Z)$"
      ],
      "metadata": {
        "id": "dJ_LLRcV4Jxi"
      }
    },
    {
      "cell_type": "markdown",
      "source": [
        "По сути - переставляем Y в A\n",
        "\n",
        "На вход получаем узел (A)\n",
        "\n",
        "- Получаем правое поддерево (B)\n",
        "- Получаем левое поддерево (Y) у правого поддерева\n",
        "- Переставляем Y как правое поддерево у исходного узла (A)\n",
        "- Переставляем A как левое поддерево B\n",
        "- Пересчитываем высоты у A и B\n",
        "\n",
        "Возвращаем верхний узел (B)"
      ],
      "metadata": {
        "id": "0rg4rjjHl6t1"
      }
    },
    {
      "cell_type": "markdown",
      "source": [
        "##### **Чекпоинт 1**"
      ],
      "metadata": {
        "id": "BDwNW5rpqHSc"
      }
    },
    {
      "cell_type": "code",
      "source": [
        "def left_rotate(A):\n",
        "    B = A.right\n",
        "    Y = B.left\n",
        "\n",
        "    B.left = A\n",
        "    A.right = Y\n",
        "\n",
        "    B.height = 1 + max(\n",
        "        get_height(B.left),\n",
        "        get_height(B.right)\n",
        "    )\n",
        "    A.height = 1 + max(\n",
        "        get_height(A.left),\n",
        "        get_height(A.right)\n",
        "    )\n",
        "    return B"
      ],
      "metadata": {
        "id": "J4CGNYEEKrE3"
      },
      "execution_count": null,
      "outputs": []
    },
    {
      "cell_type": "markdown",
      "source": [
        "##### **Большое правое вращение**"
      ],
      "metadata": {
        "id": "9R-hmY-M5ZcZ"
      }
    },
    {
      "cell_type": "markdown",
      "source": [
        "- А что будет если будем добавлять в другие места?\n",
        "- А что если будет перевешивать правое поддерево в левом поддереве?"
      ],
      "metadata": {
        "id": "384FTWNntTGN"
      }
    },
    {
      "cell_type": "markdown",
      "source": [
        "Рассмотрим случаи сложнее"
      ],
      "metadata": {
        "id": "CoOvyID4oIO6"
      }
    },
    {
      "cell_type": "markdown",
      "source": [
        "<img src=\"https://drive.google.com/uc?export=view&id=1tdOYnq8VA0Pi90Gkdsi5SwBfhLbmMLq1\" height=\"600px\"/>"
      ],
      "metadata": {
        "id": "dF4LqWASoLvq"
      }
    },
    {
      "cell_type": "markdown",
      "source": [
        "Добавляем элемент в X"
      ],
      "metadata": {
        "id": "fEfHWmbeoWRZ"
      }
    },
    {
      "cell_type": "markdown",
      "source": [
        "<img src=\"https://drive.google.com/uc?export=view&id=15ynnK-HhZoss0yBeR7EAnRwF1WNFHcpn\" height=\"600px\"/>"
      ],
      "metadata": {
        "id": "WG1zL4ORoZFV"
      }
    },
    {
      "cell_type": "markdown",
      "source": [
        "Нам нужно \"поднять\" Y в дереве, для этого сделаем преобразования в A и B\n",
        "\n",
        "Сделаем поворот влева для A и B\n"
      ],
      "metadata": {
        "id": "ME1x9H0dpgP-"
      }
    },
    {
      "cell_type": "markdown",
      "source": [
        "<img src=\"https://drive.google.com/uc?export=view&id=1SzIlbyMiBSA3-tZdYpA2OF5zEFRT6dY-\" height=\"400px\"/>"
      ],
      "metadata": {
        "id": "h8nT963iqpmr"
      }
    },
    {
      "cell_type": "markdown",
      "source": [
        "Пока не полегчало\\\n",
        "**НО** теперь этот случай можно рассмотреть как случай для малого правого вращения\n"
      ],
      "metadata": {
        "id": "9jcmHTMvrA50"
      }
    },
    {
      "cell_type": "markdown",
      "source": [
        "<img src=\"https://drive.google.com/uc?export=view&id=1mXxjdVIVoz_Zv5-08gNWl-7oP2qZRT9t\" height=\"400px\"/>"
      ],
      "metadata": {
        "id": "FIqhhMF6sTl8"
      }
    },
    {
      "cell_type": "markdown",
      "source": [
        "Условия:\n",
        "- $h(A) - h(Z) = 2$\n",
        "- $h(B) > h(Z)$"
      ],
      "metadata": {
        "id": "MJ-LENEhsmmL"
      }
    },
    {
      "cell_type": "markdown",
      "source": [
        "Получаем верхний узел (C)\n",
        "\n",
        "- Получить левое поддерево (A)\n",
        "- Получить правое поддерево (B) от левого поддерева\n",
        "- Сделать левый поворот для A и B\n",
        "- Сделать правый поворот для B и C\n",
        "\n",
        "Возвращаем верхний узел (B)"
      ],
      "metadata": {
        "id": "zR0SJIMvtm6i"
      }
    },
    {
      "cell_type": "markdown",
      "source": [
        "##### **Чекпоинт 2**"
      ],
      "metadata": {
        "id": "Em5wL-b1qViP"
      }
    },
    {
      "cell_type": "code",
      "source": [
        "def major_right_rotate(C):\n",
        "  A = C.left\n",
        "  B = A.right\n",
        "\n",
        "  left_rotate(A)\n",
        "  right_rotate(C)\n",
        "\n",
        "  return B"
      ],
      "metadata": {
        "id": "1CSLDqxCu84B"
      },
      "execution_count": null,
      "outputs": []
    },
    {
      "cell_type": "markdown",
      "source": [
        "##### **Большое левое вращение**"
      ],
      "metadata": {
        "id": "x-0ilxQg5eYJ"
      }
    },
    {
      "cell_type": "markdown",
      "source": [
        "Симметричное большому правому вращению\n",
        "\n",
        "Перевешивает левое поддерево правого поддерева"
      ],
      "metadata": {
        "id": "7qNsNBW_v3mu"
      }
    },
    {
      "cell_type": "markdown",
      "source": [
        "Условия:\n",
        "- $h(b)-h(L)=2$\n",
        "- $h(c) > h(R)$"
      ],
      "metadata": {
        "id": "FLkVSBQD5h2D"
      }
    },
    {
      "cell_type": "markdown",
      "source": [
        "<img src=\"https://upload.wikimedia.org/wikipedia/ru/1/16/AVL_BR.GIF\" width=\"500\"/>"
      ],
      "metadata": {
        "id": "xsEHE6gp6B4s"
      }
    },
    {
      "cell_type": "markdown",
      "source": [
        "Получаем верхний узел (a)\n",
        "\n",
        "- Получить правое поддерево (b)\n",
        "- Получить левое поддерево (c) от правого поддерева\n",
        "- Сделать правый поворот для b и c\n",
        "- Сделать левый поворот для c и a\n",
        "Возвращаем верхний узел (c)"
      ],
      "metadata": {
        "id": "6jo0TYfAwljt"
      }
    },
    {
      "cell_type": "code",
      "source": [
        "def major_left_rotate(a):\n",
        "  b = a.right\n",
        "  c = b.left\n",
        "\n",
        "  right_rotate(b)\n",
        "  left_rotate(a)\n",
        "\n",
        "  return c"
      ],
      "metadata": {
        "id": "U5NVU-mPKvZK"
      },
      "execution_count": null,
      "outputs": []
    },
    {
      "cell_type": "markdown",
      "source": [
        "##### **Добавление вершины в дерево**"
      ],
      "metadata": {
        "id": "G0AzmBkZ9Ogu"
      }
    },
    {
      "cell_type": "markdown",
      "source": [
        "**Вставка:**\n",
        "\n",
        "Чтобы вставить узел в дерево, нужно пройти от его начала вниз, на каждом шаге сравнивая значение нового узла с текущими. Алгоритм доходит до конца какого-либо поддерева и делает новый узел правым или левым его потомком в зависимости от значения. Так сохраняется главное правило двоичного дерева поиска — требование к расположению элементов по значению\n",
        "\n",
        "**Балансировка:**\n",
        "\n",
        "После вставки надо проверить соотношение длин поддеревьев и, если нужно, провести балансировку. Причем балансировку может понадобиться проводить для нескольких уровней дерева — это нормально. Алгоритм для балансирования может спускаться вниз из начального узла или подниматься вверх от свежедобавленного, по ходу движения пересчитывать разницу высот и совершать повороты, если где-то обнаружилась разница в два уровня. Балансировка продолжается, пока все значения высот не пересчитаются, а дисбаланс не будет устранен"
      ],
      "metadata": {
        "id": "oGn7L8EK9R4u"
      }
    },
    {
      "cell_type": "markdown",
      "source": [
        "##### **Алгоритм добавления вершины в дерево**"
      ],
      "metadata": {
        "id": "RlroRmWO9aNC"
      }
    },
    {
      "cell_type": "markdown",
      "source": [
        "Функция, вставляющая элемент, рекурсивная\n",
        "\n",
        "*   вызываем функцию в начальном узле;\n",
        "*   если значение, которое надо вставить, меньше значения узла, где мы находимся, идем налево — вызываем ту же функцию для левого потомка;\n",
        "*   если значение равно или больше тому, где мы сейчас, идем направо — вызываем функцию для правого потомка;\n",
        "*   если мы попали в точку, где еще нет узла, создаем там узел и помещаем туда новое значение;\n",
        "вызываем функцию балансировки. Так как вставка рекурсивная, балансировка\n",
        "*   выполнится начиная с последнего открытого экземпляра функции вставки и заканчивая первым"
      ],
      "metadata": {
        "id": "HvvLD4dM934H"
      }
    },
    {
      "cell_type": "markdown",
      "source": [
        "##### **Алгоритм удаления вершины из дерева**"
      ],
      "metadata": {
        "id": "qlTQD2MTIMHZ"
      }
    },
    {
      "cell_type": "markdown",
      "source": [
        "Функция удаления также рекурсивная, но она сложнее. Сначала надо найти удаляемый элемент, затем перейти в его правого потомка, если он есть, и найти там минимальный узел. А потом начинаются нюансы:\n",
        "\n",
        "*   по логике структуры бинарного дерева поиска у минимального узла может быть максимум один потомок — справа. Поэтому функция, «удаляющая» минимальный узел, возвращает его правого потомка — он пригодится при замене;\n",
        "*   минимальный узел не удаляется безвозвратно, а подставляется на место удаляемого — опять же происходит замена ссылок;\n",
        "*   слева к минимальному узлу присоединяется левый потомок удаляемого узла, справа — то, что осталось от правого потомка после вычленения минимального;\n",
        "*   происходит балансировка\n",
        "\n",
        "\n",
        "\n",
        "\n",
        "\n",
        "\n",
        "\n"
      ],
      "metadata": {
        "id": "rfYD2H56Im4h"
      }
    },
    {
      "cell_type": "markdown",
      "source": [
        "#### Чекпоинт 3"
      ],
      "metadata": {
        "id": "rZahMUFhpKgt"
      }
    },
    {
      "cell_type": "markdown",
      "source": [
        "Реализовать класс AVL-дерева, в котором есть все 4 вида перебалансировок, а также методы удаления и добавления"
      ],
      "metadata": {
        "id": "7FIHzD8opVVl"
      }
    },
    {
      "cell_type": "code",
      "source": [
        "class AVLTree:\n",
        "    def __init__(self):\n",
        "        self.root = None\n",
        "\n",
        "    def get_height(self, node):\n",
        "        if node is None:\n",
        "            return 0\n",
        "        return node.height\n",
        "\n",
        "    def get_balance_factor(self, node):\n",
        "        pass\n",
        "\n",
        "    def search(self, key):\n",
        "        pass\n",
        "\n",
        "    def left_rotate(self, node):\n",
        "        pass\n",
        "\n",
        "    def right_rotate(self, node):\n",
        "        pass\n",
        "\n",
        "    def push(self, key):\n",
        "        pass\n",
        "\n",
        "    def insert(self, root, key):\n",
        "        pass\n",
        "\n",
        "    def get_min_node(self, node):\n",
        "        pass\n",
        "\n",
        "    def delete(self, root, key):\n",
        "        pass\n",
        "\n",
        "    def __repr__(self):\n",
        "        return self.root.__repr__()"
      ],
      "metadata": {
        "id": "PNAHfq6XpkiC"
      },
      "execution_count": null,
      "outputs": []
    },
    {
      "cell_type": "code",
      "source": [
        "tree = AVLTree()\n",
        "\n",
        "tree.push(10)\n",
        "\n",
        "tree.push(5)\n",
        "\n",
        "tree.push(11)\n",
        "\n",
        "tree.push(14)\n",
        "\n",
        "tree.push(16)\n",
        "\n",
        "tree"
      ],
      "metadata": {
        "id": "7hQSN_UtzkPC"
      },
      "execution_count": null,
      "outputs": []
    },
    {
      "cell_type": "markdown",
      "source": [
        "### **Красно-черное дерево**"
      ],
      "metadata": {
        "id": "gbR0bYrsJHuh"
      }
    },
    {
      "cell_type": "markdown",
      "source": [
        "Благодаря балансировке, **красно-черные деревья** позволяют не допускать линейной сложности. На самом деле, он является усовершенствованным алгоритмом бинарного поиска"
      ],
      "metadata": {
        "id": "kKl7z92C2hcR"
      }
    },
    {
      "cell_type": "markdown",
      "source": [
        "<img src=\"https://neerc.ifmo.ru/wiki/images/thumb/7/78/RBT.jpg/350px-RBT.jpg\" width=\"500\"/>"
      ],
      "metadata": {
        "id": "kPO9djHsNFU4"
      }
    },
    {
      "cell_type": "markdown",
      "source": [
        "**Условия красно-черного дерева:**\n",
        "\n",
        "1. Цвет вершины может быть черный или красный\n",
        "2. Корень всегда черный\n",
        "3. Листья всегда черные\n",
        "4. Каждая красная вершина должна иметь черных сыновей\n",
        "5. Пути от вершины к ее листьям должны содержать одинаковое количество черных вершин (черная высота)"
      ],
      "metadata": {
        "id": "mZpcWcyzK_TF"
      }
    },
    {
      "cell_type": "markdown",
      "source": [
        "<img src=\"https://drive.google.com/uc?export=view&id=1x9wE36CNZv1H1LG9vntprCDB14nOL3tL\" width=\"500\"/>"
      ],
      "metadata": {
        "id": "VanOpjIhM1p9"
      }
    },
    {
      "cell_type": "markdown",
      "source": [
        "**Отношения между вершинами:**\n",
        "\n",
        "*   X - сын (добавляемый элемент)\n",
        "*   P - отец (вышестоящий узел)\n",
        "*   G - дед (вышестоящий узел отца)\n",
        "*   U - дядя (соседний узел от отца)\n",
        "\n",
        "\n",
        "\n"
      ],
      "metadata": {
        "id": "BgqPQGX1LlsJ"
      }
    },
    {
      "cell_type": "code",
      "source": [
        "from __future__ import annotations\n",
        "from dataclasses import dataclass, field\n",
        "\n",
        "@dataclass\n",
        "class TreeNode:\n",
        "  key: int\n",
        "  left: TreeNode | None = field(default=None)\n",
        "  right: TreeNode | None = field(default=None)\n",
        "  parent: TreeNode | None = field(default=None)\n",
        "  color: Literal[\"red\" | \"black\"] = field(default=\"black\")"
      ],
      "metadata": {
        "id": "xuAPjCAmUonc"
      },
      "execution_count": null,
      "outputs": []
    },
    {
      "cell_type": "markdown",
      "source": [
        "#### Добавление элемента"
      ],
      "metadata": {
        "id": "sH_k23tiQ7QN"
      }
    },
    {
      "cell_type": "markdown",
      "source": [
        "1. Вставка вместо NULL-листа\n",
        "2. Добавляем к нему в потомки два NULL-листа\n",
        "3. Красим элемент в красный, чтобы сохранить черную высоту\n",
        "4. Проверяем, соблюдается ли правило, что красная вершина должна иметь два черных сына:\n",
        "      *   Если родитель добавленной вершины черный, то все ОК\n",
        "      *   Если родитель добавленной вершины красный, гг\n",
        "\n",
        "\n"
      ],
      "metadata": {
        "id": "Z8IVtbnQSTUH"
      }
    },
    {
      "cell_type": "markdown",
      "source": [
        "ГГ при вставке"
      ],
      "metadata": {
        "id": "_pPpg7QsUuIE"
      }
    },
    {
      "cell_type": "markdown",
      "source": [
        "##### Случай 1. Если корень красный\n",
        "\n",
        "Перекрашиваем корень в черный"
      ],
      "metadata": {
        "id": "6IEGYeIQU3pO"
      }
    },
    {
      "cell_type": "markdown",
      "source": [
        "##### Случай 2. Если дядя красный"
      ],
      "metadata": {
        "id": "i5M7E_EaU46y"
      }
    },
    {
      "cell_type": "markdown",
      "source": [
        "<img src=\"https://drive.google.com/uc?export=view&id=1xNIZpixXGi9essHTYYPUzdAWKMQak3ey\" height=\"400\"/>"
      ],
      "metadata": {
        "id": "6cECiuFOU7fM"
      }
    },
    {
      "cell_type": "markdown",
      "source": [
        "Перекрашиваем деда и его детей в противоположные цвета"
      ],
      "metadata": {
        "id": "miCf3gEiU8nc"
      }
    },
    {
      "cell_type": "markdown",
      "source": [
        "<img src=\"https://drive.google.com/uc?export=view&id=1maH8qOB80g4Ds9quyAJSonq7ki5xR3Hi\" height=\"400\"/>"
      ],
      "metadata": {
        "id": "lfpRc8vAU-p0"
      }
    },
    {
      "cell_type": "code",
      "source": [
        "def red_uncle_case(current: TreeNode | None):\n",
        "  if current is not None:\n",
        "    father = current.parent\n",
        "    if father is not None:\n",
        "      grandfather = father.parent\n",
        "      if grandfather is not None:\n",
        "        is_left_son = grandfather.left == father\n",
        "\n",
        "        uncle = grandfather.right\n",
        "        if is_left_son:\n",
        "          uncle = grandfather.left\n",
        "\n",
        "        grandfather.color = \"red\"\n",
        "        father.color = \"black\"\n",
        "        uncle.color = \"black\""
      ],
      "metadata": {
        "id": "ARxAV6knVCSm"
      },
      "execution_count": null,
      "outputs": []
    },
    {
      "cell_type": "markdown",
      "source": [
        "##### Случай 3. Дядя черный. Треугольник и линия"
      ],
      "metadata": {
        "id": "pAXC9KR0VByx"
      }
    },
    {
      "cell_type": "markdown",
      "source": [
        "###### Пример \"треугольника\""
      ],
      "metadata": {
        "id": "QyxjuVuoVBuV"
      }
    },
    {
      "cell_type": "markdown",
      "source": [
        "<img src=\"https://drive.google.com/uc?export=view&id=1W7vr30j5hV47SSK_fD6vOo46kEcFjpMD\" height=\"400\"/>"
      ],
      "metadata": {
        "id": "OL-1XYxVVIz8"
      }
    },
    {
      "cell_type": "markdown",
      "source": [
        "Добавляем элемент между двух нижних красных нод"
      ],
      "metadata": {
        "id": "H4RTRa1KVMGB"
      }
    },
    {
      "cell_type": "markdown",
      "source": [
        "<img src=\"https://drive.google.com/uc?export=view&id=1EwNEdpBUUpnIufoLranh6ivtEpbIzjus\" height=\"400\"/>"
      ],
      "metadata": {
        "id": "GSLTDYG4VNc4"
      }
    },
    {
      "cell_type": "markdown",
      "source": [
        "Встречаем случай когда дядя красный, перекрашиваем"
      ],
      "metadata": {
        "id": "Y13z9PnCVPWQ"
      }
    },
    {
      "cell_type": "markdown",
      "source": [
        "<img src=\"https://drive.google.com/uc?export=view&id=1oOJ2pNOX17-QKNHbnd68gzPkSCKkLkcN\" height=\"400\"/>"
      ],
      "metadata": {
        "id": "WNYoMF6fVQ77"
      }
    },
    {
      "cell_type": "markdown",
      "source": [
        "Получаем искомый случай"
      ],
      "metadata": {
        "id": "K2SiH-dpVTpB"
      }
    },
    {
      "cell_type": "markdown",
      "source": [
        "<img src=\"https://drive.google.com/uc?export=view&id=153l_WQw-LWhA-a53e2_FaH_twXhclOwM\" height=\"400\"/>"
      ],
      "metadata": {
        "id": "XCz4OMDgVUL2"
      }
    },
    {
      "cell_type": "markdown",
      "source": [
        "Также можно получить симметричный случай"
      ],
      "metadata": {
        "id": "J-ar7AjCVW4g"
      }
    },
    {
      "cell_type": "markdown",
      "source": [
        "<img src=\"https://drive.google.com/uc?export=view&id=1EbPIGrTNTH3nQMAJD3ehkS8NlUK_BjC6\" height=\"400\"/>"
      ],
      "metadata": {
        "id": "4q_AuWyqVYTJ"
      }
    },
    {
      "cell_type": "markdown",
      "source": [
        "Обозначим эту ситуацию как треугольник\n",
        "- Дядя черный\n",
        "- Узел и отец не на линии (оба не левые/правые дети)"
      ],
      "metadata": {
        "id": "zx9w625mVaBh"
      }
    },
    {
      "cell_type": "markdown",
      "source": [
        "###### Что делать с треугольником"
      ],
      "metadata": {
        "id": "ygOImdNnVbpt"
      }
    },
    {
      "cell_type": "markdown",
      "source": [
        "Сделать левый/правый поворот м-ду узлом и отцом\n"
      ],
      "metadata": {
        "id": "MS9MSNr7VckC"
      }
    },
    {
      "cell_type": "markdown",
      "source": [
        "<img src=\"https://drive.google.com/uc?export=view&id=153l_WQw-LWhA-a53e2_FaH_twXhclOwM\" height=\"400\"/>"
      ],
      "metadata": {
        "id": "JfH4qmUKVhdH"
      }
    },
    {
      "cell_type": "markdown",
      "source": [
        "<img src=\"https://drive.google.com/uc?export=view&id=12DSu8vFIGcqEgI8A2P79caijWuyxgaK4\" height=\"400\"/>"
      ],
      "metadata": {
        "id": "YYVBBQrXVjxc"
      }
    },
    {
      "cell_type": "code",
      "source": [
        "def right_rotate(node: TreeNode | None):\n",
        "  if node is not None:\n",
        "    father = node.parent\n",
        "    subtree = node.right\n",
        "\n",
        "    node.right = father\n",
        "    father.parent = node\n",
        "    father.left = subtree\n",
        "\n",
        "  return node\n",
        "\n",
        "def left_rotate(node: TreeNode | None):\n",
        "  if node is not None:\n",
        "    father = node.parent\n",
        "    subtree = node.left\n",
        "\n",
        "    node.left = father\n",
        "    father.parent = node\n",
        "    father.right = subtree\n",
        "\n",
        "  return node"
      ],
      "metadata": {
        "id": "wwYjG_1rVmGh"
      },
      "execution_count": null,
      "outputs": []
    },
    {
      "cell_type": "markdown",
      "source": [
        "Пока не полегчало, но вывело к новому случаю:\n",
        "- Дядя черный\n",
        "- Отец и узел на одной линии (должны быть красные)"
      ],
      "metadata": {
        "id": "2FsragLyVpfe"
      }
    },
    {
      "cell_type": "markdown",
      "source": [
        "###### Что делать с линией\n",
        "- Левый/правый поворот м-ду нодой и дедом\n",
        "- Производим перекраску (деда в красный, узел в черный)"
      ],
      "metadata": {
        "id": "UKswQD5qVsoG"
      }
    },
    {
      "cell_type": "markdown",
      "source": [
        "<img src=\"https://drive.google.com/uc?export=view&id=16L9M_DInhP8ZEG8BtLYUrtOZ_E3_IFxI\" height=\"400\"/>"
      ],
      "metadata": {
        "id": "ZHk-yCocVwcV"
      }
    },
    {
      "cell_type": "markdown",
      "source": [
        "Вне примера кажется что схема не работает, поэтому вернемся к примеру"
      ],
      "metadata": {
        "id": "d-FyejfEVzGK"
      }
    },
    {
      "cell_type": "markdown",
      "source": [
        "<img src=\"https://drive.google.com/uc?export=view&id=1oOJ2pNOX17-QKNHbnd68gzPkSCKkLkcN\" height=\"400\"/>"
      ],
      "metadata": {
        "id": "m24hFD3pV02M"
      }
    },
    {
      "cell_type": "markdown",
      "source": [
        "<img src=\"https://drive.google.com/uc?export=view&id=1KnXzBFz5Q6k2Ey96VuFFn0jKf4RQ_uHu\" height=\"400\"/>"
      ],
      "metadata": {
        "id": "sKRD2H3iV35-"
      }
    },
    {
      "cell_type": "markdown",
      "source": [
        "<img src=\"https://drive.google.com/uc?export=view&id=129AcYFjxYPBuJ3b5yOheXVNMsnQpgIHr\" height=\"400\"/>"
      ],
      "metadata": {
        "id": "sClXZHWhV49i"
      }
    },
    {
      "cell_type": "markdown",
      "source": [
        "<img src=\"https://drive.google.com/uc?export=view&id=16g8LlKdgQ3TZQP-NyxepHXe25QgMtFTA\" height=\"400\"/>"
      ],
      "metadata": {
        "id": "TspKFv_SV7vZ"
      }
    },
    {
      "cell_type": "markdown",
      "source": [
        "##### Чекпоинт 1: Собираем все в кучу"
      ],
      "metadata": {
        "id": "Q_LBftnRV9o2"
      }
    },
    {
      "cell_type": "markdown",
      "source": [
        "1. Сначала устанавливаем начальные значения (parent, current)\n",
        "2. Запускаем цикл while пока current is not None\n",
        "  - Находим место для вставки новой вершины\n",
        "3. Устанавливаем родителя нового узла равным переменной равной parent\n",
        "4. Если родитель None, то новый узео становится корнем, иначе вставляем новый узел либо в правое, либо в левое поддерево\n",
        "5. Вызываем функцию fix, которая исправляет баланс\n",
        "\n",
        "fix:\n",
        "\n",
        "1. Находим родителя у node\n",
        "2. Наичнаем цикл, который продолжается пока родитель father красного цвета\n",
        "  - Проверяем расположение father относительно его дедушки (grandfather). Дополнительно рассматриваем дядю (uncle)\n",
        "      - Если дядя красный, то цвета родителя, дяди и дедушки меняются\n",
        "      - Запускам цикл выше\n",
        "3. После завершения баланса цвет корня меняется черным"
      ],
      "metadata": {
        "id": "ASkdcXKZJTBY"
      }
    },
    {
      "cell_type": "code",
      "source": [
        "def insert(tree: TreeNode, node: TreeNode):\n",
        "  curr = tree\n",
        "  parent = None\n",
        "\n",
        "  while curr is not None:\n",
        "    parent = curr\n",
        "    if node.key < curr.key:\n",
        "      curr = curr.left\n",
        "    elif node.key >= curr.key:\n",
        "      curr = curr.right\n",
        "  node.parent =  parent\n",
        "  if parent is None:\n",
        "    tree = node\n",
        "  elif node.key < parent.key:\n",
        "    parent.left = node\n",
        "  else:\n",
        "    parent.right = node\n",
        "  fix(tree, node)\n",
        "\n",
        "def fix(tree: TreeNode, node: TreeNode):\n",
        "  father = node.parent\n",
        "  while father.color == 'red':\n",
        "    grandfather = father.parent\n",
        "    if father.key < grandfather.key:\n",
        "      uncle =  grandfather.right\n",
        "      if uncle.color == 'red':\n",
        "        grandfather.color = 'red'\n",
        "        uncle.color = 'black'\n",
        "        father.color = 'black'\n",
        "      elif node.key > father.key:\n",
        "        node = left_rotate(node)\n",
        "        grandfather.left = node\n",
        "        node = right_rotate(node)\n",
        "        ggfather = grandfather.parent\n",
        "        if ggfather is not None:\n",
        "          if grandfather.key < ggfather.key:\n",
        "            ggfather.left = node\n",
        "          else:\n",
        "            ggfather.right = node\n",
        "        node.parent = ggfather\n",
        "        node.color = 'black'\n",
        "        grandfather.color  = 'red'\n",
        "\n",
        "      else:\n",
        "        uncle = ggfather.left\n",
        "        if uncle.color == 'red':\n",
        "          grandfather.color = 'red'\n",
        "          uncle.color = 'black'\n",
        "          father.color = 'balck'\n",
        "        elif node.key > father.key:\n",
        "          node = right_rotate(node)\n",
        "          grandfather.right = node\n",
        "          node = left_rotate(node)\n",
        "          ggfather = grandfather.parent\n",
        "          if ggfather is not None:\n",
        "            if grandfather.key < ggfather.key:\n",
        "              ggfather.left = node\n",
        "            else:\n",
        "              ggfather.right = node\n",
        "          node.parent = ggfather\n",
        "          node.color = 'black'\n",
        "          grandfather.color = 'red'\n",
        "      father = node.parent\n",
        "    tree.color = 'black'\n"
      ],
      "metadata": {
        "id": "Vbqunjn6WAfh"
      },
      "execution_count": null,
      "outputs": []
    },
    {
      "cell_type": "markdown",
      "source": [
        "#### Удаление элемента"
      ],
      "metadata": {
        "id": "JKH4idCpWPQS"
      }
    },
    {
      "cell_type": "markdown",
      "source": [
        "Введем вспомогательную функцию transplant, отвечающую за перестановку поддеревьев удаляемого узла в узел на замену"
      ],
      "metadata": {
        "id": "NA6rtbUVWP50"
      }
    },
    {
      "cell_type": "code",
      "source": [
        "def transplant(tree: TreeNode, del_node: TreeNode, node_to_replace: TreeNode):\n",
        "  if del_node.parent == None:\n",
        "    tree = node_to_replace\n",
        "  elif del_node == del_node.parent.left:\n",
        "    del_node.parent.left = node_to_replace\n",
        "  else:\n",
        "    del_node.parent.right = node_to_replace\n",
        "  node_to_replace.parent = del_node.parent\n",
        "\n",
        "def minimum(tree: TreeNode):\n",
        "  min_node = tree.left\n",
        "\n",
        "  while min_node.left is not None:\n",
        "    min_node = min.node.left\n",
        "\n",
        "  return min_node"
      ],
      "metadata": {
        "id": "h33XfrSTWVbV"
      },
      "execution_count": null,
      "outputs": []
    },
    {
      "cell_type": "markdown",
      "source": [
        "При удалении возможны 3 сценария:\n",
        "- У удаляемой ноды нет левого поддерева\n",
        "- У удаляемой ноды нет правого поддерева\n",
        "- У удаляемой ноды есть узлы и справа, и слева\n"
      ],
      "metadata": {
        "id": "cG_LkopZWTH9"
      }
    },
    {
      "cell_type": "markdown",
      "source": [
        "Если у удаляемой ноды нет левого поддерева, заменяем ноду правым поддеревом\n",
        "\n",
        "Если у удаляемой ноды нет правого поддерева, заменяем ноду левым поддеревом\n",
        "\n",
        "Если у ноды есть и то, и то, ищем ноду с минимальным большим значением и заменяем ноду ей"
      ],
      "metadata": {
        "id": "4gz6QiDIWYYs"
      }
    },
    {
      "cell_type": "code",
      "source": [
        "def delete(tree: TreeNode, key: int):\n",
        "  node = tree\n",
        "  while node is not None:\n",
        "      if node.item == key:\n",
        "          break\n",
        "\n",
        "      if key > node.key:\n",
        "          node = node.right\n",
        "      else:\n",
        "          node = node.left\n",
        "\n",
        "  if node is None:\n",
        "      print(\"Нет такого ключа\")\n",
        "      return None\n",
        "\n",
        "  tmp = node\n",
        "  orig_color = tmp.color\n",
        "  if node.left is None:\n",
        "      x = node.right\n",
        "      transplant(tree, node, x)\n",
        "  elif node.right is None:\n",
        "      x = node.left\n",
        "      transplant(tree, node, x)\n",
        "  else:\n",
        "      tmp = minimum(node.right)\n",
        "      orig_color = tmp.color\n",
        "      x = tmp.right\n",
        "      if tmp.parent == node:\n",
        "          x.parent = tmp\n",
        "      else:\n",
        "          transplant(tree, tmp, tmp.right)\n",
        "          tmp.right = node.right\n",
        "          tmp.right.parent = tmp\n",
        "\n",
        "      transplant(tree, node, tmp)\n",
        "      tmp.left = node.left\n",
        "      tmp.left.parent = tmp\n",
        "      tmp.color = node.color\n",
        "  if orig_color == \"black\":\n",
        "      delete_fix(tree, x)"
      ],
      "metadata": {
        "id": "MeVqnBS9Wj2A"
      },
      "execution_count": null,
      "outputs": []
    },
    {
      "cell_type": "markdown",
      "source": [
        "Если удалили ноду с черным цветом, то необходимы манипуляции чтобы восстановить баланс"
      ],
      "metadata": {
        "id": "pqnNkXGqWdbo"
      }
    },
    {
      "cell_type": "markdown",
      "source": [
        "Рассмотрим следующие возможные кейсы:\n",
        "- Брат красный\n",
        "- Брат черный\n",
        "  - Оба племянника черные\n",
        "  - Левый племянник красный, правый черный\n",
        "  - Правый племянник красный"
      ],
      "metadata": {
        "id": "3rN3ZProWocv"
      }
    },
    {
      "cell_type": "markdown",
      "source": [
        "###### Брат красный"
      ],
      "metadata": {
        "id": "2ibhm98BWsgr"
      }
    },
    {
      "cell_type": "markdown",
      "source": [
        "<img src=\"https://drive.google.com/uc?export=view&id=1fPCwN4xDvKq1IyGkS4APHgnbeoO9CnaX\" height=\"400\"/>"
      ],
      "metadata": {
        "id": "rnQEF7LgWtM4"
      }
    },
    {
      "cell_type": "markdown",
      "source": [
        "- Перекрашиваем брата в черный\n",
        "- Красим отца в красный\n",
        "- Делаем левый поворот м-ду отцом и братом\n",
        "- Актуализируем ссылку на брата"
      ],
      "metadata": {
        "id": "cWECxmgZWu-X"
      }
    },
    {
      "cell_type": "code",
      "source": [
        "def solve_red_bro(node: TreeNode, bro: TreeNode):\n",
        "    bro.color = \"black\"\n",
        "    node.parent.color = \"red\"\n",
        "    left_rotate(bro)\n",
        "    bro = node.parent.right"
      ],
      "metadata": {
        "id": "myl6s-IBWxnF"
      },
      "execution_count": null,
      "outputs": []
    },
    {
      "cell_type": "markdown",
      "source": [
        "<img src=\"https://drive.google.com/uc?export=view&id=1olJJ_Cu3iuS7kDcI2zv_D_T1bhpv_m4X\" height=\"400\"/>"
      ],
      "metadata": {
        "id": "FP9y7ncbWyVd"
      }
    },
    {
      "cell_type": "markdown",
      "source": [
        "###### Оба племянника черные\n",
        "\n",
        "- Перекрашиваем брата в красный\n",
        "- Переставляем ссылку ноды на отца\n",
        "- Запускаем функцию фикса еще раз"
      ],
      "metadata": {
        "id": "UXdG6Wi4W2LC"
      }
    },
    {
      "cell_type": "markdown",
      "source": [
        "###### Левый племянник красный, правый - черный\n",
        "\n",
        "- Красим левого племянника в черный\n",
        "- Красим брата в красный\n",
        "- Делаем правый поворот м-ду братом и левым племянником\n",
        "- Актуализируем ссылку на брата"
      ],
      "metadata": {
        "id": "v_jjRmilW4YF"
      }
    },
    {
      "cell_type": "markdown",
      "source": [
        "<img src=\"https://drive.google.com/uc?export=view&id=1AcCZmzPlojNBRmRSSs28Ar_rVJRrpvrC\" height=\"400\"/>"
      ],
      "metadata": {
        "id": "wcvzyfYHW44D"
      }
    },
    {
      "cell_type": "markdown",
      "source": [
        "<img src=\"https://drive.google.com/uc?export=view&id=1QbNDPKe-q3B7a_n4qSqWQEVTCbGpeoSo\" height=\"400\"/>"
      ],
      "metadata": {
        "id": "Z5p1eTR2W6wS"
      }
    },
    {
      "cell_type": "code",
      "source": [
        "def solve_left_nephew_red(node: TreeNode, bro: TreeNode):\n",
        "    bro.left.color = \"black\"\n",
        "    bro.color = \"red\"\n",
        "    right_rotate(bro.left)\n",
        "    bro = node.parent.right"
      ],
      "metadata": {
        "id": "dznr-s85W-AS"
      },
      "execution_count": null,
      "outputs": []
    },
    {
      "cell_type": "markdown",
      "source": [
        "###### Правый племянник красный\n",
        "\n",
        "- Перекрашиваем брата в цвет отца\n",
        "- Перекрашиваем отца в черный\n",
        "- Перекрашиваем правого племянника в черный\n",
        "- Делаем левый поворот м-ду братом и отцом\n",
        "- Перемещаем указатель ноды на корень дерева\n"
      ],
      "metadata": {
        "id": "gT74vAOMW8zw"
      }
    },
    {
      "cell_type": "markdown",
      "source": [
        "<img src=\"https://drive.google.com/uc?export=view&id=1SBFPInZUsPln1kRyP8K1tJ8gmhEiGGFN\" height=\"400\"/>"
      ],
      "metadata": {
        "id": "JX8M928vXAbT"
      }
    },
    {
      "cell_type": "markdown",
      "source": [
        "<img src=\"https://drive.google.com/uc?export=view&id=103k98-F6RetxouE68rMeYB6gnvGwD_5d\" height=\"400\"/>"
      ],
      "metadata": {
        "id": "lu5AVD7LXC1U"
      }
    },
    {
      "cell_type": "code",
      "source": [
        "def solve_right_nephew_red(node: TreeNode, bro: TreeNode, tree: TreeNode):\n",
        "    bro.color = node.parent.color\n",
        "    node.parent.color = \"black\"\n",
        "    bro.left.color = \"black\"\n",
        "    right_rotate(bro)\n",
        "    node = tree"
      ],
      "metadata": {
        "id": "W3vs_dbrXFnn"
      },
      "execution_count": null,
      "outputs": []
    },
    {
      "cell_type": "markdown",
      "source": [
        "###### Чекпоинт 2: Собираем все в кучу"
      ],
      "metadata": {
        "id": "BJFCWWdLXEe0"
      }
    },
    {
      "cell_type": "markdown",
      "source": [
        "Входные параметры функции delete_fix - переменные tree (корень дерева) и node (удаляемый узел).\n",
        "\n",
        "1. Запускаем цикл, пока node не равен корню дерева и цвет узла node черный\n",
        "2. Проверяем на то, находится ли узел node слева или справа от родителя\n",
        "3. В зависимости от расположения узла node, создаем переменную для брата (соседний узел), например brother\n",
        "4. Если брат узла node красный, красим узлы и выполняем повороты (случай и код описан выше)\n",
        "5. Если оба потомка брата черные, то брата перекрашиваем в красный, а текущий узел переносим на уровень выше\n",
        "6. Если один из потомков брата черный, делаем перекраску и перестановки для восстановления баланса (случай и код описан выше)\n",
        "7. После всех операций красим текущий узел в черный\n"
      ],
      "metadata": {
        "id": "RRNw0UrkhrrX"
      }
    },
    {
      "cell_type": "code",
      "source": [
        "def delete_fix(tree: TreeNode, node: TreeNode):\n",
        "  pass"
      ],
      "metadata": {
        "id": "qA4kixFLXK6W"
      },
      "execution_count": null,
      "outputs": []
    }
  ]
}