{
  "cells": [
    {
      "cell_type": "markdown",
      "metadata": {
        "id": "view-in-github",
        "colab_type": "text"
      },
      "source": [
        "<a href=\"https://colab.research.google.com/github/8persy/algoritms_colab/blob/main/%22%D0%A0%D0%B0%D0%B7%D0%B4%D0%B5%D0%BB%D1%8F%D0%B9%26%D0%92%D0%BB%D0%B0%D0%B2%D1%81%D1%82%D0%B2%D1%83%D0%B9_311%22.ipynb\" target=\"_parent\"><img src=\"https://colab.research.google.com/assets/colab-badge.svg\" alt=\"Open In Colab\"/></a>"
      ]
    },
    {
      "cell_type": "markdown",
      "id": "7c022fef-ac22-424c-82cd-ebf4c9ece980",
      "metadata": {
        "id": "7c022fef-ac22-424c-82cd-ebf4c9ece980"
      },
      "source": [
        "# Divide and Conquer"
      ]
    },
    {
      "cell_type": "markdown",
      "source": [
        "[Полезная ссылка](https://www.enjoyalgorithms.com/blog/divide-and-conquer)"
      ],
      "metadata": {
        "id": "LQEF5yyhtzZV"
      },
      "id": "LQEF5yyhtzZV"
    },
    {
      "cell_type": "markdown",
      "id": "245d134a-2993-4769-827f-b5575483d33c",
      "metadata": {
        "id": "245d134a-2993-4769-827f-b5575483d33c"
      },
      "source": [
        "Суть подхода в разбиении большой проблемы на маленькие, решении маленьких проблем и сборе на их основе решения большой задачи"
      ]
    },
    {
      "cell_type": "markdown",
      "id": "c778e11d-e004-4eba-a26f-ed2e72dfe59e",
      "metadata": {
        "id": "c778e11d-e004-4eba-a26f-ed2e72dfe59e"
      },
      "source": [
        "<img src=\"https://www.boardinfinity.com/blog/content/images/2022/10/Problem.jpg\">"
      ]
    },
    {
      "cell_type": "markdown",
      "id": "9da5ca4c-0296-4ebe-9e16-04f15ec6f3e9",
      "metadata": {
        "id": "9da5ca4c-0296-4ebe-9e16-04f15ec6f3e9"
      },
      "source": [
        "Этот алгоритм применяется в:\n",
        "- Бинарном поиске\n",
        "- Сортировках (Merge, Quick)\n",
        "- Построении дерева сегментов\n",
        "- Алгоритм Дейкстры (рассмотрим в модуле графов)\n",
        "- Методе для быстрого перемножения матриц\n",
        "- Алгоритме быстрого перемножения n-значных чисел\n",
        "\n",
        "Вспомним первые два алгоритма и посмотрим как там применяется этот подход"
      ]
    },
    {
      "cell_type": "code",
      "execution_count": null,
      "id": "154fe917-845a-47c0-bc54-fc42c175163a",
      "metadata": {
        "id": "154fe917-845a-47c0-bc54-fc42c175163a"
      },
      "outputs": [],
      "source": [
        "def binary_search(arr, search):\n",
        "  left = 0\n",
        "  right = len(arr) - 1\n",
        "\n",
        "  while left <= right:\n",
        "      mid = (left + right) // 2\n",
        "      if arr[mid] == search:\n",
        "          return mid\n",
        "      elif arr[mid] < search:\n",
        "          left = mid + 1\n",
        "      else:\n",
        "          right = mid - 1\n",
        "\n",
        "  return -1"
      ]
    },
    {
      "cell_type": "code",
      "execution_count": null,
      "id": "a989c520-bd83-429d-ae97-95b9dcd7d309",
      "metadata": {
        "id": "a989c520-bd83-429d-ae97-95b9dcd7d309"
      },
      "outputs": [],
      "source": [
        "def merge(left_arr, right_arr):\n",
        "    left_n = len(left_arr)\n",
        "    right_n = len(right_arr)\n",
        "\n",
        "    result_arr = np.zeros(left_n + right_n, dtype=left_arr.dtype)\n",
        "\n",
        "    i = 0\n",
        "    j = 0\n",
        "    free_idx = 0\n",
        "\n",
        "    while i < left_n and j < right_n:\n",
        "        if left_arr[i] <= right_arr[j]:\n",
        "            result_arr[free_idx] = left_arr[i]\n",
        "            i += 1\n",
        "            free_idx += 1\n",
        "        else:\n",
        "            result_arr[free_idx] = right_arr[j]\n",
        "            j += 1\n",
        "            free_idx += 1\n",
        "\n",
        "    while i < left_n:\n",
        "        result_arr[free_idx] = left_arr[i]\n",
        "        i += 1\n",
        "        free_idx += 1\n",
        "\n",
        "    while j < right_n:\n",
        "        result_arr[free_idx] = right_arr[j]\n",
        "        j += 1\n",
        "        free_idx += 1\n",
        "\n",
        "    return result_arr\n",
        "\n",
        "def merge_sort(arr):\n",
        "    if len(arr) <= 1:\n",
        "        return arr\n",
        "\n",
        "    middle = len(arr) // 2\n",
        "\n",
        "    left_part = arr[:middle]\n",
        "    right_part = arr[middle:]\n",
        "\n",
        "    left_sorted = merge_sort(left_part)\n",
        "    right_sorted = merge_sort(right_part)\n",
        "\n",
        "    sorted_part = merge_sort(left_sorted, right_sorted)\n",
        "\n",
        "    return sorted_part"
      ]
    },
    {
      "cell_type": "markdown",
      "id": "1489bb80-9a4f-4099-a758-1895d17ca4d1",
      "metadata": {
        "id": "1489bb80-9a4f-4099-a758-1895d17ca4d1"
      },
      "source": [
        "В подходе Divide & Conquer выделяются 4 основных этапа:\n",
        "- Шаг разбиения (divide)\n",
        "- Шаг решения (conquer)\n",
        "- Шаг объединения (combine)\n",
        "- Базовое решение"
      ]
    },
    {
      "cell_type": "markdown",
      "id": "2879bd91-978b-40af-8107-66dbc8aa76dc",
      "metadata": {
        "id": "2879bd91-978b-40af-8107-66dbc8aa76dc"
      },
      "source": [
        "**Шаг разбиения**\\\n",
        "На этом этапе мы продумываем каким образом мы будем разбивать большую проблему на проблемы меньше\n",
        "\n",
        "В случае наших алгоритмов - вычисляем индекс середины массива"
      ]
    },
    {
      "cell_type": "code",
      "execution_count": null,
      "id": "b96f5709-7e49-4aa0-96c0-a96c893c2925",
      "metadata": {
        "id": "b96f5709-7e49-4aa0-96c0-a96c893c2925"
      },
      "outputs": [],
      "source": [
        "# Бинарный поиск\n",
        "mid = (left + right) // 2"
      ]
    },
    {
      "cell_type": "code",
      "execution_count": null,
      "id": "4011097c-01e7-423d-a691-efe64e4a848b",
      "metadata": {
        "id": "4011097c-01e7-423d-a691-efe64e4a848b"
      },
      "outputs": [],
      "source": [
        "# MergeSort\n",
        "middle = len(arr) // 2"
      ]
    },
    {
      "cell_type": "markdown",
      "id": "887b7050-8db2-4173-925a-c0033beb02f1",
      "metadata": {
        "id": "887b7050-8db2-4173-925a-c0033beb02f1"
      },
      "source": [
        "**Шаг решения**\\\n",
        "Здесь мы пишем логику решения подзадачи, зачастую с использованием рекурсии\n",
        "\n",
        "В случае с бинарным поиском:\n",
        "- Если mid указывает на значение, меньше искомого, то ищем справа\n",
        "- Иначе - слева"
      ]
    },
    {
      "cell_type": "code",
      "execution_count": null,
      "id": "0db8a6e1-0b87-48ca-9334-25ff3477bde7",
      "metadata": {
        "id": "0db8a6e1-0b87-48ca-9334-25ff3477bde7",
        "outputId": "46de5f8d-ba28-4684-be10-cbf69db6ae40"
      },
      "outputs": [
        {
          "ename": "SyntaxError",
          "evalue": "'return' outside function (4271670940.py, line 2)",
          "output_type": "error",
          "traceback": [
            "\u001b[0;36m  Cell \u001b[0;32mIn[75], line 2\u001b[0;36m\u001b[0m\n\u001b[0;31m    return mid\u001b[0m\n\u001b[0m    ^\u001b[0m\n\u001b[0;31mSyntaxError\u001b[0m\u001b[0;31m:\u001b[0m 'return' outside function\n"
          ]
        }
      ],
      "source": [
        "# Бинарный поиск\n",
        "elif arr[mid] < search:\n",
        "  left = mid + 1\n",
        "else:\n",
        "  right = mid - 1"
      ]
    },
    {
      "cell_type": "markdown",
      "id": "9f094f87-d702-49b5-967b-0275b1a6067c",
      "metadata": {
        "id": "9f094f87-d702-49b5-967b-0275b1a6067c"
      },
      "source": [
        "В случае с MergeSort - запускаем рекурсию для половинок массива"
      ]
    },
    {
      "cell_type": "code",
      "execution_count": null,
      "id": "f9a7bb48-128b-4170-b8fa-57c86c07cf4a",
      "metadata": {
        "id": "f9a7bb48-128b-4170-b8fa-57c86c07cf4a"
      },
      "outputs": [],
      "source": [
        "left_part = arr[:middle]\n",
        "right_part = arr[middle:]\n",
        "\n",
        "left_sorted = merge_sort(left_part)\n",
        "right_sorted = merge_sort(right_part)"
      ]
    },
    {
      "cell_type": "markdown",
      "id": "bb284d61-bae8-43fc-9221-a0a71e8d2127",
      "metadata": {
        "id": "bb284d61-bae8-43fc-9221-a0a71e8d2127"
      },
      "source": [
        "**Шаг объединения**\\\n",
        "Используется только тогда, когда подзадачи необходимо объединять чтобы собрать решения большой задачи\n",
        "\n",
        "В случае бинарного поиска объединять ничего не нужно, там этот шаг отсутствует\n",
        "\n",
        "В случае MergeSort - функция sort целиком"
      ]
    },
    {
      "cell_type": "markdown",
      "id": "380274ce-b60f-4ad2-9072-414024a07ddf",
      "metadata": {
        "id": "380274ce-b60f-4ad2-9072-414024a07ddf"
      },
      "source": [
        "**Базовое решение**\\\n",
        "Решение задачи в ее простейшей форме (например, когда элемент в массиве один)\n",
        "\n",
        "Как правило, содержит конструкцию return\n",
        "\n",
        "В случае бинарного поиска это кейсы:\n",
        "- Когда мы нашли значение (mid смотрит на него)\n",
        "- Когда значения нет впринципе"
      ]
    },
    {
      "cell_type": "code",
      "execution_count": null,
      "id": "52c65e8c-f0ac-470e-b695-7ce944def640",
      "metadata": {
        "id": "52c65e8c-f0ac-470e-b695-7ce944def640"
      },
      "outputs": [],
      "source": [
        "if arr[mid] == search:\n",
        "  return mid"
      ]
    },
    {
      "cell_type": "code",
      "execution_count": null,
      "id": "72b16b31-1ae2-4b65-81d1-f8741f6b6c43",
      "metadata": {
        "id": "72b16b31-1ae2-4b65-81d1-f8741f6b6c43"
      },
      "outputs": [],
      "source": [
        "# Если ничего не нашлось раньше, вернем -1\n",
        "return -1"
      ]
    },
    {
      "cell_type": "markdown",
      "id": "02e7de0b-6118-4dc2-b453-9465eb1dd1a7",
      "metadata": {
        "id": "02e7de0b-6118-4dc2-b453-9465eb1dd1a7"
      },
      "source": [
        "В случае MergeSort - кейс когда в массиве всего одно значение"
      ]
    },
    {
      "cell_type": "code",
      "execution_count": null,
      "id": "14e9a98c-95ca-4918-8d16-b4979a0b6e60",
      "metadata": {
        "id": "14e9a98c-95ca-4918-8d16-b4979a0b6e60"
      },
      "outputs": [],
      "source": [
        "if len(arr) <= 1:\n",
        "    return arr"
      ]
    },
    {
      "cell_type": "markdown",
      "id": "40cdf045-0a55-496e-8ac3-a3fdd24e6008",
      "metadata": {
        "id": "40cdf045-0a55-496e-8ac3-a3fdd24e6008"
      },
      "source": [
        "<img src=\"https://ucarecdn.com/753ca3c1-ea49-4a12-9e11-34a17c1167fe/\"/>"
      ]
    },
    {
      "cell_type": "markdown",
      "id": "8ebec3b2-48c5-4787-8e76-103c2c157f72",
      "metadata": {
        "id": "8ebec3b2-48c5-4787-8e76-103c2c157f72"
      },
      "source": [
        "Реализация этих 4 этапов - это и есть применение подхода Divide & Conquer"
      ]
    },
    {
      "cell_type": "markdown",
      "source": [
        "## Чекпоинт №1"
      ],
      "metadata": {
        "id": "sM-MxrbijXSa"
      },
      "id": "sM-MxrbijXSa"
    },
    {
      "cell_type": "markdown",
      "source": [
        "В качестве эксперимента распишем через этот подход алгоритм вычисления максимума и минимума массива"
      ],
      "metadata": {
        "id": "zC51sR90t_BZ"
      },
      "id": "zC51sR90t_BZ"
    },
    {
      "cell_type": "markdown",
      "source": [
        "Практической пользы в этом нет, т.к. это реализовать это можно тривиально и за линейное время, стоит воспринимать это как упражнение для ума"
      ],
      "metadata": {
        "id": "mpAraDYHuJjs"
      },
      "id": "mpAraDYHuJjs"
    },
    {
      "cell_type": "markdown",
      "source": [
        "**Базовое решение**\\\n",
        "Если элемент в массиве всего один, то будем возвращать его и как минимум, и как максимум подмассива"
      ],
      "metadata": {
        "id": "6PLB3slAujgt"
      },
      "id": "6PLB3slAujgt"
    },
    {
      "cell_type": "code",
      "source": [
        "if len(arr)==1:\n",
        "  return arr[0], arr[0]"
      ],
      "metadata": {
        "id": "V4vP3a23u9ER"
      },
      "id": "V4vP3a23u9ER",
      "execution_count": null,
      "outputs": []
    },
    {
      "cell_type": "markdown",
      "source": [
        "**Шаг разбиения**\n",
        "\n",
        "Будем разбивать массивы пополам, аналогично ранее известным нам алгоритмам"
      ],
      "metadata": {
        "id": "LOz5n9F1uZW6"
      },
      "id": "LOz5n9F1uZW6"
    },
    {
      "cell_type": "code",
      "execution_count": null,
      "id": "47575616-fc47-4a72-ae63-e701dec61c12",
      "metadata": {
        "id": "47575616-fc47-4a72-ae63-e701dec61c12"
      },
      "outputs": [],
      "source": [
        "middle=len(arr)//2\n",
        "arr1=arr[:middle]\n",
        "arr2=arr[middle:]"
      ]
    },
    {
      "cell_type": "markdown",
      "source": [
        "**Шаг решения**\\\n",
        "Получаем минимумы и максимумы подмассивов"
      ],
      "metadata": {
        "id": "JtYcnEF1vglw"
      },
      "id": "JtYcnEF1vglw"
    },
    {
      "cell_type": "code",
      "source": [
        "arr1_min, arr1_max=find_min_max(arr1)\n",
        "arr2_min, arr2_max=find_min_max(arr2)"
      ],
      "metadata": {
        "id": "fXP4xI4Cvnck"
      },
      "id": "fXP4xI4Cvnck",
      "execution_count": null,
      "outputs": []
    },
    {
      "cell_type": "markdown",
      "source": [
        "**Шаг объединения**\\\n",
        "Сравниваем полученные значения, возвращаем минимумы/максимумы среди них"
      ],
      "metadata": {
        "id": "AcxFx9oxwASJ"
      },
      "id": "AcxFx9oxwASJ"
    },
    {
      "cell_type": "code",
      "source": [
        "if arr1_min<arr2_min:\n",
        "  arr_min=arr1_min\n",
        "else:\n",
        "  arr_min=arr2_min\n",
        "if arr1_max>arr2_max:\n",
        "  arr_max=arr1_max\n",
        "else:\n",
        "  arr_max=arr2_max\n",
        "return arr_min, arr_max"
      ],
      "metadata": {
        "id": "6tFobbDVwLkh"
      },
      "id": "6tFobbDVwLkh",
      "execution_count": null,
      "outputs": []
    },
    {
      "cell_type": "code",
      "source": [
        "def find_min_max(arr):\n",
        "  if len(arr)==1:\n",
        "    return arr[0], arr[0]\n",
        "  middle=len(arr)//2\n",
        "  arr1=arr[:middle]\n",
        "  arr2=arr[middle:]\n",
        "  arr1_min, arr1_max=find_min_max(arr1)\n",
        "  arr2_min, arr2_max=find_min_max(arr2)\n",
        "  if arr1_min<arr2_min:\n",
        "    arr_min=arr1_min\n",
        "  else:\n",
        "    arr_min=arr2_min\n",
        "  if arr1_max>arr2_max:\n",
        "   arr_max=arr1_max\n",
        "  else:\n",
        "    arr_max=arr2_max\n",
        "  return arr_min, arr_max"
      ],
      "metadata": {
        "id": "puyJDlVBwX1X"
      },
      "id": "puyJDlVBwX1X",
      "execution_count": null,
      "outputs": []
    },
    {
      "cell_type": "code",
      "source": [
        "import numpy as np\n",
        "\n",
        "np.random.seed(42)\n",
        "\n",
        "nums = np.random.randint(0, 100, 10)\n",
        "\n",
        "nums"
      ],
      "metadata": {
        "colab": {
          "base_uri": "https://localhost:8080/"
        },
        "id": "yQwDs3eMwvmk",
        "outputId": "d7895593-5b59-4efb-c571-c90e1a932a1f"
      },
      "id": "yQwDs3eMwvmk",
      "execution_count": null,
      "outputs": [
        {
          "output_type": "execute_result",
          "data": {
            "text/plain": [
              "array([51, 92, 14, 71, 60, 20, 82, 86, 74, 74])"
            ]
          },
          "metadata": {},
          "execution_count": 2
        }
      ]
    },
    {
      "cell_type": "code",
      "source": [
        "find_min_max(nums)"
      ],
      "metadata": {
        "colab": {
          "base_uri": "https://localhost:8080/"
        },
        "id": "y6JTCj4Pw4zn",
        "outputId": "f2cada02-eadd-46c3-9e9d-4fb2c083f51f"
      },
      "id": "y6JTCj4Pw4zn",
      "execution_count": null,
      "outputs": [
        {
          "output_type": "execute_result",
          "data": {
            "text/plain": [
              "(14, 92)"
            ]
          },
          "metadata": {},
          "execution_count": 3
        }
      ]
    },
    {
      "cell_type": "code",
      "source": [
        "np.random.randint(0, 1000, 1)"
      ],
      "metadata": {
        "colab": {
          "base_uri": "https://localhost:8080/"
        },
        "id": "S7otD6Sgmcpq",
        "outputId": "24c66de9-29cc-44c3-c17e-81cfb6b2fd72"
      },
      "id": "S7otD6Sgmcpq",
      "execution_count": null,
      "outputs": [
        {
          "output_type": "execute_result",
          "data": {
            "text/plain": [
              "array([87])"
            ]
          },
          "metadata": {},
          "execution_count": 4
        }
      ]
    },
    {
      "cell_type": "markdown",
      "source": [
        "## Чекпоинт №2"
      ],
      "metadata": {
        "id": "OaJpkUpMjjSX"
      },
      "id": "OaJpkUpMjjSX"
    },
    {
      "cell_type": "markdown",
      "source": [
        "Разберем еще один пример\\\n",
        "Быстрое возведение в степень\n",
        "\n",
        "Реализовать функцию fast_pow(x, base)\\\n",
        "pow вычисляет значение x^base\\\n",
        "pow должна вычислять значение быстрее, чем за O(base)"
      ],
      "metadata": {
        "id": "VrGP84tXz8yJ"
      },
      "id": "VrGP84tXz8yJ"
    },
    {
      "cell_type": "markdown",
      "source": [
        "**Базовое решение**"
      ],
      "metadata": {
        "id": "SWrypJZ-0E9v"
      },
      "id": "SWrypJZ-0E9v"
    },
    {
      "cell_type": "code",
      "source": [
        "if base == 0:\n",
        "  return 1\n",
        "if base == 1:\n",
        "  retrun x\n",
        "if base == 2:\n",
        "  return x*x"
      ],
      "metadata": {
        "id": "et6MBlU00CWY"
      },
      "id": "et6MBlU00CWY",
      "execution_count": null,
      "outputs": []
    },
    {
      "cell_type": "markdown",
      "source": [
        "**Шаг разделения**\\\n",
        "Если base четная, достаточно посчитать pow(base // 2) и возвести в квадрат\\\n",
        "Если base нечетная, нужно посчитать pow(base - 1) * x\n",
        "\n",
        "Шаг разделения в этом случае - вычисление следующей степени подсчета"
      ],
      "metadata": {
        "id": "rR8uBldJ04Oz"
      },
      "id": "rR8uBldJ04Oz"
    },
    {
      "cell_type": "code",
      "source": [
        "if base % 2 == 0:\n",
        "  res = fast_pow(x, base//2)\n",
        "  return res * res\n",
        "elif base % 2 != 0:\n",
        "  res = fast_pow(x, (base-1)//2)\n",
        "  return res * res * x"
      ],
      "metadata": {
        "id": "VJPF8Z3w0n1a"
      },
      "id": "VJPF8Z3w0n1a",
      "execution_count": null,
      "outputs": []
    },
    {
      "cell_type": "markdown",
      "source": [
        "**Шаг решения**"
      ],
      "metadata": {
        "id": "xJszNmRZ10YQ"
      },
      "id": "xJszNmRZ10YQ"
    },
    {
      "cell_type": "code",
      "source": [],
      "metadata": {
        "id": "XWvtsSQy14Ke"
      },
      "id": "XWvtsSQy14Ke",
      "execution_count": null,
      "outputs": []
    },
    {
      "cell_type": "markdown",
      "source": [
        "Шаг объединения не нужен"
      ],
      "metadata": {
        "id": "s12vz_qW2mai"
      },
      "id": "s12vz_qW2mai"
    },
    {
      "cell_type": "code",
      "source": [
        "def fast_pow(x, base):\n",
        "  if base == 0:\n",
        "    return 1\n",
        "  if base == 1:\n",
        "    return x\n",
        "  if base == 2:\n",
        "    return x*x\n",
        "\n",
        "  if base % 2 == 0:\n",
        "    res = fast_pow(x, base//2)\n",
        "    return res * res\n",
        "  elif base % 2 != 0:\n",
        "    res = fast_pow(x, (base-1)//2)\n",
        "    return res * res * x"
      ],
      "metadata": {
        "id": "tvVGK_QR2e7Q"
      },
      "id": "tvVGK_QR2e7Q",
      "execution_count": 8,
      "outputs": []
    },
    {
      "cell_type": "code",
      "source": [
        "fast_pow(14, 1000)"
      ],
      "metadata": {
        "id": "b1DIUZQt2qus",
        "colab": {
          "base_uri": "https://localhost:8080/"
        },
        "outputId": "6122d775-f8b1-43ac-b355-45e6592a4c8a"
      },
      "id": "b1DIUZQt2qus",
      "execution_count": 19,
      "outputs": [
        {
          "output_type": "execute_result",
          "data": {
            "text/plain": [
              "1342875276736608119577048187855603152147476109018551510503915921391451547414843819800218208739857660454170631303723652609896406982782816351030762407388582448511416748060572739502098196450285079994003301734592608951629349069531274949253680468931314015675945346812502209180944555442712187637313684592160648728163449591815042940423708456934576601847905186437805906520241039558138499841114893524262704907607746990763512884251408366949683851977012630297725997069739189023591286743985537512398427255723929313044130627342377721731716884595297177233731766875448966742613885835618288923720055496807771491652900190800981567644180138262630883548469081953703021366499343344003680229160012632312464911162493403789626340184607693625035990634739497404602238393579640267757656869267745872388042316967245420065655113755416772324188396087947427882731406017884261177063121028504174405453793698075117498033853245459402711531847584965542818697405818119378065879651922788705606333461983692323011103080967470597864020775322984322259158034040401799280819399857405009707297779426266746408275317168181514422068824313503414936319675227151002336351153077256032843328573669376"
            ]
          },
          "metadata": {},
          "execution_count": 19
        }
      ]
    },
    {
      "cell_type": "code",
      "source": [
        "14**1000"
      ],
      "metadata": {
        "colab": {
          "base_uri": "https://localhost:8080/"
        },
        "id": "PpF5PFiHoU4i",
        "outputId": "3f428f35-70d9-421a-df3a-cc9ebfe5c804"
      },
      "id": "PpF5PFiHoU4i",
      "execution_count": 18,
      "outputs": [
        {
          "output_type": "execute_result",
          "data": {
            "text/plain": [
              "1342875276736608119577048187855603152147476109018551510503915921391451547414843819800218208739857660454170631303723652609896406982782816351030762407388582448511416748060572739502098196450285079994003301734592608951629349069531274949253680468931314015675945346812502209180944555442712187637313684592160648728163449591815042940423708456934576601847905186437805906520241039558138499841114893524262704907607746990763512884251408366949683851977012630297725997069739189023591286743985537512398427255723929313044130627342377721731716884595297177233731766875448966742613885835618288923720055496807771491652900190800981567644180138262630883548469081953703021366499343344003680229160012632312464911162493403789626340184607693625035990634739497404602238393579640267757656869267745872388042316967245420065655113755416772324188396087947427882731406017884261177063121028504174405453793698075117498033853245459402711531847584965542818697405818119378065879651922788705606333461983692323011103080967470597864020775322984322259158034040401799280819399857405009707297779426266746408275317168181514422068824313503414936319675227151002336351153077256032843328573669376"
            ]
          },
          "metadata": {},
          "execution_count": 18
        }
      ]
    }
  ],
  "metadata": {
    "kernelspec": {
      "display_name": "Python 3 (ipykernel)",
      "language": "python",
      "name": "python3"
    },
    "language_info": {
      "codemirror_mode": {
        "name": "ipython",
        "version": 3
      },
      "file_extension": ".py",
      "mimetype": "text/x-python",
      "name": "python",
      "nbconvert_exporter": "python",
      "pygments_lexer": "ipython3",
      "version": "3.11.8"
    },
    "colab": {
      "provenance": [],
      "include_colab_link": true
    }
  },
  "nbformat": 4,
  "nbformat_minor": 5
}